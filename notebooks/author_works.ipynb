{
 "cells": [
  {
   "cell_type": "code",
   "execution_count": null,
   "id": "ebb4dd53-79a7-4b77-930a-bf701719bbe4",
   "metadata": {},
   "outputs": [],
   "source": [
    "import pandas as pd\n",
    "import numpy as np\n",
    "from dataclasses import asdict\n",
    "import plotly.express as px\n",
    "import plotly.graph_objects as go\n",
    "\n",
    "from my_scientific_profile.database.papers import load_all_papers_from_s3\n",
    "from my_scientific_profile.database.authors import load_all_paper_authors_from_s3\n",
    "from my_scientific_profile.web_app.extensions import s3_client, S3_BUCKET\n",
    "from my_scientific_profile.config.config import find_author_in_config"
   ]
  },
  {
   "cell_type": "code",
   "execution_count": null,
   "id": "28e954bb-3251-4302-bed1-7a99ab519b20",
   "metadata": {},
   "outputs": [],
   "source": [
    "papers = load_all_papers_from_s3(s3_client=s3_client, s3_bucket=S3_BUCKET)\n",
    "authors = load_all_paper_authors_from_s3(s3_client=s3_client, s3_bucket=S3_BUCKET)"
   ]
  },
  {
   "cell_type": "code",
   "execution_count": null,
   "id": "06927267-0bbf-4f43-9be1-3abc00393b66",
   "metadata": {},
   "outputs": [],
   "source": [
    "len(papers), len(authors)"
   ]
  },
  {
   "cell_type": "code",
   "execution_count": null,
   "id": "96636dfd-c1f3-4a55-bf96-a3d052415303",
   "metadata": {},
   "outputs": [],
   "source": [
    "author = [a for a in authors if a.orcid == \"0000-0002-9179-2458\"][0]\n",
    "author"
   ]
  },
  {
   "cell_type": "code",
   "execution_count": null,
   "id": "99d23897-dfa9-4fb7-809d-df0ceaeeb220",
   "metadata": {},
   "outputs": [],
   "source": [
    "find_author_in_config(author.given, author.family, author.orcid)"
   ]
  },
  {
   "cell_type": "code",
   "execution_count": null,
   "id": "b2b02ebc-4d6f-4c7d-be74-97bc004f842b",
   "metadata": {},
   "outputs": [],
   "source": [
    "pd.json_normalize(asdict(a) for a in authors).head(20)"
   ]
  },
  {
   "cell_type": "code",
   "execution_count": null,
   "id": "6afa419b-c5e0-438e-9889-ce2bec9e593c",
   "metadata": {},
   "outputs": [],
   "source": [
    "author = authors[10]\n",
    "author"
   ]
  },
  {
   "cell_type": "code",
   "execution_count": null,
   "id": "32365432-6686-4d1b-8f78-bbe637368682",
   "metadata": {},
   "outputs": [],
   "source": [
    "[p.title for p in papers if author in p.authors]"
   ]
  },
  {
   "cell_type": "code",
   "execution_count": null,
   "id": "641a0934-ec3b-457a-8d5e-f77cde266da6",
   "metadata": {},
   "outputs": [],
   "source": [
    "list(set([o for p in papers if author in p.authors for o in p.authors if o != author]))"
   ]
  },
  {
   "cell_type": "code",
   "execution_count": null,
   "id": "0c3045f7-e9e2-48ab-8a05-1a9bf7d1e200",
   "metadata": {},
   "outputs": [],
   "source": []
  }
 ],
 "metadata": {
  "kernelspec": {
   "display_name": "my_scientific_profile",
   "language": "python",
   "name": "my_scientific_profile"
  },
  "language_info": {
   "codemirror_mode": {
    "name": "ipython",
    "version": 3
   },
   "file_extension": ".py",
   "mimetype": "text/x-python",
   "name": "python",
   "nbconvert_exporter": "python",
   "pygments_lexer": "ipython3",
   "version": "3.10.10"
  }
 },
 "nbformat": 4,
 "nbformat_minor": 5
}
