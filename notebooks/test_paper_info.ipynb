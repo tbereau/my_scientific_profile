{
 "cells": [
  {
   "cell_type": "code",
   "execution_count": null,
   "id": "1f7b6a89-c48a-4093-a069-e28eb14b6e88",
   "metadata": {
    "pycharm": {
     "name": "#%%\n"
    }
   },
   "outputs": [],
   "source": [
    "from dataclasses import asdict\n",
    "\n",
    "from my_scientific_profile.semantic_scholar.papers import (\n",
    "    get_paper_info\n",
    ")\n",
    "from my_scientific_profile.papers.papers import fetch_paper_info\n",
    "from my_scientific_profile.papers.open_access import OpenAccessStatus\n",
    "from my_scientific_profile.unpaywall.works import get_unpaywall_work_by_doi\n",
    "from my_scientific_profile.crossref.works import get_crossref_work_by_doi\n",
    "from my_scientific_profile.orcid.works import get_doi_to_put_code_map\n",
    "from my_scientific_profile.orcid.utils import get_orcid_request_headers\n",
    "from my_scientific_profile.orcid.detailed_work import get_detailed_work\n",
    "from my_scientific_profile.doi2bib.doi2bib import fetch_bib\n",
    "from requests import get"
   ]
  },
  {
   "cell_type": "code",
   "execution_count": null,
   "id": "3730001e-6c50-48bb-9807-0e91f297aa4a",
   "metadata": {
    "pycharm": {
     "name": "#%%\n"
    }
   },
   "outputs": [],
   "source": [
    "doi = \"10.1021/acs.jctc.6b00202\"\n",
    "put_code = get_doi_to_put_code_map()[doi]"
   ]
  },
  {
   "cell_type": "code",
   "execution_count": null,
   "id": "48530f7a-3515-4419-901f-50991a329ed8",
   "metadata": {},
   "outputs": [],
   "source": [
    "get_unpaywall_work_by_doi(doi)"
   ]
  },
  {
   "cell_type": "code",
   "execution_count": null,
   "id": "31adc822-3bce-4288-8c27-2f2625c1a90d",
   "metadata": {},
   "outputs": [],
   "source": [
    "doi.replace(\"/\", \"-\")"
   ]
  },
  {
   "cell_type": "code",
   "execution_count": null,
   "id": "b11df161-957c-4345-8843-9568cb64032c",
   "metadata": {},
   "outputs": [],
   "source": [
    "dois_to_put = get_doi_to_put_code_map()\n",
    "# dois_to_put"
   ]
  },
  {
   "cell_type": "code",
   "execution_count": null,
   "id": "ad038b81",
   "metadata": {
    "jupyter": {
     "outputs_hidden": false
    },
    "pycharm": {
     "name": "#%%\n"
    }
   },
   "outputs": [],
   "source": [
    "paper_info = fetch_paper_info(list(dois_to_put.keys())[64])"
   ]
  },
  {
   "cell_type": "code",
   "execution_count": null,
   "id": "78606ed7",
   "metadata": {
    "jupyter": {
     "outputs_hidden": false
    },
    "pycharm": {
     "name": "#%%\n"
    }
   },
   "outputs": [],
   "source": [
    "asdict(paper_info)"
   ]
  },
  {
   "cell_type": "code",
   "execution_count": null,
   "id": "e90dc163-eb5e-42a2-b7b9-16bf4bd7337e",
   "metadata": {},
   "outputs": [],
   "source": [
    "paper_info.authors"
   ]
  },
  {
   "cell_type": "code",
   "execution_count": null,
   "id": "6a5d1526-982c-4939-93ee-fdeae8952bd6",
   "metadata": {},
   "outputs": [],
   "source": []
  }
 ],
 "metadata": {
  "kernelspec": {
   "display_name": "my_scientific_profile",
   "language": "python",
   "name": "my_scientific_profile"
  },
  "language_info": {
   "codemirror_mode": {
    "name": "ipython",
    "version": 3
   },
   "file_extension": ".py",
   "mimetype": "text/x-python",
   "name": "python",
   "nbconvert_exporter": "python",
   "pygments_lexer": "ipython3",
   "version": "3.10.6"
  }
 },
 "nbformat": 4,
 "nbformat_minor": 5
}
