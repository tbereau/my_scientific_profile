{
 "cells": [
  {
   "cell_type": "code",
   "execution_count": null,
   "id": "1f7b6a89-c48a-4093-a069-e28eb14b6e88",
   "metadata": {},
   "outputs": [],
   "source": [
    "from dataclasses import asdict\n",
    "\n",
    "from my_scientific_profile.semantic_scholar.papers import (\n",
    "    get_paper_info\n",
    ")\n",
    "from my_scientific_profile.unpaywall.works import get_unpaywall_work_by_doi\n",
    "from my_scientific_profile.crossref.works import get_crossref_work_by_doi\n",
    "from my_scientific_profile.orcid.works import get_doi_to_put_code_map\n",
    "from my_scientific_profile.orcid.detailed_work import get_detailed_work\n",
    "from my_scientific_profile.doi2bib.doi2bib import fetch_bib\n",
    "from pprint import pprint"
   ]
  },
  {
   "cell_type": "code",
   "execution_count": null,
   "id": "3730001e-6c50-48bb-9807-0e91f297aa4a",
   "metadata": {},
   "outputs": [],
   "source": [
    "doi = \"10.1021/acs.jctc.6b00202\"\n",
    "put_code = get_doi_to_put_code_map()[doi]"
   ]
  },
  {
   "cell_type": "code",
   "execution_count": null,
   "id": "f4c542dd-e239-49ea-9f0a-b3621be4e1d3",
   "metadata": {},
   "outputs": [],
   "source": [
    "citation = fetch_bib(doi)\n",
    "print(citation)"
   ]
  },
  {
   "cell_type": "code",
   "execution_count": null,
   "id": "e3ed019d-291a-4442-ac92-c3bfac014d71",
   "metadata": {},
   "outputs": [],
   "source": [
    "semantic_info = get_paper_info(doi)\n",
    "asdict(semantic_info)"
   ]
  },
  {
   "cell_type": "code",
   "execution_count": null,
   "id": "94ae2780-54a5-4448-b9df-9271564acf1f",
   "metadata": {},
   "outputs": [],
   "source": [
    "unpaywall_info = get_unpaywall_work_by_doi(doi)\n",
    "asdict(unpaywall_info)"
   ]
  },
  {
   "cell_type": "code",
   "execution_count": null,
   "id": "e4fe4371-56d8-4546-b737-870d5a269ef2",
   "metadata": {},
   "outputs": [],
   "source": [
    "crossref_info = get_crossref_work_by_doi(doi)\n",
    "asdict(crossref_info)"
   ]
  },
  {
   "cell_type": "code",
   "execution_count": null,
   "id": "69b68c03-bb3e-4297-82ad-3fb28450fd57",
   "metadata": {},
   "outputs": [],
   "source": [
    "orcid_info = get_detailed_work(put_code)\n",
    "asdict(orcid_info)"
   ]
  },
  {
   "cell_type": "code",
   "execution_count": null,
   "id": "52db3299-bf11-4b0f-b52f-d2fd8aeea5e1",
   "metadata": {},
   "outputs": [],
   "source": [
    "(\n",
    "    semantic_info.title,\n",
    "    unpaywall_info.title,\n",
    "    crossref_info.message.title[0],\n",
    "    orcid_info.title.title.value\n",
    ")"
   ]
  },
  {
   "cell_type": "code",
   "execution_count": null,
   "id": "a48f5b0b-6e64-443e-ab9b-b5a1b8e246c9",
   "metadata": {},
   "outputs": [],
   "source": [
    "(\n",
    "    semantic_info.venue,\n",
    "    unpaywall_info.journal_name,\n",
    "    crossref_info.message.container_title[0],\n",
    "    orcid_info.journal_title.value\n",
    ")"
   ]
  },
  {
   "cell_type": "code",
   "execution_count": null,
   "id": "a900b1fe-4e4c-44fc-a559-e7ca94468ecf",
   "metadata": {},
   "outputs": [],
   "source": [
    "orcid_info.citation.citation_value"
   ]
  },
  {
   "cell_type": "code",
   "execution_count": null,
   "id": "755f9977-2bc1-4a0c-9705-d1d1ab4b6c9c",
   "metadata": {},
   "outputs": [],
   "source": [
    "semantic_info.tldr.text if semantic_info.tldr else None"
   ]
  },
  {
   "cell_type": "code",
   "execution_count": null,
   "id": "d01b3621-a2dc-4ebc-b996-e96cc06eeb5c",
   "metadata": {},
   "outputs": [],
   "source": []
  }
 ],
 "metadata": {
  "kernelspec": {
   "display_name": "my_scientific_profile",
   "language": "python",
   "name": "my_scientific_profile"
  },
  "language_info": {
   "codemirror_mode": {
    "name": "ipython",
    "version": 3
   },
   "file_extension": ".py",
   "mimetype": "text/x-python",
   "name": "python",
   "nbconvert_exporter": "python",
   "pygments_lexer": "ipython3",
   "version": "3.10.6"
  }
 },
 "nbformat": 4,
 "nbformat_minor": 5
}
