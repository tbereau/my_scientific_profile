{
 "cells": [
  {
   "cell_type": "code",
   "execution_count": null,
   "id": "1f7b6a89-c48a-4093-a069-e28eb14b6e88",
   "metadata": {
    "pycharm": {
     "name": "#%%\n"
    }
   },
   "outputs": [],
   "source": [
    "from dataclasses import asdict\n",
    "import datetime as dt\n",
    "\n",
    "from my_scientific_profile.semantic_scholar.papers import (\n",
    "    get_paper_info\n",
    ")\n",
    "from my_scientific_profile.papers.papers import fetch_paper_info, fetch_all_paper_infos, fetch_all_paper_authors\n",
    "# from my_scientific_profile.papers.open_access import OpenAccessStatus\n",
    "from my_scientific_profile.unpaywall.works import get_unpaywall_work_by_doi\n",
    "from my_scientific_profile.crossref.works import get_crossref_work_by_doi\n",
    "from my_scientific_profile.orcid.works import get_doi_to_put_code_map\n",
    "from my_scientific_profile.orcid.utils import get_orcid_request_headers, get_orcid_query\n",
    "from my_scientific_profile.orcid.detailed_work import get_detailed_work\n",
    "from my_scientific_profile.doi2bib.doi2bib import fetch_bib\n",
    "from my_scientific_profile.config.config import get_author_configs, find_author_in_config\n",
    "from requests import get"
   ]
  },
  {
   "cell_type": "code",
   "execution_count": null,
   "id": "0052f9b0-e4ee-4dc8-8cb8-d74a18e070cd",
   "metadata": {},
   "outputs": [],
   "source": [
    "get_detailed_work(119589494)"
   ]
  },
  {
   "cell_type": "code",
   "execution_count": null,
   "id": "bba631e3-1029-4ff7-bb5d-46276556bdb5",
   "metadata": {},
   "outputs": [],
   "source": [
    "authors = fetch_all_paper_authors()"
   ]
  },
  {
   "cell_type": "code",
   "execution_count": null,
   "id": "5057fe49-ee64-4780-a187-3505f5e9bd55",
   "metadata": {},
   "outputs": [],
   "source": [
    "papers = fetch_all_paper_infos()"
   ]
  },
  {
   "cell_type": "code",
   "execution_count": null,
   "id": "b81a8ccf-691c-4744-90a0-428afd7846a0",
   "metadata": {},
   "outputs": [],
   "source": [
    "authors"
   ]
  },
  {
   "cell_type": "code",
   "execution_count": null,
   "id": "e9e5bb8e-e08c-42b1-a016-902ebaae0ea7",
   "metadata": {},
   "outputs": [],
   "source": [
    "from itertools import chain\n",
    "list(set(chain.from_iterable([paper.authors for paper in papers])))"
   ]
  },
  {
   "cell_type": "code",
   "execution_count": null,
   "id": "df59dc02-3d3d-4a30-978c-7ab09f55b282",
   "metadata": {},
   "outputs": [],
   "source": [
    "doi = \"10.1016/j.bpj.2011.03.056\""
   ]
  },
  {
   "cell_type": "code",
   "execution_count": null,
   "id": "06ce0fd8-e4fc-4fdb-b0e2-b8e8f648fe3f",
   "metadata": {},
   "outputs": [],
   "source": [
    "put_code = get_doi_to_put_code_map()[doi]\n",
    "put_code"
   ]
  },
  {
   "cell_type": "code",
   "execution_count": null,
   "id": "bf2eadc8-5231-448f-bc5a-bda7207595a1",
   "metadata": {},
   "outputs": [],
   "source": [
    "# get_orcid_query(\"work\", suffix=str(put_code))"
   ]
  },
  {
   "cell_type": "code",
   "execution_count": null,
   "id": "20b96a4b-d049-4dee-a380-e8507e5e2b91",
   "metadata": {},
   "outputs": [],
   "source": [
    "get_detailed_work(put_code)"
   ]
  },
  {
   "cell_type": "code",
   "execution_count": null,
   "id": "d04fab7d-cb63-42b7-ba3b-02e0141a19ec",
   "metadata": {},
   "outputs": [],
   "source": [
    "get(f\"https://api.unpaywall.org/v2/{doi}?email=a@aol.com\").json()"
   ]
  },
  {
   "cell_type": "code",
   "execution_count": null,
   "id": "4d420a04-6475-4dfc-9414-c5d4f6a33747",
   "metadata": {},
   "outputs": [],
   "source": [
    "fetch_paper_info(doi)"
   ]
  },
  {
   "cell_type": "code",
   "execution_count": null,
   "id": "9f117451-3f41-4ef6-96f5-996f3901b82a",
   "metadata": {},
   "outputs": [],
   "source": []
  },
  {
   "cell_type": "code",
   "execution_count": null,
   "id": "01db1aae-2544-4199-998e-512905ac1c5c",
   "metadata": {},
   "outputs": [],
   "source": [
    "dt.datetime('2022-09-28T01:48:49.935929')"
   ]
  },
  {
   "cell_type": "code",
   "execution_count": null,
   "id": "3730001e-6c50-48bb-9807-0e91f297aa4a",
   "metadata": {
    "pycharm": {
     "name": "#%%\n"
    }
   },
   "outputs": [],
   "source": [
    "doi = \"10.1021/acs.jctc.6b00202\"\n",
    "put_code = get_doi_to_put_code_map()[doi]"
   ]
  },
  {
   "cell_type": "code",
   "execution_count": null,
   "id": "48530f7a-3515-4419-901f-50991a329ed8",
   "metadata": {},
   "outputs": [],
   "source": [
    "get_unpaywall_work_by_doi(doi)"
   ]
  },
  {
   "cell_type": "code",
   "execution_count": null,
   "id": "31adc822-3bce-4288-8c27-2f2625c1a90d",
   "metadata": {},
   "outputs": [],
   "source": [
    "doi.replace(\"/\", \"-\")"
   ]
  },
  {
   "cell_type": "code",
   "execution_count": null,
   "id": "b11df161-957c-4345-8843-9568cb64032c",
   "metadata": {},
   "outputs": [],
   "source": [
    "dois_to_put = get_doi_to_put_code_map()\n",
    "# dois_to_put"
   ]
  },
  {
   "cell_type": "code",
   "execution_count": null,
   "id": "ad038b81",
   "metadata": {
    "jupyter": {
     "outputs_hidden": false
    },
    "pycharm": {
     "name": "#%%\n"
    }
   },
   "outputs": [],
   "source": [
    "paper_info = fetch_paper_info(list(dois_to_put.keys())[64])"
   ]
  },
  {
   "cell_type": "code",
   "execution_count": null,
   "id": "78606ed7",
   "metadata": {
    "jupyter": {
     "outputs_hidden": false
    },
    "pycharm": {
     "name": "#%%\n"
    }
   },
   "outputs": [],
   "source": [
    "asdict(paper_info)"
   ]
  },
  {
   "cell_type": "code",
   "execution_count": null,
   "id": "e90dc163-eb5e-42a2-b7b9-16bf4bd7337e",
   "metadata": {},
   "outputs": [],
   "source": [
    "paper_info.authors"
   ]
  },
  {
   "cell_type": "code",
   "execution_count": null,
   "id": "6a5d1526-982c-4939-93ee-fdeae8952bd6",
   "metadata": {},
   "outputs": [],
   "source": []
  }
 ],
 "metadata": {
  "kernelspec": {
   "display_name": "my_scientific_profile",
   "language": "python",
   "name": "my_scientific_profile"
  },
  "language_info": {
   "codemirror_mode": {
    "name": "ipython",
    "version": 3
   },
   "file_extension": ".py",
   "mimetype": "text/x-python",
   "name": "python",
   "nbconvert_exporter": "python",
   "pygments_lexer": "ipython3",
   "version": "3.10.8"
  }
 },
 "nbformat": 4,
 "nbformat_minor": 5
}
