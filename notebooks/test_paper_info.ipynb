{
 "cells": [
  {
   "cell_type": "code",
   "execution_count": null,
   "id": "1f7b6a89-c48a-4093-a069-e28eb14b6e88",
   "metadata": {
    "pycharm": {
     "name": "#%%\n"
    }
   },
   "outputs": [],
   "source": [
    "from dataclasses import asdict\n",
    "import datetime as dt\n",
    "\n",
    "from my_scientific_profile.semantic_scholar.papers import (\n",
    "    get_paper_info as get_semantic_scholar_paper_info,\n",
    ")\n",
    "from my_scientific_profile.papers.papers import fetch_paper_info, fetch_all_paper_infos, fetch_all_paper_authors\n",
    "from my_scientific_profile.database.papers import save_all_papers_to_s3, load_all_papers_from_s3\n",
    "from my_scientific_profile.database.authors import save_all_paper_authors_to_s3, load_all_paper_authors_from_s3\n",
    "from my_scientific_profile.unpaywall.works import get_unpaywall_work_by_doi\n",
    "from my_scientific_profile.crossref.works import get_crossref_work_by_doi\n",
    "from my_scientific_profile.orcid.works import get_doi_to_put_code_map\n",
    "from my_scientific_profile.orcid.utils import get_orcid_request_headers, get_orcid_query\n",
    "from my_scientific_profile.orcid.detailed_work import get_detailed_work\n",
    "from my_scientific_profile.doi2bib.doi2bib import fetch_bib\n",
    "from my_scientific_profile.config.config import get_author_configs, find_author_in_config\n",
    "from requests import get\n",
    "from my_scientific_profile.web_app.extensions import s3_client, S3_BUCKET"
   ]
  },
  {
   "cell_type": "code",
   "execution_count": null,
   "id": "0052f9b0-e4ee-4dc8-8cb8-d74a18e070cd",
   "metadata": {},
   "outputs": [],
   "source": [
    "# get_detailed_work(119589494)"
   ]
  },
  {
   "cell_type": "code",
   "execution_count": null,
   "id": "77f5ec59-45e2-4c7a-8d28-eee4288a7350",
   "metadata": {},
   "outputs": [],
   "source": [
    "# save_all_papers_to_s3(s3_client=s3_client, s3_bucket=S3_BUCKET)\n",
    "# save_all_paper_authors_to_s3(s3_client=s3_client, s3_bucket=S3_BUCKET)"
   ]
  },
  {
   "cell_type": "code",
   "execution_count": null,
   "id": "ca492e7e-8df7-49b8-aac1-80937b075ab9",
   "metadata": {},
   "outputs": [],
   "source": [
    "papers = load_all_papers_from_s3(s3_client=s3_client, s3_bucket=S3_BUCKET)\n",
    "authors = load_all_paper_authors_from_s3(s3_client=s3_client, s3_bucket=S3_BUCKET)"
   ]
  },
  {
   "cell_type": "code",
   "execution_count": null,
   "id": "1801b33d-7da4-40cb-a838-14efe09cdbb6",
   "metadata": {},
   "outputs": [],
   "source": [
    "[(p.title) for p in papers if p.year == 2020]"
   ]
  },
  {
   "cell_type": "code",
   "execution_count": null,
   "id": "cbe2644d-be45-4720-bf57-871601054ac4",
   "metadata": {},
   "outputs": [],
   "source": [
    "len(papers)"
   ]
  },
  {
   "cell_type": "code",
   "execution_count": null,
   "id": "b0f589ab-9981-40f8-9ed5-7e124397834e",
   "metadata": {},
   "outputs": [],
   "source": [
    "[a for a in authors if a.given == \"Tristan\"]"
   ]
  },
  {
   "cell_type": "code",
   "execution_count": null,
   "id": "5057fe49-ee64-4780-a187-3505f5e9bd55",
   "metadata": {},
   "outputs": [],
   "source": [
    "papers = fetch_all_paper_infos()\n",
    "len(papers)"
   ]
  },
  {
   "cell_type": "code",
   "execution_count": null,
   "id": "56e74f64-b67c-4214-9382-954c5c4394b7",
   "metadata": {},
   "outputs": [],
   "source": []
  },
  {
   "cell_type": "code",
   "execution_count": null,
   "id": "e9e5bb8e-e08c-42b1-a016-902ebaae0ea7",
   "metadata": {},
   "outputs": [],
   "source": [
    "from itertools import chain\n",
    "list(set(chain.from_iterable([paper.authors for paper in papers])))"
   ]
  },
  {
   "cell_type": "code",
   "execution_count": null,
   "id": "df59dc02-3d3d-4a30-978c-7ab09f55b282",
   "metadata": {},
   "outputs": [],
   "source": [
    "doi = \"10.1038/s41586-022-04501-x\""
   ]
  },
  {
   "cell_type": "code",
   "execution_count": null,
   "id": "06ce0fd8-e4fc-4fdb-b0e2-b8e8f648fe3f",
   "metadata": {},
   "outputs": [],
   "source": [
    "put_code = get_doi_to_put_code_map()[doi]\n",
    "put_code"
   ]
  },
  {
   "cell_type": "code",
   "execution_count": null,
   "id": "bf2eadc8-5231-448f-bc5a-bda7207595a1",
   "metadata": {},
   "outputs": [],
   "source": [
    "# get_orcid_query(\"work\", suffix=str(put_code))"
   ]
  },
  {
   "cell_type": "code",
   "execution_count": null,
   "id": "20b96a4b-d049-4dee-a380-e8507e5e2b91",
   "metadata": {},
   "outputs": [],
   "source": [
    "work = get_detailed_work(put_code)\n",
    "work"
   ]
  },
  {
   "cell_type": "code",
   "execution_count": null,
   "id": "d04fab7d-cb63-42b7-ba3b-02e0141a19ec",
   "metadata": {},
   "outputs": [],
   "source": [
    "get(f\"https://api.unpaywall.org/v2/{doi}?email=a@aol.com\").json()"
   ]
  },
  {
   "cell_type": "code",
   "execution_count": null,
   "id": "4d420a04-6475-4dfc-9414-c5d4f6a33747",
   "metadata": {},
   "outputs": [],
   "source": [
    "fetch_paper_info(doi)"
   ]
  },
  {
   "cell_type": "code",
   "execution_count": null,
   "id": "e8da84ec-dde5-485b-a4aa-da92c2159109",
   "metadata": {},
   "outputs": [],
   "source": [
    "get_crossref_work_by_doi(doi).message.abstract"
   ]
  },
  {
   "cell_type": "code",
   "execution_count": null,
   "id": "9f117451-3f41-4ef6-96f5-996f3901b82a",
   "metadata": {},
   "outputs": [],
   "source": [
    "get_semantic_scholar_paper_info(doi).abstract"
   ]
  },
  {
   "cell_type": "code",
   "execution_count": null,
   "id": "47f474ff-7348-40ec-bf20-5f72c3f80e65",
   "metadata": {},
   "outputs": [],
   "source": [
    "print(fetch_bib(doi))"
   ]
  },
  {
   "cell_type": "code",
   "execution_count": null,
   "id": "cdd97a91-743a-4f04-88c7-4fbd63900dd3",
   "metadata": {},
   "outputs": [],
   "source": []
  },
  {
   "cell_type": "code",
   "execution_count": null,
   "id": "01db1aae-2544-4199-998e-512905ac1c5c",
   "metadata": {},
   "outputs": [],
   "source": [
    "dt.datetime('2022-09-28T01:48:49.935929')"
   ]
  },
  {
   "cell_type": "code",
   "execution_count": null,
   "id": "3730001e-6c50-48bb-9807-0e91f297aa4a",
   "metadata": {
    "pycharm": {
     "name": "#%%\n"
    }
   },
   "outputs": [],
   "source": [
    "doi = \"10.1021/acs.jctc.6b00202\"\n",
    "put_code = get_doi_to_put_code_map()[doi]"
   ]
  },
  {
   "cell_type": "code",
   "execution_count": null,
   "id": "48530f7a-3515-4419-901f-50991a329ed8",
   "metadata": {},
   "outputs": [],
   "source": [
    "get_unpaywall_work_by_doi(doi)"
   ]
  },
  {
   "cell_type": "code",
   "execution_count": null,
   "id": "31adc822-3bce-4288-8c27-2f2625c1a90d",
   "metadata": {},
   "outputs": [],
   "source": [
    "doi.replace(\"/\", \"-\")"
   ]
  },
  {
   "cell_type": "code",
   "execution_count": null,
   "id": "b11df161-957c-4345-8843-9568cb64032c",
   "metadata": {},
   "outputs": [],
   "source": [
    "dois_to_put = get_doi_to_put_code_map()\n",
    "# dois_to_put"
   ]
  },
  {
   "cell_type": "code",
   "execution_count": null,
   "id": "ad038b81",
   "metadata": {
    "jupyter": {
     "outputs_hidden": false
    },
    "pycharm": {
     "name": "#%%\n"
    }
   },
   "outputs": [],
   "source": [
    "paper_info = fetch_paper_info(list(dois_to_put.keys())[64])"
   ]
  },
  {
   "cell_type": "code",
   "execution_count": null,
   "id": "78606ed7",
   "metadata": {
    "jupyter": {
     "outputs_hidden": false
    },
    "pycharm": {
     "name": "#%%\n"
    }
   },
   "outputs": [],
   "source": [
    "asdict(paper_info)"
   ]
  },
  {
   "cell_type": "code",
   "execution_count": null,
   "id": "e90dc163-eb5e-42a2-b7b9-16bf4bd7337e",
   "metadata": {},
   "outputs": [],
   "source": [
    "paper_info.authors"
   ]
  },
  {
   "cell_type": "code",
   "execution_count": null,
   "id": "6a5d1526-982c-4939-93ee-fdeae8952bd6",
   "metadata": {},
   "outputs": [],
   "source": []
  }
 ],
 "metadata": {
  "kernelspec": {
   "display_name": "my_scientific_profile",
   "language": "python",
   "name": "my_scientific_profile"
  },
  "language_info": {
   "codemirror_mode": {
    "name": "ipython",
    "version": 3
   },
   "file_extension": ".py",
   "mimetype": "text/x-python",
   "name": "python",
   "nbconvert_exporter": "python",
   "pygments_lexer": "ipython3",
   "version": "3.10.8"
  }
 },
 "nbformat": 4,
 "nbformat_minor": 5
}
