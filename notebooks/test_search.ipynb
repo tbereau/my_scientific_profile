{
 "cells": [
  {
   "cell_type": "code",
   "execution_count": null,
   "id": "37809fd1-2592-4ace-8a6b-43fd69f92963",
   "metadata": {},
   "outputs": [],
   "source": [
    "from dataclasses import asdict\n",
    "import datetime as dt\n",
    "\n",
    "from my_scientific_profile.semantic_scholar.papers import (\n",
    "    get_paper_info\n",
    ")\n",
    "from my_scientific_profile.papers.papers import fetch_paper_info, fetch_all_paper_infos, fetch_all_paper_authors\n",
    "from my_scientific_profile.papers.open_access import OpenAccessStatus\n",
    "from my_scientific_profile.unpaywall.works import get_unpaywall_work_by_doi\n",
    "from my_scientific_profile.crossref.works import get_crossref_work_by_doi\n",
    "from my_scientific_profile.orcid.works import get_doi_to_put_code_map\n",
    "from my_scientific_profile.orcid.utils import get_orcid_request_headers, get_orcid_query\n",
    "from my_scientific_profile.orcid.detailed_work import get_detailed_work\n",
    "from my_scientific_profile.doi2bib.doi2bib import fetch_bib\n",
    "from my_scientific_profile.config.config import get_author_configs, find_author_in_config\n",
    "from requests import get\n",
    "from lunr import lunr"
   ]
  },
  {
   "cell_type": "code",
   "execution_count": null,
   "id": "54d4bbb6-aaab-4d6c-b1d8-c760ce2b8647",
   "metadata": {},
   "outputs": [],
   "source": [
    "papers = fetch_all_paper_infos()"
   ]
  },
  {
   "cell_type": "code",
   "execution_count": null,
   "id": "6034872e-b589-4f25-bb9b-a52ed9310881",
   "metadata": {},
   "outputs": [],
   "source": [
    "asdict(papers[0])"
   ]
  },
  {
   "cell_type": "code",
   "execution_count": null,
   "id": "24848758-d89a-4acc-b911-baef6978fa11",
   "metadata": {},
   "outputs": [],
   "source": [
    "paper_docs = [asdict(paper) for paper in papers]"
   ]
  },
  {
   "cell_type": "code",
   "execution_count": null,
   "id": "7479eb3d-d7d3-4ba3-8032-c86837a1f397",
   "metadata": {},
   "outputs": [],
   "source": [
    "idx = lunr(\n",
    "    ref='doi', \n",
    "    fields=[\n",
    "        \"title\", \n",
    "        \"abstract\",\n",
    "        dict(field_name='journal_name', extractor=lambda d: d[\"journal\"][\"name\"]),\n",
    "        dict(field_name='journal_abbreviation', extractor=lambda d: d[\"journal\"][\"abbreviation\"]),\n",
    "        dict(field_name='authors_given', extractor=lambda d: \" \".join([x[\"given\"] for x in d[\"authors\"][:]])),\n",
    "        dict(field_name='authors_family', extractor=lambda d: \" \".join([x[\"family\"] for x in d[\"authors\"][:]])),\n",
    "    ], \n",
    "    documents=paper_docs\n",
    ")"
   ]
  },
  {
   "cell_type": "code",
   "execution_count": null,
   "id": "eed32f15-5aa4-4ec2-84c3-3ddae1a47844",
   "metadata": {},
   "outputs": [],
   "source": [
    "idx.search(\"Automated\")"
   ]
  },
  {
   "cell_type": "code",
   "execution_count": null,
   "id": "8d24538a-72a8-4442-86ed-eedd6146435b",
   "metadata": {},
   "outputs": [],
   "source": [
    "paper = fetch_paper_info(\"10.1021/acs.jctc.5b00056\")\n",
    "paper"
   ]
  },
  {
   "cell_type": "code",
   "execution_count": null,
   "id": "8e4168c3-89ed-414b-ba39-f1902ead0163",
   "metadata": {},
   "outputs": [],
   "source": []
  }
 ],
 "metadata": {
  "kernelspec": {
   "display_name": "my_scientific_profile",
   "language": "python",
   "name": "my_scientific_profile"
  },
  "language_info": {
   "codemirror_mode": {
    "name": "ipython",
    "version": 3
   },
   "file_extension": ".py",
   "mimetype": "text/x-python",
   "name": "python",
   "nbconvert_exporter": "python",
   "pygments_lexer": "ipython3",
   "version": "3.10.6"
  }
 },
 "nbformat": 4,
 "nbformat_minor": 5
}
