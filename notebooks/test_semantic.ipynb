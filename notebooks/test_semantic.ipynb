{
 "cells": [
  {
   "cell_type": "code",
   "execution_count": null,
   "id": "0fe5fb69-4fdd-40d3-901c-c74f25c8d4d5",
   "metadata": {
    "pycharm": {
     "name": "#%%\n"
    }
   },
   "outputs": [],
   "source": [
    "from my_scientific_profile.semantic_scholar.authors import (\n",
    "    get_my_author_info, get_author_info\n",
    ")\n",
    "from my_scientific_profile.semantic_scholar.papers import (\n",
    "    get_paper_info\n",
    ")\n",
    "from dataclasses import asdict"
   ]
  },
  {
   "cell_type": "code",
   "execution_count": null,
   "id": "d6b6d7b6-d815-4249-bbd2-78820261a519",
   "metadata": {},
   "outputs": [],
   "source": [
    "get_my_author_info(get_papers=False)"
   ]
  },
  {
   "cell_type": "code",
   "execution_count": null,
   "id": "6518ea03-7ba0-420c-a348-d94511eba80a",
   "metadata": {
    "pycharm": {
     "name": "#%%\n"
    }
   },
   "outputs": [],
   "source": [
    "asdict(get_my_author_info(get_papers=False))"
   ]
  },
  {
   "cell_type": "code",
   "execution_count": null,
   "id": "f03df93e-d26e-496f-b9af-be82dd7d926e",
   "metadata": {
    "pycharm": {
     "name": "#%%\n"
    }
   },
   "outputs": [],
   "source": [
    "asdict(get_author_info(\"2158224257\", True))"
   ]
  },
  {
   "cell_type": "code",
   "execution_count": null,
   "id": "ae2eb950-95db-4e47-b2e1-d403f91f8d04",
   "metadata": {
    "pycharm": {
     "name": "#%%\n"
    }
   },
   "outputs": [],
   "source": [
    "get_paper_info(\"10.1063/5.0053931\")"
   ]
  },
  {
   "cell_type": "code",
   "execution_count": null,
   "id": "2239c599-d572-450c-ab48-f26edbce3073",
   "metadata": {
    "pycharm": {
     "name": "#%%\n"
    }
   },
   "outputs": [],
   "source": [
    "get_paper_info(\"10.1016/j.bpj.2020.07.024\")"
   ]
  },
  {
   "cell_type": "code",
   "execution_count": null,
   "id": "bc11d01e-5399-4091-82b9-45db8eff6d09",
   "metadata": {
    "pycharm": {
     "name": "#%%\n"
    }
   },
   "outputs": [],
   "source": []
  }
 ],
 "metadata": {
  "kernelspec": {
   "display_name": "my_scientific_profile",
   "language": "python",
   "name": "my_scientific_profile"
  },
  "language_info": {
   "codemirror_mode": {
    "name": "ipython",
    "version": 3
   },
   "file_extension": ".py",
   "mimetype": "text/x-python",
   "name": "python",
   "nbconvert_exporter": "python",
   "pygments_lexer": "ipython3",
   "version": "3.10.6"
  }
 },
 "nbformat": 4,
 "nbformat_minor": 5
}
