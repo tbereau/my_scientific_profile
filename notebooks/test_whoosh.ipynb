{
 "cells": [
  {
   "cell_type": "code",
   "execution_count": null,
   "id": "d0254f3b-9ba0-4b0d-be66-c88f34c84cad",
   "metadata": {
    "pycharm": {
     "name": "#%%\n"
    }
   },
   "outputs": [],
   "source": [
    "from whoosh.index import create_in\n",
    "from whoosh.fields import Schema, TEXT, ID\n",
    "from whoosh.qparser import MultifieldParser, OrGroup"
   ]
  },
  {
   "cell_type": "code",
   "execution_count": null,
   "id": "368d528b-8e89-4342-9d7a-cd434340aa38",
   "metadata": {
    "pycharm": {
     "name": "#%%\n"
    }
   },
   "outputs": [],
   "source": [
    "schema = Schema(title=TEXT(stored=True), path=ID(stored=True), content=TEXT(stored=True))\n",
    "schema"
   ]
  },
  {
   "cell_type": "code",
   "execution_count": null,
   "id": "67b0b160-1ff8-44d8-8cbc-cae7080ce600",
   "metadata": {
    "pycharm": {
     "name": "#%%\n"
    }
   },
   "outputs": [],
   "source": [
    "ix = create_in(\"indexdir\", schema)\n",
    "writer = ix.writer()\n",
    "writer.add_document(\n",
    "    title=u\"My document\", content=u\"This is my python document! hello big world\",\n",
    ")\n",
    "writer.add_document(\n",
    "    title=u\"Second try\", content=u\"This is the second example hello world.\",\n",
    ")\n",
    "writer.add_document(\n",
    "    title=u\"Third time's the charm\", content=u\"More examples. Examples are many.\",\n",
    ")\n",
    "writer.commit()"
   ]
  },
  {
   "cell_type": "code",
   "execution_count": null,
   "id": "6f28ca74-7774-4346-a405-fc7fb71e62a8",
   "metadata": {
    "pycharm": {
     "name": "#%%\n"
    }
   },
   "outputs": [],
   "source": [
    "with ix.searcher() as searcher:\n",
    "    parser = MultifieldParser([\"many\", \"content\"], ix.schema, group=OrGroup)\n",
    "    query_content = [\"charm\", \"world\"]\n",
    "    myquery = parser.parse(\" \".join(query_content))\n",
    "    corrector = searcher.corrector(\"content\")\n",
    "    for mistyped_word in query_content:\n",
    "        print(corrector.suggest(mistyped_word, limit=1))\n",
    "    \n",
    "    results = searcher.search(myquery, terms=True)\n",
    "    \n",
    "    for result in results:\n",
    "        print(result.get('title'), result.score)"
   ]
  },
  {
   "cell_type": "code",
   "execution_count": null,
   "id": "6de751d0-1c14-4708-9b2d-d31fef99e3ca",
   "metadata": {
    "pycharm": {
     "name": "#%%\n"
    }
   },
   "outputs": [],
   "source": [
    "with ix.searcher() as searcher:\n",
    "    parser = QueryParser(\"content\", ix.schema)\n",
    "    query_content = [\"hello\", \"world\"]\n",
    "    myquery = parser.parse(\" \".join(query_content))\n",
    "    corrector = searcher.corrector(\"content\")\n",
    "    for mistyped_word in query_content:\n",
    "        print(corrector.suggest(mistyped_word, limit=3))\n",
    "    \n",
    "    results = searcher.search(myquery, terms=True)\n",
    "    \n",
    "    print(results[0], results[0].score)"
   ]
  },
  {
   "cell_type": "code",
   "execution_count": null,
   "id": "02cb7daa-e8a1-44df-8b66-ad030980dbce",
   "metadata": {
    "pycharm": {
     "name": "#%%\n"
    }
   },
   "outputs": [],
   "source": []
  }
 ],
 "metadata": {
  "kernelspec": {
   "display_name": "my_scientific_profile",
   "language": "python",
   "name": "my_scientific_profile"
  },
  "language_info": {
   "codemirror_mode": {
    "name": "ipython",
    "version": 3
   },
   "file_extension": ".py",
   "mimetype": "text/x-python",
   "name": "python",
   "nbconvert_exporter": "python",
   "pygments_lexer": "ipython3",
   "version": "3.10.8"
  }
 },
 "nbformat": 4,
 "nbformat_minor": 5
}
