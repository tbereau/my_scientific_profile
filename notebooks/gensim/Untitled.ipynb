{
 "cells": [
  {
   "cell_type": "code",
   "execution_count": null,
   "id": "b5fcc4fb-c212-46eb-8ed3-24d80e0e69a6",
   "metadata": {},
   "outputs": [],
   "source": [
    "import pprint\n",
    "\n",
    "from gensim.utils import simple_preprocess\n",
    "from gensim import corpora, models\n",
    "from rake_nltk import Rake\n",
    "from nltk.corpus import stopwords\n",
    "\n",
    "from my_scientific_profile.web_app.setup import create_app\n",
    "from my_scientific_profile.search.search import get_all_paper_documents"
   ]
  },
  {
   "cell_type": "code",
   "execution_count": null,
   "id": "a2da5808-164c-400e-b074-7f27da8c511c",
   "metadata": {},
   "outputs": [],
   "source": [
    "papers = get_all_paper_documents()"
   ]
  },
  {
   "cell_type": "code",
   "execution_count": null,
   "id": "147d4b0f-69e1-4fe1-b823-e41e35f92e91",
   "metadata": {},
   "outputs": [],
   "source": [
    "abstracts = [p[\"abstract\"] for p in papers if p[\"abstract\"]]"
   ]
  },
  {
   "cell_type": "code",
   "execution_count": null,
   "id": "8e5b1680-54f2-4c51-bc86-5de3a8cfeb73",
   "metadata": {},
   "outputs": [],
   "source": [
    "list(set([\n",
    "    word.replace(\".\", \"\").replace(\"(\", \"\").replace(\")\", \"\").replace(\":\", \"\") \n",
    "    for abstract in abstracts for word in abstract.split(\" \") \n",
    "    if word not in stopwords.words(\"english\")\n",
    "]))"
   ]
  },
  {
   "cell_type": "code",
   "execution_count": null,
   "id": "e68e7f13-7ab4-4b3d-97ec-fcf146165e9e",
   "metadata": {},
   "outputs": [],
   "source": [
    "# Create a set of frequent words\n",
    "stoplist = set('for a of the and to in'.split(' '))\n",
    "# Lowercase each document, split it by white space and filter out stopwords\n",
    "texts = [[word for word in document.lower().split() if word not in stoplist]\n",
    "         for document in abstracts]\n",
    "\n",
    "# Count word frequencies\n",
    "from collections import defaultdict\n",
    "frequency = defaultdict(int)\n",
    "for text in texts:\n",
    "    for token in text:\n",
    "        frequency[token] += 1\n",
    "\n",
    "# Only keep words that appear more than once\n",
    "processed_corpus = [[token for token in text if frequency[token] > 1] for text in texts]\n",
    "# pprint.pprint(processed_corpus)"
   ]
  },
  {
   "cell_type": "code",
   "execution_count": null,
   "id": "50ce0103-8d00-49a9-83fb-98e463b253e5",
   "metadata": {},
   "outputs": [],
   "source": [
    "dictionary = corpora.Dictionary(processed_corpus)\n",
    "print(dictionary)"
   ]
  },
  {
   "cell_type": "code",
   "execution_count": null,
   "id": "d20a19a3-d687-4c7b-9a63-0b2bbb9bef35",
   "metadata": {},
   "outputs": [],
   "source": [
    "# pprint.pprint(dictionary.token2id)"
   ]
  },
  {
   "cell_type": "code",
   "execution_count": null,
   "id": "fad29743-04c7-4415-ab42-e23741553e2e",
   "metadata": {},
   "outputs": [],
   "source": [
    "bow_corpus = [dictionary.doc2bow(text) for text in processed_corpus]"
   ]
  },
  {
   "cell_type": "code",
   "execution_count": null,
   "id": "80f8ef89-2695-4c99-bc65-18e9a4105f8b",
   "metadata": {},
   "outputs": [],
   "source": [
    "models.TfidfModel(bow_corpus)"
   ]
  },
  {
   "cell_type": "code",
   "execution_count": null,
   "id": "46acc397-024b-46b0-a40e-2f70a18d9799",
   "metadata": {},
   "outputs": [],
   "source": [
    "r = Rake()\n",
    "r.extract_keywords_from_sentences(abstracts)\n",
    "r.get_ranked_phrases_with_scores()"
   ]
  },
  {
   "cell_type": "code",
   "execution_count": null,
   "id": "75ee381c-499a-473a-ad79-ec842cc9609c",
   "metadata": {},
   "outputs": [],
   "source": []
  }
 ],
 "metadata": {
  "kernelspec": {
   "display_name": "my_scientific_profile",
   "language": "python",
   "name": "my_scientific_profile"
  },
  "language_info": {
   "codemirror_mode": {
    "name": "ipython",
    "version": 3
   },
   "file_extension": ".py",
   "mimetype": "text/x-python",
   "name": "python",
   "nbconvert_exporter": "python",
   "pygments_lexer": "ipython3",
   "version": "3.10.8"
  }
 },
 "nbformat": 4,
 "nbformat_minor": 5
}
