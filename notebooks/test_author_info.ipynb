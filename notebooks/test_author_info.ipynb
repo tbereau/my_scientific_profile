{
 "cells": [
  {
   "cell_type": "code",
   "execution_count": null,
   "id": "f5d8528d-cf19-4542-8f26-e92296482854",
   "metadata": {},
   "outputs": [],
   "source": [
    "from dataclasses import asdict\n",
    "from pydantic.dataclasses import dataclass\n",
    "from pydantic import parse_obj_as, Field, BaseModel\n",
    "\n",
    "from my_scientific_profile.semantic_scholar.authors import (\n",
    "    get_author_info\n",
    ")\n",
    "from my_scientific_profile.authors.authors import convert_orcid_author_to_author\n",
    "from my_scientific_profile.orcid.authors import (\n",
    "    search_for_author_by_name, search_for_author_by_orcid_id, OrcidAuthor\n",
    ")\n",
    "from my_scientific_profile.orcid.employments import (\n",
    "    fetch_employment_for_orcid_id, \n",
    ")\n",
    "from my_scientific_profile.orcid.utils import get_orcid_query"
   ]
  },
  {
   "cell_type": "code",
   "execution_count": null,
   "id": "1f63073e-3eb6-46f2-9ec4-164caeb55fd5",
   "metadata": {},
   "outputs": [],
   "source": [
    "get_orcid_query(\n",
    "    \"expanded-search\", \n",
    "    orcid_id=None, \n",
    "    suffix=f\"?q=orcid:0000-0002-4003-2272\"\n",
    ")"
   ]
  },
  {
   "cell_type": "code",
   "execution_count": null,
   "id": "7405b973-c03b-49d5-bc9b-0b800c242d18",
   "metadata": {},
   "outputs": [],
   "source": [
    "orcid_search = search_for_author_by_name(\"Dirk\", \"Schneider\")\n",
    "orcid_search"
   ]
  },
  {
   "cell_type": "code",
   "execution_count": null,
   "id": "759627e5-8e25-4b20-bd1e-33ce9b61e37a",
   "metadata": {},
   "outputs": [],
   "source": [
    "orcid_search = search_for_author_by_orcid_id(\"0000-0002-4003-2272\")\n",
    "orcid_search"
   ]
  },
  {
   "cell_type": "code",
   "execution_count": null,
   "id": "8512df50-a68c-4b41-bdbc-9b104edc269b",
   "metadata": {},
   "outputs": [],
   "source": [
    "orcid_search[0].employment"
   ]
  },
  {
   "cell_type": "code",
   "execution_count": null,
   "id": "222a9c10-2903-4543-95ef-440e56160b0a",
   "metadata": {},
   "outputs": [],
   "source": [
    "fetch_employment_for_orcid_id(\"0000-0001-7930-8806\")"
   ]
  },
  {
   "cell_type": "code",
   "execution_count": null,
   "id": "ca9943f3-f035-4231-8b9c-bee1192f5145",
   "metadata": {},
   "outputs": [],
   "source": []
  },
  {
   "cell_type": "code",
   "execution_count": null,
   "id": "bac57608-6da5-4f58-b408-b27d392490af",
   "metadata": {},
   "outputs": [],
   "source": [
    "orcid_search[0].employment.affiliation_group[0].summaries[0].employment_summary.organization.name"
   ]
  },
  {
   "cell_type": "code",
   "execution_count": null,
   "id": "02a593d6-0246-4748-b4b6-9736b1ccd595",
   "metadata": {},
   "outputs": [],
   "source": [
    "convert_orcid_author_to_author(orcid_search[0])"
   ]
  },
  {
   "cell_type": "code",
   "execution_count": null,
   "id": "7913e3ee-58ee-4427-8adf-a2e43e5cfd1a",
   "metadata": {},
   "outputs": [],
   "source": [
    "q = get_orcid_query(\"employments\", orcid_id=\"0000-0003-4837-3888\", suffix=None)\n",
    "q"
   ]
  },
  {
   "cell_type": "code",
   "execution_count": null,
   "id": "5a98d56f-0762-42ee-b7b6-1b3f94fcf90f",
   "metadata": {},
   "outputs": [],
   "source": [
    "q['affiliation-group'][0][\"summaries\"][0][\"employment-summary\"]"
   ]
  },
  {
   "cell_type": "code",
   "execution_count": null,
   "id": "84112e42-48da-4871-be9b-4d685b275aad",
   "metadata": {},
   "outputs": [],
   "source": []
  }
 ],
 "metadata": {
  "kernelspec": {
   "display_name": "my_scientific_profile",
   "language": "python",
   "name": "my_scientific_profile"
  },
  "language_info": {
   "codemirror_mode": {
    "name": "ipython",
    "version": 3
   },
   "file_extension": ".py",
   "mimetype": "text/x-python",
   "name": "python",
   "nbconvert_exporter": "python",
   "pygments_lexer": "ipython3",
   "version": "3.10.6"
  }
 },
 "nbformat": 4,
 "nbformat_minor": 5
}
