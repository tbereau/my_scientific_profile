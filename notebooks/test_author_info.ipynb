{
 "cells": [
  {
   "cell_type": "code",
   "execution_count": null,
   "id": "f5d8528d-cf19-4542-8f26-e92296482854",
   "metadata": {},
   "outputs": [],
   "source": [
    "from dataclasses import asdict\n",
    "from pydantic.dataclasses import dataclass\n",
    "from pydantic import parse_obj_as, Field, BaseModel\n",
    "\n",
    "from my_scientific_profile.semantic_scholar.authors import (\n",
    "    get_author_info\n",
    ")\n",
    "from my_scientific_profile.papers.papers import fetch_paper_info\n",
    "from my_scientific_profile.crossref.works import get_crossref_work_by_doi\n",
    "import pandas as pd\n",
    "from my_scientific_profile.authors.authors import convert_orcid_author_to_author, get_author_from_orcid_or_crossref, Author\n",
    "from my_scientific_profile.orcid.authors import (\n",
    "    search_for_author_by_name, search_for_author_by_orcid_id, OrcidAuthor\n",
    ")\n",
    "from my_scientific_profile.orcid.employments import (\n",
    "    fetch_employment_for_orcid_id, \n",
    ")\n",
    "from my_scientific_profile.orcid.works import get_put_code_to_doi_map\n",
    "from my_scientific_profile.orcid.utils import get_orcid_query"
   ]
  },
  {
   "cell_type": "code",
   "execution_count": null,
   "id": "4e2cfae8-8da2-4758-ba6b-1fcf8721a6cd",
   "metadata": {},
   "outputs": [],
   "source": [
    "doi1 = \"10.1140/epjst/e2016-60114-5\"\n",
    "doi2 = \"10.1063/1.4941455\""
   ]
  },
  {
   "cell_type": "code",
   "execution_count": null,
   "id": "98e87262-d3c7-4e64-9639-ad2fab32b5e4",
   "metadata": {},
   "outputs": [],
   "source": [
    "paper1 = fetch_paper_info(doi1)\n",
    "paper2 = fetch_paper_info(doi2)"
   ]
  },
  {
   "cell_type": "code",
   "execution_count": null,
   "id": "154a4864-b542-4484-b090-aada87361887",
   "metadata": {},
   "outputs": [],
   "source": [
    "paper1.authors"
   ]
  },
  {
   "cell_type": "code",
   "execution_count": null,
   "id": "305c10c9-d33b-475b-9255-5b116d022d6f",
   "metadata": {},
   "outputs": [],
   "source": [
    "paper2.authors"
   ]
  },
  {
   "cell_type": "code",
   "execution_count": null,
   "id": "761bfaa9-1f10-4e59-93e3-75b9e2b3e992",
   "metadata": {},
   "outputs": [],
   "source": [
    "list(set(*[paper1.authors + paper2.authors]))"
   ]
  },
  {
   "cell_type": "code",
   "execution_count": null,
   "id": "3e97bea4-251b-4ffa-9adf-162b06ea0576",
   "metadata": {},
   "outputs": [],
   "source": [
    "Author._instances"
   ]
  },
  {
   "cell_type": "code",
   "execution_count": null,
   "id": "2650a9ea-0858-4497-8ae6-4ee80c980022",
   "metadata": {},
   "outputs": [],
   "source": []
  },
  {
   "cell_type": "code",
   "execution_count": null,
   "id": "5aa189fe-055c-4112-ae69-9839b163c096",
   "metadata": {},
   "outputs": [],
   "source": []
  },
  {
   "cell_type": "code",
   "execution_count": null,
   "id": "edbf3dc8-5aaa-4a43-9ae3-0b323f0bacfc",
   "metadata": {},
   "outputs": [],
   "source": []
  },
  {
   "cell_type": "code",
   "execution_count": null,
   "id": "e4a0fcd8-8ac0-48fb-abef-7f29575cb882",
   "metadata": {},
   "outputs": [],
   "source": [
    "dois = list(set(list(get_put_code_to_doi_map().values())))"
   ]
  },
  {
   "cell_type": "code",
   "execution_count": null,
   "id": "92225fd9-bb03-43b7-bafd-866b3beedd9e",
   "metadata": {},
   "outputs": [],
   "source": [
    "work = get_crossref_work_by_doi(dois[0])\n",
    "work.message"
   ]
  },
  {
   "cell_type": "code",
   "execution_count": null,
   "id": "e0aa4620-9227-4613-bddf-fff5be5c042e",
   "metadata": {},
   "outputs": [],
   "source": [
    "work.message.author"
   ]
  },
  {
   "cell_type": "code",
   "execution_count": null,
   "id": "a4b7e9a6-c4d6-44ce-9fa3-bdad5b496386",
   "metadata": {},
   "outputs": [],
   "source": [
    "authors = [get_author_from_orcid_or_crossref(author) for doi in dois for author in get_crossref_work_by_doi(doi).message.author]\n",
    "authors"
   ]
  },
  {
   "cell_type": "code",
   "execution_count": null,
   "id": "a643cd8d-0125-42a6-9af6-5686063175e4",
   "metadata": {},
   "outputs": [],
   "source": [
    "df = pd.json_normalize([asdict(author) for author in authors])\n",
    "df"
   ]
  },
  {
   "cell_type": "code",
   "execution_count": null,
   "id": "f2be0cf5-0733-4739-8e64-6fcb4da2b933",
   "metadata": {},
   "outputs": [],
   "source": [
    "df_sub = df[[\"given\", \"family\", \"orcid\", \"affiliation.name\", \"affiliation.city\", \"affiliation.country\", \"email\"]].groupby(by=[\"given\", \"family\"]).first().sort_values(\"family\")\n",
    "df_sub = df_sub.reset_index()\n",
    "df_sub['initial'] = df_sub.given.str[0]\n",
    "df_sub"
   ]
  },
  {
   "cell_type": "code",
   "execution_count": null,
   "id": "8dde30ad-282b-47d4-864f-9974b6344cb6",
   "metadata": {},
   "outputs": [],
   "source": [
    "df_wo_orcid = df_sub.loc[pd.isna(df_sub.orcid)].sort_values('family', ignore_index=True)\n",
    "df_wo_orcid['partial_name'] = df_wo_orcid['initial'] + \" \" + df_wo_orcid['family']\n",
    "df_wo_orcid['full_name'] = df_wo_orcid['given'] + \" \" + df_wo_orcid['family']\n",
    "df_wo_orcid.head(40)"
   ]
  },
  {
   "cell_type": "code",
   "execution_count": null,
   "id": "c7dd68db-7f5b-46f2-a00a-e2b4069c4f91",
   "metadata": {},
   "outputs": [],
   "source": [
    "df_w_orcid = df_sub.loc[pd.notna(df_sub.orcid)].sort_values('family', ignore_index=True)\n",
    "df_w_orcid['partial_name'] = df_w_orcid['initial'] + \" \" + df_w_orcid['family']\n",
    "df_w_orcid['full_name'] = df_w_orcid['given'] + \" \" + df_w_orcid['family']\n",
    "df_w_orcid"
   ]
  },
  {
   "cell_type": "code",
   "execution_count": null,
   "id": "ae84037e-ca4c-42b3-b57c-2452054624db",
   "metadata": {},
   "outputs": [],
   "source": [
    "pd.merge(df_wo_orcid, df_w_orcid, on='partial_name')"
   ]
  },
  {
   "cell_type": "code",
   "execution_count": null,
   "id": "77fd19c1-9426-4cf5-979f-63476abd4235",
   "metadata": {},
   "outputs": [],
   "source": []
  },
  {
   "cell_type": "code",
   "execution_count": null,
   "id": "18bdcf5d-c0f7-4177-831d-e92da5e2f84e",
   "metadata": {},
   "outputs": [],
   "source": []
  },
  {
   "cell_type": "code",
   "execution_count": null,
   "id": "1f63073e-3eb6-46f2-9ec4-164caeb55fd5",
   "metadata": {},
   "outputs": [],
   "source": [
    "get_orcid_query(\n",
    "    \"expanded-search\", \n",
    "    orcid_id=None, \n",
    "    suffix=f\"?q=orcid:0000-0002-4003-2272\"\n",
    ")"
   ]
  },
  {
   "cell_type": "code",
   "execution_count": null,
   "id": "7405b973-c03b-49d5-bc9b-0b800c242d18",
   "metadata": {},
   "outputs": [],
   "source": [
    "orcid_search = search_for_author_by_name(\"Dirk\", \"Schneider\")\n",
    "orcid_search"
   ]
  },
  {
   "cell_type": "code",
   "execution_count": null,
   "id": "759627e5-8e25-4b20-bd1e-33ce9b61e37a",
   "metadata": {},
   "outputs": [],
   "source": [
    "orcid_search = search_for_author_by_orcid_id(\"0000-0002-4003-2272\")\n",
    "orcid_search"
   ]
  },
  {
   "cell_type": "code",
   "execution_count": null,
   "id": "8512df50-a68c-4b41-bdbc-9b104edc269b",
   "metadata": {},
   "outputs": [],
   "source": [
    "orcid_search[0].employment"
   ]
  },
  {
   "cell_type": "code",
   "execution_count": null,
   "id": "222a9c10-2903-4543-95ef-440e56160b0a",
   "metadata": {},
   "outputs": [],
   "source": [
    "fetch_employment_for_orcid_id(\"0000-0001-7930-8806\")"
   ]
  },
  {
   "cell_type": "code",
   "execution_count": null,
   "id": "ca9943f3-f035-4231-8b9c-bee1192f5145",
   "metadata": {},
   "outputs": [],
   "source": []
  },
  {
   "cell_type": "code",
   "execution_count": null,
   "id": "bac57608-6da5-4f58-b408-b27d392490af",
   "metadata": {},
   "outputs": [],
   "source": [
    "orcid_search[0].employment.affiliation_group[0].summaries[0].employment_summary.organization.name"
   ]
  },
  {
   "cell_type": "code",
   "execution_count": null,
   "id": "02a593d6-0246-4748-b4b6-9736b1ccd595",
   "metadata": {},
   "outputs": [],
   "source": [
    "convert_orcid_author_to_author(orcid_search[0])"
   ]
  },
  {
   "cell_type": "code",
   "execution_count": null,
   "id": "7913e3ee-58ee-4427-8adf-a2e43e5cfd1a",
   "metadata": {},
   "outputs": [],
   "source": [
    "q = get_orcid_query(\"employments\", orcid_id=\"0000-0003-4837-3888\", suffix=None)\n",
    "q"
   ]
  },
  {
   "cell_type": "code",
   "execution_count": null,
   "id": "5a98d56f-0762-42ee-b7b6-1b3f94fcf90f",
   "metadata": {},
   "outputs": [],
   "source": [
    "q['affiliation-group'][0][\"summaries\"][0][\"employment-summary\"]"
   ]
  },
  {
   "cell_type": "code",
   "execution_count": null,
   "id": "84112e42-48da-4871-be9b-4d685b275aad",
   "metadata": {},
   "outputs": [],
   "source": []
  }
 ],
 "metadata": {
  "kernelspec": {
   "display_name": "my_scientific_profile",
   "language": "python",
   "name": "my_scientific_profile"
  },
  "language_info": {
   "codemirror_mode": {
    "name": "ipython",
    "version": 3
   },
   "file_extension": ".py",
   "mimetype": "text/x-python",
   "name": "python",
   "nbconvert_exporter": "python",
   "pygments_lexer": "ipython3",
   "version": "3.10.8"
  }
 },
 "nbformat": 4,
 "nbformat_minor": 5
}
