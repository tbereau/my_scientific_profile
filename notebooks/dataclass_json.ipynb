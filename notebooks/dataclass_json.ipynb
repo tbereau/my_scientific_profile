{
 "cells": [
  {
   "cell_type": "code",
   "execution_count": null,
   "id": "29d93cda-05a5-4770-b404-7f52b6034cf1",
   "metadata": {},
   "outputs": [],
   "source": [
    "from pydantic.dataclasses import dataclass\n",
    "\n",
    "@dataclass\n",
    "class Point:\n",
    "    x: float\n",
    "    y: float"
   ]
  },
  {
   "cell_type": "code",
   "execution_count": null,
   "id": "d6366dcc-aa47-4f79-8ce9-98188858e2f7",
   "metadata": {},
   "outputs": [],
   "source": [
    "Point(3.4, 4.2)"
   ]
  },
  {
   "cell_type": "code",
   "execution_count": null,
   "id": "07411e55-1e92-4566-9e56-82b2dc6bb40a",
   "metadata": {},
   "outputs": [],
   "source": [
    "Point(**{\"x\": 3.4, \"y\": 4.2})"
   ]
  },
  {
   "cell_type": "code",
   "execution_count": null,
   "id": "d0d4412d-2039-48c9-822d-01f2b200ab04",
   "metadata": {},
   "outputs": [],
   "source": [
    "Point(**{\"x\": \"3.4\", \"y\": \"4.2\"})"
   ]
  },
  {
   "cell_type": "code",
   "execution_count": null,
   "id": "42eaf935-e47d-431e-bb0f-34592fbb5d38",
   "metadata": {},
   "outputs": [],
   "source": []
  }
 ],
 "metadata": {
  "kernelspec": {
   "display_name": "my_scientific_profile",
   "language": "python",
   "name": "my_scientific_profile"
  },
  "language_info": {
   "codemirror_mode": {
    "name": "ipython",
    "version": 3
   },
   "file_extension": ".py",
   "mimetype": "text/x-python",
   "name": "python",
   "nbconvert_exporter": "python",
   "pygments_lexer": "ipython3",
   "version": "3.9.13"
  }
 },
 "nbformat": 4,
 "nbformat_minor": 5
}
