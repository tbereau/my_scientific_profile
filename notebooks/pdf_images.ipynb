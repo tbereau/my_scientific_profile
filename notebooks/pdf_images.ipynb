{
 "cells": [
  {
   "cell_type": "code",
   "execution_count": null,
   "id": "4a5b4994-1d70-48cd-bd7e-bda8253ee6d2",
   "metadata": {},
   "outputs": [],
   "source": [
    "import fitz\n",
    "from tqdm import tqdm # pip install tqdm\n",
    "\n",
    "pdf_path = \"/Users/tbereau/surfdrive/papers/2009_generic_jcp.pdf\"\n",
    "\n",
    "# for each_path in os.listdir(workdir):\n",
    "#     if \".pdf\" in each_path:\n",
    "#         doc = fitz.Document((os.path.join(workdir, each_path)))\n",
    "\n",
    "        for i in tqdm(range(len(doc)), desc=\"pages\"):\n",
    "            for img in tqdm(doc.get_page_images(i), desc=\"page_images\"):\n",
    "                xref = img[0]\n",
    "                image = doc.extract_image(xref)\n",
    "                pix = fitz.Pixmap(doc, xref)\n",
    "                pix.save(os.path.join(workdir, \"%s_p%s-%s.png\" % (each_path[:-4], i, xref)))\n",
    "                \n",
    "# print(\"Done!\")"
   ]
  },
  {
   "cell_type": "code",
   "execution_count": null,
   "id": "d5f5ee33-c274-465b-8e07-026ed31a8249",
   "metadata": {},
   "outputs": [],
   "source": []
  },
  {
   "cell_type": "code",
   "execution_count": null,
   "id": "8554acb3-b2ce-449b-a69e-1b51f20a1491",
   "metadata": {},
   "outputs": [],
   "source": [
    "doc = fitz.open(pdf_path)\n",
    "counter = 0\n",
    "for i in range(len(doc)):\n",
    "    for img in doc.get_page_images(i):\n",
    "        xref = img[0]\n",
    "        image = doc.extract_image(xref)\n",
    "        pix = fitz.Pixmap(doc, xref)\n",
    "        pdf_name = pdf_path[:-4].split('/')[-1]\n",
    "        counter += 1\n",
    "        colorspace_name = str(pix.colorspace.name) if pix.colorspace else \"\"\n",
    "        print(f\"{counter:3d}, {colorspace_name:12s} {pix.size:10d}\")\n",
    "        if pix.colorspace is not None and pix.size > 1000:\n",
    "            if not pix.colorspace in (fitz.csGRAY.name, fitz.csRGB.name):\n",
    "                pix = fitz.Pixmap(fitz.csRGB, pix)\n",
    "            pix.save(f\"test_pymupdf/{pdf_name}-{counter}.png\")"
   ]
  },
  {
   "cell_type": "code",
   "execution_count": null,
   "id": "aa9366ab-1c02-4b30-bcb2-37e3f8884de8",
   "metadata": {},
   "outputs": [],
   "source": []
  },
  {
   "cell_type": "code",
   "execution_count": null,
   "id": "7944d87b-9cef-4d80-b701-7c73d18569f1",
   "metadata": {},
   "outputs": [],
   "source": []
  },
  {
   "cell_type": "code",
   "execution_count": null,
   "id": "3f11434a-a0aa-4dea-aac7-935673b3d369",
   "metadata": {},
   "outputs": [],
   "source": [
    "from bs4 import BeautifulSoup as BS\n",
    "import requests\n",
    "import re\n",
    "headers = {\n",
    "    'Access-Control-Allow-Origin': '*',\n",
    "    'Access-Control-Allow-Methods': 'GET',\n",
    "    'Access-Control-Allow-Headers': 'Content-Type',\n",
    "    'Access-Control-Max-Age': '3600',\n",
    "    'User-Agent': 'Mozilla/5.0 (X11; Ubuntu; Linux x86_64; rv:52.0) Gecko/20100101 Firefox/52.0'\n",
    "}\n",
    "url = \"https://www.science.org/doi/10.1126/sciadv.aaz4301\"\n",
    "req = requests.get(url, headers)\n",
    "soup = BS(req.content, 'html.parser')\n",
    "print(soup.prettify())\n",
    "# with open(url) as html:\n",
    "#     content = html.read()\n",
    "#     matches = re.findall(r'\\ssrc=\"([^\"]+)\"', content)\n",
    "#     matches = ' '.join(matches)\n",
    "\n",
    "# print(matches)"
   ]
  },
  {
   "cell_type": "code",
   "execution_count": null,
   "id": "4997910a-36ad-4c12-8348-01cf1b3e22dd",
   "metadata": {},
   "outputs": [],
   "source": []
  }
 ],
 "metadata": {
  "kernelspec": {
   "display_name": "my_scientific_profile",
   "language": "python",
   "name": "my_scientific_profile"
  },
  "language_info": {
   "codemirror_mode": {
    "name": "ipython",
    "version": 3
   },
   "file_extension": ".py",
   "mimetype": "text/x-python",
   "name": "python",
   "nbconvert_exporter": "python",
   "pygments_lexer": "ipython3",
   "version": "3.10.8"
  }
 },
 "nbformat": 4,
 "nbformat_minor": 5
}
