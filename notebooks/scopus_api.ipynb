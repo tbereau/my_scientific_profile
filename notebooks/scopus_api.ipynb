{
 "cells": [
  {
   "cell_type": "code",
   "execution_count": null,
   "id": "8dfd1d28-2b98-4d39-a03c-28704a80a7dd",
   "metadata": {},
   "outputs": [],
   "source": [
    "import pandas as pd\n",
    "import numpy as np\n",
    "from requests import get\n",
    "from dataclasses import asdict\n",
    "import xmltodict\n",
    "\n",
    "from my_scientific_profile.database.papers import load_all_papers_from_s3\n",
    "from my_scientific_profile.web_app.extensions import s3_client, S3_BUCKET"
   ]
  },
  {
   "cell_type": "code",
   "execution_count": null,
   "id": "906f653a-af3d-411c-8598-f5a756ea986b",
   "metadata": {},
   "outputs": [],
   "source": [
    "papers = load_all_papers_from_s3(s3_client=s3_client, s3_bucket=S3_BUCKET)"
   ]
  },
  {
   "cell_type": "code",
   "execution_count": null,
   "id": "526d5131-5037-4c48-b903-2057c50a262c",
   "metadata": {},
   "outputs": [],
   "source": [
    "df = pd.json_normalize(asdict(p) for p in papers)\n",
    "df.head()"
   ]
  },
  {
   "cell_type": "code",
   "execution_count": null,
   "id": "396399e4-6ae7-4fc8-8318-ad0c9896caa2",
   "metadata": {},
   "outputs": [],
   "source": [
    "df[[\"doi\", \"title\", \"abstract\"]].info()"
   ]
  },
  {
   "cell_type": "code",
   "execution_count": null,
   "id": "8420dd32-0ec2-4ca6-ae3e-77e33571c29f",
   "metadata": {},
   "outputs": [],
   "source": [
    "df.loc[df.abstract.isna()][[\"doi\", \"title\", \"abstract\", \"journal.url\"]]"
   ]
  },
  {
   "cell_type": "code",
   "execution_count": null,
   "id": "b04a60dc-b556-4602-8297-124fa9583dac",
   "metadata": {},
   "outputs": [],
   "source": [
    "def retrieve_doi(doi: str):\n",
    "    header = {\n",
    "        \"Accept\": \"application/json\",\n",
    "        \"X-ELS-APIKey\": \"a68adb8cc0d4dd669baac77323b0bcb9\",\n",
    "        # \"X-ELS-Insttoken\": \"\",\n",
    "        \"view\": \"META\",\n",
    "    }\n",
    "    return xmltodict.parse(\n",
    "        get(url=f\"https://api.elsevier.com/content/abstract/doi/{doi}\", params=header).text\n",
    "    )"
   ]
  },
  {
   "cell_type": "code",
   "execution_count": null,
   "id": "d20afa7b-dd02-4a3b-8ee1-ee38d1795972",
   "metadata": {},
   "outputs": [],
   "source": [
    "retrieve_doi(\"10.1038/s41586-022-04501-x\")"
   ]
  },
  {
   "cell_type": "code",
   "execution_count": null,
   "id": "9e3246f8-964a-451a-82ea-372ae2d03638",
   "metadata": {},
   "outputs": [],
   "source": [
    "def retrieve_orcid(orcid: str):\n",
    "    header = {\n",
    "        \"Accept\": \"application/json\",\n",
    "        \"apiKey\": \"a68adb8cc0d4dd669baac77323b0bcb9\",\n",
    "    }\n",
    "    return xmltodict.parse(\n",
    "        get(url=f\"https://api.elsevier.com/content/author/orcid/{orcid}\", params=header).text\n",
    "    )"
   ]
  },
  {
   "cell_type": "code",
   "execution_count": null,
   "id": "daa4b072-e2e9-47e6-b7f0-816dba06e722",
   "metadata": {},
   "outputs": [],
   "source": [
    "retrieve_orcid(\"0000-0001-9945-1271\")"
   ]
  },
  {
   "cell_type": "markdown",
   "id": "1814d647-c35b-4e46-b2c3-64530f3779ae",
   "metadata": {},
   "source": [
    "## Open access PDF"
   ]
  },
  {
   "cell_type": "code",
   "execution_count": null,
   "id": "86a869de-7b32-4a1d-9436-6a620cdf4625",
   "metadata": {},
   "outputs": [],
   "source": [
    "df.loc[df[\"open_access.pdf_url\"].isna()].loc[df.abstract.isna()]"
   ]
  },
  {
   "cell_type": "code",
   "execution_count": null,
   "id": "80482a4a-da82-46aa-81e9-f454d1365604",
   "metadata": {},
   "outputs": [],
   "source": []
  }
 ],
 "metadata": {
  "kernelspec": {
   "display_name": "my_scientific_profile",
   "language": "python",
   "name": "my_scientific_profile"
  },
  "language_info": {
   "codemirror_mode": {
    "name": "ipython",
    "version": 3
   },
   "file_extension": ".py",
   "mimetype": "text/x-python",
   "name": "python",
   "nbconvert_exporter": "python",
   "pygments_lexer": "ipython3",
   "version": "3.10.8"
  }
 },
 "nbformat": 4,
 "nbformat_minor": 5
}
