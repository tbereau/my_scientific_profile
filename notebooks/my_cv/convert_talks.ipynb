{
 "cells": [
  {
   "cell_type": "code",
   "execution_count": null,
   "id": "4464906c-49e9-4cb6-8c36-87e1cce00a72",
   "metadata": {},
   "outputs": [],
   "source": [
    "import re"
   ]
  },
  {
   "cell_type": "code",
   "execution_count": null,
   "id": "78847177-51a8-4f6b-a6dc-90087461affb",
   "metadata": {},
   "outputs": [],
   "source": [
    "def latex_to_yaml(latex_str):\n",
    "    yaml_str = \"\"\n",
    "    location_match = re.search(r'(?<=\\\\hfill\\s).+?(?=\\s\\\\\\textbf{)', latex_str)\n",
    "    date_match = re.search(r'(?<=\\\\textbf{).+?(?=})', latex_str)\n",
    "    title_match = re.search(r'(?<=\\\\href{).+?(?=})', latex_str)\n",
    "    \n",
    "    if title_match:\n",
    "        title = title_match.group()\n",
    "        title = title.replace('_', '\\_')\n",
    "        yaml_str += f\"title: \\\"{title}\\\"\"\n",
    "        if location_match or date_match:\n",
    "            yaml_str += \"\\n\"\n",
    "    if location_match:\n",
    "        location = location_match.group()\n",
    "        location = location.replace('_', '\\_')\n",
    "        yaml_str += f\"location: \\\"{location}\\\"\"\n",
    "        if date_match:\n",
    "            yaml_str += \"\\n\"\n",
    "    if date_match:\n",
    "        yaml_str += f\"date: \\\"{date_match.group()}\\\"\"\n",
    "\n",
    "    return yaml_str"
   ]
  },
  {
   "cell_type": "code",
   "execution_count": null,
   "id": "f60d75c3-94bd-4387-aef9-86cdbcf01106",
   "metadata": {},
   "outputs": [],
   "source": [
    "latex_str1 = r'\\vspace{.8mm} \\href{https://www.csp.uga.edu/Workshop/2015/schedule}{CSP Workshop}, University of Georgia, Athens GA USA \\hfill \\textbf{03/2015}'\n",
    "latex_str2 = r'\\vspace{.8mm} Faculty of Natural Sciences, University of Groningen, Groningen, The Netherlands \\hfill \\textbf{06/2015}'"
   ]
  },
  {
   "cell_type": "code",
   "execution_count": null,
   "id": "309043d7-3f17-414a-9ff2-6fd0d1ff62f7",
   "metadata": {},
   "outputs": [],
   "source": [
    "latex_to_yaml(latex_str1)"
   ]
  },
  {
   "cell_type": "code",
   "execution_count": null,
   "id": "59eee890-7a86-49b1-8927-501ede0676af",
   "metadata": {},
   "outputs": [],
   "source": [
    "latex_to_yaml(latex_str2)"
   ]
  },
  {
   "cell_type": "code",
   "execution_count": null,
   "id": "eeb94293-274b-4088-8a23-18cdc20d351e",
   "metadata": {},
   "outputs": [],
   "source": []
  }
 ],
 "metadata": {
  "kernelspec": {
   "display_name": "my_scientific_profile",
   "language": "python",
   "name": "my_scientific_profile"
  },
  "language_info": {
   "codemirror_mode": {
    "name": "ipython",
    "version": 3
   },
   "file_extension": ".py",
   "mimetype": "text/x-python",
   "name": "python",
   "nbconvert_exporter": "python",
   "pygments_lexer": "ipython3",
   "version": "3.10.8"
  }
 },
 "nbformat": 4,
 "nbformat_minor": 5
}
