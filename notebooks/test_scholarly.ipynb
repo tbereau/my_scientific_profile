{
 "cells": [
  {
   "cell_type": "code",
   "execution_count": null,
   "id": "e80a1def-54fa-42f3-930d-a4a5c07a3936",
   "metadata": {},
   "outputs": [],
   "source": [
    "from scholarly import scholarly"
   ]
  },
  {
   "cell_type": "code",
   "execution_count": null,
   "id": "92ad5712-184a-47ca-8ceb-0a5a18497a72",
   "metadata": {},
   "outputs": [],
   "source": [
    "search_query = scholarly.search_author_id(\"9cYdrBUAAAAJ\")\n",
    "search_query"
   ]
  },
  {
   "cell_type": "code",
   "execution_count": null,
   "id": "9fe36ffc-ed95-43ac-8216-ae727dc7f3bb",
   "metadata": {},
   "outputs": [],
   "source": [
    "author = scholarly.fill(search_query)\n",
    "author"
   ]
  },
  {
   "cell_type": "code",
   "execution_count": null,
   "id": "ea399c5b-e0ee-49d5-b3dd-0a4afb7e2698",
   "metadata": {},
   "outputs": [],
   "source": [
    "scholarly.fill(author[\"publications\"][0])"
   ]
  },
  {
   "cell_type": "code",
   "execution_count": null,
   "id": "998dd96a-e450-43ca-9884-2ebf73c15322",
   "metadata": {},
   "outputs": [],
   "source": [
    "scholarly.fill(author[\"publications\"][-4])"
   ]
  },
  {
   "cell_type": "code",
   "execution_count": null,
   "id": "a8662ba4-a6cf-4d50-be2e-1c203253b756",
   "metadata": {},
   "outputs": [],
   "source": []
  }
 ],
 "metadata": {
  "kernelspec": {
   "display_name": "my_scientific_profile",
   "language": "python",
   "name": "my_scientific_profile"
  },
  "language_info": {
   "codemirror_mode": {
    "name": "ipython",
    "version": 3
   },
   "file_extension": ".py",
   "mimetype": "text/x-python",
   "name": "python",
   "nbconvert_exporter": "python",
   "pygments_lexer": "ipython3",
   "version": "3.10.6"
  }
 },
 "nbformat": 4,
 "nbformat_minor": 5
}
