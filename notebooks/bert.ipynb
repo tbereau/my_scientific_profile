{
 "cells": [
  {
   "cell_type": "code",
   "execution_count": null,
   "id": "fb389c50-349b-41d8-a1df-aaf1cddaae41",
   "metadata": {},
   "outputs": [],
   "source": [
    "import pandas as pd\n",
    "import numpy as np\n",
    "import nltk\n",
    "nltk.download('stopwords')\n",
    "nltk.download('omw-1.4')\n",
    "nltk.download('wordnet')\n",
    "wn = nltk.WordNetLemmatizer()\n",
    "from bertopic import BERTopic\n",
    "from umap import UMAP\n",
    "from dataclasses import asdict\n",
    "\n",
    "from my_scientific_profile.database.papers import load_all_papers_from_s3\n",
    "from my_scientific_profile.web_app.extensions import s3_client, S3_BUCKET"
   ]
  },
  {
   "cell_type": "code",
   "execution_count": null,
   "id": "4b6706ca-7be1-4d08-ad0a-e59939132976",
   "metadata": {},
   "outputs": [],
   "source": [
    "papers = load_all_papers_from_s3(s3_client=s3_client, s3_bucket=S3_BUCKET)"
   ]
  },
  {
   "cell_type": "code",
   "execution_count": null,
   "id": "4de85f3d-3756-4ca7-b191-a9078e257d22",
   "metadata": {},
   "outputs": [],
   "source": [
    "df = pd.json_normalize(asdict(p) for p in papers)\n",
    "df.head()"
   ]
  },
  {
   "cell_type": "code",
   "execution_count": null,
   "id": "57be590c-afda-4ff8-bc03-eec7a219f280",
   "metadata": {},
   "outputs": [],
   "source": [
    "df[[\"doi\", \"title\", \"abstract\"]].info()"
   ]
  },
  {
   "cell_type": "code",
   "execution_count": null,
   "id": "1587f026-2b41-4c97-b4d6-1ce096d9c290",
   "metadata": {},
   "outputs": [],
   "source": [
    "df.loc[df.abstract.isna()][[\"title\", \"abstract\"]]"
   ]
  },
  {
   "cell_type": "code",
   "execution_count": null,
   "id": "89c7c63c-1caf-4018-bca2-d3910c25dcb6",
   "metadata": {},
   "outputs": [],
   "source": [
    "df_clean = df.loc[~df.abstract.isna()].reset_index()"
   ]
  },
  {
   "cell_type": "code",
   "execution_count": null,
   "id": "c04e24f9-c509-486e-9914-4b2ae2dce930",
   "metadata": {},
   "outputs": [],
   "source": [
    "stopwords = nltk.corpus.stopwords.words('english')\n",
    "len(stopwords)"
   ]
  },
  {
   "cell_type": "code",
   "execution_count": null,
   "id": "77dfd914-87d9-4fa7-a870-e9691f4444f1",
   "metadata": {},
   "outputs": [],
   "source": [
    "df_clean[\"abstract_without_stopwords\"] = df_clean['abstract'].apply(lambda x: ' '.join([w for w in x.split() if w.lower() not in stopwords]))\n",
    "df_clean[\"abstract_lemmatized\"] = df_clean['abstract_without_stopwords'].apply(lambda x: ' '.join([wn.lemmatize(w) for w in x.split() if w not in stopwords]))"
   ]
  },
  {
   "cell_type": "code",
   "execution_count": null,
   "id": "5c5a7a08-db0c-4adc-8fb4-2f4c25d29208",
   "metadata": {},
   "outputs": [],
   "source": [
    "umap_model = UMAP(\n",
    "    n_neighbors=2, \n",
    "    n_components=2, \n",
    "    min_dist=0.0, \n",
    "    metric='cosine', \n",
    "    random_state=100\n",
    ")\n",
    "topic_model = BERTopic(umap_model=umap_model, language=\"english\", calculate_probabilities=True, min_topic_size=2)\n",
    "topics, probabilities = topic_model.fit_transform(df_clean['abstract_lemmatized'])"
   ]
  },
  {
   "cell_type": "code",
   "execution_count": null,
   "id": "d2b36b46-21ae-405d-8f14-d86412a50847",
   "metadata": {},
   "outputs": [],
   "source": [
    "topic_model.get_topic_info()"
   ]
  },
  {
   "cell_type": "code",
   "execution_count": null,
   "id": "376e09de-e1e9-4f03-a01a-51e4fe570aea",
   "metadata": {},
   "outputs": [],
   "source": [
    "topic_model.get_topic(0)"
   ]
  },
  {
   "cell_type": "code",
   "execution_count": null,
   "id": "d294f99a-87f5-4d5c-89fe-b0fd1a9dc65c",
   "metadata": {},
   "outputs": [],
   "source": [
    "topic_model.get_topic(8)"
   ]
  },
  {
   "cell_type": "code",
   "execution_count": null,
   "id": "fa8fad32-035a-417c-aa44-3588f24c0cd2",
   "metadata": {},
   "outputs": [],
   "source": [
    "topic_model.visualize_barchart(top_n_topics=12)"
   ]
  },
  {
   "cell_type": "code",
   "execution_count": null,
   "id": "6e6bc3bc-3973-414c-b06f-369a20ea78b3",
   "metadata": {},
   "outputs": [],
   "source": [
    "topic_model.visualize_topics()"
   ]
  },
  {
   "cell_type": "code",
   "execution_count": null,
   "id": "688f3664-d972-4c87-a309-42cc89bd51d4",
   "metadata": {},
   "outputs": [],
   "source": [
    "topic_model.visualize_hierarchy()"
   ]
  },
  {
   "cell_type": "code",
   "execution_count": null,
   "id": "912fec09-3543-439d-a6f4-3ebbfadd8431",
   "metadata": {},
   "outputs": [],
   "source": [
    "df_clean[\"topic\"] = topic_model.topics_"
   ]
  },
  {
   "cell_type": "code",
   "execution_count": null,
   "id": "89c3af64-28ab-440a-952f-e9e528c90bc4",
   "metadata": {},
   "outputs": [],
   "source": [
    "df_clean[[\"title\", \"topic\"]].sort_values(\"topic\")"
   ]
  },
  {
   "cell_type": "code",
   "execution_count": null,
   "id": "2e0f51db-1f68-467a-984c-5c713709e952",
   "metadata": {},
   "outputs": [],
   "source": []
  }
 ],
 "metadata": {
  "kernelspec": {
   "display_name": "my_scientific_profile",
   "language": "python",
   "name": "my_scientific_profile"
  },
  "language_info": {
   "codemirror_mode": {
    "name": "ipython",
    "version": 3
   },
   "file_extension": ".py",
   "mimetype": "text/x-python",
   "name": "python",
   "nbconvert_exporter": "python",
   "pygments_lexer": "ipython3",
   "version": "3.10.8"
  }
 },
 "nbformat": 4,
 "nbformat_minor": 5
}
