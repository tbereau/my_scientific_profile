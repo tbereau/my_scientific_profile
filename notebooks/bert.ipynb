{
 "cells": [
  {
   "cell_type": "code",
   "execution_count": 1,
   "id": "fb389c50-349b-41d8-a1df-aaf1cddaae41",
   "metadata": {},
   "outputs": [
    {
     "name": "stderr",
     "output_type": "stream",
     "text": [
      "[nltk_data] Downloading package stopwords to\n",
      "[nltk_data]     /Users/tbereau/nltk_data...\n",
      "[nltk_data]   Package stopwords is already up-to-date!\n",
      "[nltk_data] Downloading package omw-1.4 to /Users/tbereau/nltk_data...\n",
      "[nltk_data]   Package omw-1.4 is already up-to-date!\n",
      "[nltk_data] Downloading package wordnet to /Users/tbereau/nltk_data...\n",
      "[nltk_data]   Package wordnet is already up-to-date!\n",
      "/Users/tbereau/Library/Caches/pypoetry/virtualenvs/my-scientific-profile-JtY4lVbC-py3.11/lib/python3.11/site-packages/umap/distances.py:1063: NumbaDeprecationWarning: The 'nopython' keyword argument was not supplied to the 'numba.jit' decorator. The implicit default value for this argument is currently False, but it will be changed to True in Numba 0.59.0. See https://numba.readthedocs.io/en/stable/reference/deprecation.html#deprecation-of-object-mode-fall-back-behaviour-when-using-jit for details.\n",
      "  @numba.jit()\n",
      "/Users/tbereau/Library/Caches/pypoetry/virtualenvs/my-scientific-profile-JtY4lVbC-py3.11/lib/python3.11/site-packages/umap/distances.py:1071: NumbaDeprecationWarning: The 'nopython' keyword argument was not supplied to the 'numba.jit' decorator. The implicit default value for this argument is currently False, but it will be changed to True in Numba 0.59.0. See https://numba.readthedocs.io/en/stable/reference/deprecation.html#deprecation-of-object-mode-fall-back-behaviour-when-using-jit for details.\n",
      "  @numba.jit()\n",
      "/Users/tbereau/Library/Caches/pypoetry/virtualenvs/my-scientific-profile-JtY4lVbC-py3.11/lib/python3.11/site-packages/umap/distances.py:1086: NumbaDeprecationWarning: The 'nopython' keyword argument was not supplied to the 'numba.jit' decorator. The implicit default value for this argument is currently False, but it will be changed to True in Numba 0.59.0. See https://numba.readthedocs.io/en/stable/reference/deprecation.html#deprecation-of-object-mode-fall-back-behaviour-when-using-jit for details.\n",
      "  @numba.jit()\n",
      "/Users/tbereau/Library/Caches/pypoetry/virtualenvs/my-scientific-profile-JtY4lVbC-py3.11/lib/python3.11/site-packages/umap/umap_.py:660: NumbaDeprecationWarning: The 'nopython' keyword argument was not supplied to the 'numba.jit' decorator. The implicit default value for this argument is currently False, but it will be changed to True in Numba 0.59.0. See https://numba.readthedocs.io/en/stable/reference/deprecation.html#deprecation-of-object-mode-fall-back-behaviour-when-using-jit for details.\n",
      "  @numba.jit()\n"
     ]
    }
   ],
   "source": [
    "import pandas as pd\n",
    "import numpy as np\n",
    "import nltk\n",
    "nltk.download('stopwords')\n",
    "nltk.download('omw-1.4')\n",
    "nltk.download('wordnet')\n",
    "wn = nltk.WordNetLemmatizer()\n",
    "from bertopic import BERTopic\n",
    "from umap import UMAP\n",
    "from dataclasses import asdict\n",
    "import plotly.express as px\n",
    "import plotly.graph_objects as go\n",
    "import networkx as nx\n",
    "from bokeh.io import show, output_notebook\n",
    "from bokeh.models import (\n",
    "    BoxZoomTool, Circle, HoverTool,\n",
    "    MultiLine, Plot, Range1d, ResetTool,\n",
    "    NodesAndLinkedEdges,\n",
    "    OpenURL, TapTool,\n",
    ")\n",
    "from bokeh.palettes import Spectral4\n",
    "from bokeh.plotting import figure, from_networkx\n",
    "from bokeh.transform import linear_cmap\n",
    "import matplotlib.pyplot as plt\n",
    "\n",
    "\n",
    "from my_scientific_profile.database.papers import load_all_papers_from_s3\n",
    "from my_scientific_profile.database.aws_s3 import s3_client, S3_BUCKET"
   ]
  },
  {
   "cell_type": "code",
   "execution_count": 2,
   "id": "4b6706ca-7be1-4d08-ad0a-e59939132976",
   "metadata": {},
   "outputs": [],
   "source": [
    "papers = load_all_papers_from_s3(s3_client=s3_client, s3_bucket=S3_BUCKET)"
   ]
  },
  {
   "cell_type": "code",
   "execution_count": 3,
   "id": "4de85f3d-3756-4ca7-b191-a9078e257d22",
   "metadata": {},
   "outputs": [
    {
     "data": {
      "text/html": [
       "<div>\n",
       "<style scoped>\n",
       "    .dataframe tbody tr th:only-of-type {\n",
       "        vertical-align: middle;\n",
       "    }\n",
       "\n",
       "    .dataframe tbody tr th {\n",
       "        vertical-align: top;\n",
       "    }\n",
       "\n",
       "    .dataframe thead th {\n",
       "        text-align: right;\n",
       "    }\n",
       "</style>\n",
       "<table border=\"1\" class=\"dataframe\">\n",
       "  <thead>\n",
       "    <tr style=\"text-align: right;\">\n",
       "      <th></th>\n",
       "      <th>doi</th>\n",
       "      <th>title</th>\n",
       "      <th>publication_date</th>\n",
       "      <th>authors</th>\n",
       "      <th>citation_count</th>\n",
       "      <th>bib_entry</th>\n",
       "      <th>abstract</th>\n",
       "      <th>tldr</th>\n",
       "      <th>year</th>\n",
       "      <th>journal.name</th>\n",
       "      <th>...</th>\n",
       "      <th>journal.pages</th>\n",
       "      <th>journal.volume</th>\n",
       "      <th>open_access.is_open_access</th>\n",
       "      <th>open_access.open_access_status</th>\n",
       "      <th>open_access.landing_page_url</th>\n",
       "      <th>open_access.pdf_url</th>\n",
       "      <th>embedding.x</th>\n",
       "      <th>embedding.y</th>\n",
       "      <th>embedding.topic_number</th>\n",
       "      <th>embedding.topic_name</th>\n",
       "    </tr>\n",
       "  </thead>\n",
       "  <tbody>\n",
       "    <tr>\n",
       "      <th>0</th>\n",
       "      <td>10.1021/acs.jctc.3c00201</td>\n",
       "      <td>Condensed-Phase Molecular Representation to Li...</td>\n",
       "      <td>2023-07-03 12:50:55</td>\n",
       "      <td>[{'given': 'Bernadette', 'family': 'Mohr', 'af...</td>\n",
       "      <td>0</td>\n",
       "      <td>@article{Mohr_2023,\\n\\tdoi = {10.1021/acs.jctc...</td>\n",
       "      <td>Molecular design requires systematic and broad...</td>\n",
       "      <td>None</td>\n",
       "      <td>2023</td>\n",
       "      <td>Journal of Chemical Theory and Computation</td>\n",
       "      <td>...</td>\n",
       "      <td>None</td>\n",
       "      <td>NaN</td>\n",
       "      <td>True</td>\n",
       "      <td>hybrid</td>\n",
       "      <td>https://doi.org/10.1021/acs.jctc.3c00201</td>\n",
       "      <td>None</td>\n",
       "      <td>0.249262</td>\n",
       "      <td>10.144167</td>\n",
       "      <td>1</td>\n",
       "      <td>|  |</td>\n",
       "    </tr>\n",
       "    <tr>\n",
       "      <th>1</th>\n",
       "      <td>10.1039/D3BM00412K</td>\n",
       "      <td>Inverse design of viral infectivity-enhancing ...</td>\n",
       "      <td>2023-06-15 11:01:18</td>\n",
       "      <td>[{'given': 'Kübra', 'family': 'Kaygisiz', 'aff...</td>\n",
       "      <td>0</td>\n",
       "      <td>@article{Kaygisiz_2023,\\n\\tdoi = {10.1039/d3bm...</td>\n",
       "      <td>Amyloid-like nanofibers from self-assembling p...</td>\n",
       "      <td>These de novo sequences are the shortest activ...</td>\n",
       "      <td>2023</td>\n",
       "      <td>Biomaterials Science</td>\n",
       "      <td>...</td>\n",
       "      <td>None</td>\n",
       "      <td>NaN</td>\n",
       "      <td>True</td>\n",
       "      <td>hybrid</td>\n",
       "      <td>https://doi.org/10.1039/d3bm00412k</td>\n",
       "      <td>https://pubs.rsc.org/en/content/articlepdf/202...</td>\n",
       "      <td>-0.143314</td>\n",
       "      <td>10.587479</td>\n",
       "      <td>3</td>\n",
       "      <td>|  |</td>\n",
       "    </tr>\n",
       "    <tr>\n",
       "      <th>2</th>\n",
       "      <td>10.1021/acsfoodscitech.2c00251</td>\n",
       "      <td>Identifying Sequential Residue Patterns in Bit...</td>\n",
       "      <td>2022-11-09 14:00:22</td>\n",
       "      <td>[{'given': 'Arghya', 'family': 'Dutta', 'affil...</td>\n",
       "      <td>1</td>\n",
       "      <td>@article{Dutta_2022,\\n\\tdoi = {10.1021/acsfood...</td>\n",
       "      <td>The primary structures of peptides, originatin...</td>\n",
       "      <td>This work proposes a method that coarse-grains...</td>\n",
       "      <td>2022</td>\n",
       "      <td>ACS Food Science &amp;amp; Technology</td>\n",
       "      <td>...</td>\n",
       "      <td>1773-1780</td>\n",
       "      <td>2.0</td>\n",
       "      <td>True</td>\n",
       "      <td>hybrid</td>\n",
       "      <td>https://doi.org/10.1021/acsfoodscitech.2c00251</td>\n",
       "      <td>https://pubs.acs.org/doi/pdf/10.1021/acsfoodsc...</td>\n",
       "      <td>2.160865</td>\n",
       "      <td>10.472014</td>\n",
       "      <td>8</td>\n",
       "      <td>mtp | pc | electrostatics</td>\n",
       "    </tr>\n",
       "    <tr>\n",
       "      <th>3</th>\n",
       "      <td>10.1063/5.0104914</td>\n",
       "      <td>Broad chemical transferability in structure-ba...</td>\n",
       "      <td>2022-08-12 11:51:35</td>\n",
       "      <td>[{'given': 'Kiran', 'family': 'Kanekal', 'affi...</td>\n",
       "      <td>2</td>\n",
       "      <td>@article{Kanekal_2022,\\n\\tdoi = {10.1063/5.010...</td>\n",
       "      <td>Compared to top-down coarse-grained (CG) model...</td>\n",
       "      <td>None</td>\n",
       "      <td>2022</td>\n",
       "      <td>The Journal of Chemical Physics</td>\n",
       "      <td>...</td>\n",
       "      <td>104102</td>\n",
       "      <td>157.0</td>\n",
       "      <td>True</td>\n",
       "      <td>hybrid</td>\n",
       "      <td>https://doi.org/10.1063/5.0104914</td>\n",
       "      <td>https://aip.scitation.org/doi/pdf/10.1063/5.01...</td>\n",
       "      <td>-0.313834</td>\n",
       "      <td>9.078019</td>\n",
       "      <td>9</td>\n",
       "      <td>peptide | umami | peptides</td>\n",
       "    </tr>\n",
       "    <tr>\n",
       "      <th>4</th>\n",
       "      <td>10.3389/fchem.2022.982757</td>\n",
       "      <td>Benchmarking coarse-grained models of organic ...</td>\n",
       "      <td>2022-09-09 05:40:47</td>\n",
       "      <td>[{'given': 'Marc', 'family': 'Stieffenhofer', ...</td>\n",
       "      <td>2</td>\n",
       "      <td>@article{Stieffenhofer_2022,\\n\\tdoi = {10.3389...</td>\n",
       "      <td>The potential of mean force is an effective co...</td>\n",
       "      <td>The reintroduced details enable force computat...</td>\n",
       "      <td>2022</td>\n",
       "      <td>Frontiers in Chemistry</td>\n",
       "      <td>...</td>\n",
       "      <td>None</td>\n",
       "      <td>10.0</td>\n",
       "      <td>True</td>\n",
       "      <td>gold</td>\n",
       "      <td>https://doi.org/10.3389/fchem.2022.982757</td>\n",
       "      <td>https://www.frontiersin.org/articles/10.3389/f...</td>\n",
       "      <td>-0.357330</td>\n",
       "      <td>8.789751</td>\n",
       "      <td>9</td>\n",
       "      <td>peptide | umami | peptides</td>\n",
       "    </tr>\n",
       "  </tbody>\n",
       "</table>\n",
       "<p>5 rows × 23 columns</p>\n",
       "</div>"
      ],
      "text/plain": [
       "                              doi  \\\n",
       "0        10.1021/acs.jctc.3c00201   \n",
       "1              10.1039/D3BM00412K   \n",
       "2  10.1021/acsfoodscitech.2c00251   \n",
       "3               10.1063/5.0104914   \n",
       "4       10.3389/fchem.2022.982757   \n",
       "\n",
       "                                               title    publication_date  \\\n",
       "0  Condensed-Phase Molecular Representation to Li... 2023-07-03 12:50:55   \n",
       "1  Inverse design of viral infectivity-enhancing ... 2023-06-15 11:01:18   \n",
       "2  Identifying Sequential Residue Patterns in Bit... 2022-11-09 14:00:22   \n",
       "3  Broad chemical transferability in structure-ba... 2022-08-12 11:51:35   \n",
       "4  Benchmarking coarse-grained models of organic ... 2022-09-09 05:40:47   \n",
       "\n",
       "                                             authors  citation_count  \\\n",
       "0  [{'given': 'Bernadette', 'family': 'Mohr', 'af...               0   \n",
       "1  [{'given': 'Kübra', 'family': 'Kaygisiz', 'aff...               0   \n",
       "2  [{'given': 'Arghya', 'family': 'Dutta', 'affil...               1   \n",
       "3  [{'given': 'Kiran', 'family': 'Kanekal', 'affi...               2   \n",
       "4  [{'given': 'Marc', 'family': 'Stieffenhofer', ...               2   \n",
       "\n",
       "                                           bib_entry  \\\n",
       "0  @article{Mohr_2023,\\n\\tdoi = {10.1021/acs.jctc...   \n",
       "1  @article{Kaygisiz_2023,\\n\\tdoi = {10.1039/d3bm...   \n",
       "2  @article{Dutta_2022,\\n\\tdoi = {10.1021/acsfood...   \n",
       "3  @article{Kanekal_2022,\\n\\tdoi = {10.1063/5.010...   \n",
       "4  @article{Stieffenhofer_2022,\\n\\tdoi = {10.3389...   \n",
       "\n",
       "                                            abstract  \\\n",
       "0  Molecular design requires systematic and broad...   \n",
       "1  Amyloid-like nanofibers from self-assembling p...   \n",
       "2  The primary structures of peptides, originatin...   \n",
       "3  Compared to top-down coarse-grained (CG) model...   \n",
       "4  The potential of mean force is an effective co...   \n",
       "\n",
       "                                                tldr  year  \\\n",
       "0                                               None  2023   \n",
       "1  These de novo sequences are the shortest activ...  2023   \n",
       "2  This work proposes a method that coarse-grains...  2022   \n",
       "3                                               None  2022   \n",
       "4  The reintroduced details enable force computat...  2022   \n",
       "\n",
       "                                 journal.name  ... journal.pages  \\\n",
       "0  Journal of Chemical Theory and Computation  ...          None   \n",
       "1                        Biomaterials Science  ...          None   \n",
       "2           ACS Food Science &amp; Technology  ...     1773-1780   \n",
       "3             The Journal of Chemical Physics  ...        104102   \n",
       "4                      Frontiers in Chemistry  ...          None   \n",
       "\n",
       "  journal.volume open_access.is_open_access open_access.open_access_status  \\\n",
       "0            NaN                       True                         hybrid   \n",
       "1            NaN                       True                         hybrid   \n",
       "2            2.0                       True                         hybrid   \n",
       "3          157.0                       True                         hybrid   \n",
       "4           10.0                       True                           gold   \n",
       "\n",
       "                     open_access.landing_page_url  \\\n",
       "0        https://doi.org/10.1021/acs.jctc.3c00201   \n",
       "1              https://doi.org/10.1039/d3bm00412k   \n",
       "2  https://doi.org/10.1021/acsfoodscitech.2c00251   \n",
       "3               https://doi.org/10.1063/5.0104914   \n",
       "4       https://doi.org/10.3389/fchem.2022.982757   \n",
       "\n",
       "                                 open_access.pdf_url embedding.x embedding.y  \\\n",
       "0                                               None    0.249262   10.144167   \n",
       "1  https://pubs.rsc.org/en/content/articlepdf/202...   -0.143314   10.587479   \n",
       "2  https://pubs.acs.org/doi/pdf/10.1021/acsfoodsc...    2.160865   10.472014   \n",
       "3  https://aip.scitation.org/doi/pdf/10.1063/5.01...   -0.313834    9.078019   \n",
       "4  https://www.frontiersin.org/articles/10.3389/f...   -0.357330    8.789751   \n",
       "\n",
       "  embedding.topic_number        embedding.topic_name  \n",
       "0                      1                       |  |   \n",
       "1                      3                       |  |   \n",
       "2                      8   mtp | pc | electrostatics  \n",
       "3                      9  peptide | umami | peptides  \n",
       "4                      9  peptide | umami | peptides  \n",
       "\n",
       "[5 rows x 23 columns]"
      ]
     },
     "execution_count": 3,
     "metadata": {},
     "output_type": "execute_result"
    }
   ],
   "source": [
    "df = pd.json_normalize(asdict(p) for p in papers)\n",
    "df.head()"
   ]
  },
  {
   "cell_type": "code",
   "execution_count": null,
   "id": "bc74fb41-4fc0-4b03-8c48-b0ab20d36b91",
   "metadata": {},
   "outputs": [],
   "source": [
    "df.to_json(\"all_papers.json\")\n",
    "# df.to_csv(\"all_papers.csv\")"
   ]
  },
  {
   "cell_type": "code",
   "execution_count": 4,
   "id": "57be590c-afda-4ff8-bc03-eec7a219f280",
   "metadata": {},
   "outputs": [
    {
     "name": "stdout",
     "output_type": "stream",
     "text": [
      "<class 'pandas.core.frame.DataFrame'>\n",
      "RangeIndex: 73 entries, 0 to 72\n",
      "Data columns (total 3 columns):\n",
      " #   Column    Non-Null Count  Dtype \n",
      "---  ------    --------------  ----- \n",
      " 0   doi       73 non-null     object\n",
      " 1   title     73 non-null     object\n",
      " 2   abstract  58 non-null     object\n",
      "dtypes: object(3)\n",
      "memory usage: 1.8+ KB\n"
     ]
    }
   ],
   "source": [
    "df[[\"doi\", \"title\", \"abstract\"]].info()"
   ]
  },
  {
   "cell_type": "code",
   "execution_count": 5,
   "id": "1587f026-2b41-4c97-b4d6-1ce096d9c290",
   "metadata": {},
   "outputs": [
    {
     "data": {
      "text/html": [
       "<div>\n",
       "<style scoped>\n",
       "    .dataframe tbody tr th:only-of-type {\n",
       "        vertical-align: middle;\n",
       "    }\n",
       "\n",
       "    .dataframe tbody tr th {\n",
       "        vertical-align: top;\n",
       "    }\n",
       "\n",
       "    .dataframe thead th {\n",
       "        text-align: right;\n",
       "    }\n",
       "</style>\n",
       "<table border=\"1\" class=\"dataframe\">\n",
       "  <thead>\n",
       "    <tr style=\"text-align: right;\">\n",
       "      <th></th>\n",
       "      <th>title</th>\n",
       "      <th>abstract</th>\n",
       "    </tr>\n",
       "  </thead>\n",
       "  <tbody>\n",
       "    <tr>\n",
       "      <th>5</th>\n",
       "      <td>FAIR data enabling new horizons for materials ...</td>\n",
       "      <td>None</td>\n",
       "    </tr>\n",
       "    <tr>\n",
       "      <th>8</th>\n",
       "      <td>Induced asymmetries in membranes</td>\n",
       "      <td>None</td>\n",
       "    </tr>\n",
       "    <tr>\n",
       "      <th>10</th>\n",
       "      <td>Publisher’s Note: “Data-driven equation for dr...</td>\n",
       "      <td>None</td>\n",
       "    </tr>\n",
       "    <tr>\n",
       "      <th>13</th>\n",
       "      <td>Computer simulations of lipid regulation by mo...</td>\n",
       "      <td>None</td>\n",
       "    </tr>\n",
       "    <tr>\n",
       "      <th>14</th>\n",
       "      <td>Finite-size transitions in complex membranes</td>\n",
       "      <td>None</td>\n",
       "    </tr>\n",
       "    <tr>\n",
       "      <th>27</th>\n",
       "      <td>Molecular dynamics trajectories for 630 coarse...</td>\n",
       "      <td>None</td>\n",
       "    </tr>\n",
       "    <tr>\n",
       "      <th>35</th>\n",
       "      <td>Hoobas: A highly object-oriented builder for m...</td>\n",
       "      <td>None</td>\n",
       "    </tr>\n",
       "    <tr>\n",
       "      <th>43</th>\n",
       "      <td>Efficient potential of mean force calculation ...</td>\n",
       "      <td>None</td>\n",
       "    </tr>\n",
       "    <tr>\n",
       "      <th>48</th>\n",
       "      <td>An in-silico walker</td>\n",
       "      <td>None</td>\n",
       "    </tr>\n",
       "    <tr>\n",
       "      <th>49</th>\n",
       "      <td>Concurrent parametrization against static and ...</td>\n",
       "      <td>None</td>\n",
       "    </tr>\n",
       "    <tr>\n",
       "      <th>55</th>\n",
       "      <td>Better Together: Lipopeptide Micelle Formation...</td>\n",
       "      <td>None</td>\n",
       "    </tr>\n",
       "    <tr>\n",
       "      <th>59</th>\n",
       "      <td>Enhanced Sampling of Coarse-Grained Transmembr...</td>\n",
       "      <td>None</td>\n",
       "    </tr>\n",
       "    <tr>\n",
       "      <th>60</th>\n",
       "      <td>Multi-timestep Integrator for the Modified And...</td>\n",
       "      <td>None</td>\n",
       "    </tr>\n",
       "    <tr>\n",
       "      <th>69</th>\n",
       "      <td>Structural Basis of Folding Cooperativity in M...</td>\n",
       "      <td>None</td>\n",
       "    </tr>\n",
       "    <tr>\n",
       "      <th>72</th>\n",
       "      <td>Optimized convergence for multiple histogram a...</td>\n",
       "      <td>None</td>\n",
       "    </tr>\n",
       "  </tbody>\n",
       "</table>\n",
       "</div>"
      ],
      "text/plain": [
       "                                                title abstract\n",
       "5   FAIR data enabling new horizons for materials ...     None\n",
       "8                    Induced asymmetries in membranes     None\n",
       "10  Publisher’s Note: “Data-driven equation for dr...     None\n",
       "13  Computer simulations of lipid regulation by mo...     None\n",
       "14       Finite-size transitions in complex membranes     None\n",
       "27  Molecular dynamics trajectories for 630 coarse...     None\n",
       "35  Hoobas: A highly object-oriented builder for m...     None\n",
       "43  Efficient potential of mean force calculation ...     None\n",
       "48                                An in-silico walker     None\n",
       "49  Concurrent parametrization against static and ...     None\n",
       "55  Better Together: Lipopeptide Micelle Formation...     None\n",
       "59  Enhanced Sampling of Coarse-Grained Transmembr...     None\n",
       "60  Multi-timestep Integrator for the Modified And...     None\n",
       "69  Structural Basis of Folding Cooperativity in M...     None\n",
       "72  Optimized convergence for multiple histogram a...     None"
      ]
     },
     "execution_count": 5,
     "metadata": {},
     "output_type": "execute_result"
    }
   ],
   "source": [
    "df.loc[df.abstract.isna()][[\"title\", \"abstract\"]]"
   ]
  },
  {
   "cell_type": "code",
   "execution_count": 6,
   "id": "89c7c63c-1caf-4018-bca2-d3910c25dcb6",
   "metadata": {},
   "outputs": [],
   "source": [
    "df_clean = df.loc[~df.abstract.isna()].reset_index()"
   ]
  },
  {
   "cell_type": "code",
   "execution_count": 7,
   "id": "c04e24f9-c509-486e-9914-4b2ae2dce930",
   "metadata": {},
   "outputs": [
    {
     "data": {
      "text/plain": [
       "179"
      ]
     },
     "execution_count": 7,
     "metadata": {},
     "output_type": "execute_result"
    }
   ],
   "source": [
    "stopwords = nltk.corpus.stopwords.words('english')\n",
    "len(stopwords)"
   ]
  },
  {
   "cell_type": "code",
   "execution_count": 8,
   "id": "77dfd914-87d9-4fa7-a870-e9691f4444f1",
   "metadata": {},
   "outputs": [],
   "source": [
    "df_clean[\"abstract_without_stopwords\"] = df_clean['abstract'].apply(lambda x: ' '.join([w for w in x.split() if w.lower() not in stopwords]))\n",
    "df_clean[\"abstract_lemmatized\"] = df_clean['abstract_without_stopwords'].apply(lambda x: ' '.join([wn.lemmatize(w) for w in x.split() if w not in stopwords]))"
   ]
  },
  {
   "cell_type": "code",
   "execution_count": 9,
   "id": "4ddda8e9-c305-478b-a478-795135629d3b",
   "metadata": {},
   "outputs": [],
   "source": [
    "umap_model = UMAP(\n",
    "    n_neighbors=2, \n",
    "    n_components=2, \n",
    "    min_dist=0.0, \n",
    "    metric='euclidean',\n",
    "    random_state=100\n",
    ")"
   ]
  },
  {
   "cell_type": "code",
   "execution_count": 10,
   "id": "c68ede6a-4e61-42ce-937c-fbd448d03c6d",
   "metadata": {},
   "outputs": [
    {
     "name": "stderr",
     "output_type": "stream",
     "text": [
      "2023-07-04 18:26:44,740 - sentence_transformers.SentenceTransformer - INFO - Load pretrained SentenceTransformer: sentence-transformers/all-MiniLM-L6-v2\n",
      "2023-07-04 18:26:45,072 - sentence_transformers.SentenceTransformer - INFO - Use pytorch device: cpu\n"
     ]
    }
   ],
   "source": [
    "topic_model = BERTopic(\n",
    "    umap_model=umap_model,\n",
    "    min_topic_size=2,\n",
    "    top_n_words=10,\n",
    ").fit(\n",
    "    df_clean[\"abstract_lemmatized\"], \n",
    ")"
   ]
  },
  {
   "cell_type": "code",
   "execution_count": 11,
   "id": "7fb6b41e-3965-40f7-88e5-23751a1c7476",
   "metadata": {},
   "outputs": [
    {
     "data": {
      "text/html": [
       "<div>\n",
       "<style scoped>\n",
       "    .dataframe tbody tr th:only-of-type {\n",
       "        vertical-align: middle;\n",
       "    }\n",
       "\n",
       "    .dataframe tbody tr th {\n",
       "        vertical-align: top;\n",
       "    }\n",
       "\n",
       "    .dataframe thead th {\n",
       "        text-align: right;\n",
       "    }\n",
       "</style>\n",
       "<table border=\"1\" class=\"dataframe\">\n",
       "  <thead>\n",
       "    <tr style=\"text-align: right;\">\n",
       "      <th></th>\n",
       "      <th>Topic</th>\n",
       "      <th>Count</th>\n",
       "      <th>Name</th>\n",
       "      <th>Representation</th>\n",
       "      <th>Representative_Docs</th>\n",
       "    </tr>\n",
       "  </thead>\n",
       "  <tbody>\n",
       "    <tr>\n",
       "      <th>0</th>\n",
       "      <td>-1</td>\n",
       "      <td>8</td>\n",
       "      <td>-1_modeling_molecular_cg_structure</td>\n",
       "      <td>[modeling, molecular, cg, structure, datadrive...</td>\n",
       "      <td>[Syndiotactic polystyrene (sPS) exhibit comple...</td>\n",
       "    </tr>\n",
       "    <tr>\n",
       "      <th>1</th>\n",
       "      <td>0</td>\n",
       "      <td>6</td>\n",
       "      <td>0_cardiolipin_permeability_coarsegrained_membrane</td>\n",
       "      <td>[cardiolipin, permeability, coarsegrained, mem...</td>\n",
       "      <td>[Unraveling relation chemical structure small ...</td>\n",
       "    </tr>\n",
       "    <tr>\n",
       "      <th>2</th>\n",
       "      <td>1</td>\n",
       "      <td>5</td>\n",
       "      <td>1_sequence_dispersion_intermolecular_growth</td>\n",
       "      <td>[sequence, dispersion, intermolecular, growth,...</td>\n",
       "      <td>[urgent need biomaterials support tissue heali...</td>\n",
       "    </tr>\n",
       "    <tr>\n",
       "      <th>3</th>\n",
       "      <td>2</td>\n",
       "      <td>5</td>\n",
       "      <td>2_state_reweighting_trajectory_dimensionality</td>\n",
       "      <td>[state, reweighting, trajectory, dimensionalit...</td>\n",
       "      <td>[Discrete-space kinetic models, i.e., Markov s...</td>\n",
       "    </tr>\n",
       "    <tr>\n",
       "      <th>4</th>\n",
       "      <td>3</td>\n",
       "      <td>5</td>\n",
       "      <td>3_model_transition_kinetic_simulation</td>\n",
       "      <td>[model, transition, kinetic, simulation, struc...</td>\n",
       "      <td>[generic coarse-grained (CG) protein model pre...</td>\n",
       "    </tr>\n",
       "    <tr>\n",
       "      <th>5</th>\n",
       "      <td>4</td>\n",
       "      <td>5</td>\n",
       "      <td>4_mtp_pc_electrostatics_method</td>\n",
       "      <td>[mtp, pc, electrostatics, method, electrostati...</td>\n",
       "      <td>[performance multipole (MTP) point charge (PC)...</td>\n",
       "    </tr>\n",
       "    <tr>\n",
       "      <th>6</th>\n",
       "      <td>5</td>\n",
       "      <td>4</td>\n",
       "      <td>5_peptide_umami_peptides_bitter</td>\n",
       "      <td>[peptide, umami, peptides, bitter, pattern, re...</td>\n",
       "      <td>[Interfacial system core fascinating phenomeno...</td>\n",
       "    </tr>\n",
       "    <tr>\n",
       "      <th>7</th>\n",
       "      <td>6</td>\n",
       "      <td>4</td>\n",
       "      <td>6_model_cg_coarsegrained_correlation</td>\n",
       "      <td>[model, cg, coarsegrained, correlation, struct...</td>\n",
       "      <td>[Compared top-down coarse-grained (CG) models,...</td>\n",
       "    </tr>\n",
       "    <tr>\n",
       "      <th>8</th>\n",
       "      <td>7</td>\n",
       "      <td>4</td>\n",
       "      <td>7_ml_learning_space_chemical</td>\n",
       "      <td>[ml, learning, space, chemical, threebody, pol...</td>\n",
       "      <td>[Designing advanced membrane material machine-...</td>\n",
       "    </tr>\n",
       "    <tr>\n",
       "      <th>9</th>\n",
       "      <td>8</td>\n",
       "      <td>3</td>\n",
       "      <td>8_time_ffcf_scale_simulations</td>\n",
       "      <td>[time, ffcf, scale, simulations, infrared, sim...</td>\n",
       "      <td>[solvent dynamic around fluorinated acetonitri...</td>\n",
       "    </tr>\n",
       "    <tr>\n",
       "      <th>10</th>\n",
       "      <td>9</td>\n",
       "      <td>3</td>\n",
       "      <td>9_lipid_membrane_no2_2phenylethanol</td>\n",
       "      <td>[lipid, membrane, no2, 2phenylethanol, activit...</td>\n",
       "      <td>[Nitrated fatty acid (NO2 -FAs) act anti-infla...</td>\n",
       "    </tr>\n",
       "    <tr>\n",
       "      <th>11</th>\n",
       "      <td>10</td>\n",
       "      <td>3</td>\n",
       "      <td>10_backbone_membrane_insertion_solute</td>\n",
       "      <td>[backbone, membrane, insertion, solute, nanopa...</td>\n",
       "      <td>[Understanding interaction nanoparticles (NPs)...</td>\n",
       "    </tr>\n",
       "    <tr>\n",
       "      <th>12</th>\n",
       "      <td>11</td>\n",
       "      <td>3</td>\n",
       "      <td>11_bead_martini_type_mapping</td>\n",
       "      <td>[bead, martini, type, mapping, partitioning, m...</td>\n",
       "      <td>[partitioning small molecule cell membranes-a ...</td>\n",
       "    </tr>\n",
       "  </tbody>\n",
       "</table>\n",
       "</div>"
      ],
      "text/plain": [
       "    Topic  Count                                               Name  \\\n",
       "0      -1      8                 -1_modeling_molecular_cg_structure   \n",
       "1       0      6  0_cardiolipin_permeability_coarsegrained_membrane   \n",
       "2       1      5        1_sequence_dispersion_intermolecular_growth   \n",
       "3       2      5      2_state_reweighting_trajectory_dimensionality   \n",
       "4       3      5              3_model_transition_kinetic_simulation   \n",
       "5       4      5                     4_mtp_pc_electrostatics_method   \n",
       "6       5      4                    5_peptide_umami_peptides_bitter   \n",
       "7       6      4               6_model_cg_coarsegrained_correlation   \n",
       "8       7      4                       7_ml_learning_space_chemical   \n",
       "9       8      3                      8_time_ffcf_scale_simulations   \n",
       "10      9      3                9_lipid_membrane_no2_2phenylethanol   \n",
       "11     10      3              10_backbone_membrane_insertion_solute   \n",
       "12     11      3                       11_bead_martini_type_mapping   \n",
       "\n",
       "                                       Representation  \\\n",
       "0   [modeling, molecular, cg, structure, datadrive...   \n",
       "1   [cardiolipin, permeability, coarsegrained, mem...   \n",
       "2   [sequence, dispersion, intermolecular, growth,...   \n",
       "3   [state, reweighting, trajectory, dimensionalit...   \n",
       "4   [model, transition, kinetic, simulation, struc...   \n",
       "5   [mtp, pc, electrostatics, method, electrostati...   \n",
       "6   [peptide, umami, peptides, bitter, pattern, re...   \n",
       "7   [model, cg, coarsegrained, correlation, struct...   \n",
       "8   [ml, learning, space, chemical, threebody, pol...   \n",
       "9   [time, ffcf, scale, simulations, infrared, sim...   \n",
       "10  [lipid, membrane, no2, 2phenylethanol, activit...   \n",
       "11  [backbone, membrane, insertion, solute, nanopa...   \n",
       "12  [bead, martini, type, mapping, partitioning, m...   \n",
       "\n",
       "                                  Representative_Docs  \n",
       "0   [Syndiotactic polystyrene (sPS) exhibit comple...  \n",
       "1   [Unraveling relation chemical structure small ...  \n",
       "2   [urgent need biomaterials support tissue heali...  \n",
       "3   [Discrete-space kinetic models, i.e., Markov s...  \n",
       "4   [generic coarse-grained (CG) protein model pre...  \n",
       "5   [performance multipole (MTP) point charge (PC)...  \n",
       "6   [Interfacial system core fascinating phenomeno...  \n",
       "7   [Compared top-down coarse-grained (CG) models,...  \n",
       "8   [Designing advanced membrane material machine-...  \n",
       "9   [solvent dynamic around fluorinated acetonitri...  \n",
       "10  [Nitrated fatty acid (NO2 -FAs) act anti-infla...  \n",
       "11  [Understanding interaction nanoparticles (NPs)...  \n",
       "12  [partitioning small molecule cell membranes-a ...  "
      ]
     },
     "execution_count": 11,
     "metadata": {},
     "output_type": "execute_result"
    }
   ],
   "source": [
    "topic_model.get_topic_info()"
   ]
  },
  {
   "cell_type": "code",
   "execution_count": 12,
   "id": "29bbe781-2ac4-4e04-acaf-fd4a8a71fa6a",
   "metadata": {},
   "outputs": [
    {
     "name": "stderr",
     "output_type": "stream",
     "text": [
      "2023-07-04 18:26:51,430 - sentence_transformers.SentenceTransformer - INFO - Load pretrained SentenceTransformer: all-MiniLM-L6-v2\n",
      "2023-07-04 18:26:51,648 - sentence_transformers.SentenceTransformer - INFO - Use pytorch device: cpu\n"
     ]
    },
    {
     "data": {
      "application/vnd.jupyter.widget-view+json": {
       "model_id": "4b3f2860c1b94723b5320d9d4d9d36f3",
       "version_major": 2,
       "version_minor": 0
      },
      "text/plain": [
       "Batches:   0%|          | 0/2 [00:00<?, ?it/s]"
      ]
     },
     "metadata": {},
     "output_type": "display_data"
    }
   ],
   "source": [
    "from sentence_transformers import SentenceTransformer\n",
    "\n",
    "# Create embeddings from the documents\n",
    "sentence_model = SentenceTransformer(\"all-MiniLM-L6-v2\")\n",
    "embeddings = sentence_model.encode(df_clean[\"abstract_lemmatized\"])"
   ]
  },
  {
   "cell_type": "code",
   "execution_count": 16,
   "id": "2c7b57bb-460b-4ef5-9a53-c7aa3b343505",
   "metadata": {
    "tags": []
   },
   "outputs": [],
   "source": [
    "topic_labels = topic_model.generate_topic_labels(\n",
    "    nr_words=3,\n",
    "    topic_prefix=False,\n",
    "    word_length=15,\n",
    "    separator=\" | \"\n",
    ")\n",
    "topic_model.set_topic_labels(topic_labels)"
   ]
  },
  {
   "cell_type": "code",
   "execution_count": 22,
   "id": "0168b4b2-c174-48b6-8094-1cc0aeacf149",
   "metadata": {},
   "outputs": [
    {
     "data": {
      "application/vnd.plotly.v1+json": {
       "config": {
        "plotlyServerURL": "https://plot.ly"
       },
       "data": [
        {
         "hoverinfo": "text",
         "hovertext": [
          "Computational compound screening of biomolecules and soft materials by molecular simulations",
          "Accurate Structure-Based Coarse Graining Leads to Consistent Barrier-Crossing Dynamics",
          "Adversarial reverse mapping of condensed-phase molecular structures: Chemical transferability",
          "Polymorphism of Syndiotactic Polystyrene Crystals from Multiscale Simulations",
          "Adversarial reverse mapping of equilibrated condensed-phase molecular structures",
          "Coarse-grained conformational surface hopping: Methodology and transferability",
          "Research Update: Computational materials discovery in soft matter",
          "Free-energy landscape of polymer-crystal polymorphism",
          null
         ],
         "marker": {
          "color": "#CFD8DC",
          "opacity": 0.5,
          "size": 20
         },
         "mode": "markers+text",
         "name": "other",
         "showlegend": false,
         "type": "scattergl",
         "x": [
          6.72601842880249,
          6.939830303192139,
          7.523580074310303,
          7.9017791748046875,
          7.465962886810303,
          7.160673141479492,
          6.898015975952148,
          7.9656500816345215,
          7.322689056396484
         ],
         "y": [
          1.4669245481491089,
          2.948428153991699,
          1.9264609813690186,
          2.1760549545288086,
          1.825768232345581,
          2.7868804931640625,
          1.4710720777511597,
          2.1319196224212646,
          2.091688632965088
         ]
        },
        {
         "hoverinfo": "text",
         "hovertext": [
          "Condensed-Phase Molecular Representation to Link Structure and Thermodynamics in Molecular Dynamics",
          "Data-driven equation for drug–membrane permeability across drugs and membranes",
          "Drug–Membrane Permeability across Chemical Space",
          "CLiB – a novel cardiolipin-binder isolated <i>via</i> data-driven and <i>in vitro</i> screening",
          "Data-driven discovery of cardiolipin-selective small molecules by computational active learning",
          "Revisiting the Meyer-Overton rule for drug-membrane permeabilities",
          null
         ],
         "marker": {
          "opacity": 0.5,
          "size": 20
         },
         "mode": "markers+text",
         "name": "cardiolipin | permeability | coarsegrained",
         "text": [
          "",
          "",
          "",
          "",
          "",
          "",
          "cardiolipin | permeability | coarsegrained"
         ],
         "textfont": {
          "size": 12
         },
         "type": "scattergl",
         "x": [
          7.25133752822876,
          7.476937770843506,
          7.00853157043457,
          8.254035949707031,
          6.855614185333252,
          7.331900119781494,
          7.363059997558594
         ],
         "y": [
          0.9671530723571777,
          0.0923461839556694,
          0.6051869988441467,
          -0.6576622128486633,
          0.7871967554092407,
          0.06443880498409271,
          0.3097766041755676
         ]
        },
        {
         "hoverinfo": "text",
         "hovertext": [
          "Non-covalent interactions across organic and biological subsets of chemical space: Physics-based potentials parametrized from machine learning",
          "Transferable Atomic Multipole Machine Learning Models for Small Organic Molecules",
          "Sequence‐Optimized Peptide Nanofibers as Growth Stimulators for Regeneration of Peripheral Neurons",
          "Toward transferable interatomic van der Waals interactions without electrons: The role of multipole electrostatics and many-body dispersion",
          "Inverse design of viral infectivity-enhancing peptide fibrils from continuous protein-vector embeddings",
          null
         ],
         "marker": {
          "opacity": 0.5,
          "size": 20
         },
         "mode": "markers+text",
         "name": "sequence | dispersion | intermolecular",
         "text": [
          "",
          "",
          "",
          "",
          "",
          "sequence | dispersion | intermolecular"
         ],
         "textfont": {
          "size": 12
         },
         "type": "scattergl",
         "x": [
          5.27846622467041,
          5.115283966064453,
          8.669459342956543,
          4.896325588226318,
          8.442580223083496,
          6.4804229736328125
         ],
         "y": [
          2.53804612159729,
          2.6793110370635986,
          0.27636492252349854,
          2.9237937927246094,
          1.0104358196258545,
          1.8855903148651123
         ]
        },
        {
         "hoverinfo": "text",
         "hovertext": [
          "Microscopic reweighting for nonequilibrium steady-state dynamics",
          "Automated detection of many-particle solvation states for accurate characterizations of diffusion kinetics",
          "Communication: Consistent interpretation of molecular simulation kinetics using Markov state models biased with external information",
          "Reweighting non-equilibrium steady-state dynamics along collective variables",
          "Interpretable embeddings from molecular simulations using Gaussian mixture variational autoencoders",
          null
         ],
         "marker": {
          "opacity": 0.5,
          "size": 20
         },
         "mode": "markers+text",
         "name": "state | reweighting | trajectory",
         "text": [
          "",
          "",
          "",
          "",
          "",
          "state | reweighting | trajectory"
         ],
         "textfont": {
          "size": 12
         },
         "type": "scattergl",
         "x": [
          9.276876449584961,
          9.010197639465332,
          8.860989570617676,
          9.174639701843262,
          8.8115873336792,
          9.02685832977295
         ],
         "y": [
          1.8936524391174316,
          2.2280657291412354,
          1.9639981985092163,
          1.825814127922058,
          1.7359764575958252,
          1.9295015335083008
         ]
        },
        {
         "hoverinfo": "text",
         "hovertext": [
          "Interplay between Secondary and Tertiary Structure Formation in Protein Folding Cooperativity",
          "The Role of Conformational Entropy in the Determination of Structural-Kinetic Relationships for Helix-Coil Transitions",
          "Generic coarse-grained model for protein folding and aggregation",
          "Coarse-Grained and Atomistic Simulations of the Salt-Stable Cowpea Chlorotic Mottle Virus (SS-CCMV) Subunit 26–49: β-Barrel Stability of the Hexamer and Pentamer Geometries",
          "Structural-kinetic-thermodynamic relationships identified from physics-based molecular simulation models",
          null
         ],
         "marker": {
          "opacity": 0.5,
          "size": 20
         },
         "mode": "markers+text",
         "name": "model | transition | kinetic",
         "text": [
          "",
          "",
          "",
          "",
          "",
          "model | transition | kinetic"
         ],
         "textfont": {
          "size": 12
         },
         "type": "scattergl",
         "x": [
          9.34090518951416,
          9.007649421691895,
          9.30892562866211,
          9.173612594604492,
          8.306344985961914,
          9.027486801147461
         ],
         "y": [
          1.0359364748001099,
          1.3076276779174805,
          0.8669866919517517,
          0.9558797478675842,
          1.773952841758728,
          1.1880767345428467
         ]
        },
        {
         "hoverinfo": "text",
         "hovertext": [
          "Deriving Static Atomic Multipoles from the Electrostatic Potential",
          "Leveraging Symmetries of Static Atomic Multipole Electrostatics in Molecular Dynamics Simulations",
          "Multipolar Force Fields and Their Effects on Solvent Dynamics around Simple Solutes",
          "Scoring Multipole Electrostatics in Condensed-Phase Atomistic Simulations",
          "Impact of Quadrupolar Electrostatics on Atoms Adjacent to the Sigma-Hole in Condensed-Phase Simulations",
          null
         ],
         "marker": {
          "opacity": 0.5,
          "size": 20
         },
         "mode": "markers+text",
         "name": "mtp | pc | electrostatics",
         "text": [
          "",
          "",
          "",
          "",
          "",
          "mtp | pc | electrostatics"
         ],
         "textfont": {
          "size": 12
         },
         "type": "scattergl",
         "x": [
          4.552546501159668,
          4.667629241943359,
          4.885080814361572,
          4.605323791503906,
          5.026064395904541,
          4.747328758239746
         ],
         "y": [
          3.2007601261138916,
          3.273850679397583,
          3.3844947814941406,
          3.214722156524658,
          3.112248182296753,
          3.237215042114258
         ]
        },
        {
         "hoverinfo": "text",
         "hovertext": [
          "More than the sum of its parts: Coarse-grained peptide-lipid interactions from a simple cross-parametrization",
          "Identifying Sequential Residue Patterns in Bitter and Umami Peptides",
          "Folding and insertion thermodynamics of the transmembrane WALP peptide",
          "Engineering Proteins at Interfaces: From Complementary Characterization to Material Surfaces with Designed Functions",
          null
         ],
         "marker": {
          "opacity": 0.5,
          "size": 20
         },
         "mode": "markers+text",
         "name": "peptide | umami | peptides",
         "text": [
          "",
          "",
          "",
          "",
          "peptide | umami | peptides"
         ],
         "textfont": {
          "size": 12
         },
         "type": "scattergl",
         "x": [
          8.776421546936035,
          9.225566864013672,
          8.886764526367188,
          9.062902450561523,
          8.987913131713867
         ],
         "y": [
          -0.15267784893512726,
          0.43083345890045166,
          -0.44912248849868774,
          -0.043827686458826065,
          -0.05369863659143448
         ]
        },
        {
         "hoverinfo": "text",
         "hovertext": [
          "Broad chemical transferability in structure-based coarse-graining",
          "Direct route to reproducing pair distribution functions with coarse-grained models via transformed atomistic cross correlations",
          "Benchmarking coarse-grained models of organic semiconductors via deep backmapping",
          "Dynamical properties across different coarse-grained models for ionic liquids",
          null
         ],
         "marker": {
          "opacity": 0.5,
          "size": 20
         },
         "mode": "markers+text",
         "name": "model | cg | coarsegrained",
         "text": [
          "",
          "",
          "",
          "",
          "model | cg | coarsegrained"
         ],
         "textfont": {
          "size": 12
         },
         "type": "scattergl",
         "x": [
          7.063561916351318,
          7.3659257888793945,
          6.696232795715332,
          7.602153778076172,
          7.181968688964844
         ],
         "y": [
          2.2073943614959717,
          2.4426980018615723,
          2.5430290699005127,
          2.6209895610809326,
          2.4535276889801025
         ]
        },
        {
         "hoverinfo": "text",
         "hovertext": [
          "Controlled exploration of chemical space by machine learning of coarse-grained representations",
          "Designing exceptional gas-separation polymer membranes using machine learning",
          "Kernel-Based Machine Learning for Efficient Simulations of Molecular Liquids",
          "Hydration free energies from kernel-based machine learning: Compound-database bias",
          null
         ],
         "marker": {
          "opacity": 0.5,
          "size": 20
         },
         "mode": "markers+text",
         "name": "ml | learning | space",
         "text": [
          "",
          "",
          "",
          "",
          "ml | learning | space"
         ],
         "textfont": {
          "size": 12
         },
         "type": "scattergl",
         "x": [
          6.505588531494141,
          6.083609104156494,
          5.929987907409668,
          6.063089370727539,
          6.145568370819092
         ],
         "y": [
          1.2341066598892212,
          1.5182048082351685,
          1.8063790798187256,
          1.5983892679214478,
          1.5392699241638184
         ]
        },
        {
         "hoverinfo": "text",
         "hovertext": [
          "Multipolar Force Fields for Amide-I Spectroscopy from Conformational Dynamics of the Alanine Trimer",
          "Solvation of fluoro-acetonitrile in water by 2D-IR spectroscopy: A combined experimental-computational study",
          "Computational Two-Dimensional Infrared Spectroscopy without Maps: <i>N</i>-Methylacetamide in Water",
          null
         ],
         "marker": {
          "opacity": 0.5,
          "size": 20
         },
         "mode": "markers+text",
         "name": "time | ffcf | scale",
         "text": [
          "",
          "",
          "",
          "time | ffcf | scale"
         ],
         "textfont": {
          "size": 12
         },
         "type": "scattergl",
         "x": [
          5.192722320556641,
          5.501465320587158,
          5.266608715057373,
          5.320265293121338
         ],
         "y": [
          3.4195382595062256,
          3.3439767360687256,
          3.5123350620269775,
          3.425283432006836
         ]
        },
        {
         "hoverinfo": "text",
         "hovertext": [
          "Regulating Lipid Composition Rationalizes Acyl Tail Saturation Homeostasis in Ectotherms",
          "Nitrated Fatty Acids Modulate the Physical Properties of Model Membranes and the Structure of Transmembrane Proteins",
          "The Bacteriostatic Activity of 2-Phenylethanol Derivatives Correlates with Membrane Binding Affinity",
          null
         ],
         "marker": {
          "opacity": 0.5,
          "size": 20
         },
         "mode": "markers+text",
         "name": "lipid | membrane | no2",
         "text": [
          "",
          "",
          "",
          "lipid | membrane | no2"
         ],
         "textfont": {
          "size": 12
         },
         "type": "scattergl",
         "x": [
          7.884334564208984,
          8.410122871398926,
          7.91362190246582,
          8.06935977935791
         ],
         "y": [
          -0.3296014368534088,
          -0.5316019654273987,
          -0.36667582392692566,
          -0.4092930853366852
         ]
        },
        {
         "hoverinfo": "text",
         "hovertext": [
          "Inserting Small Molecules across Membrane Mixtures: Insight from the Potential of Mean Force",
          "Protein-Backbone Thermodynamics across the Membrane Interface",
          "Probing Nanoparticle/Membrane Interactions by Combining Amphiphilic Diblock Copolymer Assembly and Plasmonics",
          null
         ],
         "marker": {
          "opacity": 0.5,
          "size": 20
         },
         "mode": "markers+text",
         "name": "backbone | membrane | insertion",
         "text": [
          "",
          "",
          "",
          "backbone | membrane | insertion"
         ],
         "textfont": {
          "size": 12
         },
         "type": "scattergl",
         "x": [
          7.910669803619385,
          8.491750717163086,
          7.820766925811768,
          8.074395179748535
         ],
         "y": [
          -0.2636430263519287,
          -0.15295740962028503,
          0.10571764409542084,
          -0.10362759977579117
         ]
        },
        {
         "hoverinfo": "text",
         "hovertext": [
          "Resolution limit of data-driven coarse-grained models spanning chemical space",
          "<i>In silico</i> screening of drug-membrane thermodynamics reveals linear relations between bulk partitioning and the potential of mean force",
          "Automated Parametrization of the Coarse-Grained Martini Force Field for Small Organic Molecules",
          null
         ],
         "marker": {
          "opacity": 0.5,
          "size": 20
         },
         "mode": "markers+text",
         "name": "bead | martini | type",
         "text": [
          "",
          "",
          "",
          "bead | martini | type"
         ],
         "textfont": {
          "size": 12
         },
         "type": "scattergl",
         "x": [
          7.171674728393555,
          7.381554126739502,
          7.13811731338501,
          7.230448246002197
         ],
         "y": [
          2.055894374847412,
          1.129212737083435,
          1.4087036848068237,
          1.5312703847885132
         ]
        }
       ],
       "layout": {
        "annotations": [
         {
          "showarrow": false,
          "text": "D1",
          "x": 3.869664525985718,
          "y": 1.6414368882775305,
          "yshift": 10
         },
         {
          "showarrow": false,
          "text": "D2",
          "x": 7.305852746963501,
          "xshift": 10,
          "y": 4.039185321331024
         }
        ],
        "height": 750,
        "shapes": [
         {
          "line": {
           "color": "#CFD8DC",
           "width": 2
          },
          "type": "line",
          "x0": 7.305852746963501,
          "x1": 7.305852746963501,
          "y0": -0.7563115447759629,
          "y1": 4.039185321331024
         },
         {
          "line": {
           "color": "#9E9E9E",
           "width": 2
          },
          "type": "line",
          "x0": 3.869664525985718,
          "x1": 10.742040967941284,
          "y0": 1.6414368882775305,
          "y1": 1.6414368882775305
         }
        ],
        "template": {
         "data": {
          "bar": [
           {
            "error_x": {
             "color": "rgb(36,36,36)"
            },
            "error_y": {
             "color": "rgb(36,36,36)"
            },
            "marker": {
             "line": {
              "color": "white",
              "width": 0.5
             },
             "pattern": {
              "fillmode": "overlay",
              "size": 10,
              "solidity": 0.2
             }
            },
            "type": "bar"
           }
          ],
          "barpolar": [
           {
            "marker": {
             "line": {
              "color": "white",
              "width": 0.5
             },
             "pattern": {
              "fillmode": "overlay",
              "size": 10,
              "solidity": 0.2
             }
            },
            "type": "barpolar"
           }
          ],
          "carpet": [
           {
            "aaxis": {
             "endlinecolor": "rgb(36,36,36)",
             "gridcolor": "white",
             "linecolor": "white",
             "minorgridcolor": "white",
             "startlinecolor": "rgb(36,36,36)"
            },
            "baxis": {
             "endlinecolor": "rgb(36,36,36)",
             "gridcolor": "white",
             "linecolor": "white",
             "minorgridcolor": "white",
             "startlinecolor": "rgb(36,36,36)"
            },
            "type": "carpet"
           }
          ],
          "choropleth": [
           {
            "colorbar": {
             "outlinewidth": 1,
             "tickcolor": "rgb(36,36,36)",
             "ticks": "outside"
            },
            "type": "choropleth"
           }
          ],
          "contour": [
           {
            "colorbar": {
             "outlinewidth": 1,
             "tickcolor": "rgb(36,36,36)",
             "ticks": "outside"
            },
            "colorscale": [
             [
              0,
              "#440154"
             ],
             [
              0.1111111111111111,
              "#482878"
             ],
             [
              0.2222222222222222,
              "#3e4989"
             ],
             [
              0.3333333333333333,
              "#31688e"
             ],
             [
              0.4444444444444444,
              "#26828e"
             ],
             [
              0.5555555555555556,
              "#1f9e89"
             ],
             [
              0.6666666666666666,
              "#35b779"
             ],
             [
              0.7777777777777778,
              "#6ece58"
             ],
             [
              0.8888888888888888,
              "#b5de2b"
             ],
             [
              1,
              "#fde725"
             ]
            ],
            "type": "contour"
           }
          ],
          "contourcarpet": [
           {
            "colorbar": {
             "outlinewidth": 1,
             "tickcolor": "rgb(36,36,36)",
             "ticks": "outside"
            },
            "type": "contourcarpet"
           }
          ],
          "heatmap": [
           {
            "colorbar": {
             "outlinewidth": 1,
             "tickcolor": "rgb(36,36,36)",
             "ticks": "outside"
            },
            "colorscale": [
             [
              0,
              "#440154"
             ],
             [
              0.1111111111111111,
              "#482878"
             ],
             [
              0.2222222222222222,
              "#3e4989"
             ],
             [
              0.3333333333333333,
              "#31688e"
             ],
             [
              0.4444444444444444,
              "#26828e"
             ],
             [
              0.5555555555555556,
              "#1f9e89"
             ],
             [
              0.6666666666666666,
              "#35b779"
             ],
             [
              0.7777777777777778,
              "#6ece58"
             ],
             [
              0.8888888888888888,
              "#b5de2b"
             ],
             [
              1,
              "#fde725"
             ]
            ],
            "type": "heatmap"
           }
          ],
          "heatmapgl": [
           {
            "colorbar": {
             "outlinewidth": 1,
             "tickcolor": "rgb(36,36,36)",
             "ticks": "outside"
            },
            "colorscale": [
             [
              0,
              "#440154"
             ],
             [
              0.1111111111111111,
              "#482878"
             ],
             [
              0.2222222222222222,
              "#3e4989"
             ],
             [
              0.3333333333333333,
              "#31688e"
             ],
             [
              0.4444444444444444,
              "#26828e"
             ],
             [
              0.5555555555555556,
              "#1f9e89"
             ],
             [
              0.6666666666666666,
              "#35b779"
             ],
             [
              0.7777777777777778,
              "#6ece58"
             ],
             [
              0.8888888888888888,
              "#b5de2b"
             ],
             [
              1,
              "#fde725"
             ]
            ],
            "type": "heatmapgl"
           }
          ],
          "histogram": [
           {
            "marker": {
             "line": {
              "color": "white",
              "width": 0.6
             }
            },
            "type": "histogram"
           }
          ],
          "histogram2d": [
           {
            "colorbar": {
             "outlinewidth": 1,
             "tickcolor": "rgb(36,36,36)",
             "ticks": "outside"
            },
            "colorscale": [
             [
              0,
              "#440154"
             ],
             [
              0.1111111111111111,
              "#482878"
             ],
             [
              0.2222222222222222,
              "#3e4989"
             ],
             [
              0.3333333333333333,
              "#31688e"
             ],
             [
              0.4444444444444444,
              "#26828e"
             ],
             [
              0.5555555555555556,
              "#1f9e89"
             ],
             [
              0.6666666666666666,
              "#35b779"
             ],
             [
              0.7777777777777778,
              "#6ece58"
             ],
             [
              0.8888888888888888,
              "#b5de2b"
             ],
             [
              1,
              "#fde725"
             ]
            ],
            "type": "histogram2d"
           }
          ],
          "histogram2dcontour": [
           {
            "colorbar": {
             "outlinewidth": 1,
             "tickcolor": "rgb(36,36,36)",
             "ticks": "outside"
            },
            "colorscale": [
             [
              0,
              "#440154"
             ],
             [
              0.1111111111111111,
              "#482878"
             ],
             [
              0.2222222222222222,
              "#3e4989"
             ],
             [
              0.3333333333333333,
              "#31688e"
             ],
             [
              0.4444444444444444,
              "#26828e"
             ],
             [
              0.5555555555555556,
              "#1f9e89"
             ],
             [
              0.6666666666666666,
              "#35b779"
             ],
             [
              0.7777777777777778,
              "#6ece58"
             ],
             [
              0.8888888888888888,
              "#b5de2b"
             ],
             [
              1,
              "#fde725"
             ]
            ],
            "type": "histogram2dcontour"
           }
          ],
          "mesh3d": [
           {
            "colorbar": {
             "outlinewidth": 1,
             "tickcolor": "rgb(36,36,36)",
             "ticks": "outside"
            },
            "type": "mesh3d"
           }
          ],
          "parcoords": [
           {
            "line": {
             "colorbar": {
              "outlinewidth": 1,
              "tickcolor": "rgb(36,36,36)",
              "ticks": "outside"
             }
            },
            "type": "parcoords"
           }
          ],
          "pie": [
           {
            "automargin": true,
            "type": "pie"
           }
          ],
          "scatter": [
           {
            "fillpattern": {
             "fillmode": "overlay",
             "size": 10,
             "solidity": 0.2
            },
            "type": "scatter"
           }
          ],
          "scatter3d": [
           {
            "line": {
             "colorbar": {
              "outlinewidth": 1,
              "tickcolor": "rgb(36,36,36)",
              "ticks": "outside"
             }
            },
            "marker": {
             "colorbar": {
              "outlinewidth": 1,
              "tickcolor": "rgb(36,36,36)",
              "ticks": "outside"
             }
            },
            "type": "scatter3d"
           }
          ],
          "scattercarpet": [
           {
            "marker": {
             "colorbar": {
              "outlinewidth": 1,
              "tickcolor": "rgb(36,36,36)",
              "ticks": "outside"
             }
            },
            "type": "scattercarpet"
           }
          ],
          "scattergeo": [
           {
            "marker": {
             "colorbar": {
              "outlinewidth": 1,
              "tickcolor": "rgb(36,36,36)",
              "ticks": "outside"
             }
            },
            "type": "scattergeo"
           }
          ],
          "scattergl": [
           {
            "marker": {
             "colorbar": {
              "outlinewidth": 1,
              "tickcolor": "rgb(36,36,36)",
              "ticks": "outside"
             }
            },
            "type": "scattergl"
           }
          ],
          "scattermapbox": [
           {
            "marker": {
             "colorbar": {
              "outlinewidth": 1,
              "tickcolor": "rgb(36,36,36)",
              "ticks": "outside"
             }
            },
            "type": "scattermapbox"
           }
          ],
          "scatterpolar": [
           {
            "marker": {
             "colorbar": {
              "outlinewidth": 1,
              "tickcolor": "rgb(36,36,36)",
              "ticks": "outside"
             }
            },
            "type": "scatterpolar"
           }
          ],
          "scatterpolargl": [
           {
            "marker": {
             "colorbar": {
              "outlinewidth": 1,
              "tickcolor": "rgb(36,36,36)",
              "ticks": "outside"
             }
            },
            "type": "scatterpolargl"
           }
          ],
          "scatterternary": [
           {
            "marker": {
             "colorbar": {
              "outlinewidth": 1,
              "tickcolor": "rgb(36,36,36)",
              "ticks": "outside"
             }
            },
            "type": "scatterternary"
           }
          ],
          "surface": [
           {
            "colorbar": {
             "outlinewidth": 1,
             "tickcolor": "rgb(36,36,36)",
             "ticks": "outside"
            },
            "colorscale": [
             [
              0,
              "#440154"
             ],
             [
              0.1111111111111111,
              "#482878"
             ],
             [
              0.2222222222222222,
              "#3e4989"
             ],
             [
              0.3333333333333333,
              "#31688e"
             ],
             [
              0.4444444444444444,
              "#26828e"
             ],
             [
              0.5555555555555556,
              "#1f9e89"
             ],
             [
              0.6666666666666666,
              "#35b779"
             ],
             [
              0.7777777777777778,
              "#6ece58"
             ],
             [
              0.8888888888888888,
              "#b5de2b"
             ],
             [
              1,
              "#fde725"
             ]
            ],
            "type": "surface"
           }
          ],
          "table": [
           {
            "cells": {
             "fill": {
              "color": "rgb(237,237,237)"
             },
             "line": {
              "color": "white"
             }
            },
            "header": {
             "fill": {
              "color": "rgb(217,217,217)"
             },
             "line": {
              "color": "white"
             }
            },
            "type": "table"
           }
          ]
         },
         "layout": {
          "annotationdefaults": {
           "arrowhead": 0,
           "arrowwidth": 1
          },
          "autotypenumbers": "strict",
          "coloraxis": {
           "colorbar": {
            "outlinewidth": 1,
            "tickcolor": "rgb(36,36,36)",
            "ticks": "outside"
           }
          },
          "colorscale": {
           "diverging": [
            [
             0,
             "rgb(103,0,31)"
            ],
            [
             0.1,
             "rgb(178,24,43)"
            ],
            [
             0.2,
             "rgb(214,96,77)"
            ],
            [
             0.3,
             "rgb(244,165,130)"
            ],
            [
             0.4,
             "rgb(253,219,199)"
            ],
            [
             0.5,
             "rgb(247,247,247)"
            ],
            [
             0.6,
             "rgb(209,229,240)"
            ],
            [
             0.7,
             "rgb(146,197,222)"
            ],
            [
             0.8,
             "rgb(67,147,195)"
            ],
            [
             0.9,
             "rgb(33,102,172)"
            ],
            [
             1,
             "rgb(5,48,97)"
            ]
           ],
           "sequential": [
            [
             0,
             "#440154"
            ],
            [
             0.1111111111111111,
             "#482878"
            ],
            [
             0.2222222222222222,
             "#3e4989"
            ],
            [
             0.3333333333333333,
             "#31688e"
            ],
            [
             0.4444444444444444,
             "#26828e"
            ],
            [
             0.5555555555555556,
             "#1f9e89"
            ],
            [
             0.6666666666666666,
             "#35b779"
            ],
            [
             0.7777777777777778,
             "#6ece58"
            ],
            [
             0.8888888888888888,
             "#b5de2b"
            ],
            [
             1,
             "#fde725"
            ]
           ],
           "sequentialminus": [
            [
             0,
             "#440154"
            ],
            [
             0.1111111111111111,
             "#482878"
            ],
            [
             0.2222222222222222,
             "#3e4989"
            ],
            [
             0.3333333333333333,
             "#31688e"
            ],
            [
             0.4444444444444444,
             "#26828e"
            ],
            [
             0.5555555555555556,
             "#1f9e89"
            ],
            [
             0.6666666666666666,
             "#35b779"
            ],
            [
             0.7777777777777778,
             "#6ece58"
            ],
            [
             0.8888888888888888,
             "#b5de2b"
            ],
            [
             1,
             "#fde725"
            ]
           ]
          },
          "colorway": [
           "#1F77B4",
           "#FF7F0E",
           "#2CA02C",
           "#D62728",
           "#9467BD",
           "#8C564B",
           "#E377C2",
           "#7F7F7F",
           "#BCBD22",
           "#17BECF"
          ],
          "font": {
           "color": "rgb(36,36,36)"
          },
          "geo": {
           "bgcolor": "white",
           "lakecolor": "white",
           "landcolor": "white",
           "showlakes": true,
           "showland": true,
           "subunitcolor": "white"
          },
          "hoverlabel": {
           "align": "left"
          },
          "hovermode": "closest",
          "mapbox": {
           "style": "light"
          },
          "paper_bgcolor": "white",
          "plot_bgcolor": "white",
          "polar": {
           "angularaxis": {
            "gridcolor": "rgb(232,232,232)",
            "linecolor": "rgb(36,36,36)",
            "showgrid": false,
            "showline": true,
            "ticks": "outside"
           },
           "bgcolor": "white",
           "radialaxis": {
            "gridcolor": "rgb(232,232,232)",
            "linecolor": "rgb(36,36,36)",
            "showgrid": false,
            "showline": true,
            "ticks": "outside"
           }
          },
          "scene": {
           "xaxis": {
            "backgroundcolor": "white",
            "gridcolor": "rgb(232,232,232)",
            "gridwidth": 2,
            "linecolor": "rgb(36,36,36)",
            "showbackground": true,
            "showgrid": false,
            "showline": true,
            "ticks": "outside",
            "zeroline": false,
            "zerolinecolor": "rgb(36,36,36)"
           },
           "yaxis": {
            "backgroundcolor": "white",
            "gridcolor": "rgb(232,232,232)",
            "gridwidth": 2,
            "linecolor": "rgb(36,36,36)",
            "showbackground": true,
            "showgrid": false,
            "showline": true,
            "ticks": "outside",
            "zeroline": false,
            "zerolinecolor": "rgb(36,36,36)"
           },
           "zaxis": {
            "backgroundcolor": "white",
            "gridcolor": "rgb(232,232,232)",
            "gridwidth": 2,
            "linecolor": "rgb(36,36,36)",
            "showbackground": true,
            "showgrid": false,
            "showline": true,
            "ticks": "outside",
            "zeroline": false,
            "zerolinecolor": "rgb(36,36,36)"
           }
          },
          "shapedefaults": {
           "fillcolor": "black",
           "line": {
            "width": 0
           },
           "opacity": 0.3
          },
          "ternary": {
           "aaxis": {
            "gridcolor": "rgb(232,232,232)",
            "linecolor": "rgb(36,36,36)",
            "showgrid": false,
            "showline": true,
            "ticks": "outside"
           },
           "baxis": {
            "gridcolor": "rgb(232,232,232)",
            "linecolor": "rgb(36,36,36)",
            "showgrid": false,
            "showline": true,
            "ticks": "outside"
           },
           "bgcolor": "white",
           "caxis": {
            "gridcolor": "rgb(232,232,232)",
            "linecolor": "rgb(36,36,36)",
            "showgrid": false,
            "showline": true,
            "ticks": "outside"
           }
          },
          "title": {
           "x": 0.05
          },
          "xaxis": {
           "automargin": true,
           "gridcolor": "rgb(232,232,232)",
           "linecolor": "rgb(36,36,36)",
           "showgrid": false,
           "showline": true,
           "ticks": "outside",
           "title": {
            "standoff": 15
           },
           "zeroline": false,
           "zerolinecolor": "rgb(36,36,36)"
          },
          "yaxis": {
           "automargin": true,
           "gridcolor": "rgb(232,232,232)",
           "linecolor": "rgb(36,36,36)",
           "showgrid": false,
           "showline": true,
           "ticks": "outside",
           "title": {
            "standoff": 15
           },
           "zeroline": false,
           "zerolinecolor": "rgb(36,36,36)"
          }
         }
        },
        "title": {
         "font": {
          "color": "Black",
          "size": 22
         },
         "text": "Literature graph",
         "x": 0.5,
         "xanchor": "center",
         "yanchor": "top"
        },
        "width": 1200,
        "xaxis": {
         "visible": false
        },
        "yaxis": {
         "visible": false
        }
       }
      },
      "text/html": [
       "<div>                            <div id=\"e6af0eb9-0d6a-4411-b67a-a57ac376ef14\" class=\"plotly-graph-div\" style=\"height:750px; width:1200px;\"></div>            <script type=\"text/javascript\">                require([\"plotly\"], function(Plotly) {                    window.PLOTLYENV=window.PLOTLYENV || {};                                    if (document.getElementById(\"e6af0eb9-0d6a-4411-b67a-a57ac376ef14\")) {                    Plotly.newPlot(                        \"e6af0eb9-0d6a-4411-b67a-a57ac376ef14\",                        [{\"hoverinfo\":\"text\",\"hovertext\":[\"Computational compound screening of biomolecules and soft materials by molecular simulations\",\"Accurate Structure-Based Coarse Graining Leads to Consistent Barrier-Crossing Dynamics\",\"Adversarial reverse mapping of condensed-phase molecular structures: Chemical transferability\",\"Polymorphism of Syndiotactic Polystyrene Crystals from Multiscale Simulations\",\"Adversarial reverse mapping of equilibrated condensed-phase molecular structures\",\"Coarse-grained conformational surface hopping: Methodology and transferability\",\"Research Update: Computational materials discovery in soft matter\",\"Free-energy landscape of polymer-crystal polymorphism\",null],\"marker\":{\"color\":\"#CFD8DC\",\"opacity\":0.5,\"size\":20},\"mode\":\"markers+text\",\"name\":\"other\",\"showlegend\":false,\"x\":[6.72601842880249,6.939830303192139,7.523580074310303,7.9017791748046875,7.465962886810303,7.160673141479492,6.898015975952148,7.9656500816345215,7.322689056396484],\"y\":[1.4669245481491089,2.948428153991699,1.9264609813690186,2.1760549545288086,1.825768232345581,2.7868804931640625,1.4710720777511597,2.1319196224212646,2.091688632965088],\"type\":\"scattergl\"},{\"hoverinfo\":\"text\",\"hovertext\":[\"Condensed-Phase Molecular Representation to Link Structure and Thermodynamics in Molecular Dynamics\",\"Data-driven equation for drug\\u2013membrane permeability across drugs and membranes\",\"Drug\\u2013Membrane Permeability across Chemical Space\",\"CLiB \\u2013 a novel cardiolipin-binder isolated \\u003ci\\u003evia\\u003c\\u002fi\\u003e data-driven and \\u003ci\\u003ein vitro\\u003c\\u002fi\\u003e screening\",\"Data-driven discovery of cardiolipin-selective small molecules by computational active learning\",\"Revisiting the Meyer-Overton rule for drug-membrane permeabilities\",null],\"marker\":{\"opacity\":0.5,\"size\":20},\"mode\":\"markers+text\",\"name\":\"cardiolipin | permeability | coarsegrained\",\"text\":[\"\",\"\",\"\",\"\",\"\",\"\",\"cardiolipin | permeability | coarsegrained\"],\"textfont\":{\"size\":12},\"x\":[7.25133752822876,7.476937770843506,7.00853157043457,8.254035949707031,6.855614185333252,7.331900119781494,7.363059997558594],\"y\":[0.9671530723571777,0.0923461839556694,0.6051869988441467,-0.6576622128486633,0.7871967554092407,0.06443880498409271,0.3097766041755676],\"type\":\"scattergl\"},{\"hoverinfo\":\"text\",\"hovertext\":[\"Non-covalent interactions across organic and biological subsets of chemical space: Physics-based potentials parametrized from machine learning\",\"Transferable Atomic Multipole Machine Learning Models for Small Organic Molecules\",\"Sequence\\u2010Optimized Peptide Nanofibers as Growth Stimulators for Regeneration of Peripheral Neurons\",\"Toward transferable interatomic van der Waals interactions without electrons: The role of multipole electrostatics and many-body dispersion\",\"Inverse design of viral infectivity-enhancing peptide fibrils from continuous protein-vector embeddings\",null],\"marker\":{\"opacity\":0.5,\"size\":20},\"mode\":\"markers+text\",\"name\":\"sequence | dispersion | intermolecular\",\"text\":[\"\",\"\",\"\",\"\",\"\",\"sequence | dispersion | intermolecular\"],\"textfont\":{\"size\":12},\"x\":[5.27846622467041,5.115283966064453,8.669459342956543,4.896325588226318,8.442580223083496,6.4804229736328125],\"y\":[2.53804612159729,2.6793110370635986,0.27636492252349854,2.9237937927246094,1.0104358196258545,1.8855903148651123],\"type\":\"scattergl\"},{\"hoverinfo\":\"text\",\"hovertext\":[\"Microscopic reweighting for nonequilibrium steady-state dynamics\",\"Automated detection of many-particle solvation states for accurate characterizations of diffusion kinetics\",\"Communication: Consistent interpretation of molecular simulation kinetics using Markov state models biased with external information\",\"Reweighting non-equilibrium steady-state dynamics along collective variables\",\"Interpretable embeddings from molecular simulations using Gaussian mixture variational autoencoders\",null],\"marker\":{\"opacity\":0.5,\"size\":20},\"mode\":\"markers+text\",\"name\":\"state | reweighting | trajectory\",\"text\":[\"\",\"\",\"\",\"\",\"\",\"state | reweighting | trajectory\"],\"textfont\":{\"size\":12},\"x\":[9.276876449584961,9.010197639465332,8.860989570617676,9.174639701843262,8.8115873336792,9.02685832977295],\"y\":[1.8936524391174316,2.2280657291412354,1.9639981985092163,1.825814127922058,1.7359764575958252,1.9295015335083008],\"type\":\"scattergl\"},{\"hoverinfo\":\"text\",\"hovertext\":[\"Interplay between Secondary and Tertiary Structure Formation in Protein Folding Cooperativity\",\"The Role of Conformational Entropy in the Determination of Structural-Kinetic Relationships for Helix-Coil Transitions\",\"Generic coarse-grained model for protein folding and aggregation\",\"Coarse-Grained and Atomistic Simulations of the Salt-Stable Cowpea Chlorotic Mottle Virus (SS-CCMV) Subunit 26\\u201349: \\u03b2-Barrel Stability of the Hexamer and Pentamer Geometries\",\"Structural-kinetic-thermodynamic relationships identified from physics-based molecular simulation models\",null],\"marker\":{\"opacity\":0.5,\"size\":20},\"mode\":\"markers+text\",\"name\":\"model | transition | kinetic\",\"text\":[\"\",\"\",\"\",\"\",\"\",\"model | transition | kinetic\"],\"textfont\":{\"size\":12},\"x\":[9.34090518951416,9.007649421691895,9.30892562866211,9.173612594604492,8.306344985961914,9.027486801147461],\"y\":[1.0359364748001099,1.3076276779174805,0.8669866919517517,0.9558797478675842,1.773952841758728,1.1880767345428467],\"type\":\"scattergl\"},{\"hoverinfo\":\"text\",\"hovertext\":[\"Deriving Static Atomic Multipoles from the Electrostatic Potential\",\"Leveraging Symmetries of Static Atomic Multipole Electrostatics in Molecular Dynamics Simulations\",\"Multipolar Force Fields and Their Effects on Solvent Dynamics around Simple Solutes\",\"Scoring Multipole Electrostatics in Condensed-Phase Atomistic Simulations\",\"Impact of Quadrupolar Electrostatics on Atoms Adjacent to the Sigma-Hole in Condensed-Phase Simulations\",null],\"marker\":{\"opacity\":0.5,\"size\":20},\"mode\":\"markers+text\",\"name\":\"mtp | pc | electrostatics\",\"text\":[\"\",\"\",\"\",\"\",\"\",\"mtp | pc | electrostatics\"],\"textfont\":{\"size\":12},\"x\":[4.552546501159668,4.667629241943359,4.885080814361572,4.605323791503906,5.026064395904541,4.747328758239746],\"y\":[3.2007601261138916,3.273850679397583,3.3844947814941406,3.214722156524658,3.112248182296753,3.237215042114258],\"type\":\"scattergl\"},{\"hoverinfo\":\"text\",\"hovertext\":[\"More than the sum of its parts: Coarse-grained peptide-lipid interactions from a simple cross-parametrization\",\"Identifying Sequential Residue Patterns in Bitter and Umami Peptides\",\"Folding and insertion thermodynamics of the transmembrane WALP peptide\",\"Engineering Proteins at Interfaces: From Complementary Characterization to Material Surfaces with Designed Functions\",null],\"marker\":{\"opacity\":0.5,\"size\":20},\"mode\":\"markers+text\",\"name\":\"peptide | umami | peptides\",\"text\":[\"\",\"\",\"\",\"\",\"peptide | umami | peptides\"],\"textfont\":{\"size\":12},\"x\":[8.776421546936035,9.225566864013672,8.886764526367188,9.062902450561523,8.987913131713867],\"y\":[-0.15267784893512726,0.43083345890045166,-0.44912248849868774,-0.043827686458826065,-0.05369863659143448],\"type\":\"scattergl\"},{\"hoverinfo\":\"text\",\"hovertext\":[\"Broad chemical transferability in structure-based coarse-graining\",\"Direct route to reproducing pair distribution functions with coarse-grained models via transformed atomistic cross correlations\",\"Benchmarking coarse-grained models of organic semiconductors via deep backmapping\",\"Dynamical properties across different coarse-grained models for ionic liquids\",null],\"marker\":{\"opacity\":0.5,\"size\":20},\"mode\":\"markers+text\",\"name\":\"model | cg | coarsegrained\",\"text\":[\"\",\"\",\"\",\"\",\"model | cg | coarsegrained\"],\"textfont\":{\"size\":12},\"x\":[7.063561916351318,7.3659257888793945,6.696232795715332,7.602153778076172,7.181968688964844],\"y\":[2.2073943614959717,2.4426980018615723,2.5430290699005127,2.6209895610809326,2.4535276889801025],\"type\":\"scattergl\"},{\"hoverinfo\":\"text\",\"hovertext\":[\"Controlled exploration of chemical space by machine learning of coarse-grained representations\",\"Designing exceptional gas-separation polymer membranes using machine learning\",\"Kernel-Based Machine Learning for Efficient Simulations of Molecular Liquids\",\"Hydration free energies from kernel-based machine learning: Compound-database bias\",null],\"marker\":{\"opacity\":0.5,\"size\":20},\"mode\":\"markers+text\",\"name\":\"ml | learning | space\",\"text\":[\"\",\"\",\"\",\"\",\"ml | learning | space\"],\"textfont\":{\"size\":12},\"x\":[6.505588531494141,6.083609104156494,5.929987907409668,6.063089370727539,6.145568370819092],\"y\":[1.2341066598892212,1.5182048082351685,1.8063790798187256,1.5983892679214478,1.5392699241638184],\"type\":\"scattergl\"},{\"hoverinfo\":\"text\",\"hovertext\":[\"Multipolar Force Fields for Amide-I Spectroscopy from Conformational Dynamics of the Alanine Trimer\",\"Solvation of fluoro-acetonitrile in water by 2D-IR spectroscopy: A combined experimental-computational study\",\"Computational Two-Dimensional Infrared Spectroscopy without Maps: \\u003ci\\u003eN\\u003c\\u002fi\\u003e-Methylacetamide in Water\",null],\"marker\":{\"opacity\":0.5,\"size\":20},\"mode\":\"markers+text\",\"name\":\"time | ffcf | scale\",\"text\":[\"\",\"\",\"\",\"time | ffcf | scale\"],\"textfont\":{\"size\":12},\"x\":[5.192722320556641,5.501465320587158,5.266608715057373,5.320265293121338],\"y\":[3.4195382595062256,3.3439767360687256,3.5123350620269775,3.425283432006836],\"type\":\"scattergl\"},{\"hoverinfo\":\"text\",\"hovertext\":[\"Regulating Lipid Composition Rationalizes Acyl Tail Saturation Homeostasis in Ectotherms\",\"Nitrated Fatty Acids Modulate the Physical Properties of Model Membranes and the Structure of Transmembrane Proteins\",\"The Bacteriostatic Activity of 2-Phenylethanol Derivatives Correlates with Membrane Binding Affinity\",null],\"marker\":{\"opacity\":0.5,\"size\":20},\"mode\":\"markers+text\",\"name\":\"lipid | membrane | no2\",\"text\":[\"\",\"\",\"\",\"lipid | membrane | no2\"],\"textfont\":{\"size\":12},\"x\":[7.884334564208984,8.410122871398926,7.91362190246582,8.06935977935791],\"y\":[-0.3296014368534088,-0.5316019654273987,-0.36667582392692566,-0.4092930853366852],\"type\":\"scattergl\"},{\"hoverinfo\":\"text\",\"hovertext\":[\"Inserting Small Molecules across Membrane Mixtures: Insight from the Potential of Mean Force\",\"Protein-Backbone Thermodynamics across the Membrane Interface\",\"Probing Nanoparticle\\u002fMembrane Interactions by Combining Amphiphilic Diblock Copolymer Assembly and Plasmonics\",null],\"marker\":{\"opacity\":0.5,\"size\":20},\"mode\":\"markers+text\",\"name\":\"backbone | membrane | insertion\",\"text\":[\"\",\"\",\"\",\"backbone | membrane | insertion\"],\"textfont\":{\"size\":12},\"x\":[7.910669803619385,8.491750717163086,7.820766925811768,8.074395179748535],\"y\":[-0.2636430263519287,-0.15295740962028503,0.10571764409542084,-0.10362759977579117],\"type\":\"scattergl\"},{\"hoverinfo\":\"text\",\"hovertext\":[\"Resolution limit of data-driven coarse-grained models spanning chemical space\",\"\\u003ci\\u003eIn silico\\u003c\\u002fi\\u003e screening of drug-membrane thermodynamics reveals linear relations between bulk partitioning and the potential of mean force\",\"Automated Parametrization of the Coarse-Grained Martini Force Field for Small Organic Molecules\",null],\"marker\":{\"opacity\":0.5,\"size\":20},\"mode\":\"markers+text\",\"name\":\"bead | martini | type\",\"text\":[\"\",\"\",\"\",\"bead | martini | type\"],\"textfont\":{\"size\":12},\"x\":[7.171674728393555,7.381554126739502,7.13811731338501,7.230448246002197],\"y\":[2.055894374847412,1.129212737083435,1.4087036848068237,1.5312703847885132],\"type\":\"scattergl\"}],                        {\"template\":{\"data\":{\"barpolar\":[{\"marker\":{\"line\":{\"color\":\"white\",\"width\":0.5},\"pattern\":{\"fillmode\":\"overlay\",\"size\":10,\"solidity\":0.2}},\"type\":\"barpolar\"}],\"bar\":[{\"error_x\":{\"color\":\"rgb(36,36,36)\"},\"error_y\":{\"color\":\"rgb(36,36,36)\"},\"marker\":{\"line\":{\"color\":\"white\",\"width\":0.5},\"pattern\":{\"fillmode\":\"overlay\",\"size\":10,\"solidity\":0.2}},\"type\":\"bar\"}],\"carpet\":[{\"aaxis\":{\"endlinecolor\":\"rgb(36,36,36)\",\"gridcolor\":\"white\",\"linecolor\":\"white\",\"minorgridcolor\":\"white\",\"startlinecolor\":\"rgb(36,36,36)\"},\"baxis\":{\"endlinecolor\":\"rgb(36,36,36)\",\"gridcolor\":\"white\",\"linecolor\":\"white\",\"minorgridcolor\":\"white\",\"startlinecolor\":\"rgb(36,36,36)\"},\"type\":\"carpet\"}],\"choropleth\":[{\"colorbar\":{\"outlinewidth\":1,\"tickcolor\":\"rgb(36,36,36)\",\"ticks\":\"outside\"},\"type\":\"choropleth\"}],\"contourcarpet\":[{\"colorbar\":{\"outlinewidth\":1,\"tickcolor\":\"rgb(36,36,36)\",\"ticks\":\"outside\"},\"type\":\"contourcarpet\"}],\"contour\":[{\"colorbar\":{\"outlinewidth\":1,\"tickcolor\":\"rgb(36,36,36)\",\"ticks\":\"outside\"},\"colorscale\":[[0.0,\"#440154\"],[0.1111111111111111,\"#482878\"],[0.2222222222222222,\"#3e4989\"],[0.3333333333333333,\"#31688e\"],[0.4444444444444444,\"#26828e\"],[0.5555555555555556,\"#1f9e89\"],[0.6666666666666666,\"#35b779\"],[0.7777777777777778,\"#6ece58\"],[0.8888888888888888,\"#b5de2b\"],[1.0,\"#fde725\"]],\"type\":\"contour\"}],\"heatmapgl\":[{\"colorbar\":{\"outlinewidth\":1,\"tickcolor\":\"rgb(36,36,36)\",\"ticks\":\"outside\"},\"colorscale\":[[0.0,\"#440154\"],[0.1111111111111111,\"#482878\"],[0.2222222222222222,\"#3e4989\"],[0.3333333333333333,\"#31688e\"],[0.4444444444444444,\"#26828e\"],[0.5555555555555556,\"#1f9e89\"],[0.6666666666666666,\"#35b779\"],[0.7777777777777778,\"#6ece58\"],[0.8888888888888888,\"#b5de2b\"],[1.0,\"#fde725\"]],\"type\":\"heatmapgl\"}],\"heatmap\":[{\"colorbar\":{\"outlinewidth\":1,\"tickcolor\":\"rgb(36,36,36)\",\"ticks\":\"outside\"},\"colorscale\":[[0.0,\"#440154\"],[0.1111111111111111,\"#482878\"],[0.2222222222222222,\"#3e4989\"],[0.3333333333333333,\"#31688e\"],[0.4444444444444444,\"#26828e\"],[0.5555555555555556,\"#1f9e89\"],[0.6666666666666666,\"#35b779\"],[0.7777777777777778,\"#6ece58\"],[0.8888888888888888,\"#b5de2b\"],[1.0,\"#fde725\"]],\"type\":\"heatmap\"}],\"histogram2dcontour\":[{\"colorbar\":{\"outlinewidth\":1,\"tickcolor\":\"rgb(36,36,36)\",\"ticks\":\"outside\"},\"colorscale\":[[0.0,\"#440154\"],[0.1111111111111111,\"#482878\"],[0.2222222222222222,\"#3e4989\"],[0.3333333333333333,\"#31688e\"],[0.4444444444444444,\"#26828e\"],[0.5555555555555556,\"#1f9e89\"],[0.6666666666666666,\"#35b779\"],[0.7777777777777778,\"#6ece58\"],[0.8888888888888888,\"#b5de2b\"],[1.0,\"#fde725\"]],\"type\":\"histogram2dcontour\"}],\"histogram2d\":[{\"colorbar\":{\"outlinewidth\":1,\"tickcolor\":\"rgb(36,36,36)\",\"ticks\":\"outside\"},\"colorscale\":[[0.0,\"#440154\"],[0.1111111111111111,\"#482878\"],[0.2222222222222222,\"#3e4989\"],[0.3333333333333333,\"#31688e\"],[0.4444444444444444,\"#26828e\"],[0.5555555555555556,\"#1f9e89\"],[0.6666666666666666,\"#35b779\"],[0.7777777777777778,\"#6ece58\"],[0.8888888888888888,\"#b5de2b\"],[1.0,\"#fde725\"]],\"type\":\"histogram2d\"}],\"histogram\":[{\"marker\":{\"line\":{\"color\":\"white\",\"width\":0.6}},\"type\":\"histogram\"}],\"mesh3d\":[{\"colorbar\":{\"outlinewidth\":1,\"tickcolor\":\"rgb(36,36,36)\",\"ticks\":\"outside\"},\"type\":\"mesh3d\"}],\"parcoords\":[{\"line\":{\"colorbar\":{\"outlinewidth\":1,\"tickcolor\":\"rgb(36,36,36)\",\"ticks\":\"outside\"}},\"type\":\"parcoords\"}],\"pie\":[{\"automargin\":true,\"type\":\"pie\"}],\"scatter3d\":[{\"line\":{\"colorbar\":{\"outlinewidth\":1,\"tickcolor\":\"rgb(36,36,36)\",\"ticks\":\"outside\"}},\"marker\":{\"colorbar\":{\"outlinewidth\":1,\"tickcolor\":\"rgb(36,36,36)\",\"ticks\":\"outside\"}},\"type\":\"scatter3d\"}],\"scattercarpet\":[{\"marker\":{\"colorbar\":{\"outlinewidth\":1,\"tickcolor\":\"rgb(36,36,36)\",\"ticks\":\"outside\"}},\"type\":\"scattercarpet\"}],\"scattergeo\":[{\"marker\":{\"colorbar\":{\"outlinewidth\":1,\"tickcolor\":\"rgb(36,36,36)\",\"ticks\":\"outside\"}},\"type\":\"scattergeo\"}],\"scattergl\":[{\"marker\":{\"colorbar\":{\"outlinewidth\":1,\"tickcolor\":\"rgb(36,36,36)\",\"ticks\":\"outside\"}},\"type\":\"scattergl\"}],\"scattermapbox\":[{\"marker\":{\"colorbar\":{\"outlinewidth\":1,\"tickcolor\":\"rgb(36,36,36)\",\"ticks\":\"outside\"}},\"type\":\"scattermapbox\"}],\"scatterpolargl\":[{\"marker\":{\"colorbar\":{\"outlinewidth\":1,\"tickcolor\":\"rgb(36,36,36)\",\"ticks\":\"outside\"}},\"type\":\"scatterpolargl\"}],\"scatterpolar\":[{\"marker\":{\"colorbar\":{\"outlinewidth\":1,\"tickcolor\":\"rgb(36,36,36)\",\"ticks\":\"outside\"}},\"type\":\"scatterpolar\"}],\"scatter\":[{\"fillpattern\":{\"fillmode\":\"overlay\",\"size\":10,\"solidity\":0.2},\"type\":\"scatter\"}],\"scatterternary\":[{\"marker\":{\"colorbar\":{\"outlinewidth\":1,\"tickcolor\":\"rgb(36,36,36)\",\"ticks\":\"outside\"}},\"type\":\"scatterternary\"}],\"surface\":[{\"colorbar\":{\"outlinewidth\":1,\"tickcolor\":\"rgb(36,36,36)\",\"ticks\":\"outside\"},\"colorscale\":[[0.0,\"#440154\"],[0.1111111111111111,\"#482878\"],[0.2222222222222222,\"#3e4989\"],[0.3333333333333333,\"#31688e\"],[0.4444444444444444,\"#26828e\"],[0.5555555555555556,\"#1f9e89\"],[0.6666666666666666,\"#35b779\"],[0.7777777777777778,\"#6ece58\"],[0.8888888888888888,\"#b5de2b\"],[1.0,\"#fde725\"]],\"type\":\"surface\"}],\"table\":[{\"cells\":{\"fill\":{\"color\":\"rgb(237,237,237)\"},\"line\":{\"color\":\"white\"}},\"header\":{\"fill\":{\"color\":\"rgb(217,217,217)\"},\"line\":{\"color\":\"white\"}},\"type\":\"table\"}]},\"layout\":{\"annotationdefaults\":{\"arrowhead\":0,\"arrowwidth\":1},\"autotypenumbers\":\"strict\",\"coloraxis\":{\"colorbar\":{\"outlinewidth\":1,\"tickcolor\":\"rgb(36,36,36)\",\"ticks\":\"outside\"}},\"colorscale\":{\"diverging\":[[0.0,\"rgb(103,0,31)\"],[0.1,\"rgb(178,24,43)\"],[0.2,\"rgb(214,96,77)\"],[0.3,\"rgb(244,165,130)\"],[0.4,\"rgb(253,219,199)\"],[0.5,\"rgb(247,247,247)\"],[0.6,\"rgb(209,229,240)\"],[0.7,\"rgb(146,197,222)\"],[0.8,\"rgb(67,147,195)\"],[0.9,\"rgb(33,102,172)\"],[1.0,\"rgb(5,48,97)\"]],\"sequential\":[[0.0,\"#440154\"],[0.1111111111111111,\"#482878\"],[0.2222222222222222,\"#3e4989\"],[0.3333333333333333,\"#31688e\"],[0.4444444444444444,\"#26828e\"],[0.5555555555555556,\"#1f9e89\"],[0.6666666666666666,\"#35b779\"],[0.7777777777777778,\"#6ece58\"],[0.8888888888888888,\"#b5de2b\"],[1.0,\"#fde725\"]],\"sequentialminus\":[[0.0,\"#440154\"],[0.1111111111111111,\"#482878\"],[0.2222222222222222,\"#3e4989\"],[0.3333333333333333,\"#31688e\"],[0.4444444444444444,\"#26828e\"],[0.5555555555555556,\"#1f9e89\"],[0.6666666666666666,\"#35b779\"],[0.7777777777777778,\"#6ece58\"],[0.8888888888888888,\"#b5de2b\"],[1.0,\"#fde725\"]]},\"colorway\":[\"#1F77B4\",\"#FF7F0E\",\"#2CA02C\",\"#D62728\",\"#9467BD\",\"#8C564B\",\"#E377C2\",\"#7F7F7F\",\"#BCBD22\",\"#17BECF\"],\"font\":{\"color\":\"rgb(36,36,36)\"},\"geo\":{\"bgcolor\":\"white\",\"lakecolor\":\"white\",\"landcolor\":\"white\",\"showlakes\":true,\"showland\":true,\"subunitcolor\":\"white\"},\"hoverlabel\":{\"align\":\"left\"},\"hovermode\":\"closest\",\"mapbox\":{\"style\":\"light\"},\"paper_bgcolor\":\"white\",\"plot_bgcolor\":\"white\",\"polar\":{\"angularaxis\":{\"gridcolor\":\"rgb(232,232,232)\",\"linecolor\":\"rgb(36,36,36)\",\"showgrid\":false,\"showline\":true,\"ticks\":\"outside\"},\"bgcolor\":\"white\",\"radialaxis\":{\"gridcolor\":\"rgb(232,232,232)\",\"linecolor\":\"rgb(36,36,36)\",\"showgrid\":false,\"showline\":true,\"ticks\":\"outside\"}},\"scene\":{\"xaxis\":{\"backgroundcolor\":\"white\",\"gridcolor\":\"rgb(232,232,232)\",\"gridwidth\":2,\"linecolor\":\"rgb(36,36,36)\",\"showbackground\":true,\"showgrid\":false,\"showline\":true,\"ticks\":\"outside\",\"zeroline\":false,\"zerolinecolor\":\"rgb(36,36,36)\"},\"yaxis\":{\"backgroundcolor\":\"white\",\"gridcolor\":\"rgb(232,232,232)\",\"gridwidth\":2,\"linecolor\":\"rgb(36,36,36)\",\"showbackground\":true,\"showgrid\":false,\"showline\":true,\"ticks\":\"outside\",\"zeroline\":false,\"zerolinecolor\":\"rgb(36,36,36)\"},\"zaxis\":{\"backgroundcolor\":\"white\",\"gridcolor\":\"rgb(232,232,232)\",\"gridwidth\":2,\"linecolor\":\"rgb(36,36,36)\",\"showbackground\":true,\"showgrid\":false,\"showline\":true,\"ticks\":\"outside\",\"zeroline\":false,\"zerolinecolor\":\"rgb(36,36,36)\"}},\"shapedefaults\":{\"fillcolor\":\"black\",\"line\":{\"width\":0},\"opacity\":0.3},\"ternary\":{\"aaxis\":{\"gridcolor\":\"rgb(232,232,232)\",\"linecolor\":\"rgb(36,36,36)\",\"showgrid\":false,\"showline\":true,\"ticks\":\"outside\"},\"baxis\":{\"gridcolor\":\"rgb(232,232,232)\",\"linecolor\":\"rgb(36,36,36)\",\"showgrid\":false,\"showline\":true,\"ticks\":\"outside\"},\"bgcolor\":\"white\",\"caxis\":{\"gridcolor\":\"rgb(232,232,232)\",\"linecolor\":\"rgb(36,36,36)\",\"showgrid\":false,\"showline\":true,\"ticks\":\"outside\"}},\"title\":{\"x\":0.05},\"xaxis\":{\"automargin\":true,\"gridcolor\":\"rgb(232,232,232)\",\"linecolor\":\"rgb(36,36,36)\",\"showgrid\":false,\"showline\":true,\"ticks\":\"outside\",\"title\":{\"standoff\":15},\"zeroline\":false,\"zerolinecolor\":\"rgb(36,36,36)\"},\"yaxis\":{\"automargin\":true,\"gridcolor\":\"rgb(232,232,232)\",\"linecolor\":\"rgb(36,36,36)\",\"showgrid\":false,\"showline\":true,\"ticks\":\"outside\",\"title\":{\"standoff\":15},\"zeroline\":false,\"zerolinecolor\":\"rgb(36,36,36)\"}}},\"shapes\":[{\"line\":{\"color\":\"#CFD8DC\",\"width\":2},\"type\":\"line\",\"x0\":7.305852746963501,\"x1\":7.305852746963501,\"y0\":-0.7563115447759629,\"y1\":4.039185321331024},{\"line\":{\"color\":\"#9E9E9E\",\"width\":2},\"type\":\"line\",\"x0\":3.869664525985718,\"x1\":10.742040967941284,\"y0\":1.6414368882775305,\"y1\":1.6414368882775305}],\"annotations\":[{\"showarrow\":false,\"text\":\"D1\",\"x\":3.869664525985718,\"y\":1.6414368882775305,\"yshift\":10},{\"showarrow\":false,\"text\":\"D2\",\"x\":7.305852746963501,\"xshift\":10,\"y\":4.039185321331024}],\"title\":{\"font\":{\"size\":22,\"color\":\"Black\"},\"text\":\"Literature graph\",\"x\":0.5,\"xanchor\":\"center\",\"yanchor\":\"top\"},\"width\":1200,\"height\":750,\"xaxis\":{\"visible\":false},\"yaxis\":{\"visible\":false}},                        {\"responsive\": true}                    ).then(function(){\n",
       "                            \n",
       "var gd = document.getElementById('e6af0eb9-0d6a-4411-b67a-a57ac376ef14');\n",
       "var x = new MutationObserver(function (mutations, observer) {{\n",
       "        var display = window.getComputedStyle(gd).display;\n",
       "        if (!display || display === 'none') {{\n",
       "            console.log([gd, 'removed!']);\n",
       "            Plotly.purge(gd);\n",
       "            observer.disconnect();\n",
       "        }}\n",
       "}});\n",
       "\n",
       "// Listen for the removal of the full notebook cells\n",
       "var notebookContainer = gd.closest('#notebook-container');\n",
       "if (notebookContainer) {{\n",
       "    x.observe(notebookContainer, {childList: true});\n",
       "}}\n",
       "\n",
       "// Listen for the clearing of the current output cell\n",
       "var outputEl = gd.closest('.output');\n",
       "if (outputEl) {{\n",
       "    x.observe(outputEl, {childList: true});\n",
       "}}\n",
       "\n",
       "                        })                };                });            </script>        </div>"
      ]
     },
     "metadata": {},
     "output_type": "display_data"
    }
   ],
   "source": [
    "topic_model.visualize_documents(\n",
    "    docs=df_clean[\"title\"],  # df_clean[\"title\"]\n",
    "    embeddings=embeddings,\n",
    "    hide_annotations=False,\n",
    "    custom_labels=True,\n",
    "    title=\"Literature graph\",\n",
    ").update_traces(marker_size=20)"
   ]
  },
  {
   "cell_type": "code",
   "execution_count": 23,
   "id": "115307ea-4fcc-4867-a9a8-249d0723a96b",
   "metadata": {},
   "outputs": [
    {
     "data": {
      "application/vnd.plotly.v1+json": {
       "config": {
        "plotlyServerURL": "https://plot.ly"
       },
       "data": [
        {
         "hoverinfo": "text",
         "hovertext": [
          51,
          19,
          20,
          17,
          40,
          45,
          18,
          29,
          null
         ],
         "marker": {
          "color": "#CFD8DC",
          "opacity": 0.5,
          "size": 20
         },
         "mode": "markers+text",
         "name": "other",
         "showlegend": false,
         "type": "scattergl",
         "x": [
          6.739536285400391,
          6.410102367401123,
          6.1631340980529785,
          6.281882286071777,
          5.665791988372803,
          6.81925106048584,
          6.917199611663818,
          5.631103992462158,
          6.328500270843506
         ],
         "y": [
          -1.9561458826065063,
          -0.6266260743141174,
          -1.6547255516052246,
          -1.2456083297729492,
          -1.4142723083496094,
          -0.5757555365562439,
          -1.71868097782135,
          -1.6093039512634277,
          -1.350139856338501
         ]
        },
        {
         "hoverinfo": "text",
         "hovertext": [
          37,
          0,
          33,
          6,
          7,
          11,
          null
         ],
         "marker": {
          "opacity": 0.5,
          "size": 20
         },
         "mode": "markers+text",
         "name": "cardiolipin | permeability | coarsegrained",
         "text": [
          "",
          "",
          "",
          "",
          "",
          "",
          "cardiolipin | permeability | coarsegrained"
         ],
         "textfont": {
          "size": 12
         },
         "type": "scattergl",
         "x": [
          6.820868968963623,
          6.341338634490967,
          6.862315654754639,
          6.639648914337158,
          7.0466532707214355,
          6.936973571777344,
          6.774632930755615
         ],
         "y": [
          -2.829916000366211,
          -2.2363383769989014,
          -3.240914821624756,
          -3.6630306243896484,
          -2.7044947147369385,
          -3.4142940044403076,
          -3.014831304550171
         ]
        },
        {
         "hoverinfo": "text",
         "hovertext": [
          36,
          61,
          62,
          41,
          1,
          null
         ],
         "marker": {
          "opacity": 0.5,
          "size": 20
         },
         "mode": "markers+text",
         "name": "sequence | dispersion | intermolecular",
         "text": [
          "",
          "",
          "",
          "",
          "",
          "sequence | dispersion | intermolecular"
         ],
         "textfont": {
          "size": 12
         },
         "type": "scattergl",
         "x": [
          5.956459999084473,
          8.280241966247559,
          8.5424222946167,
          8.097542762756348,
          7.517569065093994,
          7.678847312927246
         ],
         "y": [
          -3.834829092025757,
          -1.1587624549865723,
          -0.7173432111740112,
          -1.2182902097702026,
          -2.346238851547241,
          -1.8550927639007568
         ]
        },
        {
         "hoverinfo": "text",
         "hovertext": [
          15,
          38,
          31,
          53,
          25,
          null
         ],
         "marker": {
          "opacity": 0.5,
          "size": 20
         },
         "mode": "markers+text",
         "name": "state | reweighting | trajectory",
         "text": [
          "",
          "",
          "",
          "",
          "",
          "state | reweighting | trajectory"
         ],
         "textfont": {
          "size": 12
         },
         "type": "scattergl",
         "x": [
          4.8208136558532715,
          4.628983497619629,
          4.866475582122803,
          4.6730475425720215,
          4.451498508453369,
          4.688163757324219
         ],
         "y": [
          -1.8888318538665771,
          -1.5810438394546509,
          -1.7608188390731812,
          -2.0878021717071533,
          -2.096768856048584,
          -1.883053183555603
         ]
        },
        {
         "hoverinfo": "text",
         "hovertext": [
          71,
          42,
          68,
          70,
          44,
          null
         ],
         "marker": {
          "opacity": 0.5,
          "size": 20
         },
         "mode": "markers+text",
         "name": "model | transition | kinetic",
         "text": [
          "",
          "",
          "",
          "",
          "",
          "model | transition | kinetic"
         ],
         "textfont": {
          "size": 12
         },
         "type": "scattergl",
         "x": [
          5.1011433601379395,
          5.3182373046875,
          4.94871187210083,
          5.042411804199219,
          4.775844573974609,
          5.037269592285156
         ],
         "y": [
          -3.1291961669921875,
          -2.133716344833374,
          -3.219677209854126,
          -2.8365437984466553,
          -2.5962538719177246,
          -2.7830777168273926
         ]
        },
        {
         "hoverinfo": "text",
         "hovertext": [
          58,
          50,
          66,
          67,
          65,
          null
         ],
         "marker": {
          "opacity": 0.5,
          "size": 20
         },
         "mode": "markers+text",
         "name": "mtp | pc | electrostatics",
         "text": [
          "",
          "",
          "",
          "",
          "",
          "mtp | pc | electrostatics"
         ],
         "textfont": {
          "size": 12
         },
         "type": "scattergl",
         "x": [
          8.85123348236084,
          8.308046340942383,
          8.591116905212402,
          8.89013385772705,
          8.659638404846191,
          8.660033226013184
         ],
         "y": [
          -0.8483956456184387,
          -0.9628791213035583,
          -1.0663763284683228,
          -1.1684437990188599,
          -1.1083863973617554,
          -1.0308963060379028
         ]
        },
        {
         "hoverinfo": "text",
         "hovertext": [
          64,
          39,
          54,
          2,
          null
         ],
         "marker": {
          "opacity": 0.5,
          "size": 20
         },
         "mode": "markers+text",
         "name": "peptide | umami | peptides",
         "text": [
          "",
          "",
          "",
          "",
          "peptide | umami | peptides"
         ],
         "textfont": {
          "size": 12
         },
         "type": "scattergl",
         "x": [
          5.9125165939331055,
          5.559377193450928,
          5.817827224731445,
          5.502475738525391,
          5.698049068450928
         ],
         "y": [
          -3.4940924644470215,
          -3.5500359535217285,
          -3.174614191055298,
          -3.2264504432678223,
          -3.361298084259033
         ]
        },
        {
         "hoverinfo": "text",
         "hovertext": [
          3,
          12,
          30,
          4,
          null
         ],
         "marker": {
          "opacity": 0.5,
          "size": 20
         },
         "mode": "markers+text",
         "name": "model | cg | coarsegrained",
         "text": [
          "",
          "",
          "",
          "",
          "model | cg | coarsegrained"
         ],
         "textfont": {
          "size": 12
         },
         "type": "scattergl",
         "x": [
          6.1090087890625,
          5.767606258392334,
          6.140468597412109,
          6.695140361785889,
          6.178056240081787
         ],
         "y": [
          -1.1285616159439087,
          -0.8880483508110046,
          -0.800633430480957,
          -1.1167367696762085,
          -0.9834949970245361
         ]
        },
        {
         "hoverinfo": "text",
         "hovertext": [
          22,
          34,
          23,
          24,
          null
         ],
         "marker": {
          "opacity": 0.5,
          "size": 20
         },
         "mode": "markers+text",
         "name": "ml | learning | space",
         "text": [
          "",
          "",
          "",
          "",
          "ml | learning | space"
         ],
         "textfont": {
          "size": 12
         },
         "type": "scattergl",
         "x": [
          7.649965763092041,
          7.181015491485596,
          7.647585391998291,
          7.507543087005615,
          7.496527671813965
         ],
         "y": [
          -1.721816897392273,
          -2.038817882537842,
          -1.9627954959869385,
          -1.5989301204681396,
          -1.8305902481079102
         ]
        },
        {
         "hoverinfo": "text",
         "hovertext": [
          56,
          63,
          9,
          null
         ],
         "marker": {
          "opacity": 0.5,
          "size": 20
         },
         "mode": "markers+text",
         "name": "time | ffcf | scale",
         "text": [
          "",
          "",
          "",
          "time | ffcf | scale"
         ],
         "textfont": {
          "size": 12
         },
         "type": "scattergl",
         "x": [
          8.889479637145996,
          9.263815879821777,
          9.133354187011719,
          9.095549583435059
         ],
         "y": [
          -0.5528435707092285,
          -0.5714977383613586,
          -0.6943013072013855,
          -0.6062142252922058
         ]
        },
        {
         "hoverinfo": "text",
         "hovertext": [
          21,
          16,
          47,
          null
         ],
         "marker": {
          "opacity": 0.5,
          "size": 20
         },
         "mode": "markers+text",
         "name": "lipid | membrane | no2",
         "text": [
          "",
          "",
          "",
          "lipid | membrane | no2"
         ],
         "textfont": {
          "size": 12
         },
         "type": "scattergl",
         "x": [
          6.7156524658203125,
          6.584921836853027,
          6.425136089324951,
          6.575236797332764
         ],
         "y": [
          -3.838073968887329,
          -3.7166686058044434,
          -4.000393867492676,
          -3.851712226867676
         ]
        },
        {
         "hoverinfo": "text",
         "hovertext": [
          26,
          52,
          28,
          null
         ],
         "marker": {
          "opacity": 0.5,
          "size": 20
         },
         "mode": "markers+text",
         "name": "backbone | membrane | insertion",
         "text": [
          "",
          "",
          "",
          "backbone | membrane | insertion"
         ],
         "textfont": {
          "size": 12
         },
         "type": "scattergl",
         "x": [
          6.348166465759277,
          5.855950832366943,
          6.396500587463379,
          6.200205326080322
         ],
         "y": [
          -3.515826940536499,
          -3.324946403503418,
          -3.472069025039673,
          -3.4376142024993896
         ]
        },
        {
         "hoverinfo": "text",
         "hovertext": [
          57,
          46,
          32,
          null
         ],
         "marker": {
          "opacity": 0.5,
          "size": 20
         },
         "mode": "markers+text",
         "name": "bead | martini | type",
         "text": [
          "",
          "",
          "",
          "bead | martini | type"
         ],
         "textfont": {
          "size": 12
         },
         "type": "scattergl",
         "x": [
          6.497688293457031,
          6.492578506469727,
          6.167366981506348,
          6.385878086090088
         ],
         "y": [
          -1.9927014112472534,
          -2.306380033493042,
          -1.3101332187652588,
          -1.869738221168518
         ]
        }
       ],
       "layout": {
        "annotations": [
         {
          "showarrow": false,
          "text": "D1",
          "x": 3.783773732185364,
          "y": -2.5351849913597104,
          "yshift": 10
         },
         {
          "showarrow": false,
          "text": "D2",
          "x": 7.2185809969902035,
          "xshift": 10,
          "y": -0.4699170351028442
         }
        ],
        "height": 750,
        "shapes": [
         {
          "line": {
           "color": "#CFD8DC",
           "width": 2
          },
          "type": "line",
          "x0": 7.2185809969902035,
          "x1": 7.2185809969902035,
          "y0": -4.600452947616577,
          "y1": -0.4699170351028442
         },
         {
          "line": {
           "color": "#9E9E9E",
           "width": 2
          },
          "type": "line",
          "x0": 3.783773732185364,
          "x1": 10.653388261795044,
          "y0": -2.5351849913597104,
          "y1": -2.5351849913597104
         }
        ],
        "template": {
         "data": {
          "bar": [
           {
            "error_x": {
             "color": "rgb(36,36,36)"
            },
            "error_y": {
             "color": "rgb(36,36,36)"
            },
            "marker": {
             "line": {
              "color": "white",
              "width": 0.5
             },
             "pattern": {
              "fillmode": "overlay",
              "size": 10,
              "solidity": 0.2
             }
            },
            "type": "bar"
           }
          ],
          "barpolar": [
           {
            "marker": {
             "line": {
              "color": "white",
              "width": 0.5
             },
             "pattern": {
              "fillmode": "overlay",
              "size": 10,
              "solidity": 0.2
             }
            },
            "type": "barpolar"
           }
          ],
          "carpet": [
           {
            "aaxis": {
             "endlinecolor": "rgb(36,36,36)",
             "gridcolor": "white",
             "linecolor": "white",
             "minorgridcolor": "white",
             "startlinecolor": "rgb(36,36,36)"
            },
            "baxis": {
             "endlinecolor": "rgb(36,36,36)",
             "gridcolor": "white",
             "linecolor": "white",
             "minorgridcolor": "white",
             "startlinecolor": "rgb(36,36,36)"
            },
            "type": "carpet"
           }
          ],
          "choropleth": [
           {
            "colorbar": {
             "outlinewidth": 1,
             "tickcolor": "rgb(36,36,36)",
             "ticks": "outside"
            },
            "type": "choropleth"
           }
          ],
          "contour": [
           {
            "colorbar": {
             "outlinewidth": 1,
             "tickcolor": "rgb(36,36,36)",
             "ticks": "outside"
            },
            "colorscale": [
             [
              0,
              "#440154"
             ],
             [
              0.1111111111111111,
              "#482878"
             ],
             [
              0.2222222222222222,
              "#3e4989"
             ],
             [
              0.3333333333333333,
              "#31688e"
             ],
             [
              0.4444444444444444,
              "#26828e"
             ],
             [
              0.5555555555555556,
              "#1f9e89"
             ],
             [
              0.6666666666666666,
              "#35b779"
             ],
             [
              0.7777777777777778,
              "#6ece58"
             ],
             [
              0.8888888888888888,
              "#b5de2b"
             ],
             [
              1,
              "#fde725"
             ]
            ],
            "type": "contour"
           }
          ],
          "contourcarpet": [
           {
            "colorbar": {
             "outlinewidth": 1,
             "tickcolor": "rgb(36,36,36)",
             "ticks": "outside"
            },
            "type": "contourcarpet"
           }
          ],
          "heatmap": [
           {
            "colorbar": {
             "outlinewidth": 1,
             "tickcolor": "rgb(36,36,36)",
             "ticks": "outside"
            },
            "colorscale": [
             [
              0,
              "#440154"
             ],
             [
              0.1111111111111111,
              "#482878"
             ],
             [
              0.2222222222222222,
              "#3e4989"
             ],
             [
              0.3333333333333333,
              "#31688e"
             ],
             [
              0.4444444444444444,
              "#26828e"
             ],
             [
              0.5555555555555556,
              "#1f9e89"
             ],
             [
              0.6666666666666666,
              "#35b779"
             ],
             [
              0.7777777777777778,
              "#6ece58"
             ],
             [
              0.8888888888888888,
              "#b5de2b"
             ],
             [
              1,
              "#fde725"
             ]
            ],
            "type": "heatmap"
           }
          ],
          "heatmapgl": [
           {
            "colorbar": {
             "outlinewidth": 1,
             "tickcolor": "rgb(36,36,36)",
             "ticks": "outside"
            },
            "colorscale": [
             [
              0,
              "#440154"
             ],
             [
              0.1111111111111111,
              "#482878"
             ],
             [
              0.2222222222222222,
              "#3e4989"
             ],
             [
              0.3333333333333333,
              "#31688e"
             ],
             [
              0.4444444444444444,
              "#26828e"
             ],
             [
              0.5555555555555556,
              "#1f9e89"
             ],
             [
              0.6666666666666666,
              "#35b779"
             ],
             [
              0.7777777777777778,
              "#6ece58"
             ],
             [
              0.8888888888888888,
              "#b5de2b"
             ],
             [
              1,
              "#fde725"
             ]
            ],
            "type": "heatmapgl"
           }
          ],
          "histogram": [
           {
            "marker": {
             "line": {
              "color": "white",
              "width": 0.6
             }
            },
            "type": "histogram"
           }
          ],
          "histogram2d": [
           {
            "colorbar": {
             "outlinewidth": 1,
             "tickcolor": "rgb(36,36,36)",
             "ticks": "outside"
            },
            "colorscale": [
             [
              0,
              "#440154"
             ],
             [
              0.1111111111111111,
              "#482878"
             ],
             [
              0.2222222222222222,
              "#3e4989"
             ],
             [
              0.3333333333333333,
              "#31688e"
             ],
             [
              0.4444444444444444,
              "#26828e"
             ],
             [
              0.5555555555555556,
              "#1f9e89"
             ],
             [
              0.6666666666666666,
              "#35b779"
             ],
             [
              0.7777777777777778,
              "#6ece58"
             ],
             [
              0.8888888888888888,
              "#b5de2b"
             ],
             [
              1,
              "#fde725"
             ]
            ],
            "type": "histogram2d"
           }
          ],
          "histogram2dcontour": [
           {
            "colorbar": {
             "outlinewidth": 1,
             "tickcolor": "rgb(36,36,36)",
             "ticks": "outside"
            },
            "colorscale": [
             [
              0,
              "#440154"
             ],
             [
              0.1111111111111111,
              "#482878"
             ],
             [
              0.2222222222222222,
              "#3e4989"
             ],
             [
              0.3333333333333333,
              "#31688e"
             ],
             [
              0.4444444444444444,
              "#26828e"
             ],
             [
              0.5555555555555556,
              "#1f9e89"
             ],
             [
              0.6666666666666666,
              "#35b779"
             ],
             [
              0.7777777777777778,
              "#6ece58"
             ],
             [
              0.8888888888888888,
              "#b5de2b"
             ],
             [
              1,
              "#fde725"
             ]
            ],
            "type": "histogram2dcontour"
           }
          ],
          "mesh3d": [
           {
            "colorbar": {
             "outlinewidth": 1,
             "tickcolor": "rgb(36,36,36)",
             "ticks": "outside"
            },
            "type": "mesh3d"
           }
          ],
          "parcoords": [
           {
            "line": {
             "colorbar": {
              "outlinewidth": 1,
              "tickcolor": "rgb(36,36,36)",
              "ticks": "outside"
             }
            },
            "type": "parcoords"
           }
          ],
          "pie": [
           {
            "automargin": true,
            "type": "pie"
           }
          ],
          "scatter": [
           {
            "fillpattern": {
             "fillmode": "overlay",
             "size": 10,
             "solidity": 0.2
            },
            "type": "scatter"
           }
          ],
          "scatter3d": [
           {
            "line": {
             "colorbar": {
              "outlinewidth": 1,
              "tickcolor": "rgb(36,36,36)",
              "ticks": "outside"
             }
            },
            "marker": {
             "colorbar": {
              "outlinewidth": 1,
              "tickcolor": "rgb(36,36,36)",
              "ticks": "outside"
             }
            },
            "type": "scatter3d"
           }
          ],
          "scattercarpet": [
           {
            "marker": {
             "colorbar": {
              "outlinewidth": 1,
              "tickcolor": "rgb(36,36,36)",
              "ticks": "outside"
             }
            },
            "type": "scattercarpet"
           }
          ],
          "scattergeo": [
           {
            "marker": {
             "colorbar": {
              "outlinewidth": 1,
              "tickcolor": "rgb(36,36,36)",
              "ticks": "outside"
             }
            },
            "type": "scattergeo"
           }
          ],
          "scattergl": [
           {
            "marker": {
             "colorbar": {
              "outlinewidth": 1,
              "tickcolor": "rgb(36,36,36)",
              "ticks": "outside"
             }
            },
            "type": "scattergl"
           }
          ],
          "scattermapbox": [
           {
            "marker": {
             "colorbar": {
              "outlinewidth": 1,
              "tickcolor": "rgb(36,36,36)",
              "ticks": "outside"
             }
            },
            "type": "scattermapbox"
           }
          ],
          "scatterpolar": [
           {
            "marker": {
             "colorbar": {
              "outlinewidth": 1,
              "tickcolor": "rgb(36,36,36)",
              "ticks": "outside"
             }
            },
            "type": "scatterpolar"
           }
          ],
          "scatterpolargl": [
           {
            "marker": {
             "colorbar": {
              "outlinewidth": 1,
              "tickcolor": "rgb(36,36,36)",
              "ticks": "outside"
             }
            },
            "type": "scatterpolargl"
           }
          ],
          "scatterternary": [
           {
            "marker": {
             "colorbar": {
              "outlinewidth": 1,
              "tickcolor": "rgb(36,36,36)",
              "ticks": "outside"
             }
            },
            "type": "scatterternary"
           }
          ],
          "surface": [
           {
            "colorbar": {
             "outlinewidth": 1,
             "tickcolor": "rgb(36,36,36)",
             "ticks": "outside"
            },
            "colorscale": [
             [
              0,
              "#440154"
             ],
             [
              0.1111111111111111,
              "#482878"
             ],
             [
              0.2222222222222222,
              "#3e4989"
             ],
             [
              0.3333333333333333,
              "#31688e"
             ],
             [
              0.4444444444444444,
              "#26828e"
             ],
             [
              0.5555555555555556,
              "#1f9e89"
             ],
             [
              0.6666666666666666,
              "#35b779"
             ],
             [
              0.7777777777777778,
              "#6ece58"
             ],
             [
              0.8888888888888888,
              "#b5de2b"
             ],
             [
              1,
              "#fde725"
             ]
            ],
            "type": "surface"
           }
          ],
          "table": [
           {
            "cells": {
             "fill": {
              "color": "rgb(237,237,237)"
             },
             "line": {
              "color": "white"
             }
            },
            "header": {
             "fill": {
              "color": "rgb(217,217,217)"
             },
             "line": {
              "color": "white"
             }
            },
            "type": "table"
           }
          ]
         },
         "layout": {
          "annotationdefaults": {
           "arrowhead": 0,
           "arrowwidth": 1
          },
          "autotypenumbers": "strict",
          "coloraxis": {
           "colorbar": {
            "outlinewidth": 1,
            "tickcolor": "rgb(36,36,36)",
            "ticks": "outside"
           }
          },
          "colorscale": {
           "diverging": [
            [
             0,
             "rgb(103,0,31)"
            ],
            [
             0.1,
             "rgb(178,24,43)"
            ],
            [
             0.2,
             "rgb(214,96,77)"
            ],
            [
             0.3,
             "rgb(244,165,130)"
            ],
            [
             0.4,
             "rgb(253,219,199)"
            ],
            [
             0.5,
             "rgb(247,247,247)"
            ],
            [
             0.6,
             "rgb(209,229,240)"
            ],
            [
             0.7,
             "rgb(146,197,222)"
            ],
            [
             0.8,
             "rgb(67,147,195)"
            ],
            [
             0.9,
             "rgb(33,102,172)"
            ],
            [
             1,
             "rgb(5,48,97)"
            ]
           ],
           "sequential": [
            [
             0,
             "#440154"
            ],
            [
             0.1111111111111111,
             "#482878"
            ],
            [
             0.2222222222222222,
             "#3e4989"
            ],
            [
             0.3333333333333333,
             "#31688e"
            ],
            [
             0.4444444444444444,
             "#26828e"
            ],
            [
             0.5555555555555556,
             "#1f9e89"
            ],
            [
             0.6666666666666666,
             "#35b779"
            ],
            [
             0.7777777777777778,
             "#6ece58"
            ],
            [
             0.8888888888888888,
             "#b5de2b"
            ],
            [
             1,
             "#fde725"
            ]
           ],
           "sequentialminus": [
            [
             0,
             "#440154"
            ],
            [
             0.1111111111111111,
             "#482878"
            ],
            [
             0.2222222222222222,
             "#3e4989"
            ],
            [
             0.3333333333333333,
             "#31688e"
            ],
            [
             0.4444444444444444,
             "#26828e"
            ],
            [
             0.5555555555555556,
             "#1f9e89"
            ],
            [
             0.6666666666666666,
             "#35b779"
            ],
            [
             0.7777777777777778,
             "#6ece58"
            ],
            [
             0.8888888888888888,
             "#b5de2b"
            ],
            [
             1,
             "#fde725"
            ]
           ]
          },
          "colorway": [
           "#1F77B4",
           "#FF7F0E",
           "#2CA02C",
           "#D62728",
           "#9467BD",
           "#8C564B",
           "#E377C2",
           "#7F7F7F",
           "#BCBD22",
           "#17BECF"
          ],
          "font": {
           "color": "rgb(36,36,36)"
          },
          "geo": {
           "bgcolor": "white",
           "lakecolor": "white",
           "landcolor": "white",
           "showlakes": true,
           "showland": true,
           "subunitcolor": "white"
          },
          "hoverlabel": {
           "align": "left"
          },
          "hovermode": "closest",
          "mapbox": {
           "style": "light"
          },
          "paper_bgcolor": "white",
          "plot_bgcolor": "white",
          "polar": {
           "angularaxis": {
            "gridcolor": "rgb(232,232,232)",
            "linecolor": "rgb(36,36,36)",
            "showgrid": false,
            "showline": true,
            "ticks": "outside"
           },
           "bgcolor": "white",
           "radialaxis": {
            "gridcolor": "rgb(232,232,232)",
            "linecolor": "rgb(36,36,36)",
            "showgrid": false,
            "showline": true,
            "ticks": "outside"
           }
          },
          "scene": {
           "xaxis": {
            "backgroundcolor": "white",
            "gridcolor": "rgb(232,232,232)",
            "gridwidth": 2,
            "linecolor": "rgb(36,36,36)",
            "showbackground": true,
            "showgrid": false,
            "showline": true,
            "ticks": "outside",
            "zeroline": false,
            "zerolinecolor": "rgb(36,36,36)"
           },
           "yaxis": {
            "backgroundcolor": "white",
            "gridcolor": "rgb(232,232,232)",
            "gridwidth": 2,
            "linecolor": "rgb(36,36,36)",
            "showbackground": true,
            "showgrid": false,
            "showline": true,
            "ticks": "outside",
            "zeroline": false,
            "zerolinecolor": "rgb(36,36,36)"
           },
           "zaxis": {
            "backgroundcolor": "white",
            "gridcolor": "rgb(232,232,232)",
            "gridwidth": 2,
            "linecolor": "rgb(36,36,36)",
            "showbackground": true,
            "showgrid": false,
            "showline": true,
            "ticks": "outside",
            "zeroline": false,
            "zerolinecolor": "rgb(36,36,36)"
           }
          },
          "shapedefaults": {
           "fillcolor": "black",
           "line": {
            "width": 0
           },
           "opacity": 0.3
          },
          "ternary": {
           "aaxis": {
            "gridcolor": "rgb(232,232,232)",
            "linecolor": "rgb(36,36,36)",
            "showgrid": false,
            "showline": true,
            "ticks": "outside"
           },
           "baxis": {
            "gridcolor": "rgb(232,232,232)",
            "linecolor": "rgb(36,36,36)",
            "showgrid": false,
            "showline": true,
            "ticks": "outside"
           },
           "bgcolor": "white",
           "caxis": {
            "gridcolor": "rgb(232,232,232)",
            "linecolor": "rgb(36,36,36)",
            "showgrid": false,
            "showline": true,
            "ticks": "outside"
           }
          },
          "title": {
           "x": 0.05
          },
          "xaxis": {
           "automargin": true,
           "gridcolor": "rgb(232,232,232)",
           "linecolor": "rgb(36,36,36)",
           "showgrid": false,
           "showline": true,
           "ticks": "outside",
           "title": {
            "standoff": 15
           },
           "zeroline": false,
           "zerolinecolor": "rgb(36,36,36)"
          },
          "yaxis": {
           "automargin": true,
           "gridcolor": "rgb(232,232,232)",
           "linecolor": "rgb(36,36,36)",
           "showgrid": false,
           "showline": true,
           "ticks": "outside",
           "title": {
            "standoff": 15
           },
           "zeroline": false,
           "zerolinecolor": "rgb(36,36,36)"
          }
         }
        },
        "title": {
         "font": {
          "color": "Black",
          "size": 22
         },
         "text": "Literature graph",
         "x": 0.5,
         "xanchor": "center",
         "yanchor": "top"
        },
        "width": 1200,
        "xaxis": {
         "visible": false
        },
        "yaxis": {
         "visible": false
        }
       }
      },
      "text/html": [
       "<div>                            <div id=\"318d285a-d8d6-4994-88a6-a33a61811159\" class=\"plotly-graph-div\" style=\"height:750px; width:1200px;\"></div>            <script type=\"text/javascript\">                require([\"plotly\"], function(Plotly) {                    window.PLOTLYENV=window.PLOTLYENV || {};                                    if (document.getElementById(\"318d285a-d8d6-4994-88a6-a33a61811159\")) {                    Plotly.newPlot(                        \"318d285a-d8d6-4994-88a6-a33a61811159\",                        [{\"hoverinfo\":\"text\",\"hovertext\":[51.0,19.0,20.0,17.0,40.0,45.0,18.0,29.0,null],\"marker\":{\"color\":\"#CFD8DC\",\"opacity\":0.5,\"size\":20},\"mode\":\"markers+text\",\"name\":\"other\",\"showlegend\":false,\"x\":[6.739536285400391,6.410102367401123,6.1631340980529785,6.281882286071777,5.665791988372803,6.81925106048584,6.917199611663818,5.631103992462158,6.328500270843506],\"y\":[-1.9561458826065063,-0.6266260743141174,-1.6547255516052246,-1.2456083297729492,-1.4142723083496094,-0.5757555365562439,-1.71868097782135,-1.6093039512634277,-1.350139856338501],\"type\":\"scattergl\"},{\"hoverinfo\":\"text\",\"hovertext\":[37.0,0.0,33.0,6.0,7.0,11.0,null],\"marker\":{\"opacity\":0.5,\"size\":20},\"mode\":\"markers+text\",\"name\":\"cardiolipin | permeability | coarsegrained\",\"text\":[\"\",\"\",\"\",\"\",\"\",\"\",\"cardiolipin | permeability | coarsegrained\"],\"textfont\":{\"size\":12},\"x\":[6.820868968963623,6.341338634490967,6.862315654754639,6.639648914337158,7.0466532707214355,6.936973571777344,6.774632930755615],\"y\":[-2.829916000366211,-2.2363383769989014,-3.240914821624756,-3.6630306243896484,-2.7044947147369385,-3.4142940044403076,-3.014831304550171],\"type\":\"scattergl\"},{\"hoverinfo\":\"text\",\"hovertext\":[36.0,61.0,62.0,41.0,1.0,null],\"marker\":{\"opacity\":0.5,\"size\":20},\"mode\":\"markers+text\",\"name\":\"sequence | dispersion | intermolecular\",\"text\":[\"\",\"\",\"\",\"\",\"\",\"sequence | dispersion | intermolecular\"],\"textfont\":{\"size\":12},\"x\":[5.956459999084473,8.280241966247559,8.5424222946167,8.097542762756348,7.517569065093994,7.678847312927246],\"y\":[-3.834829092025757,-1.1587624549865723,-0.7173432111740112,-1.2182902097702026,-2.346238851547241,-1.8550927639007568],\"type\":\"scattergl\"},{\"hoverinfo\":\"text\",\"hovertext\":[15.0,38.0,31.0,53.0,25.0,null],\"marker\":{\"opacity\":0.5,\"size\":20},\"mode\":\"markers+text\",\"name\":\"state | reweighting | trajectory\",\"text\":[\"\",\"\",\"\",\"\",\"\",\"state | reweighting | trajectory\"],\"textfont\":{\"size\":12},\"x\":[4.8208136558532715,4.628983497619629,4.866475582122803,4.6730475425720215,4.451498508453369,4.688163757324219],\"y\":[-1.8888318538665771,-1.5810438394546509,-1.7608188390731812,-2.0878021717071533,-2.096768856048584,-1.883053183555603],\"type\":\"scattergl\"},{\"hoverinfo\":\"text\",\"hovertext\":[71.0,42.0,68.0,70.0,44.0,null],\"marker\":{\"opacity\":0.5,\"size\":20},\"mode\":\"markers+text\",\"name\":\"model | transition | kinetic\",\"text\":[\"\",\"\",\"\",\"\",\"\",\"model | transition | kinetic\"],\"textfont\":{\"size\":12},\"x\":[5.1011433601379395,5.3182373046875,4.94871187210083,5.042411804199219,4.775844573974609,5.037269592285156],\"y\":[-3.1291961669921875,-2.133716344833374,-3.219677209854126,-2.8365437984466553,-2.5962538719177246,-2.7830777168273926],\"type\":\"scattergl\"},{\"hoverinfo\":\"text\",\"hovertext\":[58.0,50.0,66.0,67.0,65.0,null],\"marker\":{\"opacity\":0.5,\"size\":20},\"mode\":\"markers+text\",\"name\":\"mtp | pc | electrostatics\",\"text\":[\"\",\"\",\"\",\"\",\"\",\"mtp | pc | electrostatics\"],\"textfont\":{\"size\":12},\"x\":[8.85123348236084,8.308046340942383,8.591116905212402,8.89013385772705,8.659638404846191,8.660033226013184],\"y\":[-0.8483956456184387,-0.9628791213035583,-1.0663763284683228,-1.1684437990188599,-1.1083863973617554,-1.0308963060379028],\"type\":\"scattergl\"},{\"hoverinfo\":\"text\",\"hovertext\":[64.0,39.0,54.0,2.0,null],\"marker\":{\"opacity\":0.5,\"size\":20},\"mode\":\"markers+text\",\"name\":\"peptide | umami | peptides\",\"text\":[\"\",\"\",\"\",\"\",\"peptide | umami | peptides\"],\"textfont\":{\"size\":12},\"x\":[5.9125165939331055,5.559377193450928,5.817827224731445,5.502475738525391,5.698049068450928],\"y\":[-3.4940924644470215,-3.5500359535217285,-3.174614191055298,-3.2264504432678223,-3.361298084259033],\"type\":\"scattergl\"},{\"hoverinfo\":\"text\",\"hovertext\":[3.0,12.0,30.0,4.0,null],\"marker\":{\"opacity\":0.5,\"size\":20},\"mode\":\"markers+text\",\"name\":\"model | cg | coarsegrained\",\"text\":[\"\",\"\",\"\",\"\",\"model | cg | coarsegrained\"],\"textfont\":{\"size\":12},\"x\":[6.1090087890625,5.767606258392334,6.140468597412109,6.695140361785889,6.178056240081787],\"y\":[-1.1285616159439087,-0.8880483508110046,-0.800633430480957,-1.1167367696762085,-0.9834949970245361],\"type\":\"scattergl\"},{\"hoverinfo\":\"text\",\"hovertext\":[22.0,34.0,23.0,24.0,null],\"marker\":{\"opacity\":0.5,\"size\":20},\"mode\":\"markers+text\",\"name\":\"ml | learning | space\",\"text\":[\"\",\"\",\"\",\"\",\"ml | learning | space\"],\"textfont\":{\"size\":12},\"x\":[7.649965763092041,7.181015491485596,7.647585391998291,7.507543087005615,7.496527671813965],\"y\":[-1.721816897392273,-2.038817882537842,-1.9627954959869385,-1.5989301204681396,-1.8305902481079102],\"type\":\"scattergl\"},{\"hoverinfo\":\"text\",\"hovertext\":[56.0,63.0,9.0,null],\"marker\":{\"opacity\":0.5,\"size\":20},\"mode\":\"markers+text\",\"name\":\"time | ffcf | scale\",\"text\":[\"\",\"\",\"\",\"time | ffcf | scale\"],\"textfont\":{\"size\":12},\"x\":[8.889479637145996,9.263815879821777,9.133354187011719,9.095549583435059],\"y\":[-0.5528435707092285,-0.5714977383613586,-0.6943013072013855,-0.6062142252922058],\"type\":\"scattergl\"},{\"hoverinfo\":\"text\",\"hovertext\":[21.0,16.0,47.0,null],\"marker\":{\"opacity\":0.5,\"size\":20},\"mode\":\"markers+text\",\"name\":\"lipid | membrane | no2\",\"text\":[\"\",\"\",\"\",\"lipid | membrane | no2\"],\"textfont\":{\"size\":12},\"x\":[6.7156524658203125,6.584921836853027,6.425136089324951,6.575236797332764],\"y\":[-3.838073968887329,-3.7166686058044434,-4.000393867492676,-3.851712226867676],\"type\":\"scattergl\"},{\"hoverinfo\":\"text\",\"hovertext\":[26.0,52.0,28.0,null],\"marker\":{\"opacity\":0.5,\"size\":20},\"mode\":\"markers+text\",\"name\":\"backbone | membrane | insertion\",\"text\":[\"\",\"\",\"\",\"backbone | membrane | insertion\"],\"textfont\":{\"size\":12},\"x\":[6.348166465759277,5.855950832366943,6.396500587463379,6.200205326080322],\"y\":[-3.515826940536499,-3.324946403503418,-3.472069025039673,-3.4376142024993896],\"type\":\"scattergl\"},{\"hoverinfo\":\"text\",\"hovertext\":[57.0,46.0,32.0,null],\"marker\":{\"opacity\":0.5,\"size\":20},\"mode\":\"markers+text\",\"name\":\"bead | martini | type\",\"text\":[\"\",\"\",\"\",\"bead | martini | type\"],\"textfont\":{\"size\":12},\"x\":[6.497688293457031,6.492578506469727,6.167366981506348,6.385878086090088],\"y\":[-1.9927014112472534,-2.306380033493042,-1.3101332187652588,-1.869738221168518],\"type\":\"scattergl\"}],                        {\"template\":{\"data\":{\"barpolar\":[{\"marker\":{\"line\":{\"color\":\"white\",\"width\":0.5},\"pattern\":{\"fillmode\":\"overlay\",\"size\":10,\"solidity\":0.2}},\"type\":\"barpolar\"}],\"bar\":[{\"error_x\":{\"color\":\"rgb(36,36,36)\"},\"error_y\":{\"color\":\"rgb(36,36,36)\"},\"marker\":{\"line\":{\"color\":\"white\",\"width\":0.5},\"pattern\":{\"fillmode\":\"overlay\",\"size\":10,\"solidity\":0.2}},\"type\":\"bar\"}],\"carpet\":[{\"aaxis\":{\"endlinecolor\":\"rgb(36,36,36)\",\"gridcolor\":\"white\",\"linecolor\":\"white\",\"minorgridcolor\":\"white\",\"startlinecolor\":\"rgb(36,36,36)\"},\"baxis\":{\"endlinecolor\":\"rgb(36,36,36)\",\"gridcolor\":\"white\",\"linecolor\":\"white\",\"minorgridcolor\":\"white\",\"startlinecolor\":\"rgb(36,36,36)\"},\"type\":\"carpet\"}],\"choropleth\":[{\"colorbar\":{\"outlinewidth\":1,\"tickcolor\":\"rgb(36,36,36)\",\"ticks\":\"outside\"},\"type\":\"choropleth\"}],\"contourcarpet\":[{\"colorbar\":{\"outlinewidth\":1,\"tickcolor\":\"rgb(36,36,36)\",\"ticks\":\"outside\"},\"type\":\"contourcarpet\"}],\"contour\":[{\"colorbar\":{\"outlinewidth\":1,\"tickcolor\":\"rgb(36,36,36)\",\"ticks\":\"outside\"},\"colorscale\":[[0.0,\"#440154\"],[0.1111111111111111,\"#482878\"],[0.2222222222222222,\"#3e4989\"],[0.3333333333333333,\"#31688e\"],[0.4444444444444444,\"#26828e\"],[0.5555555555555556,\"#1f9e89\"],[0.6666666666666666,\"#35b779\"],[0.7777777777777778,\"#6ece58\"],[0.8888888888888888,\"#b5de2b\"],[1.0,\"#fde725\"]],\"type\":\"contour\"}],\"heatmapgl\":[{\"colorbar\":{\"outlinewidth\":1,\"tickcolor\":\"rgb(36,36,36)\",\"ticks\":\"outside\"},\"colorscale\":[[0.0,\"#440154\"],[0.1111111111111111,\"#482878\"],[0.2222222222222222,\"#3e4989\"],[0.3333333333333333,\"#31688e\"],[0.4444444444444444,\"#26828e\"],[0.5555555555555556,\"#1f9e89\"],[0.6666666666666666,\"#35b779\"],[0.7777777777777778,\"#6ece58\"],[0.8888888888888888,\"#b5de2b\"],[1.0,\"#fde725\"]],\"type\":\"heatmapgl\"}],\"heatmap\":[{\"colorbar\":{\"outlinewidth\":1,\"tickcolor\":\"rgb(36,36,36)\",\"ticks\":\"outside\"},\"colorscale\":[[0.0,\"#440154\"],[0.1111111111111111,\"#482878\"],[0.2222222222222222,\"#3e4989\"],[0.3333333333333333,\"#31688e\"],[0.4444444444444444,\"#26828e\"],[0.5555555555555556,\"#1f9e89\"],[0.6666666666666666,\"#35b779\"],[0.7777777777777778,\"#6ece58\"],[0.8888888888888888,\"#b5de2b\"],[1.0,\"#fde725\"]],\"type\":\"heatmap\"}],\"histogram2dcontour\":[{\"colorbar\":{\"outlinewidth\":1,\"tickcolor\":\"rgb(36,36,36)\",\"ticks\":\"outside\"},\"colorscale\":[[0.0,\"#440154\"],[0.1111111111111111,\"#482878\"],[0.2222222222222222,\"#3e4989\"],[0.3333333333333333,\"#31688e\"],[0.4444444444444444,\"#26828e\"],[0.5555555555555556,\"#1f9e89\"],[0.6666666666666666,\"#35b779\"],[0.7777777777777778,\"#6ece58\"],[0.8888888888888888,\"#b5de2b\"],[1.0,\"#fde725\"]],\"type\":\"histogram2dcontour\"}],\"histogram2d\":[{\"colorbar\":{\"outlinewidth\":1,\"tickcolor\":\"rgb(36,36,36)\",\"ticks\":\"outside\"},\"colorscale\":[[0.0,\"#440154\"],[0.1111111111111111,\"#482878\"],[0.2222222222222222,\"#3e4989\"],[0.3333333333333333,\"#31688e\"],[0.4444444444444444,\"#26828e\"],[0.5555555555555556,\"#1f9e89\"],[0.6666666666666666,\"#35b779\"],[0.7777777777777778,\"#6ece58\"],[0.8888888888888888,\"#b5de2b\"],[1.0,\"#fde725\"]],\"type\":\"histogram2d\"}],\"histogram\":[{\"marker\":{\"line\":{\"color\":\"white\",\"width\":0.6}},\"type\":\"histogram\"}],\"mesh3d\":[{\"colorbar\":{\"outlinewidth\":1,\"tickcolor\":\"rgb(36,36,36)\",\"ticks\":\"outside\"},\"type\":\"mesh3d\"}],\"parcoords\":[{\"line\":{\"colorbar\":{\"outlinewidth\":1,\"tickcolor\":\"rgb(36,36,36)\",\"ticks\":\"outside\"}},\"type\":\"parcoords\"}],\"pie\":[{\"automargin\":true,\"type\":\"pie\"}],\"scatter3d\":[{\"line\":{\"colorbar\":{\"outlinewidth\":1,\"tickcolor\":\"rgb(36,36,36)\",\"ticks\":\"outside\"}},\"marker\":{\"colorbar\":{\"outlinewidth\":1,\"tickcolor\":\"rgb(36,36,36)\",\"ticks\":\"outside\"}},\"type\":\"scatter3d\"}],\"scattercarpet\":[{\"marker\":{\"colorbar\":{\"outlinewidth\":1,\"tickcolor\":\"rgb(36,36,36)\",\"ticks\":\"outside\"}},\"type\":\"scattercarpet\"}],\"scattergeo\":[{\"marker\":{\"colorbar\":{\"outlinewidth\":1,\"tickcolor\":\"rgb(36,36,36)\",\"ticks\":\"outside\"}},\"type\":\"scattergeo\"}],\"scattergl\":[{\"marker\":{\"colorbar\":{\"outlinewidth\":1,\"tickcolor\":\"rgb(36,36,36)\",\"ticks\":\"outside\"}},\"type\":\"scattergl\"}],\"scattermapbox\":[{\"marker\":{\"colorbar\":{\"outlinewidth\":1,\"tickcolor\":\"rgb(36,36,36)\",\"ticks\":\"outside\"}},\"type\":\"scattermapbox\"}],\"scatterpolargl\":[{\"marker\":{\"colorbar\":{\"outlinewidth\":1,\"tickcolor\":\"rgb(36,36,36)\",\"ticks\":\"outside\"}},\"type\":\"scatterpolargl\"}],\"scatterpolar\":[{\"marker\":{\"colorbar\":{\"outlinewidth\":1,\"tickcolor\":\"rgb(36,36,36)\",\"ticks\":\"outside\"}},\"type\":\"scatterpolar\"}],\"scatter\":[{\"fillpattern\":{\"fillmode\":\"overlay\",\"size\":10,\"solidity\":0.2},\"type\":\"scatter\"}],\"scatterternary\":[{\"marker\":{\"colorbar\":{\"outlinewidth\":1,\"tickcolor\":\"rgb(36,36,36)\",\"ticks\":\"outside\"}},\"type\":\"scatterternary\"}],\"surface\":[{\"colorbar\":{\"outlinewidth\":1,\"tickcolor\":\"rgb(36,36,36)\",\"ticks\":\"outside\"},\"colorscale\":[[0.0,\"#440154\"],[0.1111111111111111,\"#482878\"],[0.2222222222222222,\"#3e4989\"],[0.3333333333333333,\"#31688e\"],[0.4444444444444444,\"#26828e\"],[0.5555555555555556,\"#1f9e89\"],[0.6666666666666666,\"#35b779\"],[0.7777777777777778,\"#6ece58\"],[0.8888888888888888,\"#b5de2b\"],[1.0,\"#fde725\"]],\"type\":\"surface\"}],\"table\":[{\"cells\":{\"fill\":{\"color\":\"rgb(237,237,237)\"},\"line\":{\"color\":\"white\"}},\"header\":{\"fill\":{\"color\":\"rgb(217,217,217)\"},\"line\":{\"color\":\"white\"}},\"type\":\"table\"}]},\"layout\":{\"annotationdefaults\":{\"arrowhead\":0,\"arrowwidth\":1},\"autotypenumbers\":\"strict\",\"coloraxis\":{\"colorbar\":{\"outlinewidth\":1,\"tickcolor\":\"rgb(36,36,36)\",\"ticks\":\"outside\"}},\"colorscale\":{\"diverging\":[[0.0,\"rgb(103,0,31)\"],[0.1,\"rgb(178,24,43)\"],[0.2,\"rgb(214,96,77)\"],[0.3,\"rgb(244,165,130)\"],[0.4,\"rgb(253,219,199)\"],[0.5,\"rgb(247,247,247)\"],[0.6,\"rgb(209,229,240)\"],[0.7,\"rgb(146,197,222)\"],[0.8,\"rgb(67,147,195)\"],[0.9,\"rgb(33,102,172)\"],[1.0,\"rgb(5,48,97)\"]],\"sequential\":[[0.0,\"#440154\"],[0.1111111111111111,\"#482878\"],[0.2222222222222222,\"#3e4989\"],[0.3333333333333333,\"#31688e\"],[0.4444444444444444,\"#26828e\"],[0.5555555555555556,\"#1f9e89\"],[0.6666666666666666,\"#35b779\"],[0.7777777777777778,\"#6ece58\"],[0.8888888888888888,\"#b5de2b\"],[1.0,\"#fde725\"]],\"sequentialminus\":[[0.0,\"#440154\"],[0.1111111111111111,\"#482878\"],[0.2222222222222222,\"#3e4989\"],[0.3333333333333333,\"#31688e\"],[0.4444444444444444,\"#26828e\"],[0.5555555555555556,\"#1f9e89\"],[0.6666666666666666,\"#35b779\"],[0.7777777777777778,\"#6ece58\"],[0.8888888888888888,\"#b5de2b\"],[1.0,\"#fde725\"]]},\"colorway\":[\"#1F77B4\",\"#FF7F0E\",\"#2CA02C\",\"#D62728\",\"#9467BD\",\"#8C564B\",\"#E377C2\",\"#7F7F7F\",\"#BCBD22\",\"#17BECF\"],\"font\":{\"color\":\"rgb(36,36,36)\"},\"geo\":{\"bgcolor\":\"white\",\"lakecolor\":\"white\",\"landcolor\":\"white\",\"showlakes\":true,\"showland\":true,\"subunitcolor\":\"white\"},\"hoverlabel\":{\"align\":\"left\"},\"hovermode\":\"closest\",\"mapbox\":{\"style\":\"light\"},\"paper_bgcolor\":\"white\",\"plot_bgcolor\":\"white\",\"polar\":{\"angularaxis\":{\"gridcolor\":\"rgb(232,232,232)\",\"linecolor\":\"rgb(36,36,36)\",\"showgrid\":false,\"showline\":true,\"ticks\":\"outside\"},\"bgcolor\":\"white\",\"radialaxis\":{\"gridcolor\":\"rgb(232,232,232)\",\"linecolor\":\"rgb(36,36,36)\",\"showgrid\":false,\"showline\":true,\"ticks\":\"outside\"}},\"scene\":{\"xaxis\":{\"backgroundcolor\":\"white\",\"gridcolor\":\"rgb(232,232,232)\",\"gridwidth\":2,\"linecolor\":\"rgb(36,36,36)\",\"showbackground\":true,\"showgrid\":false,\"showline\":true,\"ticks\":\"outside\",\"zeroline\":false,\"zerolinecolor\":\"rgb(36,36,36)\"},\"yaxis\":{\"backgroundcolor\":\"white\",\"gridcolor\":\"rgb(232,232,232)\",\"gridwidth\":2,\"linecolor\":\"rgb(36,36,36)\",\"showbackground\":true,\"showgrid\":false,\"showline\":true,\"ticks\":\"outside\",\"zeroline\":false,\"zerolinecolor\":\"rgb(36,36,36)\"},\"zaxis\":{\"backgroundcolor\":\"white\",\"gridcolor\":\"rgb(232,232,232)\",\"gridwidth\":2,\"linecolor\":\"rgb(36,36,36)\",\"showbackground\":true,\"showgrid\":false,\"showline\":true,\"ticks\":\"outside\",\"zeroline\":false,\"zerolinecolor\":\"rgb(36,36,36)\"}},\"shapedefaults\":{\"fillcolor\":\"black\",\"line\":{\"width\":0},\"opacity\":0.3},\"ternary\":{\"aaxis\":{\"gridcolor\":\"rgb(232,232,232)\",\"linecolor\":\"rgb(36,36,36)\",\"showgrid\":false,\"showline\":true,\"ticks\":\"outside\"},\"baxis\":{\"gridcolor\":\"rgb(232,232,232)\",\"linecolor\":\"rgb(36,36,36)\",\"showgrid\":false,\"showline\":true,\"ticks\":\"outside\"},\"bgcolor\":\"white\",\"caxis\":{\"gridcolor\":\"rgb(232,232,232)\",\"linecolor\":\"rgb(36,36,36)\",\"showgrid\":false,\"showline\":true,\"ticks\":\"outside\"}},\"title\":{\"x\":0.05},\"xaxis\":{\"automargin\":true,\"gridcolor\":\"rgb(232,232,232)\",\"linecolor\":\"rgb(36,36,36)\",\"showgrid\":false,\"showline\":true,\"ticks\":\"outside\",\"title\":{\"standoff\":15},\"zeroline\":false,\"zerolinecolor\":\"rgb(36,36,36)\"},\"yaxis\":{\"automargin\":true,\"gridcolor\":\"rgb(232,232,232)\",\"linecolor\":\"rgb(36,36,36)\",\"showgrid\":false,\"showline\":true,\"ticks\":\"outside\",\"title\":{\"standoff\":15},\"zeroline\":false,\"zerolinecolor\":\"rgb(36,36,36)\"}}},\"shapes\":[{\"line\":{\"color\":\"#CFD8DC\",\"width\":2},\"type\":\"line\",\"x0\":7.2185809969902035,\"x1\":7.2185809969902035,\"y0\":-4.600452947616577,\"y1\":-0.4699170351028442},{\"line\":{\"color\":\"#9E9E9E\",\"width\":2},\"type\":\"line\",\"x0\":3.783773732185364,\"x1\":10.653388261795044,\"y0\":-2.5351849913597104,\"y1\":-2.5351849913597104}],\"annotations\":[{\"showarrow\":false,\"text\":\"D1\",\"x\":3.783773732185364,\"y\":-2.5351849913597104,\"yshift\":10},{\"showarrow\":false,\"text\":\"D2\",\"x\":7.2185809969902035,\"xshift\":10,\"y\":-0.4699170351028442}],\"title\":{\"font\":{\"size\":22,\"color\":\"Black\"},\"text\":\"Literature graph\",\"x\":0.5,\"xanchor\":\"center\",\"yanchor\":\"top\"},\"width\":1200,\"height\":750,\"xaxis\":{\"visible\":false},\"yaxis\":{\"visible\":false}},                        {\"responsive\": true}                    ).then(function(){\n",
       "                            \n",
       "var gd = document.getElementById('318d285a-d8d6-4994-88a6-a33a61811159');\n",
       "var x = new MutationObserver(function (mutations, observer) {{\n",
       "        var display = window.getComputedStyle(gd).display;\n",
       "        if (!display || display === 'none') {{\n",
       "            console.log([gd, 'removed!']);\n",
       "            Plotly.purge(gd);\n",
       "            observer.disconnect();\n",
       "        }}\n",
       "}});\n",
       "\n",
       "// Listen for the removal of the full notebook cells\n",
       "var notebookContainer = gd.closest('#notebook-container');\n",
       "if (notebookContainer) {{\n",
       "    x.observe(notebookContainer, {childList: true});\n",
       "}}\n",
       "\n",
       "// Listen for the clearing of the current output cell\n",
       "var outputEl = gd.closest('.output');\n",
       "if (outputEl) {{\n",
       "    x.observe(outputEl, {childList: true});\n",
       "}}\n",
       "\n",
       "                        })                };                });            </script>        </div>"
      ]
     },
     "metadata": {},
     "output_type": "display_data"
    }
   ],
   "source": [
    "plotly_obj = topic_model.visualize_documents(\n",
    "    docs=df_clean[\"index\"],  # df_clean[\"title\"]\n",
    "    embeddings=embeddings,\n",
    "    hide_annotations=False,\n",
    "    custom_labels=True,\n",
    "    title=\"Literature graph\",\n",
    ").update_traces(marker_size=20)\n",
    "plotly_obj"
   ]
  },
  {
   "cell_type": "code",
   "execution_count": 24,
   "id": "9873b0e7-b7ac-48d2-9f85-e4b771f721c3",
   "metadata": {},
   "outputs": [
    {
     "ename": "IndexError",
     "evalue": "positional indexers are out-of-bounds",
     "output_type": "error",
     "traceback": [
      "\u001b[0;31m---------------------------------------------------------------------------\u001b[0m",
      "\u001b[0;31mIndexError\u001b[0m                                Traceback (most recent call last)",
      "File \u001b[0;32m~/Library/Caches/pypoetry/virtualenvs/my-scientific-profile-JtY4lVbC-py3.11/lib/python3.11/site-packages/pandas/core/indexing.py:1618\u001b[0m, in \u001b[0;36m_iLocIndexer._get_list_axis\u001b[0;34m(self, key, axis)\u001b[0m\n\u001b[1;32m   1617\u001b[0m \u001b[38;5;28;01mtry\u001b[39;00m:\n\u001b[0;32m-> 1618\u001b[0m     \u001b[38;5;28;01mreturn\u001b[39;00m \u001b[38;5;28;43mself\u001b[39;49m\u001b[38;5;241;43m.\u001b[39;49m\u001b[43mobj\u001b[49m\u001b[38;5;241;43m.\u001b[39;49m\u001b[43m_take_with_is_copy\u001b[49m\u001b[43m(\u001b[49m\u001b[43mkey\u001b[49m\u001b[43m,\u001b[49m\u001b[43m \u001b[49m\u001b[43maxis\u001b[49m\u001b[38;5;241;43m=\u001b[39;49m\u001b[43maxis\u001b[49m\u001b[43m)\u001b[49m\n\u001b[1;32m   1619\u001b[0m \u001b[38;5;28;01mexcept\u001b[39;00m \u001b[38;5;167;01mIndexError\u001b[39;00m \u001b[38;5;28;01mas\u001b[39;00m err:\n\u001b[1;32m   1620\u001b[0m     \u001b[38;5;66;03m# re-raise with different error message\u001b[39;00m\n",
      "File \u001b[0;32m~/Library/Caches/pypoetry/virtualenvs/my-scientific-profile-JtY4lVbC-py3.11/lib/python3.11/site-packages/pandas/core/generic.py:3948\u001b[0m, in \u001b[0;36mNDFrame._take_with_is_copy\u001b[0;34m(self, indices, axis)\u001b[0m\n\u001b[1;32m   3941\u001b[0m \u001b[38;5;250m\u001b[39m\u001b[38;5;124;03m\"\"\"\u001b[39;00m\n\u001b[1;32m   3942\u001b[0m \u001b[38;5;124;03mInternal version of the `take` method that sets the `_is_copy`\u001b[39;00m\n\u001b[1;32m   3943\u001b[0m \u001b[38;5;124;03mattribute to keep track of the parent dataframe (using in indexing\u001b[39;00m\n\u001b[0;32m   (...)\u001b[0m\n\u001b[1;32m   3946\u001b[0m \u001b[38;5;124;03mSee the docstring of `take` for full explanation of the parameters.\u001b[39;00m\n\u001b[1;32m   3947\u001b[0m \u001b[38;5;124;03m\"\"\"\u001b[39;00m\n\u001b[0;32m-> 3948\u001b[0m result \u001b[38;5;241m=\u001b[39m \u001b[38;5;28;43mself\u001b[39;49m\u001b[38;5;241;43m.\u001b[39;49m\u001b[43m_take\u001b[49m\u001b[43m(\u001b[49m\u001b[43mindices\u001b[49m\u001b[38;5;241;43m=\u001b[39;49m\u001b[43mindices\u001b[49m\u001b[43m,\u001b[49m\u001b[43m \u001b[49m\u001b[43maxis\u001b[49m\u001b[38;5;241;43m=\u001b[39;49m\u001b[43maxis\u001b[49m\u001b[43m)\u001b[49m\n\u001b[1;32m   3949\u001b[0m \u001b[38;5;66;03m# Maybe set copy if we didn't actually change the index.\u001b[39;00m\n",
      "File \u001b[0;32m~/Library/Caches/pypoetry/virtualenvs/my-scientific-profile-JtY4lVbC-py3.11/lib/python3.11/site-packages/pandas/core/generic.py:3932\u001b[0m, in \u001b[0;36mNDFrame._take\u001b[0;34m(self, indices, axis, convert_indices)\u001b[0m\n\u001b[1;32m   3930\u001b[0m         \u001b[38;5;28;01mreturn\u001b[39;00m \u001b[38;5;28mself\u001b[39m\u001b[38;5;241m.\u001b[39mcopy(deep\u001b[38;5;241m=\u001b[39m\u001b[38;5;28;01mNone\u001b[39;00m)\n\u001b[0;32m-> 3932\u001b[0m new_data \u001b[38;5;241m=\u001b[39m \u001b[38;5;28;43mself\u001b[39;49m\u001b[38;5;241;43m.\u001b[39;49m\u001b[43m_mgr\u001b[49m\u001b[38;5;241;43m.\u001b[39;49m\u001b[43mtake\u001b[49m\u001b[43m(\u001b[49m\n\u001b[1;32m   3933\u001b[0m \u001b[43m    \u001b[49m\u001b[43mindices\u001b[49m\u001b[43m,\u001b[49m\n\u001b[1;32m   3934\u001b[0m \u001b[43m    \u001b[49m\u001b[43maxis\u001b[49m\u001b[38;5;241;43m=\u001b[39;49m\u001b[38;5;28;43mself\u001b[39;49m\u001b[38;5;241;43m.\u001b[39;49m\u001b[43m_get_block_manager_axis\u001b[49m\u001b[43m(\u001b[49m\u001b[43maxis\u001b[49m\u001b[43m)\u001b[49m\u001b[43m,\u001b[49m\n\u001b[1;32m   3935\u001b[0m \u001b[43m    \u001b[49m\u001b[43mverify\u001b[49m\u001b[38;5;241;43m=\u001b[39;49m\u001b[38;5;28;43;01mTrue\u001b[39;49;00m\u001b[43m,\u001b[49m\n\u001b[1;32m   3936\u001b[0m \u001b[43m    \u001b[49m\u001b[43mconvert_indices\u001b[49m\u001b[38;5;241;43m=\u001b[39;49m\u001b[43mconvert_indices\u001b[49m\u001b[43m,\u001b[49m\n\u001b[1;32m   3937\u001b[0m \u001b[43m\u001b[49m\u001b[43m)\u001b[49m\n\u001b[1;32m   3938\u001b[0m \u001b[38;5;28;01mreturn\u001b[39;00m \u001b[38;5;28mself\u001b[39m\u001b[38;5;241m.\u001b[39m_constructor(new_data)\u001b[38;5;241m.\u001b[39m__finalize__(\u001b[38;5;28mself\u001b[39m, method\u001b[38;5;241m=\u001b[39m\u001b[38;5;124m\"\u001b[39m\u001b[38;5;124mtake\u001b[39m\u001b[38;5;124m\"\u001b[39m)\n",
      "File \u001b[0;32m~/Library/Caches/pypoetry/virtualenvs/my-scientific-profile-JtY4lVbC-py3.11/lib/python3.11/site-packages/pandas/core/internals/managers.py:960\u001b[0m, in \u001b[0;36mBaseBlockManager.take\u001b[0;34m(self, indexer, axis, verify, convert_indices)\u001b[0m\n\u001b[1;32m    959\u001b[0m \u001b[38;5;28;01mif\u001b[39;00m convert_indices:\n\u001b[0;32m--> 960\u001b[0m     indexer \u001b[38;5;241m=\u001b[39m \u001b[43mmaybe_convert_indices\u001b[49m\u001b[43m(\u001b[49m\u001b[43mindexer\u001b[49m\u001b[43m,\u001b[49m\u001b[43m \u001b[49m\u001b[43mn\u001b[49m\u001b[43m,\u001b[49m\u001b[43m \u001b[49m\u001b[43mverify\u001b[49m\u001b[38;5;241;43m=\u001b[39;49m\u001b[43mverify\u001b[49m\u001b[43m)\u001b[49m\n\u001b[1;32m    962\u001b[0m new_labels \u001b[38;5;241m=\u001b[39m \u001b[38;5;28mself\u001b[39m\u001b[38;5;241m.\u001b[39maxes[axis]\u001b[38;5;241m.\u001b[39mtake(indexer)\n",
      "File \u001b[0;32m~/Library/Caches/pypoetry/virtualenvs/my-scientific-profile-JtY4lVbC-py3.11/lib/python3.11/site-packages/pandas/core/indexers/utils.py:284\u001b[0m, in \u001b[0;36mmaybe_convert_indices\u001b[0;34m(indices, n, verify)\u001b[0m\n\u001b[1;32m    283\u001b[0m     \u001b[38;5;28;01mif\u001b[39;00m mask\u001b[38;5;241m.\u001b[39many():\n\u001b[0;32m--> 284\u001b[0m         \u001b[38;5;28;01mraise\u001b[39;00m \u001b[38;5;167;01mIndexError\u001b[39;00m(\u001b[38;5;124m\"\u001b[39m\u001b[38;5;124mindices are out-of-bounds\u001b[39m\u001b[38;5;124m\"\u001b[39m)\n\u001b[1;32m    285\u001b[0m \u001b[38;5;28;01mreturn\u001b[39;00m indices\n",
      "\u001b[0;31mIndexError\u001b[0m: indices are out-of-bounds",
      "\nThe above exception was the direct cause of the following exception:\n",
      "\u001b[0;31mIndexError\u001b[0m                                Traceback (most recent call last)",
      "Cell \u001b[0;32mIn[24], line 2\u001b[0m\n\u001b[1;32m      1\u001b[0m df_coord \u001b[38;5;241m=\u001b[39m pd\u001b[38;5;241m.\u001b[39mjson_normalize([{\u001b[38;5;124m\"\u001b[39m\u001b[38;5;124mpaper_id\u001b[39m\u001b[38;5;124m\"\u001b[39m: \u001b[38;5;28mint\u001b[39m(index), \u001b[38;5;124m\"\u001b[39m\u001b[38;5;124mx\u001b[39m\u001b[38;5;124m\"\u001b[39m:x, \u001b[38;5;124m\"\u001b[39m\u001b[38;5;124my\u001b[39m\u001b[38;5;124m\"\u001b[39m: y} \u001b[38;5;28;01mfor\u001b[39;00m d \u001b[38;5;129;01min\u001b[39;00m plotly_obj\u001b[38;5;241m.\u001b[39mdata \u001b[38;5;28;01mfor\u001b[39;00m index, x, y \u001b[38;5;129;01min\u001b[39;00m \u001b[38;5;28mzip\u001b[39m(d[\u001b[38;5;124m\"\u001b[39m\u001b[38;5;124mhovertext\u001b[39m\u001b[38;5;124m\"\u001b[39m], d[\u001b[38;5;124m\"\u001b[39m\u001b[38;5;124mx\u001b[39m\u001b[38;5;124m\"\u001b[39m], d[\u001b[38;5;124m\"\u001b[39m\u001b[38;5;124my\u001b[39m\u001b[38;5;124m\"\u001b[39m]) \u001b[38;5;28;01mif\u001b[39;00m \u001b[38;5;129;01mnot\u001b[39;00m np\u001b[38;5;241m.\u001b[39misnan(index)])\n\u001b[0;32m----> 2\u001b[0m df_coord[\u001b[38;5;124m\"\u001b[39m\u001b[38;5;124mtopic\u001b[39m\u001b[38;5;124m\"\u001b[39m] \u001b[38;5;241m=\u001b[39m \u001b[43mdf_clean\u001b[49m\u001b[38;5;241;43m.\u001b[39;49m\u001b[43miloc\u001b[49m\u001b[43m[\u001b[49m\u001b[43mdf_coord\u001b[49m\u001b[43m[\u001b[49m\u001b[38;5;124;43m\"\u001b[39;49m\u001b[38;5;124;43mpaper_id\u001b[39;49m\u001b[38;5;124;43m\"\u001b[39;49m\u001b[43m]\u001b[49m\u001b[38;5;241;43m.\u001b[39;49m\u001b[43mvalues\u001b[49m\u001b[43m]\u001b[49m\u001b[38;5;241m.\u001b[39mtopic\u001b[38;5;241m.\u001b[39mvalues\n\u001b[1;32m      3\u001b[0m df_coord[\u001b[38;5;124m\"\u001b[39m\u001b[38;5;124mtopic_name\u001b[39m\u001b[38;5;124m\"\u001b[39m] \u001b[38;5;241m=\u001b[39m df_coord\u001b[38;5;241m.\u001b[39mapply(\u001b[38;5;28;01mlambda\u001b[39;00m x: topic_labels[\u001b[38;5;28mint\u001b[39m(x[\u001b[38;5;124m\"\u001b[39m\u001b[38;5;124mtopic\u001b[39m\u001b[38;5;124m\"\u001b[39m])], axis\u001b[38;5;241m=\u001b[39m\u001b[38;5;241m1\u001b[39m)\n\u001b[1;32m      4\u001b[0m df_coord[\u001b[38;5;124m\"\u001b[39m\u001b[38;5;124mtitle\u001b[39m\u001b[38;5;124m\"\u001b[39m] \u001b[38;5;241m=\u001b[39m df_coord\u001b[38;5;241m.\u001b[39mapply(\u001b[38;5;28;01mlambda\u001b[39;00m x: \u001b[38;5;124mf\u001b[39m\u001b[38;5;124m\"\u001b[39m\u001b[38;5;132;01m{\u001b[39;00mdf_clean\u001b[38;5;241m.\u001b[39miloc[x[\u001b[38;5;124m'\u001b[39m\u001b[38;5;124mpaper_id\u001b[39m\u001b[38;5;124m'\u001b[39m]]\u001b[38;5;241m.\u001b[39mtitle[:\u001b[38;5;241m50\u001b[39m]\u001b[38;5;250m \u001b[39m\u001b[38;5;241m+\u001b[39m\u001b[38;5;250m \u001b[39m\u001b[38;5;124m'\u001b[39m\u001b[38;5;124m...\u001b[39m\u001b[38;5;124m'\u001b[39m\u001b[38;5;132;01m}\u001b[39;00m\u001b[38;5;124m\"\u001b[39m \u001b[38;5;28;01mif\u001b[39;00m \u001b[38;5;28mlen\u001b[39m(df_clean\u001b[38;5;241m.\u001b[39miloc[x[\u001b[38;5;124m\"\u001b[39m\u001b[38;5;124mpaper_id\u001b[39m\u001b[38;5;124m\"\u001b[39m]]\u001b[38;5;241m.\u001b[39mtitle) \u001b[38;5;241m>\u001b[39m \u001b[38;5;241m50\u001b[39m \u001b[38;5;28;01melse\u001b[39;00m df_clean\u001b[38;5;241m.\u001b[39miloc[x[\u001b[38;5;124m\"\u001b[39m\u001b[38;5;124mpaper_id\u001b[39m\u001b[38;5;124m\"\u001b[39m]]\u001b[38;5;241m.\u001b[39mtitle, axis\u001b[38;5;241m=\u001b[39m\u001b[38;5;241m1\u001b[39m)\n",
      "File \u001b[0;32m~/Library/Caches/pypoetry/virtualenvs/my-scientific-profile-JtY4lVbC-py3.11/lib/python3.11/site-packages/pandas/core/indexing.py:1103\u001b[0m, in \u001b[0;36m_LocationIndexer.__getitem__\u001b[0;34m(self, key)\u001b[0m\n\u001b[1;32m   1100\u001b[0m axis \u001b[38;5;241m=\u001b[39m \u001b[38;5;28mself\u001b[39m\u001b[38;5;241m.\u001b[39maxis \u001b[38;5;129;01mor\u001b[39;00m \u001b[38;5;241m0\u001b[39m\n\u001b[1;32m   1102\u001b[0m maybe_callable \u001b[38;5;241m=\u001b[39m com\u001b[38;5;241m.\u001b[39mapply_if_callable(key, \u001b[38;5;28mself\u001b[39m\u001b[38;5;241m.\u001b[39mobj)\n\u001b[0;32m-> 1103\u001b[0m \u001b[38;5;28;01mreturn\u001b[39;00m \u001b[38;5;28;43mself\u001b[39;49m\u001b[38;5;241;43m.\u001b[39;49m\u001b[43m_getitem_axis\u001b[49m\u001b[43m(\u001b[49m\u001b[43mmaybe_callable\u001b[49m\u001b[43m,\u001b[49m\u001b[43m \u001b[49m\u001b[43maxis\u001b[49m\u001b[38;5;241;43m=\u001b[39;49m\u001b[43maxis\u001b[49m\u001b[43m)\u001b[49m\n",
      "File \u001b[0;32m~/Library/Caches/pypoetry/virtualenvs/my-scientific-profile-JtY4lVbC-py3.11/lib/python3.11/site-packages/pandas/core/indexing.py:1647\u001b[0m, in \u001b[0;36m_iLocIndexer._getitem_axis\u001b[0;34m(self, key, axis)\u001b[0m\n\u001b[1;32m   1645\u001b[0m \u001b[38;5;66;03m# a list of integers\u001b[39;00m\n\u001b[1;32m   1646\u001b[0m \u001b[38;5;28;01melif\u001b[39;00m is_list_like_indexer(key):\n\u001b[0;32m-> 1647\u001b[0m     \u001b[38;5;28;01mreturn\u001b[39;00m \u001b[38;5;28;43mself\u001b[39;49m\u001b[38;5;241;43m.\u001b[39;49m\u001b[43m_get_list_axis\u001b[49m\u001b[43m(\u001b[49m\u001b[43mkey\u001b[49m\u001b[43m,\u001b[49m\u001b[43m \u001b[49m\u001b[43maxis\u001b[49m\u001b[38;5;241;43m=\u001b[39;49m\u001b[43maxis\u001b[49m\u001b[43m)\u001b[49m\n\u001b[1;32m   1649\u001b[0m \u001b[38;5;66;03m# a single integer\u001b[39;00m\n\u001b[1;32m   1650\u001b[0m \u001b[38;5;28;01melse\u001b[39;00m:\n\u001b[1;32m   1651\u001b[0m     key \u001b[38;5;241m=\u001b[39m item_from_zerodim(key)\n",
      "File \u001b[0;32m~/Library/Caches/pypoetry/virtualenvs/my-scientific-profile-JtY4lVbC-py3.11/lib/python3.11/site-packages/pandas/core/indexing.py:1621\u001b[0m, in \u001b[0;36m_iLocIndexer._get_list_axis\u001b[0;34m(self, key, axis)\u001b[0m\n\u001b[1;32m   1618\u001b[0m     \u001b[38;5;28;01mreturn\u001b[39;00m \u001b[38;5;28mself\u001b[39m\u001b[38;5;241m.\u001b[39mobj\u001b[38;5;241m.\u001b[39m_take_with_is_copy(key, axis\u001b[38;5;241m=\u001b[39maxis)\n\u001b[1;32m   1619\u001b[0m \u001b[38;5;28;01mexcept\u001b[39;00m \u001b[38;5;167;01mIndexError\u001b[39;00m \u001b[38;5;28;01mas\u001b[39;00m err:\n\u001b[1;32m   1620\u001b[0m     \u001b[38;5;66;03m# re-raise with different error message\u001b[39;00m\n\u001b[0;32m-> 1621\u001b[0m     \u001b[38;5;28;01mraise\u001b[39;00m \u001b[38;5;167;01mIndexError\u001b[39;00m(\u001b[38;5;124m\"\u001b[39m\u001b[38;5;124mpositional indexers are out-of-bounds\u001b[39m\u001b[38;5;124m\"\u001b[39m) \u001b[38;5;28;01mfrom\u001b[39;00m \u001b[38;5;21;01merr\u001b[39;00m\n",
      "\u001b[0;31mIndexError\u001b[0m: positional indexers are out-of-bounds"
     ]
    }
   ],
   "source": [
    "df_coord = pd.json_normalize([{\"paper_id\": int(index), \"x\":x, \"y\": y} for d in plotly_obj.data for index, x, y in zip(d[\"hovertext\"], d[\"x\"], d[\"y\"]) if not np.isnan(index)])\n",
    "df_coord[\"topic\"] = df_clean.iloc[df_coord[\"paper_id\"].values].topic.values\n",
    "df_coord[\"topic_name\"] = df_coord.apply(lambda x: topic_labels[int(x[\"topic\"])], axis=1)\n",
    "df_coord[\"title\"] = df_coord.apply(lambda x: f\"{df_clean.iloc[x['paper_id']].title[:50] + '...'}\" if len(df_clean.iloc[x[\"paper_id\"]].title) > 50 else df_clean.iloc[x[\"paper_id\"]].title, axis=1)\n",
    "df_coord[\"doi\"] = df_clean.iloc[df_coord[\"paper_id\"]].doi.values\n",
    "df_coord[\"journal\"] = df_clean.iloc[df_coord[\"paper_id\"]][\"journal.name\"].values\n",
    "df_coord[\"year\"] = df_clean.iloc[df_coord[\"paper_id\"]][\"year\"].values\n",
    "df_coord.head()"
   ]
  },
  {
   "cell_type": "code",
   "execution_count": 25,
   "id": "8e62ce3b-3bb5-4b1c-86a0-9fa4fcc5b923",
   "metadata": {},
   "outputs": [
    {
     "ename": "NameError",
     "evalue": "name 'Legend' is not defined",
     "output_type": "error",
     "traceback": [
      "\u001b[0;31m---------------------------------------------------------------------------\u001b[0m",
      "\u001b[0;31mNameError\u001b[0m                                 Traceback (most recent call last)",
      "Cell \u001b[0;32mIn[25], line 14\u001b[0m\n\u001b[1;32m      1\u001b[0m plot \u001b[38;5;241m=\u001b[39m figure(\n\u001b[1;32m      2\u001b[0m     width\u001b[38;5;241m=\u001b[39m\u001b[38;5;241m800\u001b[39m, \n\u001b[1;32m      3\u001b[0m     height\u001b[38;5;241m=\u001b[39m\u001b[38;5;241m800\u001b[39m, \n\u001b[0;32m   (...)\u001b[0m\n\u001b[1;32m     12\u001b[0m     ]\n\u001b[1;32m     13\u001b[0m )\n\u001b[0;32m---> 14\u001b[0m plot\u001b[38;5;241m.\u001b[39madd_layout(\u001b[43mLegend\u001b[49m(), \u001b[38;5;124m'\u001b[39m\u001b[38;5;124mbelow\u001b[39m\u001b[38;5;124m'\u001b[39m)\n\u001b[1;32m     15\u001b[0m \u001b[38;5;66;03m# plot.grid.grid_line_color = None\u001b[39;00m\n\u001b[1;32m     16\u001b[0m plot\u001b[38;5;241m.\u001b[39mscatter(\n\u001b[1;32m     17\u001b[0m     x\u001b[38;5;241m=\u001b[39m\u001b[38;5;124m\"\u001b[39m\u001b[38;5;124mx\u001b[39m\u001b[38;5;124m\"\u001b[39m, \n\u001b[1;32m     18\u001b[0m     y\u001b[38;5;241m=\u001b[39m\u001b[38;5;124m\"\u001b[39m\u001b[38;5;124my\u001b[39m\u001b[38;5;124m\"\u001b[39m, \n\u001b[0;32m   (...)\u001b[0m\n\u001b[1;32m     24\u001b[0m     fill_color\u001b[38;5;241m=\u001b[39mlinear_cmap(\u001b[38;5;124m\"\u001b[39m\u001b[38;5;124mtopic\u001b[39m\u001b[38;5;124m\"\u001b[39m, \u001b[38;5;124m\"\u001b[39m\u001b[38;5;124mTurbo256\u001b[39m\u001b[38;5;124m\"\u001b[39m, \u001b[38;5;241m0\u001b[39m, \u001b[38;5;28mlen\u001b[39m(topic_labels))\n\u001b[1;32m     25\u001b[0m )\n",
      "\u001b[0;31mNameError\u001b[0m: name 'Legend' is not defined"
     ]
    }
   ],
   "source": [
    "plot = figure(\n",
    "    width=800, \n",
    "    height=800, \n",
    "    title=\"Literature graph\", \n",
    "    x_axis_location=None, \n",
    "    y_axis_location=None, \n",
    "    tooltips=[\n",
    "        (\"Topic\", \"@topic_name\"),\n",
    "        (\"Title\", \"@title\"),\n",
    "        (\"Ref\", \"@journal (@year)\"),\n",
    "        (\"DOI\", \"@doi\"),\n",
    "    ]\n",
    ")\n",
    "plot.add_layout(Legend(), 'below')\n",
    "# plot.grid.grid_line_color = None\n",
    "plot.scatter(\n",
    "    x=\"x\", \n",
    "    y=\"y\", \n",
    "    source=df_coord, \n",
    "    size=20,\n",
    "    alpha=0.7,\n",
    "    line_width=0,\n",
    "    legend_field=\"topic_name\",\n",
    "    fill_color=linear_cmap(\"topic\", \"Turbo256\", 0, len(topic_labels))\n",
    ")\n",
    "output_notebook()\n",
    "show(plot)"
   ]
  },
  {
   "cell_type": "code",
   "execution_count": 26,
   "id": "b2d386c8-1665-4f9d-beb4-55c291574e27",
   "metadata": {},
   "outputs": [
    {
     "data": {
      "text/html": [
       "<div>\n",
       "<style scoped>\n",
       "    .dataframe tbody tr th:only-of-type {\n",
       "        vertical-align: middle;\n",
       "    }\n",
       "\n",
       "    .dataframe tbody tr th {\n",
       "        vertical-align: top;\n",
       "    }\n",
       "\n",
       "    .dataframe thead th {\n",
       "        text-align: right;\n",
       "    }\n",
       "</style>\n",
       "<table border=\"1\" class=\"dataframe\">\n",
       "  <thead>\n",
       "    <tr style=\"text-align: right;\">\n",
       "      <th></th>\n",
       "      <th>index</th>\n",
       "      <th>doi</th>\n",
       "      <th>title</th>\n",
       "      <th>publication_date</th>\n",
       "      <th>authors</th>\n",
       "      <th>citation_count</th>\n",
       "      <th>bib_entry</th>\n",
       "      <th>abstract</th>\n",
       "      <th>tldr</th>\n",
       "      <th>year</th>\n",
       "      <th>...</th>\n",
       "      <th>open_access.open_access_status</th>\n",
       "      <th>open_access.landing_page_url</th>\n",
       "      <th>open_access.pdf_url</th>\n",
       "      <th>embedding.x</th>\n",
       "      <th>embedding.y</th>\n",
       "      <th>embedding.topic_number</th>\n",
       "      <th>embedding.topic_name</th>\n",
       "      <th>abstract_without_stopwords</th>\n",
       "      <th>abstract_lemmatized</th>\n",
       "      <th>topic</th>\n",
       "    </tr>\n",
       "  </thead>\n",
       "  <tbody>\n",
       "    <tr>\n",
       "      <th>0</th>\n",
       "      <td>0</td>\n",
       "      <td>10.1021/acs.jctc.3c00201</td>\n",
       "      <td>Condensed-Phase Molecular Representation to Li...</td>\n",
       "      <td>2023-07-03 12:50:55</td>\n",
       "      <td>[{'given': 'Bernadette', 'family': 'Mohr', 'af...</td>\n",
       "      <td>0</td>\n",
       "      <td>@article{Mohr_2023,\\n\\tdoi = {10.1021/acs.jctc...</td>\n",
       "      <td>Molecular design requires systematic and broad...</td>\n",
       "      <td>None</td>\n",
       "      <td>2023</td>\n",
       "      <td>...</td>\n",
       "      <td>hybrid</td>\n",
       "      <td>https://doi.org/10.1021/acs.jctc.3c00201</td>\n",
       "      <td>None</td>\n",
       "      <td>0.249262</td>\n",
       "      <td>10.144167</td>\n",
       "      <td>1</td>\n",
       "      <td>|  |</td>\n",
       "      <td>Molecular design requires systematic broadly a...</td>\n",
       "      <td>Molecular design requires systematic broadly a...</td>\n",
       "      <td>0</td>\n",
       "    </tr>\n",
       "    <tr>\n",
       "      <th>1</th>\n",
       "      <td>1</td>\n",
       "      <td>10.1039/D3BM00412K</td>\n",
       "      <td>Inverse design of viral infectivity-enhancing ...</td>\n",
       "      <td>2023-06-15 11:01:18</td>\n",
       "      <td>[{'given': 'Kübra', 'family': 'Kaygisiz', 'aff...</td>\n",
       "      <td>0</td>\n",
       "      <td>@article{Kaygisiz_2023,\\n\\tdoi = {10.1039/d3bm...</td>\n",
       "      <td>Amyloid-like nanofibers from self-assembling p...</td>\n",
       "      <td>These de novo sequences are the shortest activ...</td>\n",
       "      <td>2023</td>\n",
       "      <td>...</td>\n",
       "      <td>hybrid</td>\n",
       "      <td>https://doi.org/10.1039/d3bm00412k</td>\n",
       "      <td>https://pubs.rsc.org/en/content/articlepdf/202...</td>\n",
       "      <td>-0.143314</td>\n",
       "      <td>10.587479</td>\n",
       "      <td>3</td>\n",
       "      <td>|  |</td>\n",
       "      <td>Amyloid-like nanofibers self-assembling peptid...</td>\n",
       "      <td>Amyloid-like nanofibers self-assembling peptid...</td>\n",
       "      <td>1</td>\n",
       "    </tr>\n",
       "    <tr>\n",
       "      <th>2</th>\n",
       "      <td>2</td>\n",
       "      <td>10.1021/acsfoodscitech.2c00251</td>\n",
       "      <td>Identifying Sequential Residue Patterns in Bit...</td>\n",
       "      <td>2022-11-09 14:00:22</td>\n",
       "      <td>[{'given': 'Arghya', 'family': 'Dutta', 'affil...</td>\n",
       "      <td>1</td>\n",
       "      <td>@article{Dutta_2022,\\n\\tdoi = {10.1021/acsfood...</td>\n",
       "      <td>The primary structures of peptides, originatin...</td>\n",
       "      <td>This work proposes a method that coarse-grains...</td>\n",
       "      <td>2022</td>\n",
       "      <td>...</td>\n",
       "      <td>hybrid</td>\n",
       "      <td>https://doi.org/10.1021/acsfoodscitech.2c00251</td>\n",
       "      <td>https://pubs.acs.org/doi/pdf/10.1021/acsfoodsc...</td>\n",
       "      <td>2.160865</td>\n",
       "      <td>10.472014</td>\n",
       "      <td>8</td>\n",
       "      <td>mtp | pc | electrostatics</td>\n",
       "      <td>primary structures peptides, originating food ...</td>\n",
       "      <td>primary structure peptides, originating food p...</td>\n",
       "      <td>5</td>\n",
       "    </tr>\n",
       "    <tr>\n",
       "      <th>3</th>\n",
       "      <td>3</td>\n",
       "      <td>10.1063/5.0104914</td>\n",
       "      <td>Broad chemical transferability in structure-ba...</td>\n",
       "      <td>2022-08-12 11:51:35</td>\n",
       "      <td>[{'given': 'Kiran', 'family': 'Kanekal', 'affi...</td>\n",
       "      <td>2</td>\n",
       "      <td>@article{Kanekal_2022,\\n\\tdoi = {10.1063/5.010...</td>\n",
       "      <td>Compared to top-down coarse-grained (CG) model...</td>\n",
       "      <td>None</td>\n",
       "      <td>2022</td>\n",
       "      <td>...</td>\n",
       "      <td>hybrid</td>\n",
       "      <td>https://doi.org/10.1063/5.0104914</td>\n",
       "      <td>https://aip.scitation.org/doi/pdf/10.1063/5.01...</td>\n",
       "      <td>-0.313834</td>\n",
       "      <td>9.078019</td>\n",
       "      <td>9</td>\n",
       "      <td>peptide | umami | peptides</td>\n",
       "      <td>Compared top-down coarse-grained (CG) models, ...</td>\n",
       "      <td>Compared top-down coarse-grained (CG) models, ...</td>\n",
       "      <td>6</td>\n",
       "    </tr>\n",
       "    <tr>\n",
       "      <th>4</th>\n",
       "      <td>4</td>\n",
       "      <td>10.3389/fchem.2022.982757</td>\n",
       "      <td>Benchmarking coarse-grained models of organic ...</td>\n",
       "      <td>2022-09-09 05:40:47</td>\n",
       "      <td>[{'given': 'Marc', 'family': 'Stieffenhofer', ...</td>\n",
       "      <td>2</td>\n",
       "      <td>@article{Stieffenhofer_2022,\\n\\tdoi = {10.3389...</td>\n",
       "      <td>The potential of mean force is an effective co...</td>\n",
       "      <td>The reintroduced details enable force computat...</td>\n",
       "      <td>2022</td>\n",
       "      <td>...</td>\n",
       "      <td>gold</td>\n",
       "      <td>https://doi.org/10.3389/fchem.2022.982757</td>\n",
       "      <td>https://www.frontiersin.org/articles/10.3389/f...</td>\n",
       "      <td>-0.357330</td>\n",
       "      <td>8.789751</td>\n",
       "      <td>9</td>\n",
       "      <td>peptide | umami | peptides</td>\n",
       "      <td>potential mean force effective coarse-grained ...</td>\n",
       "      <td>potential mean force effective coarse-grained ...</td>\n",
       "      <td>6</td>\n",
       "    </tr>\n",
       "  </tbody>\n",
       "</table>\n",
       "<p>5 rows × 27 columns</p>\n",
       "</div>"
      ],
      "text/plain": [
       "   index                             doi  \\\n",
       "0      0        10.1021/acs.jctc.3c00201   \n",
       "1      1              10.1039/D3BM00412K   \n",
       "2      2  10.1021/acsfoodscitech.2c00251   \n",
       "3      3               10.1063/5.0104914   \n",
       "4      4       10.3389/fchem.2022.982757   \n",
       "\n",
       "                                               title    publication_date  \\\n",
       "0  Condensed-Phase Molecular Representation to Li... 2023-07-03 12:50:55   \n",
       "1  Inverse design of viral infectivity-enhancing ... 2023-06-15 11:01:18   \n",
       "2  Identifying Sequential Residue Patterns in Bit... 2022-11-09 14:00:22   \n",
       "3  Broad chemical transferability in structure-ba... 2022-08-12 11:51:35   \n",
       "4  Benchmarking coarse-grained models of organic ... 2022-09-09 05:40:47   \n",
       "\n",
       "                                             authors  citation_count  \\\n",
       "0  [{'given': 'Bernadette', 'family': 'Mohr', 'af...               0   \n",
       "1  [{'given': 'Kübra', 'family': 'Kaygisiz', 'aff...               0   \n",
       "2  [{'given': 'Arghya', 'family': 'Dutta', 'affil...               1   \n",
       "3  [{'given': 'Kiran', 'family': 'Kanekal', 'affi...               2   \n",
       "4  [{'given': 'Marc', 'family': 'Stieffenhofer', ...               2   \n",
       "\n",
       "                                           bib_entry  \\\n",
       "0  @article{Mohr_2023,\\n\\tdoi = {10.1021/acs.jctc...   \n",
       "1  @article{Kaygisiz_2023,\\n\\tdoi = {10.1039/d3bm...   \n",
       "2  @article{Dutta_2022,\\n\\tdoi = {10.1021/acsfood...   \n",
       "3  @article{Kanekal_2022,\\n\\tdoi = {10.1063/5.010...   \n",
       "4  @article{Stieffenhofer_2022,\\n\\tdoi = {10.3389...   \n",
       "\n",
       "                                            abstract  \\\n",
       "0  Molecular design requires systematic and broad...   \n",
       "1  Amyloid-like nanofibers from self-assembling p...   \n",
       "2  The primary structures of peptides, originatin...   \n",
       "3  Compared to top-down coarse-grained (CG) model...   \n",
       "4  The potential of mean force is an effective co...   \n",
       "\n",
       "                                                tldr  year  ...  \\\n",
       "0                                               None  2023  ...   \n",
       "1  These de novo sequences are the shortest activ...  2023  ...   \n",
       "2  This work proposes a method that coarse-grains...  2022  ...   \n",
       "3                                               None  2022  ...   \n",
       "4  The reintroduced details enable force computat...  2022  ...   \n",
       "\n",
       "  open_access.open_access_status  \\\n",
       "0                         hybrid   \n",
       "1                         hybrid   \n",
       "2                         hybrid   \n",
       "3                         hybrid   \n",
       "4                           gold   \n",
       "\n",
       "                     open_access.landing_page_url  \\\n",
       "0        https://doi.org/10.1021/acs.jctc.3c00201   \n",
       "1              https://doi.org/10.1039/d3bm00412k   \n",
       "2  https://doi.org/10.1021/acsfoodscitech.2c00251   \n",
       "3               https://doi.org/10.1063/5.0104914   \n",
       "4       https://doi.org/10.3389/fchem.2022.982757   \n",
       "\n",
       "                                 open_access.pdf_url embedding.x embedding.y  \\\n",
       "0                                               None    0.249262   10.144167   \n",
       "1  https://pubs.rsc.org/en/content/articlepdf/202...   -0.143314   10.587479   \n",
       "2  https://pubs.acs.org/doi/pdf/10.1021/acsfoodsc...    2.160865   10.472014   \n",
       "3  https://aip.scitation.org/doi/pdf/10.1063/5.01...   -0.313834    9.078019   \n",
       "4  https://www.frontiersin.org/articles/10.3389/f...   -0.357330    8.789751   \n",
       "\n",
       "   embedding.topic_number        embedding.topic_name  \\\n",
       "0                       1                       |  |    \n",
       "1                       3                       |  |    \n",
       "2                       8   mtp | pc | electrostatics   \n",
       "3                       9  peptide | umami | peptides   \n",
       "4                       9  peptide | umami | peptides   \n",
       "\n",
       "                          abstract_without_stopwords  \\\n",
       "0  Molecular design requires systematic broadly a...   \n",
       "1  Amyloid-like nanofibers self-assembling peptid...   \n",
       "2  primary structures peptides, originating food ...   \n",
       "3  Compared top-down coarse-grained (CG) models, ...   \n",
       "4  potential mean force effective coarse-grained ...   \n",
       "\n",
       "                                 abstract_lemmatized topic  \n",
       "0  Molecular design requires systematic broadly a...     0  \n",
       "1  Amyloid-like nanofibers self-assembling peptid...     1  \n",
       "2  primary structure peptides, originating food p...     5  \n",
       "3  Compared top-down coarse-grained (CG) models, ...     6  \n",
       "4  potential mean force effective coarse-grained ...     6  \n",
       "\n",
       "[5 rows x 27 columns]"
      ]
     },
     "execution_count": 26,
     "metadata": {},
     "output_type": "execute_result"
    }
   ],
   "source": [
    "df_clean[\"topic\"] = topic_model.topics_\n",
    "df_clean.head()"
   ]
  },
  {
   "cell_type": "markdown",
   "id": "07e5b921-b53f-4e4b-bf66-638c2377ffc2",
   "metadata": {
    "tags": []
   },
   "source": [
    "## Networkx & Bokeh"
   ]
  },
  {
   "cell_type": "code",
   "execution_count": null,
   "id": "6d51fe42-77ef-435e-a9da-e12871cbb354",
   "metadata": {},
   "outputs": [],
   "source": [
    "paper_offset = 100\n",
    "topic_attrs = {\n",
    "    k: {\"topic\": f\"Topic: {v}\", \"id\": (k+1) / len(topic_labels)} for k, v in enumerate(topic_labels)\n",
    "}\n",
    "topic_attrs = {\n",
    "    **topic_attrs,\n",
    "    len(topic_labels): {\"key\": \"\", \"id\": np.nan}\n",
    "}\n",
    "paper_attrs = {\n",
    "    paper_offset + k: {\n",
    "        \"topic\": topic_labels[top],\n",
    "        \"title\": f\"{t[:40] + '...' if len(t) >40 else t}\",\n",
    "        \"id\": (top+1) / len(topic_labels),\n",
    "        \"doi\": doi,\n",
    "    } for k, (t, top, doi) in enumerate(df_clean[[\"title\", \"topic\", \"doi\"]].to_numpy())\n",
    "}\n",
    "attrs = {**topic_attrs, **paper_attrs}"
   ]
  },
  {
   "cell_type": "code",
   "execution_count": null,
   "id": "17ad596f-3ac7-4ca1-92e0-4cd2ed2dcc1b",
   "metadata": {},
   "outputs": [],
   "source": [
    "G = nx.Graph()\n",
    "G.add_nodes_from(topic_model.topic_labels_.keys())\n",
    "G.add_node(len(topic_labels))\n",
    "G.add_edges_from(\n",
    "    [(len(topic_labels), i) for i in range(len(topic_labels))]\n",
    ")\n",
    "G.add_nodes_from(df_clean[\"index\"] + paper_offset)\n",
    "nx.set_node_attributes(G, attrs)\n",
    "G.add_edges_from(\n",
    "    [(i+paper_offset, t) for i, t in df_clean[[\"index\", \"topic\"]].to_numpy()]\n",
    ")"
   ]
  },
  {
   "cell_type": "code",
   "execution_count": null,
   "id": "087c2e4a-383c-4afc-9077-0937bde8e4e9",
   "metadata": {},
   "outputs": [],
   "source": [
    "plot = figure(width=500, height=500, x_range=(-1.2, 1.2), y_range=(-1.2, 1.2),\n",
    "              x_axis_location=None, y_axis_location=None, \n",
    "              title=\"Graph Interaction Demo\", \n",
    "              tooltips=[\n",
    "                  (\"Topic\", \"@topic\"),\n",
    "                  (\"Title\", \"@title\"),\n",
    "                  (\"doi\", \"@doi\"),\n",
    "              ])\n",
    "plot.grid.grid_line_color = None\n",
    "\n",
    "graph_renderer = from_networkx(G, nx.spring_layout, scale=1., center=(0, 0))\n",
    "graph_renderer.node_renderer.glyph = Circle(\n",
    "    size=15, \n",
    "    fill_color=linear_cmap(\"id\", \"Set3_12\", 1/len(topic_labels), 1.)\n",
    ")\n",
    "graph_renderer.node_renderer.selection_glyph = Circle(size=15, fill_color=Spectral4[2])\n",
    "graph_renderer.node_renderer.hover_glyph = Circle(size=15, fill_color=Spectral4[1])\n",
    "\n",
    "graph_renderer.edge_renderer.glyph = MultiLine(\n",
    "    line_color=\"#CCCCCC\", line_alpha=0.5, line_width=5.\n",
    ")\n",
    "graph_renderer.edge_renderer.selection_glyph = MultiLine(line_color=Spectral4[2], line_width=5)\n",
    "graph_renderer.edge_renderer.hover_glyph = MultiLine(line_color=Spectral4[1], line_width=5)\n",
    "\n",
    "graph_renderer.selection_policy = NodesAndLinkedEdges()\n",
    "graph_renderer.inspection_policy = NodesAndLinkedEdges()\n",
    "\n",
    "plot.renderers.append(graph_renderer)\n",
    "\n",
    "output_notebook()\n",
    "show(plot)"
   ]
  },
  {
   "cell_type": "markdown",
   "id": "73e9addc-56b5-4384-860e-b865624dda76",
   "metadata": {},
   "source": [
    "## Wordcloud"
   ]
  },
  {
   "cell_type": "code",
   "execution_count": null,
   "id": "801ab1e4-b901-4117-80a0-b5f287329f3a",
   "metadata": {},
   "outputs": [],
   "source": [
    "from wordcloud import WordCloud\n",
    "import matplotlib.pyplot as plt\n",
    "\n",
    "def create_wordcloud(model, topic):\n",
    "    text = {word: value for word, value in model.get_topic(topic)}\n",
    "    wc = WordCloud(background_color=\"white\", max_words=1000)\n",
    "    wc.generate_from_frequencies(text)\n",
    "    plt.imshow(wc, interpolation=\"bilinear\")\n",
    "    plt.axis(\"off\")\n",
    "    plt.show()\n",
    "    \n",
    "def create_one_wordcloud(model):\n",
    "    text = {word: value for entry in model.get_topics().values() for word, value in entry}\n",
    "    wc = WordCloud(background_color=\"white\", max_words=1000)\n",
    "    wc.generate_from_frequencies(text)\n",
    "    plt.imshow(wc, interpolation=\"bilinear\")\n",
    "    plt.axis(\"off\")\n",
    "    plt.show()\n",
    "\n",
    "# Show wordcloud\n",
    "create_wordcloud(topic_model, topic=0)"
   ]
  },
  {
   "cell_type": "code",
   "execution_count": null,
   "id": "936de640-9394-4e65-934f-b21a9a3536cb",
   "metadata": {},
   "outputs": [],
   "source": [
    "create_one_wordcloud(topic_model)"
   ]
  },
  {
   "cell_type": "code",
   "execution_count": null,
   "id": "4b4df2a5-ddf7-40c3-853b-7999a1a28696",
   "metadata": {},
   "outputs": [],
   "source": []
  }
 ],
 "metadata": {
  "kernelspec": {
   "display_name": "my_scientific_profile",
   "language": "python",
   "name": "my_scientific_profile"
  },
  "language_info": {
   "codemirror_mode": {
    "name": "ipython",
    "version": 3
   },
   "file_extension": ".py",
   "mimetype": "text/x-python",
   "name": "python",
   "nbconvert_exporter": "python",
   "pygments_lexer": "ipython3",
   "version": "3.11.4"
  }
 },
 "nbformat": 4,
 "nbformat_minor": 5
}
