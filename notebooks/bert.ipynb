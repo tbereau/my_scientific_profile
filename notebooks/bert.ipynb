{
 "cells": [
  {
   "cell_type": "code",
   "execution_count": null,
   "id": "fb389c50-349b-41d8-a1df-aaf1cddaae41",
   "metadata": {},
   "outputs": [],
   "source": [
    "import pandas as pd\n",
    "import numpy as np\n",
    "import nltk\n",
    "nltk.download('stopwords')\n",
    "nltk.download('omw-1.4')\n",
    "nltk.download('wordnet')\n",
    "wn = nltk.WordNetLemmatizer()\n",
    "from bertopic import BERTopic\n",
    "from umap import UMAP\n",
    "from dataclasses import asdict\n",
    "import plotly.express as px\n",
    "import plotly.graph_objects as go\n",
    "import networkx as nx\n",
    "from bokeh.io import show, output_notebook\n",
    "from bokeh.models import (\n",
    "    BoxZoomTool, Circle, HoverTool,\n",
    "    MultiLine, Plot, Range1d, ResetTool,\n",
    "    NodesAndLinkedEdges,\n",
    "    OpenURL, TapTool,\n",
    ")\n",
    "from bokeh.palettes import Spectral4\n",
    "from bokeh.plotting import figure, from_networkx\n",
    "from bokeh.transform import linear_cmap\n",
    "import matplotlib.pyplot as plt\n",
    "\n",
    "\n",
    "from my_scientific_profile.database.papers import load_all_papers_from_s3\n",
    "from my_scientific_profile.web_app.extensions import s3_client, S3_BUCKET"
   ]
  },
  {
   "cell_type": "code",
   "execution_count": null,
   "id": "4b6706ca-7be1-4d08-ad0a-e59939132976",
   "metadata": {},
   "outputs": [],
   "source": [
    "papers = load_all_papers_from_s3(s3_client=s3_client, s3_bucket=S3_BUCKET)"
   ]
  },
  {
   "cell_type": "code",
   "execution_count": null,
   "id": "4de85f3d-3756-4ca7-b191-a9078e257d22",
   "metadata": {},
   "outputs": [],
   "source": [
    "df = pd.json_normalize(asdict(p) for p in papers)\n",
    "df.head()"
   ]
  },
  {
   "cell_type": "code",
   "execution_count": null,
   "id": "57be590c-afda-4ff8-bc03-eec7a219f280",
   "metadata": {},
   "outputs": [],
   "source": [
    "df[[\"doi\", \"title\", \"abstract\"]].info()"
   ]
  },
  {
   "cell_type": "code",
   "execution_count": null,
   "id": "1587f026-2b41-4c97-b4d6-1ce096d9c290",
   "metadata": {},
   "outputs": [],
   "source": [
    "df.loc[df.abstract.isna()][[\"title\", \"abstract\"]]"
   ]
  },
  {
   "cell_type": "code",
   "execution_count": null,
   "id": "89c7c63c-1caf-4018-bca2-d3910c25dcb6",
   "metadata": {},
   "outputs": [],
   "source": [
    "df_clean = df.loc[~df.abstract.isna()].reset_index()"
   ]
  },
  {
   "cell_type": "code",
   "execution_count": null,
   "id": "c04e24f9-c509-486e-9914-4b2ae2dce930",
   "metadata": {},
   "outputs": [],
   "source": [
    "stopwords = nltk.corpus.stopwords.words('english')\n",
    "len(stopwords)"
   ]
  },
  {
   "cell_type": "code",
   "execution_count": null,
   "id": "77dfd914-87d9-4fa7-a870-e9691f4444f1",
   "metadata": {},
   "outputs": [],
   "source": [
    "df_clean[\"abstract_without_stopwords\"] = df_clean['abstract'].apply(lambda x: ' '.join([w for w in x.split() if w.lower() not in stopwords]))\n",
    "df_clean[\"abstract_lemmatized\"] = df_clean['abstract_without_stopwords'].apply(lambda x: ' '.join([wn.lemmatize(w) for w in x.split() if w not in stopwords]))"
   ]
  },
  {
   "cell_type": "code",
   "execution_count": null,
   "id": "4ddda8e9-c305-478b-a478-795135629d3b",
   "metadata": {},
   "outputs": [],
   "source": [
    "umap_model = UMAP(\n",
    "    n_neighbors=2, \n",
    "    n_components=2, \n",
    "    min_dist=0.0, \n",
    "    metric='euclidean',\n",
    "    random_state=100\n",
    ")"
   ]
  },
  {
   "cell_type": "code",
   "execution_count": null,
   "id": "c68ede6a-4e61-42ce-937c-fbd448d03c6d",
   "metadata": {},
   "outputs": [],
   "source": [
    "topic_model = BERTopic(\n",
    "    umap_model=umap_model,\n",
    "    min_topic_size=2,\n",
    "    top_n_words=10,\n",
    ").fit(\n",
    "    df_clean[\"abstract_lemmatized\"], \n",
    ")"
   ]
  },
  {
   "cell_type": "code",
   "execution_count": null,
   "id": "7fb6b41e-3965-40f7-88e5-23751a1c7476",
   "metadata": {},
   "outputs": [],
   "source": [
    "topic_model.get_topic_info()"
   ]
  },
  {
   "cell_type": "code",
   "execution_count": null,
   "id": "29bbe781-2ac4-4e04-acaf-fd4a8a71fa6a",
   "metadata": {},
   "outputs": [],
   "source": [
    "from sentence_transformers import SentenceTransformer\n",
    "\n",
    "# Create embeddings from the documents\n",
    "sentence_model = SentenceTransformer(\"all-MiniLM-L6-v2\")\n",
    "embeddings = sentence_model.encode(df_clean[\"abstract_lemmatized\"])"
   ]
  },
  {
   "cell_type": "code",
   "execution_count": null,
   "id": "2c7b57bb-460b-4ef5-9a53-c7aa3b343505",
   "metadata": {
    "tags": []
   },
   "outputs": [],
   "source": [
    "topic_labels = topic_model.generate_topic_labels(\n",
    "    nr_words=3,\n",
    "    topic_prefix=False,\n",
    "    word_length=15,\n",
    "    separator=\" | \"\n",
    ")\n",
    "topic_model.set_topic_labels(topic_labels)"
   ]
  },
  {
   "cell_type": "code",
   "execution_count": null,
   "id": "0168b4b2-c174-48b6-8094-1cc0aeacf149",
   "metadata": {},
   "outputs": [],
   "source": [
    "topic_model.visualize_documents(\n",
    "    docs=df_clean[\"title\"],  # df_clean[\"title\"]\n",
    "    embeddings=embeddings,\n",
    "    hide_annotations=False,\n",
    "    custom_labels=True,\n",
    "    title=\"Literature graph\",\n",
    ").update_traces(marker_size=20)"
   ]
  },
  {
   "cell_type": "code",
   "execution_count": null,
   "id": "115307ea-4fcc-4867-a9a8-249d0723a96b",
   "metadata": {},
   "outputs": [],
   "source": [
    "plotly_obj = topic_model.visualize_documents(\n",
    "    docs=df_clean[\"index\"],  # df_clean[\"title\"]\n",
    "    embeddings=embeddings,\n",
    "    hide_annotations=False,\n",
    "    custom_labels=True,\n",
    "    title=\"Literature graph\",\n",
    ").update_traces(marker_size=20)\n",
    "plotly_obj"
   ]
  },
  {
   "cell_type": "code",
   "execution_count": null,
   "id": "9873b0e7-b7ac-48d2-9f85-e4b771f721c3",
   "metadata": {},
   "outputs": [],
   "source": [
    "df_coord = pd.json_normalize([{\"paper_id\": int(index), \"x\":x, \"y\": y} for d in plotly_obj.data for index, x, y in zip(d[\"hovertext\"], d[\"x\"], d[\"y\"]) if not np.isnan(index)])\n",
    "df_coord[\"topic\"] = df_clean.iloc[df_coord[\"paper_id\"].values].topic.values\n",
    "df_coord[\"topic_name\"] = df_coord.apply(lambda x: topic_labels[int(x[\"topic\"])], axis=1)\n",
    "df_coord[\"title\"] = df_coord.apply(lambda x: f\"{df_clean.iloc[x['paper_id']].title[:50] + '...'}\" if len(df_clean.iloc[x[\"paper_id\"]].title) > 50 else df_clean.iloc[x[\"paper_id\"]].title, axis=1)\n",
    "df_coord[\"doi\"] = df_clean.iloc[df_coord[\"paper_id\"]].doi.values\n",
    "df_coord[\"journal\"] = df_clean.iloc[df_coord[\"paper_id\"]][\"journal.name\"].values\n",
    "df_coord[\"year\"] = df_clean.iloc[df_coord[\"paper_id\"]][\"year\"].values\n",
    "df_coord.head()"
   ]
  },
  {
   "cell_type": "code",
   "execution_count": null,
   "id": "8e62ce3b-3bb5-4b1c-86a0-9fa4fcc5b923",
   "metadata": {},
   "outputs": [],
   "source": [
    "plot = figure(\n",
    "    width=800, \n",
    "    height=800, \n",
    "    title=\"Literature graph\", \n",
    "    x_axis_location=None, \n",
    "    y_axis_location=None, \n",
    "    tooltips=[\n",
    "        (\"Topic\", \"@topic_name\"),\n",
    "        (\"Title\", \"@title\"),\n",
    "        (\"Ref\", \"@journal (@year)\"),\n",
    "        (\"DOI\", \"@doi\"),\n",
    "    ]\n",
    ")\n",
    "plot.add_layout(Legend(), 'below')\n",
    "# plot.grid.grid_line_color = None\n",
    "plot.scatter(\n",
    "    x=\"x\", \n",
    "    y=\"y\", \n",
    "    source=df_coord, \n",
    "    size=20,\n",
    "    alpha=0.7,\n",
    "    line_width=0,\n",
    "    legend_field=\"topic_name\",\n",
    "    fill_color=linear_cmap(\"topic\", \"Turbo256\", 0, len(topic_labels))\n",
    ")\n",
    "output_notebook()\n",
    "show(plot)"
   ]
  },
  {
   "cell_type": "code",
   "execution_count": null,
   "id": "b2d386c8-1665-4f9d-beb4-55c291574e27",
   "metadata": {},
   "outputs": [],
   "source": [
    "df_clean[\"topic\"] = topic_model.topics_\n",
    "df_clean.head()"
   ]
  },
  {
   "cell_type": "markdown",
   "id": "07e5b921-b53f-4e4b-bf66-638c2377ffc2",
   "metadata": {
    "tags": []
   },
   "source": [
    "## Networkx & Bokeh"
   ]
  },
  {
   "cell_type": "code",
   "execution_count": null,
   "id": "6d51fe42-77ef-435e-a9da-e12871cbb354",
   "metadata": {},
   "outputs": [],
   "source": [
    "paper_offset = 100\n",
    "topic_attrs = {\n",
    "    k: {\"topic\": f\"Topic: {v}\", \"id\": (k+1) / len(topic_labels)} for k, v in enumerate(topic_labels)\n",
    "}\n",
    "topic_attrs = {\n",
    "    **topic_attrs,\n",
    "    len(topic_labels): {\"key\": \"\", \"id\": np.nan}\n",
    "}\n",
    "paper_attrs = {\n",
    "    paper_offset + k: {\n",
    "        \"topic\": topic_labels[top],\n",
    "        \"title\": f\"{t[:40] + '...' if len(t) >40 else t}\",\n",
    "        \"id\": (top+1) / len(topic_labels),\n",
    "        \"doi\": doi,\n",
    "    } for k, (t, top, doi) in enumerate(df_clean[[\"title\", \"topic\", \"doi\"]].to_numpy())\n",
    "}\n",
    "attrs = {**topic_attrs, **paper_attrs}"
   ]
  },
  {
   "cell_type": "code",
   "execution_count": null,
   "id": "17ad596f-3ac7-4ca1-92e0-4cd2ed2dcc1b",
   "metadata": {},
   "outputs": [],
   "source": [
    "G = nx.Graph()\n",
    "G.add_nodes_from(topic_model.topic_labels_.keys())\n",
    "G.add_node(len(topic_labels))\n",
    "G.add_edges_from(\n",
    "    [(len(topic_labels), i) for i in range(len(topic_labels))]\n",
    ")\n",
    "G.add_nodes_from(df_clean[\"index\"] + paper_offset)\n",
    "nx.set_node_attributes(G, attrs)\n",
    "G.add_edges_from(\n",
    "    [(i+paper_offset, t) for i, t in df_clean[[\"index\", \"topic\"]].to_numpy()]\n",
    ")"
   ]
  },
  {
   "cell_type": "code",
   "execution_count": null,
   "id": "087c2e4a-383c-4afc-9077-0937bde8e4e9",
   "metadata": {},
   "outputs": [],
   "source": [
    "plot = figure(width=500, height=500, x_range=(-1.2, 1.2), y_range=(-1.2, 1.2),\n",
    "              x_axis_location=None, y_axis_location=None, \n",
    "              title=\"Graph Interaction Demo\", \n",
    "              tooltips=[\n",
    "                  (\"Topic\", \"@topic\"),\n",
    "                  (\"Title\", \"@title\"),\n",
    "                  (\"doi\", \"@doi\"),\n",
    "              ])\n",
    "plot.grid.grid_line_color = None\n",
    "\n",
    "graph_renderer = from_networkx(G, nx.spring_layout, scale=1., center=(0, 0))\n",
    "graph_renderer.node_renderer.glyph = Circle(\n",
    "    size=15, \n",
    "    fill_color=linear_cmap(\"id\", \"Set3_12\", 1/len(topic_labels), 1.)\n",
    ")\n",
    "graph_renderer.node_renderer.selection_glyph = Circle(size=15, fill_color=Spectral4[2])\n",
    "graph_renderer.node_renderer.hover_glyph = Circle(size=15, fill_color=Spectral4[1])\n",
    "\n",
    "graph_renderer.edge_renderer.glyph = MultiLine(\n",
    "    line_color=\"#CCCCCC\", line_alpha=0.5, line_width=5.\n",
    ")\n",
    "graph_renderer.edge_renderer.selection_glyph = MultiLine(line_color=Spectral4[2], line_width=5)\n",
    "graph_renderer.edge_renderer.hover_glyph = MultiLine(line_color=Spectral4[1], line_width=5)\n",
    "\n",
    "graph_renderer.selection_policy = NodesAndLinkedEdges()\n",
    "graph_renderer.inspection_policy = NodesAndLinkedEdges()\n",
    "\n",
    "plot.renderers.append(graph_renderer)\n",
    "\n",
    "output_notebook()\n",
    "show(plot)"
   ]
  },
  {
   "cell_type": "markdown",
   "id": "73e9addc-56b5-4384-860e-b865624dda76",
   "metadata": {},
   "source": [
    "## Wordcloud"
   ]
  },
  {
   "cell_type": "code",
   "execution_count": null,
   "id": "801ab1e4-b901-4117-80a0-b5f287329f3a",
   "metadata": {},
   "outputs": [],
   "source": [
    "from wordcloud import WordCloud\n",
    "import matplotlib.pyplot as plt\n",
    "\n",
    "def create_wordcloud(model, topic):\n",
    "    text = {word: value for word, value in model.get_topic(topic)}\n",
    "    wc = WordCloud(background_color=\"white\", max_words=1000)\n",
    "    wc.generate_from_frequencies(text)\n",
    "    plt.imshow(wc, interpolation=\"bilinear\")\n",
    "    plt.axis(\"off\")\n",
    "    plt.show()\n",
    "    \n",
    "def create_one_wordcloud(model):\n",
    "    text = {word: value for entry in model.get_topics().values() for word, value in entry}\n",
    "    wc = WordCloud(background_color=\"white\", max_words=1000)\n",
    "    wc.generate_from_frequencies(text)\n",
    "    plt.imshow(wc, interpolation=\"bilinear\")\n",
    "    plt.axis(\"off\")\n",
    "    plt.show()\n",
    "\n",
    "# Show wordcloud\n",
    "create_wordcloud(topic_model, topic=0)"
   ]
  },
  {
   "cell_type": "code",
   "execution_count": null,
   "id": "936de640-9394-4e65-934f-b21a9a3536cb",
   "metadata": {},
   "outputs": [],
   "source": [
    "create_one_wordcloud(topic_model)"
   ]
  },
  {
   "cell_type": "code",
   "execution_count": null,
   "id": "4b4df2a5-ddf7-40c3-853b-7999a1a28696",
   "metadata": {},
   "outputs": [],
   "source": []
  }
 ],
 "metadata": {
  "kernelspec": {
   "display_name": "my_scientific_profile",
   "language": "python",
   "name": "my_scientific_profile"
  },
  "language_info": {
   "codemirror_mode": {
    "name": "ipython",
    "version": 3
   },
   "file_extension": ".py",
   "mimetype": "text/x-python",
   "name": "python",
   "nbconvert_exporter": "python",
   "pygments_lexer": "ipython3",
   "version": "3.10.8"
  }
 },
 "nbformat": 4,
 "nbformat_minor": 5
}
