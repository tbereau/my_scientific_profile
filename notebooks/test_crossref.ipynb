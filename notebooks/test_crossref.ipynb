{
 "cells": [
  {
   "cell_type": "code",
   "execution_count": null,
   "id": "32ec345c-d596-44da-be12-5eadc376d59f",
   "metadata": {},
   "outputs": [],
   "source": [
    "from my_scientific_profile.orcid.works import (\n",
    "    get_works, get_all_detailed_works, get_put_code_to_doi_map, get_doi_to_put_code_map, get_orcid_request_endpoint_template, get_orcid_request_headers\n",
    ")\n",
    "from my_scientific_profile.orcid.detailed_work import get_detailed_work, OrcidDetailedWork\n",
    "from my_scientific_profile.crossref.works import get_crossref_work_by_doi, CrossrefWork\n",
    "from my_scientific_profile.unpaywall.works import get_unpaywall_work_by_doi, UnpaywallWork\n",
    "import pandas as pd\n",
    "from requests import get\n",
    "from dataclasses import asdict\n",
    "import logging\n",
    "from pprint import pprint"
   ]
  },
  {
   "cell_type": "code",
   "execution_count": null,
   "id": "a46a91c3-99d2-460d-a79c-9dac3057d664",
   "metadata": {},
   "outputs": [],
   "source": [
    "dois = list(set(list(get_put_code_to_doi_map().values())))"
   ]
  },
  {
   "cell_type": "code",
   "execution_count": null,
   "id": "e425d113-5379-43c4-bbc9-99214caf72d6",
   "metadata": {},
   "outputs": [],
   "source": [
    "get_unpaywall_work_by_doi(dois[1])"
   ]
  },
  {
   "cell_type": "code",
   "execution_count": null,
   "id": "7127e6b0-288b-44d9-b8c2-d9d3da445d1f",
   "metadata": {},
   "outputs": [],
   "source": []
  },
  {
   "cell_type": "code",
   "execution_count": null,
   "id": "461007cd-cc25-4a55-a66b-fb5626f26ec4",
   "metadata": {},
   "outputs": [],
   "source": [
    "df = pd.json_normalize([asdict(get_work_by_doi(doi).message) for doi in dois])[[\"doi\", \"title\", \"short_container_title\", \"is_referenced_by_count\"]]\n",
    "df"
   ]
  },
  {
   "cell_type": "code",
   "execution_count": null,
   "id": "fd7bfbd5-bb65-497e-a4dc-e21881c6f9bf",
   "metadata": {},
   "outputs": [],
   "source": [
    "pd.json_normalize([asdict(a) for doi in dois[:10] for a in get_work_by_doi(doi).message.author]).sort_values(\"family\")"
   ]
  },
  {
   "cell_type": "code",
   "execution_count": null,
   "id": "8e246302-7f7e-4593-b3c2-2d3c9138c8e7",
   "metadata": {},
   "outputs": [],
   "source": []
  }
 ],
 "metadata": {
  "kernelspec": {
   "display_name": "my_scientific_profile",
   "language": "python",
   "name": "my_scientific_profile"
  },
  "language_info": {
   "codemirror_mode": {
    "name": "ipython",
    "version": 3
   },
   "file_extension": ".py",
   "mimetype": "text/x-python",
   "name": "python",
   "nbconvert_exporter": "python",
   "pygments_lexer": "ipython3",
   "version": "3.10.6"
  }
 },
 "nbformat": 4,
 "nbformat_minor": 5
}
