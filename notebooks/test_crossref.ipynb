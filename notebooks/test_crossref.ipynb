{
 "cells": [
  {
   "cell_type": "code",
   "execution_count": null,
   "id": "32ec345c-d596-44da-be12-5eadc376d59f",
   "metadata": {
    "pycharm": {
     "name": "#%%\n"
    }
   },
   "outputs": [],
   "source": [
    "from my_scientific_profile.orcid.works import get_put_code_to_doi_map\n",
    "from my_scientific_profile.crossref.works import get_crossref_work_by_doi\n",
    "import pandas as pd\n",
    "from dataclasses import asdict\n",
    "from fuzzywuzzy.fuzz import ratio"
   ]
  },
  {
   "cell_type": "markdown",
   "id": "f7c62e83",
   "metadata": {
    "pycharm": {
     "name": "#%% md\n"
    }
   },
   "source": [
    "## Query and save papers\n",
    "\n",
    "- Use ORCID to get the list of DOIs\n",
    "- Use CrossRef to get paper infos for each DOI\n",
    "- Use Semantic Scholar on each DOI to try to get TLDR\n",
    "- Use Unpaywall to get Open Access info / preprint\n",
    "- Use doi2bib to get bib on each DOI\n",
    "\n",
    "Fields to keep:\n",
    "- Title\n",
    "- Journal name\n",
    "- Year\n",
    "- DOI\n",
    "- Authors\n",
    "- bib entry\n",
    "- (preprint)\n",
    "- (TLDR)\n",
    "\n"
   ]
  },
  {
   "cell_type": "code",
   "execution_count": null,
   "id": "a46a91c3-99d2-460d-a79c-9dac3057d664",
   "metadata": {
    "pycharm": {
     "name": "#%%\n"
    }
   },
   "outputs": [],
   "source": [
    "dois = list(set(list(get_put_code_to_doi_map().values())))"
   ]
  },
  {
   "cell_type": "code",
   "execution_count": null,
   "id": "5e758d68-2776-41fe-aa5a-3f19a402f312",
   "metadata": {
    "pycharm": {
     "name": "#%%\n"
    }
   },
   "outputs": [],
   "source": [
    "work = get_crossref_work_by_doi(dois[0])\n",
    "work.message"
   ]
  },
  {
   "cell_type": "code",
   "execution_count": null,
   "id": "d1aafdf3",
   "metadata": {
    "jupyter": {
     "outputs_hidden": false
    },
    "pycharm": {
     "name": "#%%\n"
    }
   },
   "outputs": [],
   "source": [
    "pd.json_normalize([asdict(get_crossref_work_by_doi(doi).message) for doi in dois[:2]])"
   ]
  },
  {
   "cell_type": "code",
   "execution_count": null,
   "id": "d248a963-9539-4a8b-a2b3-7a0a99b94700",
   "metadata": {
    "pycharm": {
     "name": "#%%\n"
    }
   },
   "outputs": [],
   "source": [
    "# for doi in dois:\n",
    "#     for author in get_crossref_work_by_doi(doi).message.author:\n",
    "#         # print(author)"
   ]
  },
  {
   "cell_type": "code",
   "execution_count": null,
   "id": "79ed6ade-ea8d-453a-b156-8fa6977afc49",
   "metadata": {
    "pycharm": {
     "name": "#%%\n"
    }
   },
   "outputs": [],
   "source": [
    "authors = [author for doi in dois for author in get_crossref_work_by_doi(doi).message.author]\n",
    "authors"
   ]
  },
  {
   "cell_type": "code",
   "execution_count": null,
   "id": "07ebb369-d512-4fbe-9e6c-d535dd58cb97",
   "metadata": {
    "pycharm": {
     "name": "#%%\n"
    }
   },
   "outputs": [],
   "source": [
    "df = pd.json_normalize([asdict(a) for a in authors]).sort_values(\"family\")\n",
    "df"
   ]
  },
  {
   "cell_type": "code",
   "execution_count": null,
   "id": "dbc54695",
   "metadata": {
    "jupyter": {
     "outputs_hidden": false
    },
    "pycharm": {
     "name": "#%%\n"
    }
   },
   "outputs": [],
   "source": [
    "df_sub = df[[\"given\", \"family\", \"orcid\"]].groupby(by=[\"given\", \"family\"]).first().sort_values(\"family\")\n",
    "df_sub"
   ]
  },
  {
   "cell_type": "code",
   "execution_count": null,
   "id": "ada07248-9452-4608-b59d-bbe6f07927f2",
   "metadata": {
    "pycharm": {
     "name": "#%%\n"
    }
   },
   "outputs": [],
   "source": [
    "df_wo_orcid = df_sub.loc[pd.isna(df_sub.orcid)].reset_index().sort_values('family')\n",
    "df_wo_orcid['full_name'] = df_wo_orcid['given'] + \" \" + df_wo_orcid['family']\n",
    "df_wo_orcid"
   ]
  },
  {
   "cell_type": "code",
   "execution_count": null,
   "id": "cba52f8a",
   "metadata": {
    "jupyter": {
     "outputs_hidden": false
    },
    "pycharm": {
     "name": "#%%\n"
    }
   },
   "outputs": [],
   "source": [
    "df_w_orcid = df_sub.loc[pd.notna(df_sub.orcid)].reset_index().sort_values('family')\n",
    "df_w_orcid['full_name'] = df_w_orcid['given'] + \" \" + df_w_orcid['family']\n",
    "df_w_orcid"
   ]
  },
  {
   "cell_type": "code",
   "execution_count": null,
   "id": "f7e795ce",
   "metadata": {
    "jupyter": {
     "outputs_hidden": false
    },
    "pycharm": {
     "name": "#%%\n"
    }
   },
   "outputs": [],
   "source": [
    "ratio(\"J. F. Rudzinski\", \"Joseph F. Ruszinski\"), ratio(\"Joseph F Rudzinski\", \"Joseph F. Ruszinski\"), ratio(\"J Rudzinski\", \"Joseph Rudzinski\")"
   ]
  },
  {
   "cell_type": "code",
   "execution_count": null,
   "id": "65df1b51-387a-480c-a75e-e2107417eadf",
   "metadata": {
    "pycharm": {
     "name": "#%%\n"
    }
   },
   "outputs": [],
   "source": [
    "df.groupby(by=[\"given\", \"family\"]).first().drop([\"sequence\", \"authenticated_orcid\"], axis=1).head(60).sort_values(\"family\")"
   ]
  },
  {
   "cell_type": "code",
   "execution_count": null,
   "id": "a6c70a85-591c-477d-92fb-f7c5c7f5e45b",
   "metadata": {
    "pycharm": {
     "name": "#%%\n"
    }
   },
   "outputs": [],
   "source": []
  },
  {
   "cell_type": "code",
   "execution_count": null,
   "id": "acc91fce-ec6c-4b9b-bd4e-bc2c986fff63",
   "metadata": {
    "pycharm": {
     "name": "#%%\n"
    }
   },
   "outputs": [],
   "source": []
  },
  {
   "cell_type": "code",
   "execution_count": null,
   "id": "89cafe6b-0832-46a8-9ab8-a93e1611cbb0",
   "metadata": {
    "pycharm": {
     "name": "#%%\n"
    }
   },
   "outputs": [],
   "source": []
  },
  {
   "cell_type": "code",
   "execution_count": null,
   "id": "461007cd-cc25-4a55-a66b-fb5626f26ec4",
   "metadata": {
    "pycharm": {
     "name": "#%%\n"
    }
   },
   "outputs": [],
   "source": [
    "df = pd.json_normalize([asdict(get_crossref_work_by_doi(doi).message) for doi in dois[:2]])[[\"doi\", \"title\", \"short_container_title\", \"is_referenced_by_count\"]]\n",
    "df"
   ]
  },
  {
   "cell_type": "code",
   "execution_count": null,
   "id": "fd7bfbd5-bb65-497e-a4dc-e21881c6f9bf",
   "metadata": {
    "pycharm": {
     "name": "#%%\n"
    }
   },
   "outputs": [],
   "source": [
    "pd.json_normalize([asdict(a) for doi in dois[:10] for a in get_work_by_doi(doi).message.author]).sort_values(\"family\")"
   ]
  },
  {
   "cell_type": "code",
   "execution_count": null,
   "id": "8e246302-7f7e-4593-b3c2-2d3c9138c8e7",
   "metadata": {
    "pycharm": {
     "name": "#%%\n"
    }
   },
   "outputs": [],
   "source": []
  }
 ],
 "metadata": {
  "kernelspec": {
   "display_name": "my_scientific_profile",
   "language": "python",
   "name": "my_scientific_profile"
  },
  "language_info": {
   "codemirror_mode": {
    "name": "ipython",
    "version": 3
   },
   "file_extension": ".py",
   "mimetype": "text/x-python",
   "name": "python",
   "nbconvert_exporter": "python",
   "pygments_lexer": "ipython3",
   "version": "3.9.13"
  }
 },
 "nbformat": 4,
 "nbformat_minor": 5
}
