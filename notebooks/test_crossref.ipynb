{
 "cells": [
  {
   "cell_type": "code",
   "execution_count": null,
   "id": "32ec345c-d596-44da-be12-5eadc376d59f",
   "metadata": {},
   "outputs": [],
   "source": [
    "from my_scientific_profile.orcid.works import (\n",
    "    get_works, get_all_detailed_works, get_put_code_to_doi_map, get_doi_to_put_code_map, get_orcid_request_endpoint_template, get_orcid_request_headers\n",
    ")\n",
    "from my_scientific_profile.orcid.detailed_work import get_detailed_work, OrcidDetailedWork\n",
    "from my_scientific_profile.crossref.works import get_crossref_work_by_doi, CrossrefWork\n",
    "from my_scientific_profile.unpaywall.works import get_unpaywall_work_by_doi, UnpaywallWork\n",
    "import pandas as pd\n",
    "from requests import get\n",
    "from dataclasses import asdict\n",
    "import logging\n",
    "from pprint import pprint"
   ]
  },
  {
   "cell_type": "code",
   "execution_count": null,
   "id": "a46a91c3-99d2-460d-a79c-9dac3057d664",
   "metadata": {},
   "outputs": [],
   "source": [
    "dois = list(set(list(get_put_code_to_doi_map().values())))"
   ]
  },
  {
   "cell_type": "code",
   "execution_count": null,
   "id": "5e758d68-2776-41fe-aa5a-3f19a402f312",
   "metadata": {},
   "outputs": [],
   "source": [
    "work = get_crossref_work_by_doi(dois[0])\n",
    "work"
   ]
  },
  {
   "cell_type": "code",
   "execution_count": null,
   "id": "d248a963-9539-4a8b-a2b3-7a0a99b94700",
   "metadata": {},
   "outputs": [],
   "source": [
    "# for doi in dois:\n",
    "#     for author in get_crossref_work_by_doi(doi).message.author:\n",
    "#         # print(author)"
   ]
  },
  {
   "cell_type": "code",
   "execution_count": null,
   "id": "79ed6ade-ea8d-453a-b156-8fa6977afc49",
   "metadata": {},
   "outputs": [],
   "source": [
    "authors = [author for doi in dois for author in get_crossref_work_by_doi(doi).message.author]\n",
    "authors"
   ]
  },
  {
   "cell_type": "code",
   "execution_count": null,
   "id": "07ebb369-d512-4fbe-9e6c-d535dd58cb97",
   "metadata": {},
   "outputs": [],
   "source": [
    "df = pd.json_normalize([asdict(a) for a in authors]).sort_values(\"family\")\n",
    "df"
   ]
  },
  {
   "cell_type": "code",
   "execution_count": null,
   "id": "ada07248-9452-4608-b59d-bbe6f07927f2",
   "metadata": {},
   "outputs": [],
   "source": [
    "df.loc[df.family == \"Wang\"]"
   ]
  },
  {
   "cell_type": "code",
   "execution_count": null,
   "id": "65df1b51-387a-480c-a75e-e2107417eadf",
   "metadata": {},
   "outputs": [],
   "source": [
    "df.groupby(by=[\"given\", \"family\"]).first().drop([\"sequence\", \"authenticated_orcid\"], axis=1).head(60).sort_values(\"family\")"
   ]
  },
  {
   "cell_type": "code",
   "execution_count": null,
   "id": "a6c70a85-591c-477d-92fb-f7c5c7f5e45b",
   "metadata": {},
   "outputs": [],
   "source": []
  },
  {
   "cell_type": "code",
   "execution_count": null,
   "id": "acc91fce-ec6c-4b9b-bd4e-bc2c986fff63",
   "metadata": {},
   "outputs": [],
   "source": []
  },
  {
   "cell_type": "code",
   "execution_count": null,
   "id": "89cafe6b-0832-46a8-9ab8-a93e1611cbb0",
   "metadata": {},
   "outputs": [],
   "source": []
  },
  {
   "cell_type": "code",
   "execution_count": null,
   "id": "461007cd-cc25-4a55-a66b-fb5626f26ec4",
   "metadata": {},
   "outputs": [],
   "source": [
    "df = pd.json_normalize([asdict(get_crossref_work_by_doi(doi).message) for doi in dois[:2]])[[\"doi\", \"title\", \"short_container_title\", \"is_referenced_by_count\"]]\n",
    "df"
   ]
  },
  {
   "cell_type": "code",
   "execution_count": null,
   "id": "fd7bfbd5-bb65-497e-a4dc-e21881c6f9bf",
   "metadata": {},
   "outputs": [],
   "source": [
    "pd.json_normalize([asdict(a) for doi in dois[:10] for a in get_work_by_doi(doi).message.author]).sort_values(\"family\")"
   ]
  },
  {
   "cell_type": "code",
   "execution_count": null,
   "id": "8e246302-7f7e-4593-b3c2-2d3c9138c8e7",
   "metadata": {},
   "outputs": [],
   "source": []
  }
 ],
 "metadata": {
  "kernelspec": {
   "display_name": "my_scientific_profile",
   "language": "python",
   "name": "my_scientific_profile"
  },
  "language_info": {
   "codemirror_mode": {
    "name": "ipython",
    "version": 3
   },
   "file_extension": ".py",
   "mimetype": "text/x-python",
   "name": "python",
   "nbconvert_exporter": "python",
   "pygments_lexer": "ipython3",
   "version": "3.10.6"
  }
 },
 "nbformat": 4,
 "nbformat_minor": 5
}
