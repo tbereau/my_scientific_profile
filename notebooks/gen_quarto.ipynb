{
 "cells": [
  {
   "cell_type": "code",
   "execution_count": null,
   "id": "b2963336-2bdf-4cd9-9838-4b1c812f3dd2",
   "metadata": {},
   "outputs": [],
   "source": [
    "from my_scientific_profile.web_quarto.papers import generate_quarto_paper_page\n",
    "from my_scientific_profile.web_quarto.authors import generate_quarto_author_page\n",
    "from my_scientific_profile.database.papers import load_all_papers_from_s3\n",
    "from my_scientific_profile.database.authors import load_all_paper_authors_from_s3\n",
    "from my_scientific_profile.web_app.extensions import s3_client, S3_BUCKET"
   ]
  },
  {
   "cell_type": "code",
   "execution_count": null,
   "id": "0d6c3c1c-73c7-4a12-b0d5-123f2683f92c",
   "metadata": {},
   "outputs": [],
   "source": [
    "papers = load_all_papers_from_s3(s3_client=s3_client, s3_bucket=S3_BUCKET)\n",
    "authors = load_all_paper_authors_from_s3(s3_client=s3_client, s3_bucket=S3_BUCKET)\n",
    "paper = papers[0]"
   ]
  },
  {
   "cell_type": "code",
   "execution_count": null,
   "id": "e7704c00-113d-4d18-8a8f-915027907c1f",
   "metadata": {},
   "outputs": [],
   "source": [
    "# print(generate_quarto_paper_page(paper))"
   ]
  },
  {
   "cell_type": "code",
   "execution_count": null,
   "id": "2b1cae6f-5560-48c1-a0d8-4110b9ea7dea",
   "metadata": {},
   "outputs": [],
   "source": [
    "author_tristan = [a for a in authors if a.given == \"Tristan\"][0]\n",
    "author_arghya = [a for a in authors if a.given == \"Arghya\"][0]\n",
    "author_bernadette = [a for a in authors if a.given == \"Bernadette\"][0]\n",
    "author_tristan, author_arghya"
   ]
  },
  {
   "cell_type": "code",
   "execution_count": null,
   "id": "9ccd7c5a-dee6-4ea2-8cdb-a04d39921fa1",
   "metadata": {},
   "outputs": [],
   "source": [
    "print(generate_quarto_author_page(author_arghya))"
   ]
  },
  {
   "cell_type": "code",
   "execution_count": null,
   "id": "e3f89c45-49a6-4b2a-bacd-a7993d1d5145",
   "metadata": {},
   "outputs": [],
   "source": []
  }
 ],
 "metadata": {
  "kernelspec": {
   "display_name": "my_scientific_profile",
   "language": "python",
   "name": "my_scientific_profile"
  },
  "language_info": {
   "codemirror_mode": {
    "name": "ipython",
    "version": 3
   },
   "file_extension": ".py",
   "mimetype": "text/x-python",
   "name": "python",
   "nbconvert_exporter": "python",
   "pygments_lexer": "ipython3",
   "version": "3.10.10"
  }
 },
 "nbformat": 4,
 "nbformat_minor": 5
}
