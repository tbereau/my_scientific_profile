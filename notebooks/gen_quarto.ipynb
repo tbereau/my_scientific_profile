{
 "cells": [
  {
   "cell_type": "code",
   "execution_count": null,
   "id": "b2963336-2bdf-4cd9-9838-4b1c812f3dd2",
   "metadata": {},
   "outputs": [],
   "source": [
    "from my_scientific_profile.web_quarto.papers import generate_quarto_paper_page\n",
    "from my_scientific_profile.web_quarto.authors import generate_quarto_author_page, save_quarto_author_page_to_file\n",
    "from my_scientific_profile.database.papers import load_all_papers_from_s3\n",
    "from my_scientific_profile.database.authors import load_all_paper_authors_from_s3\n",
    "from my_scientific_profile.web_app.extensions import s3_client, S3_BUCKET\n",
    "from my_scientific_profile.config.config import get_author_configs\n",
    "from my_scientific_profile.orcid.authors import (\n",
    "    search_for_author_by_name,\n",
    "    search_for_author_by_orcid_id,\n",
    ")\n",
    "\n",
    "from pathlib import Path"
   ]
  },
  {
   "cell_type": "code",
   "execution_count": null,
   "id": "0d6c3c1c-73c7-4a12-b0d5-123f2683f92c",
   "metadata": {},
   "outputs": [],
   "source": [
    "papers = load_all_papers_from_s3(s3_client=s3_client, s3_bucket=S3_BUCKET)\n",
    "authors = load_all_paper_authors_from_s3(s3_client=s3_client, s3_bucket=S3_BUCKET)\n",
    "paper = papers[0]"
   ]
  },
  {
   "cell_type": "code",
   "execution_count": null,
   "id": "aebb896d-06d1-4ad7-8533-aad2308b65e0",
   "metadata": {},
   "outputs": [],
   "source": [
    "get_author_configs()[12]"
   ]
  },
  {
   "cell_type": "code",
   "execution_count": null,
   "id": "d2a96f6a-2e49-4f9c-9422-129383a6b699",
   "metadata": {},
   "outputs": [],
   "source": [
    "author_config = get_author_configs()[12]\n",
    "author_config"
   ]
  },
  {
   "cell_type": "code",
   "execution_count": null,
   "id": "512c16da-304b-4eb2-a27b-5aec29cf079d",
   "metadata": {},
   "outputs": [],
   "source": [
    "search_for_author_by_orcid_id(author_config[\"orcid\"])"
   ]
  },
  {
   "cell_type": "code",
   "execution_count": null,
   "id": "122d479e-f867-42d4-bdde-d6703c0dcfc3",
   "metadata": {},
   "outputs": [],
   "source": [
    "search_for_author_by_name(author_config[\"given\"], author_config[\"family\"])"
   ]
  },
  {
   "cell_type": "code",
   "execution_count": null,
   "id": "e7704c00-113d-4d18-8a8f-915027907c1f",
   "metadata": {},
   "outputs": [],
   "source": [
    "# print(generate_quarto_paper_page(paper))"
   ]
  },
  {
   "cell_type": "code",
   "execution_count": null,
   "id": "2b1cae6f-5560-48c1-a0d8-4110b9ea7dea",
   "metadata": {},
   "outputs": [],
   "source": [
    "author_tristan = [a for a in authors if a.given == \"Tristan\"][0]\n",
    "author_arghya = [a for a in authors if a.given == \"Arghya\"][0]\n",
    "author_bernadette = [a for a in authors if a.given == \"Bernadette\"][0]\n",
    "author_joe = [a for a in authors if a.family == \"Rudzinski\"][0]\n",
    "author_tristan, author_arghya"
   ]
  },
  {
   "cell_type": "code",
   "execution_count": null,
   "id": "b696ace6-8612-4375-a729-555a98f5c2a3",
   "metadata": {},
   "outputs": [],
   "source": [
    "save_quarto_author_page_to_file(author_tristan)"
   ]
  },
  {
   "cell_type": "code",
   "execution_count": null,
   "id": "3845ff78-2bc4-46e5-be88-ba9aaf6055a1",
   "metadata": {},
   "outputs": [],
   "source": [
    "Path(\"/Users/tbereau/soft/my_scientific_profile/my_scientific_profile\").parent"
   ]
  },
  {
   "cell_type": "code",
   "execution_count": null,
   "id": "70d333a4-cfeb-4f20-8d98-c228a535d63d",
   "metadata": {},
   "outputs": [],
   "source": [
    "author_joe.full_name"
   ]
  },
  {
   "cell_type": "code",
   "execution_count": null,
   "id": "9ccd7c5a-dee6-4ea2-8cdb-a04d39921fa1",
   "metadata": {},
   "outputs": [],
   "source": [
    "print(generate_quarto_author_page(author_bernadette))"
   ]
  },
  {
   "cell_type": "code",
   "execution_count": null,
   "id": "e3f89c45-49a6-4b2a-bacd-a7993d1d5145",
   "metadata": {},
   "outputs": [],
   "source": []
  }
 ],
 "metadata": {
  "kernelspec": {
   "display_name": "my_scientific_profile",
   "language": "python",
   "name": "my_scientific_profile"
  },
  "language_info": {
   "codemirror_mode": {
    "name": "ipython",
    "version": 3
   },
   "file_extension": ".py",
   "mimetype": "text/x-python",
   "name": "python",
   "nbconvert_exporter": "python",
   "pygments_lexer": "ipython3",
   "version": "3.10.10"
  }
 },
 "nbformat": 4,
 "nbformat_minor": 5
}
