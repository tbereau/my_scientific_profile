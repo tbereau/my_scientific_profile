{
 "cells": [
  {
   "cell_type": "raw",
   "id": "b6329cbd-44d2-4159-aac6-3ca37b0ca16d",
   "metadata": {},
   "source": [
    "---\n",
    "title: Non-equilibrium reweighting\n",
    "author: Tristan Bereau\n",
    "date: 'Mar 22, 2023'\n",
    "format:\n",
    "  html:\n",
    "    code-fold: true\n",
    "keep-ipynb: true\n",
    "---"
   ]
  },
  {
   "cell_type": "markdown",
   "id": "6e9111ca-ec36-4306-9df1-f4b993789fc1",
   "metadata": {},
   "source": [
    "## Equilibrium reweighting from information theory"
   ]
  },
  {
   "cell_type": "markdown",
   "id": "32892367-c65d-456d-92f8-8ad6f399ac65",
   "metadata": {},
   "source": [
    "Consider a coordinate $x$ with unknown probability distribution, $p(x)$. We further define $q(x)$ as a prior distribution on $p(x)$. The most likely representation of $p(x)$ can be found by minimizing the cross-entropy functional\n",
    "$$\n",
    " \\mathcal{C}[p(x)] = - \\int {\\rm d}x \\, p(x) \\ln \\frac{p(x)}{q(x)}.\n",
    " \\tag{1}\n",
    "$$\n",
    "Without further constraints, this will naturally lead to $p(x) = q(x)$.\n",
    "\n",
    "Now let's add some constraints.\n",
    "\n",
    "First we will enforce all probabilities to be normalized\n",
    "$$\n",
    " \\int {\\rm d}x \\, p(x) = 1.\n",
    "$$"
   ]
  },
  {
   "cell_type": "markdown",
   "id": "e5d0eac4-e332-4c95-b72e-0d5e40c363d8",
   "metadata": {},
   "source": [
    "Working in the canonical ensemble, we add a constraint on the average energy, $\\langle E \\rangle$. The resulting cross-entropy functional yields\n",
    "$$\n",
    "\\begin{align}\n",
    "\\mathcal{C}_{\\rm equ}[p(x)] = &- \\int {\\rm d}x \\, p(x) \\ln \\frac{p(x)}{q(x)} \\\\\n",
    "  &- \\zeta \\left( \\int {\\rm d}x \\, p(x) - 1 \\right) \\\\\n",
    "  &- \\beta \\left( \\int {\\rm d}x \\, p(x)E(x) -\\langle E \\rangle \\right).\n",
    "  \\tag{2}\n",
    "\\end{align}\n",
    "$$\n",
    "Minimization of $\\mathcal{C}_{\\rm equ}$ leads to the Boltzmann expression\n",
    "$$\n",
    "  p(x) = \\frac{q(x)}{Z(\\beta)}\\exp[-\\beta E(x)],\n",
    "$$\n",
    "where the partition function $Z(\\beta) = \\int {\\rm d}x q(x) \\exp[-\\beta E(x)]$ normalizes $p(x)$ and the Lagrange multiplier is naturally identified with the inverse temperature, $\\beta^{-1} = k_{\\rm B}T$.\n",
    "\n",
    "The expression lends itself to equilibrium reweighting: sampling of $q(x)$ at inverse temperature $\\beta'$ to reweight at another, $\\beta''$. Caveat: this only works if we have a good knowledge/sampling of the density of states, $\\Omega(x) = q(x) \\exp[\\beta' E(x)]$). Interestingly this basically recovers the celebrated Ferrenberg and Swendsen histogram reweighting formula, but from a Bayesian perspective!"
   ]
  },
  {
   "cell_type": "markdown",
   "id": "ca9c1b85-81b8-4e64-a198-e77ed62fadbe",
   "metadata": {},
   "source": [
    "## Reweighting of nonequilibrium steady-state dynamics"
   ]
  },
  {
   "cell_type": "markdown",
   "id": "650f9b31-e833-4308-9446-bff29ea55f9f",
   "metadata": {
    "tags": []
   },
   "source": [
    "This formalism can be extended to nonequilibrium steady-state (NESS) dynamics. Moving from equilibrium thermodynamics to dynamics leads to the consideration of _microtrajectories_. Compared to microstates, their number quickly becomes intractable for all but the simplest of systems. For simplicity, we assume Markovian dynamics, so that we chop microtrajectories into bits that we can combine together. Effectively it converts an integral over a space-time trajectory into a sum\n",
    "$$\n",
    "\\int {\\rm d}t \\, x(t) \\rightarrow \\sum_i x_i.\n",
    "$$\n"
   ]
  },
  {
   "cell_type": "markdown",
   "id": "07c09781-0030-4399-a57e-5c7a729ea6ed",
   "metadata": {
    "tags": []
   },
   "source": [
    "The discretized version of the cross-entropy functional becomes\n",
    "$$\n",
    "  \\mathcal{C} = - \\sum_{i,j} \\pi_i p_{ij} \\ln \\frac{p_{ij}}{q_{ij}},\n",
    "$$\n",
    "which looks pretty familiar to the continuous case (1), but now uses the stationary distribution, $\\pi$, and transition probability matrix elements, $p_{ij}$, over a pre-defined lagtime."
   ]
  },
  {
   "cell_type": "markdown",
   "id": "25df429b-b7fd-49b7-a355-95de64f3486a",
   "metadata": {},
   "source": [
    "Let's add some constraints!\n",
    "\n",
    "Ok, so there are different types of constraints we could include, but here we'll only deal with _microscopic_ ones. If we were in equilibrium, we'd be working with detailed balance, $\\pi_i p_{ij} = \\pi_j p_{ji}$. Detailed balance ensures there's no net local flux. Out of equilbrium, we can still expect a balance constraint, but a weaker one--the famous Crooks fluctuation theorem.\n",
    "\n",
    "### Crooks fluctuation theorem\n",
    "\n",
    "The Crooks fluctuation theorem weighs the probability of observing a trajectory under an external driving force _against_ its time-reversed analog. Let's denote the probability of observing the time-forward trajectory by $\\mathcal{P}[\\Gamma(+t)|f(+t)]$ and its time-reversed counterpart by $\\mathcal{P}[\\Gamma(-t)|f(-t)]$. Crooks then tells us that\n",
    "$$\n",
    "  \\frac{\\mathcal{P}[\\Gamma(+t)|f(+t)]}{\\mathcal{P}[\\Gamma(-t)|f(-t)]} = \\exp(-\\beta Q[\\Gamma(+t)|f(+t)]),\n",
    "$$\n",
    "where $Q[\\Gamma(+t)|f(+t)]$ refers to the amount of heat exchanged between the system and the reservoir. This equation can be integrated to yield the more familiar expression\n",
    "$$\n",
    " \\langle \\Delta S_{ij}\\rangle = \\ln \\frac{p_{ij}}{p_{ji}},\n",
    " \\tag{3}\n",
    "$$\n",
    "where $\\Delta S_{ij}$, the local entropy production, describes the amount of work an external reservoir has to perform on the system to transition between the two states $i$ and $j$. This expression generalizes detailed balance.\n",
    "\n",
    "The expression for the local entropy production can be inserted as a constraint on the transition probability matrix elements to the cross-entropy functional (Eq. 2). We proposed such a functional in [Bause et al.][1], using such an approach for local balance, as well as a looser global balance constraint.\n",
    "\n",
    "The resulting equation can be solved analytically, and its coefficients determined numerically by self-iteration.\n",
    "\n",
    "### Seifert expression for the local entropy production\n",
    "\n",
    "One exciting aspect of Eq. (3) is the possibility to determine $\\Delta S_{ij}$. Thanks to Udo Seifert, we can determine the local entropy production of a microscopic trajectory, $\\Gamma(t)$, itself\n",
    "$$\n",
    " \\Delta S[\\Gamma(t)] = \\int {\\rm d}t \\, \\frac{\\bf{F}\\cdot \\bf{\\dot\\Gamma}}{T},\n",
    " \\tag{4}\n",
    "$$\n",
    "where we integrate over time, $\\bf{\\dot\\Gamma}$ is the velocity, and $T$ is the temperature."
   ]
  },
  {
   "cell_type": "markdown",
   "id": "08eddd49-8dcf-49b7-a44b-0b3156e8601d",
   "metadata": {},
   "source": [
    "Marius Bause (first author in the paper) shows that the cross-entropy (aka Maximum Caliber) functional yields quantitative reweighting for overdamped Brownian dynamics. Here's a comparison of reweighting in and out of equilibrium against direct simulations (take away: the points are on the top of the curves!):\n",
    "\n",
    "![](../static/nonequ.png)\n",
    "\n",
    "His work leads to the formulation of an _invariant_. Just like the density of states, which does not change under change in temperature, this invariant does not depend on the driving force. It does, however, depend on the control variable (temperature of $\\Delta S$).\n",
    "\n",
    "## Collective variables\n",
    "\n",
    "Marius' follow-up work demonstrates the applicability of the method to larger systems by working with _collective variables_. The trick consists of replacing the potential energy that is hidden in Eq. (4) by a potential of mean force. In analogy, think of how structure-based coarse-graining goes from an atomistic potential energy surface to a smaller potential of mean force. The derivation of local entropy production in collective coordinates can be found in [Bause & Bereau][2]. It allowed Marius to perform quantitative non-equilibrium reweighting for a small peptide.\n",
    "\n",
    "![](../static/noneq-peptide.png)"
   ]
  },
  {
   "cell_type": "markdown",
   "id": "fa5dbf62-69a1-4938-b3a0-6d466e58631e",
   "metadata": {},
   "source": [
    "## References\n",
    "- [1] : <https://doi.org/10.1103/PhysRevE.100.060103>\n",
    "- [2] : <https://doi.org/10.1063/5.0042972>"
   ]
  },
  {
   "cell_type": "code",
   "execution_count": null,
   "id": "b6c71b60-8814-47af-843a-82dab3b99435",
   "metadata": {},
   "outputs": [],
   "source": []
  }
 ],
 "metadata": {
  "kernelspec": {
   "display_name": "my_scientific_profile",
   "language": "python",
   "name": "my_scientific_profile"
  },
  "language_info": {
   "codemirror_mode": {
    "name": "ipython",
    "version": 3
   },
   "file_extension": ".py",
   "mimetype": "text/x-python",
   "name": "python",
   "nbconvert_exporter": "python",
   "pygments_lexer": "ipython3",
   "version": "3.10.10"
  }
 },
 "nbformat": 4,
 "nbformat_minor": 5
}
