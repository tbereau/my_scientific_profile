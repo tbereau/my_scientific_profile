{
  "cells": [
    {
      "cell_type": "raw",
      "metadata": {},
      "source": [
        "---\n",
        "title: \"Research topics\"\n",
        "format:\n",
        "  html:\n",
        "    toc: true\n",
        "    echo: false\n",
        "    keep-hidden: true\n",
        "---"
      ],
      "id": "9ff1a861"
    },
    {
      "cell_type": "markdown",
      "metadata": {},
      "source": [
        "# Overview\n",
        "\n",
        "Our research focuses on the development and application of multiscale molecular\n",
        "simulations methods for soft-condensed-matter materials. We are particularly invested in using multiscale modeling to explore chemical compound space. The group develops methodologies to accelerate compound-space exploration by means of high-throughput molecular dynamics simulations. Transferable coarse-grained models have the capability to reduce the size of chemical space---a property we leverage to more easily navigate the thermodynamic properties of a large subset of chemical compounds. Coarse-graining also eases the identification of structure--property relationships and design rules for molecular discovery.\n",
        "\n",
        "# Deep backmapping\n",
        "\n",
        "# Dynamical properties of coarse-grained models\n",
        "\n",
        "Further activities aim at improving dynamical properties of\n",
        "coarse-grained models.\n",
        "\n",
        "# Structure formation in peptide coarse-graining\n",
        "\n",
        "Using a top-down coarse-grained peptide model, we study secondary and tertiary structure formation in different environments and scenarios: alpha-helix vs. beta-sheet folding, microcanonical analysis of folding, structural alignment of capsid interfaces, and peptide-membrane interactions.\n",
        "\n",
        "\n",
        "```{markdown}\n",
        "#| fig-column: margin\n",
        "\n",
        "![PhD thesis](thesis.jpg)\n",
        "```\n",
        "\n",
        "\n",
        "::: {.fig-column margin}\n",
        "![PhD thesis](static/thesis.jpg)\n",
        ":::"
      ],
      "id": "989ecf61"
    }
  ],
  "metadata": {
    "kernelspec": {
      "display_name": "Python 3",
      "language": "python",
      "name": "python3"
    }
  },
  "nbformat": 4,
  "nbformat_minor": 5
}