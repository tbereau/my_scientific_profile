{
 "cells": [
  {
   "cell_type": "code",
   "execution_count": 1,
   "id": "1d9be02d-0b22-4435-a0aa-c0752561c6e7",
   "metadata": {},
   "outputs": [],
   "source": [
    "from pprint import pprint \n",
    "\n",
    "from my_scientific_profile.papers.papers import fetch_all_paper_infos, fetch_paper_info\n",
    "from my_scientific_profile.authors.authors import search_for_author_by_orcid_id"
   ]
  },
  {
   "cell_type": "code",
   "execution_count": 2,
   "id": "c150e1ff-751a-4b90-9461-b9675efb9702",
   "metadata": {},
   "outputs": [],
   "source": [
    "orcid = \"0009-0000-0113-6215\"\n",
    "# orcid = \"0000-0001-9945-1271\""
   ]
  },
  {
   "cell_type": "code",
   "execution_count": 3,
   "id": "903c8f37-75e7-4bc4-a1cb-dc0fc579c6e7",
   "metadata": {},
   "outputs": [
    {
     "name": "stderr",
     "output_type": "stream",
     "text": [
      "2025-09-01 17:39:15,491 - my_scientific_profile.orcid.utils - INFO - fetching works None with ORCID 0009-0000-0113-6215\n",
      "2025-09-01 17:39:15,492 - my_scientific_profile.orcid.utils - INFO - url https://pub.orcid.org/v3.0/0009-0000-0113-6215/works\n",
      "2025-09-01 17:39:16,164 - my_scientific_profile.crossref.works - INFO - fetching Crossref info for doi 10.1101/2025.07.13.664596\n",
      "2025-09-01 17:39:16,784 - my_scientific_profile.semantic_scholar.utils - INFO - fetching Semantic Scholar paper info 10.1101/2025.07.13.664596\n",
      "2025-09-01 17:39:17,283 - my_scientific_profile.orcid.utils - INFO - fetching work 188200559 with ORCID 0009-0000-0113-6215\n",
      "2025-09-01 17:39:17,284 - my_scientific_profile.orcid.utils - INFO - url https://pub.orcid.org/v3.0/0009-0000-0113-6215/work/188200559\n",
      "2025-09-01 17:39:17,632 - my_scientific_profile.doi2bib.doi2bib - INFO - fetching doi2bib for 10.1101/2025.07.13.664596\n",
      "2025-09-01 17:39:19,315 - my_scientific_profile.papers.papers - WARNING - No journal title for doi 10.1101/2025.07.13.664596\n",
      "2025-09-01 17:39:19,317 - my_scientific_profile.crossref.works - INFO - fetching Crossref info for doi 10.1039/D5SC03855C\n",
      "2025-09-01 17:39:19,941 - my_scientific_profile.semantic_scholar.utils - INFO - fetching Semantic Scholar paper info 10.1039/D5SC03855C\n",
      "2025-09-01 17:39:20,607 - my_scientific_profile.orcid.utils - INFO - fetching work 189450569 with ORCID 0009-0000-0113-6215\n",
      "2025-09-01 17:39:20,608 - my_scientific_profile.orcid.utils - INFO - url https://pub.orcid.org/v3.0/0009-0000-0113-6215/work/189450569\n",
      "2025-09-01 17:39:21,161 - my_scientific_profile.doi2bib.doi2bib - INFO - fetching doi2bib for 10.1039/D5SC03855C\n",
      "2025-09-01 17:39:22,693 - my_scientific_profile.orcid.utils - INFO - fetching expanded-search ?q=orcid:0009-0000-0113-6215 with ORCID None\n",
      "2025-09-01 17:39:22,695 - my_scientific_profile.orcid.utils - INFO - url https://pub.orcid.org/v3.0/expanded-search/?q=orcid:0009-0000-0113-6215\n",
      "2025-09-01 17:39:23,154 - my_scientific_profile.orcid.authors - INFO - Entries received: 1\n",
      "2025-09-01 17:39:23,155 - my_scientific_profile.orcid.utils - INFO - fetching employments None with ORCID 0009-0000-0113-6215\n",
      "2025-09-01 17:39:23,156 - my_scientific_profile.orcid.utils - INFO - url https://pub.orcid.org/v3.0/0009-0000-0113-6215/employments\n",
      "2025-09-01 17:39:23,752 - my_scientific_profile.orcid.utils - INFO - fetching expanded-search ?q=orcid:0000-0001-9945-1271 with ORCID None\n",
      "2025-09-01 17:39:23,753 - my_scientific_profile.orcid.utils - INFO - url https://pub.orcid.org/v3.0/expanded-search/?q=orcid:0000-0001-9945-1271\n",
      "2025-09-01 17:39:24,298 - my_scientific_profile.orcid.authors - INFO - Entries received: 1\n",
      "2025-09-01 17:39:24,300 - my_scientific_profile.orcid.utils - INFO - fetching employments None with ORCID 0000-0001-9945-1271\n",
      "2025-09-01 17:39:24,300 - my_scientific_profile.orcid.utils - INFO - url https://pub.orcid.org/v3.0/0000-0001-9945-1271/employments\n"
     ]
    },
    {
     "ename": "ValidationError",
     "evalue": "10 validation errors for UnpaywallWork\nz_authors.0.given\n  Field required [type=missing, input_value={'author_position': 'firs...0 Heidelberg, Germany']}, input_type=dict]\n    For further information visit https://errors.pydantic.dev/2.1.2/v/missing\nz_authors.0.family\n  Field required [type=missing, input_value={'author_position': 'firs...0 Heidelberg, Germany']}, input_type=dict]\n    For further information visit https://errors.pydantic.dev/2.1.2/v/missing\nz_authors.0.sequence\n  Field required [type=missing, input_value={'author_position': 'firs...0 Heidelberg, Germany']}, input_type=dict]\n    For further information visit https://errors.pydantic.dev/2.1.2/v/missing\nz_authors.1.given\n  Field required [type=missing, input_value={'author_position': 'last...0 Heidelberg, Germany']}, input_type=dict]\n    For further information visit https://errors.pydantic.dev/2.1.2/v/missing\nz_authors.1.family\n  Field required [type=missing, input_value={'author_position': 'last...0 Heidelberg, Germany']}, input_type=dict]\n    For further information visit https://errors.pydantic.dev/2.1.2/v/missing\nz_authors.1.sequence\n  Field required [type=missing, input_value={'author_position': 'last...0 Heidelberg, Germany']}, input_type=dict]\n    For further information visit https://errors.pydantic.dev/2.1.2/v/missing\nbest_oa_location.updated\n  Value error, Invalid isoformat string: 'deprecated' [type=value_error, input_value='deprecated', input_type=str]\n    For further information visit https://errors.pydantic.dev/2.1.2/v/value_error\nfirst_oa_location.updated\n  Value error, Invalid isoformat string: 'deprecated' [type=value_error, input_value='deprecated', input_type=str]\n    For further information visit https://errors.pydantic.dev/2.1.2/v/value_error\noa_locations.0.updated\n  Value error, Invalid isoformat string: 'deprecated' [type=value_error, input_value='deprecated', input_type=str]\n    For further information visit https://errors.pydantic.dev/2.1.2/v/value_error\noa_locations.1.updated\n  Value error, Invalid isoformat string: 'deprecated' [type=value_error, input_value='deprecated', input_type=str]\n    For further information visit https://errors.pydantic.dev/2.1.2/v/value_error",
     "output_type": "error",
     "traceback": [
      "\u001b[0;31m---------------------------------------------------------------------------\u001b[0m",
      "\u001b[0;31mValidationError\u001b[0m                           Traceback (most recent call last)",
      "Cell \u001b[0;32mIn[3], line 1\u001b[0m\n\u001b[0;32m----> 1\u001b[0m papers \u001b[38;5;241m=\u001b[39m \u001b[43mfetch_all_paper_infos\u001b[49m\u001b[43m(\u001b[49m\u001b[43morcid\u001b[49m\u001b[43m)\u001b[49m\n\u001b[1;32m      2\u001b[0m \u001b[38;5;28mlen\u001b[39m(papers)\n",
      "File \u001b[0;32m~/work/my_scientific_profile/my_scientific_profile/papers/papers.py:144\u001b[0m, in \u001b[0;36mfetch_all_paper_infos\u001b[0;34m(orcid_id)\u001b[0m\n\u001b[1;32m    142\u001b[0m \u001b[38;5;28;01mfor\u001b[39;00m doi \u001b[38;5;129;01min\u001b[39;00m dois:\n\u001b[1;32m    143\u001b[0m     \u001b[38;5;28;01mtry\u001b[39;00m:\n\u001b[0;32m--> 144\u001b[0m         papers\u001b[38;5;241m.\u001b[39mappend(\u001b[43mfetch_paper_info\u001b[49m\u001b[43m(\u001b[49m\u001b[43mdoi\u001b[49m\u001b[43m,\u001b[49m\u001b[43m \u001b[49m\u001b[43morcid_id\u001b[49m\u001b[43m)\u001b[49m)\n\u001b[1;32m    145\u001b[0m     \u001b[38;5;28;01mexcept\u001b[39;00m \u001b[38;5;167;01mAssertionError\u001b[39;00m:\n\u001b[1;32m    146\u001b[0m         logger\u001b[38;5;241m.\u001b[39minfo(\u001b[38;5;124mf\u001b[39m\u001b[38;5;124m\"\u001b[39m\u001b[38;5;124mWARNING! Cannot parse doi \u001b[39m\u001b[38;5;132;01m{\u001b[39;00mdoi\u001b[38;5;132;01m}\u001b[39;00m\u001b[38;5;124m\"\u001b[39m)\n",
      "File \u001b[0;32m~/work/my_scientific_profile/my_scientific_profile/papers/papers.py:124\u001b[0m, in \u001b[0;36mfetch_paper_info\u001b[0;34m(doi, orcid_id)\u001b[0m\n\u001b[1;32m    119\u001b[0m abstract \u001b[38;5;241m=\u001b[39m abstract \u001b[38;5;129;01mor\u001b[39;00m crossref_info\u001b[38;5;241m.\u001b[39mmessage\u001b[38;5;241m.\u001b[39mabstract \u001b[38;5;129;01mor\u001b[39;00m get_abstract_from_config(doi)\n\u001b[1;32m    120\u001b[0m authors \u001b[38;5;241m=\u001b[39m [\n\u001b[1;32m    121\u001b[0m     get_author_from_orcid_or_crossref(author)\n\u001b[1;32m    122\u001b[0m     \u001b[38;5;28;01mfor\u001b[39;00m author \u001b[38;5;129;01min\u001b[39;00m crossref_info\u001b[38;5;241m.\u001b[39mmessage\u001b[38;5;241m.\u001b[39mauthor\n\u001b[1;32m    123\u001b[0m ]\n\u001b[0;32m--> 124\u001b[0m open_access_info \u001b[38;5;241m=\u001b[39m \u001b[43mget_open_access_paper_info\u001b[49m\u001b[43m(\u001b[49m\u001b[43mdoi\u001b[49m\u001b[43m)\u001b[49m\n\u001b[1;32m    125\u001b[0m \u001b[38;5;28;01mreturn\u001b[39;00m Paper(\n\u001b[1;32m    126\u001b[0m     doi\u001b[38;5;241m=\u001b[39mdoi,\n\u001b[1;32m    127\u001b[0m     title\u001b[38;5;241m=\u001b[39mcrossref_info\u001b[38;5;241m.\u001b[39mmessage\u001b[38;5;241m.\u001b[39mtitle[\u001b[38;5;241m0\u001b[39m],\n\u001b[0;32m   (...)\u001b[0m\n\u001b[1;32m    135\u001b[0m     tldr\u001b[38;5;241m=\u001b[39msemantic_info\u001b[38;5;241m.\u001b[39mtldr\u001b[38;5;241m.\u001b[39mtext \u001b[38;5;28;01mif\u001b[39;00m semantic_info \u001b[38;5;129;01mand\u001b[39;00m semantic_info\u001b[38;5;241m.\u001b[39mtldr \u001b[38;5;28;01melse\u001b[39;00m \u001b[38;5;28;01mNone\u001b[39;00m,\n\u001b[1;32m    136\u001b[0m )\n",
      "File \u001b[0;32m~/work/my_scientific_profile/my_scientific_profile/papers/open_access.py:17\u001b[0m, in \u001b[0;36mget_open_access_paper_info\u001b[0;34m(doi)\u001b[0m\n\u001b[1;32m     16\u001b[0m \u001b[38;5;28;01mdef\u001b[39;00m \u001b[38;5;21mget_open_access_paper_info\u001b[39m(doi: \u001b[38;5;28mstr\u001b[39m) \u001b[38;5;241m-\u001b[39m\u001b[38;5;241m>\u001b[39m OpenAccessPaperInfo:\n\u001b[0;32m---> 17\u001b[0m     unpaywall_info \u001b[38;5;241m=\u001b[39m \u001b[43mget_unpaywall_work_by_doi\u001b[49m\u001b[43m(\u001b[49m\u001b[43mdoi\u001b[49m\u001b[43m)\u001b[49m\n\u001b[1;32m     18\u001b[0m     oa_status, landing_page_url, pdf_url \u001b[38;5;241m=\u001b[39m \u001b[38;5;28;01mNone\u001b[39;00m, \u001b[38;5;28;01mNone\u001b[39;00m, \u001b[38;5;28;01mNone\u001b[39;00m\n\u001b[1;32m     19\u001b[0m     is_oa \u001b[38;5;241m=\u001b[39m unpaywall_info\u001b[38;5;241m.\u001b[39mis_oa\n",
      "File \u001b[0;32m~/work/my_scientific_profile/my_scientific_profile/unpaywall/works.py:85\u001b[0m, in \u001b[0;36mget_unpaywall_work_by_doi\u001b[0;34m(doi)\u001b[0m\n\u001b[1;32m     81\u001b[0m response \u001b[38;5;241m=\u001b[39m get(endpoint)\n\u001b[1;32m     82\u001b[0m \u001b[38;5;28;01massert\u001b[39;00m (\n\u001b[1;32m     83\u001b[0m     response\u001b[38;5;241m.\u001b[39mstatus_code \u001b[38;5;241m==\u001b[39m \u001b[38;5;241m200\u001b[39m\n\u001b[1;32m     84\u001b[0m ), \u001b[38;5;124mf\u001b[39m\u001b[38;5;124m\"\u001b[39m\u001b[38;5;124munexpected status code \u001b[39m\u001b[38;5;132;01m{\u001b[39;00mresponse\u001b[38;5;241m.\u001b[39mstatus_code\u001b[38;5;132;01m}\u001b[39;00m\u001b[38;5;124m: \u001b[39m\u001b[38;5;132;01m{\u001b[39;00mresponse\u001b[38;5;241m.\u001b[39mtext\u001b[38;5;132;01m}\u001b[39;00m\u001b[38;5;124m\"\u001b[39m\n\u001b[0;32m---> 85\u001b[0m \u001b[38;5;28;01mreturn\u001b[39;00m \u001b[43mUnpaywallWork\u001b[49m\u001b[43m(\u001b[49m\u001b[38;5;241;43m*\u001b[39;49m\u001b[38;5;241;43m*\u001b[39;49m\u001b[43mresponse\u001b[49m\u001b[38;5;241;43m.\u001b[39;49m\u001b[43mjson\u001b[49m\u001b[43m(\u001b[49m\u001b[43m)\u001b[49m\u001b[43m)\u001b[49m\n",
      "File \u001b[0;32m~/Library/Caches/pypoetry/virtualenvs/my-scientific-profile-JRS2ZZR_-py3.11/lib/python3.11/site-packages/pydantic/_internal/_dataclasses.py:122\u001b[0m, in \u001b[0;36mcomplete_dataclass.<locals>.__init__\u001b[0;34m(__dataclass_self__, *args, **kwargs)\u001b[0m\n\u001b[1;32m    120\u001b[0m __tracebackhide__ \u001b[38;5;241m=\u001b[39m \u001b[38;5;28;01mTrue\u001b[39;00m\n\u001b[1;32m    121\u001b[0m s \u001b[38;5;241m=\u001b[39m __dataclass_self__\n\u001b[0;32m--> 122\u001b[0m \u001b[43ms\u001b[49m\u001b[38;5;241;43m.\u001b[39;49m\u001b[43m__pydantic_validator__\u001b[49m\u001b[38;5;241;43m.\u001b[39;49m\u001b[43mvalidate_python\u001b[49m\u001b[43m(\u001b[49m\u001b[43mArgsKwargs\u001b[49m\u001b[43m(\u001b[49m\u001b[43margs\u001b[49m\u001b[43m,\u001b[49m\u001b[43m \u001b[49m\u001b[43mkwargs\u001b[49m\u001b[43m)\u001b[49m\u001b[43m,\u001b[49m\u001b[43m \u001b[49m\u001b[43mself_instance\u001b[49m\u001b[38;5;241;43m=\u001b[39;49m\u001b[43ms\u001b[49m\u001b[43m)\u001b[49m\n",
      "\u001b[0;31mValidationError\u001b[0m: 10 validation errors for UnpaywallWork\nz_authors.0.given\n  Field required [type=missing, input_value={'author_position': 'firs...0 Heidelberg, Germany']}, input_type=dict]\n    For further information visit https://errors.pydantic.dev/2.1.2/v/missing\nz_authors.0.family\n  Field required [type=missing, input_value={'author_position': 'firs...0 Heidelberg, Germany']}, input_type=dict]\n    For further information visit https://errors.pydantic.dev/2.1.2/v/missing\nz_authors.0.sequence\n  Field required [type=missing, input_value={'author_position': 'firs...0 Heidelberg, Germany']}, input_type=dict]\n    For further information visit https://errors.pydantic.dev/2.1.2/v/missing\nz_authors.1.given\n  Field required [type=missing, input_value={'author_position': 'last...0 Heidelberg, Germany']}, input_type=dict]\n    For further information visit https://errors.pydantic.dev/2.1.2/v/missing\nz_authors.1.family\n  Field required [type=missing, input_value={'author_position': 'last...0 Heidelberg, Germany']}, input_type=dict]\n    For further information visit https://errors.pydantic.dev/2.1.2/v/missing\nz_authors.1.sequence\n  Field required [type=missing, input_value={'author_position': 'last...0 Heidelberg, Germany']}, input_type=dict]\n    For further information visit https://errors.pydantic.dev/2.1.2/v/missing\nbest_oa_location.updated\n  Value error, Invalid isoformat string: 'deprecated' [type=value_error, input_value='deprecated', input_type=str]\n    For further information visit https://errors.pydantic.dev/2.1.2/v/value_error\nfirst_oa_location.updated\n  Value error, Invalid isoformat string: 'deprecated' [type=value_error, input_value='deprecated', input_type=str]\n    For further information visit https://errors.pydantic.dev/2.1.2/v/value_error\noa_locations.0.updated\n  Value error, Invalid isoformat string: 'deprecated' [type=value_error, input_value='deprecated', input_type=str]\n    For further information visit https://errors.pydantic.dev/2.1.2/v/value_error\noa_locations.1.updated\n  Value error, Invalid isoformat string: 'deprecated' [type=value_error, input_value='deprecated', input_type=str]\n    For further information visit https://errors.pydantic.dev/2.1.2/v/value_error"
     ]
    }
   ],
   "source": [
    "papers = fetch_all_paper_infos(orcid)\n",
    "len(papers)"
   ]
  },
  {
   "cell_type": "code",
   "execution_count": 14,
   "id": "cec26068-14ae-4576-b30c-22a2202fe971",
   "metadata": {},
   "outputs": [
    {
     "name": "stdout",
     "output_type": "stream",
     "text": [
      "Paper(doi='10.1021/acs.jcim.4c00212',\n",
      "      title='Structure-Based Protein Assembly Simulations Including Various '\n",
      "            'Binding Sites and Conformations',\n",
      "      journal=JournalInfo(name='Journal of Chemical Information and Modeling',\n",
      "                          url='https://doi.org/10.1021/acs.jcim.4c00212',\n",
      "                          issue='8',\n",
      "                          abbreviation='J. Chem. Inf. Model.',\n",
      "                          pages='3465-3476',\n",
      "                          volume=64),\n",
      "      publication_date=datetime.datetime(2024, 4, 11, 17, 38, 55, tzinfo=TzInfo(UTC)),\n",
      "      authors=[Author(given='Luis',\n",
      "                      family='Walter',\n",
      "                      affiliation=Affiliation(name=None,\n",
      "                                              city=None,\n",
      "                                              country=None),\n",
      "                      orcid='0009-0000-0113-6215',\n",
      "                      email=None,\n",
      "                      full_name='Luis Walter',\n",
      "                      uuid='48d07e98-00e7-11f0-967f-ee63f405f33f'),\n",
      "               Author(given='Patrick',\n",
      "                      family='Quoika',\n",
      "                      affiliation=Affiliation(name='Technical University of '\n",
      "                                                   'Munich',\n",
      "                                              city='Munich',\n",
      "                                              country='DE'),\n",
      "                      orcid='0000-0002-6227-5443',\n",
      "                      email=None,\n",
      "                      full_name='Patrick Quoika',\n",
      "                      uuid='5e718fc6-00e7-11f0-967f-ee63f405f33f'),\n",
      "               Author(given='Martin',\n",
      "                      family='Zacharias',\n",
      "                      affiliation=Affiliation(name='Center for Functional '\n",
      "                                                   'Protein Assemblies, '\n",
      "                                                   'Technical University of '\n",
      "                                                   'Munich, '\n",
      "                                                   'Ernst-Otto-Fischer-Str. 8, '\n",
      "                                                   'Garching 85748, Germany',\n",
      "                                              city=None,\n",
      "                                              country=None),\n",
      "                      orcid=None,\n",
      "                      email=None,\n",
      "                      full_name='Martin Zacharias',\n",
      "                      uuid='5ed48bee-00e7-11f0-967f-ee63f405f33f')],\n",
      "      citation_count=0,\n",
      "      open_access=OpenAccessPaperInfo(is_open_access=True,\n",
      "                                      open_access_status='hybrid',\n",
      "                                      landing_page_url='https://doi.org/10.1021/acs.jcim.4c00212',\n",
      "                                      pdf_url='https://pubs.acs.org/doi/pdf/10.1021/acs.jcim.4c00212'),\n",
      "      bib_entry=' @article{Walter_2024, title={Structure-Based Protein '\n",
      "                'Assembly Simulations Including Various Binding Sites and '\n",
      "                'Conformations}, volume={64}, ISSN={1549-960X}, '\n",
      "                'url={http://dx.doi.org/10.1021/acs.jcim.4c00212}, '\n",
      "                'DOI={10.1021/acs.jcim.4c00212}, number={8}, journal={Journal '\n",
      "                'of Chemical Information and Modeling}, publisher={American '\n",
      "                'Chemical Society (ACS)}, author={Walter, Luis J. and Quoika, '\n",
      "                'Patrick K. and Zacharias, Martin}, year={2024}, month=apr, '\n",
      "                'pages={3465–3476} }\\n',\n",
      "      abstract='Many biological functions are mediated by large complexes '\n",
      "               'formed by multiple proteins and other cellular macromolecules. '\n",
      "               'Recent progress in experimental structure determination, as '\n",
      "               'well as in integrative modeling and protein structure '\n",
      "               'prediction using deep learning approaches, has resulted in a '\n",
      "               'rapid increase in the number of solved multiprotein '\n",
      "               'assemblies. However, the assembly process of large complexes '\n",
      "               'from their components is much less well-studied. We introduce '\n",
      "               'a rapid computational structure-based (SB) model, GoCa, that '\n",
      "               'allows to follow the assembly process of large multiprotein '\n",
      "               'complexes based on a known native structure. Beyond existing '\n",
      "               'SB Go̅-type models, it distinguishes between intra- and '\n",
      "               'intersubunit interactions, allowing us to include coupled '\n",
      "               'folding and binding. It accounts automatically for the '\n",
      "               'permutation of identical subunits in a complex and allows the '\n",
      "               'definition of multiple minima (native) structures in the case '\n",
      "               'of proteins that undergo global transitions during assembly. '\n",
      "               'The model is successfully tested on several multiprotein '\n",
      "               'complexes. The source code of the GoCa program including a '\n",
      "               'tutorial is publicly available on Github: '\n",
      "               'https://github.com/ZachariasLab/GoCa. We also provide a web '\n",
      "               'source that allows users to quickly generate the necessary '\n",
      "               'input files for a GoCa simulation: '\n",
      "               'https://goca.t38webservices.nat.tum.de.',\n",
      "      tldr='A rapid computational structure-based model, GoCa, that allows to '\n",
      "           'follow the assembly process of large multiprotein complexes based '\n",
      "           'on a known native structure and accounts automatically for the '\n",
      "           'permutation of identical subunits in a complex and allows the '\n",
      "           'definition of multiple minima structures in the case of proteins '\n",
      "           'that undergo global transitions during assembly.',\n",
      "      year=2024,\n",
      "      embedding=None)\n"
     ]
    }
   ],
   "source": [
    "pprint(papers[1])"
   ]
  },
  {
   "cell_type": "code",
   "execution_count": null,
   "id": "213e31ea-3237-4506-a932-7f1c78fcbfb4",
   "metadata": {},
   "outputs": [],
   "source": []
  }
 ],
 "metadata": {
  "kernelspec": {
   "display_name": "Python 3 (ipykernel)",
   "language": "python",
   "name": "python3"
  },
  "language_info": {
   "codemirror_mode": {
    "name": "ipython",
    "version": 3
   },
   "file_extension": ".py",
   "mimetype": "text/x-python",
   "name": "python",
   "nbconvert_exporter": "python",
   "pygments_lexer": "ipython3",
   "version": "3.11.11"
  }
 },
 "nbformat": 4,
 "nbformat_minor": 5
}
