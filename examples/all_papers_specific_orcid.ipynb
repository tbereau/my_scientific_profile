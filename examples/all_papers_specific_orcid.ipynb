{
 "cells": [
  {
   "cell_type": "code",
   "execution_count": 8,
   "id": "1d9be02d-0b22-4435-a0aa-c0752561c6e7",
   "metadata": {},
   "outputs": [],
   "source": [
    "from pprint import pprint \n",
    "\n",
    "from my_scientific_profile.papers.papers import fetch_all_paper_infos, fetch_paper_info\n",
    "from my_scientific_profile.authors.authors import search_for_author_by_orcid_id"
   ]
  },
  {
   "cell_type": "code",
   "execution_count": 2,
   "id": "c150e1ff-751a-4b90-9461-b9675efb9702",
   "metadata": {},
   "outputs": [],
   "source": [
    "orcid = \"0009-0000-0113-6215\"\n",
    "# orcid = \"0000-0001-9945-1271\""
   ]
  },
  {
   "cell_type": "code",
   "execution_count": 10,
   "id": "903c8f37-75e7-4bc4-a1cb-dc0fc579c6e7",
   "metadata": {},
   "outputs": [
    {
     "name": "stderr",
     "output_type": "stream",
     "text": [
      "2025-03-14 16:16:52,913 - my_scientific_profile.crossref.works - INFO - fetching Crossref info for doi 10.1021/acs.jcim.4c00212\n",
      "2025-03-14 16:16:53,474 - my_scientific_profile.semantic_scholar.utils - INFO - fetching Semantic Scholar paper info 10.1021/acs.jcim.4c00212\n",
      "2025-03-14 16:16:54,444 - my_scientific_profile.orcid.utils - INFO - fetching work 157458775 with ORCID 0009-0000-0113-6215\n",
      "2025-03-14 16:16:54,445 - my_scientific_profile.orcid.utils - INFO - url https://pub.orcid.org/v3.0/0009-0000-0113-6215/work/157458775\n",
      "2025-03-14 16:16:54,801 - my_scientific_profile.doi2bib.doi2bib - INFO - fetching doi2bib for 10.1021/acs.jcim.4c00212\n",
      "2025-03-14 16:16:55,824 - my_scientific_profile.orcid.utils - INFO - fetching expanded-search ?q=given-names:Patrick\\ K\\.+AND+family-name:Quoika with ORCID None\n",
      "2025-03-14 16:16:55,826 - my_scientific_profile.orcid.utils - INFO - url https://pub.orcid.org/v3.0/expanded-search/?q=given-names:Patrick\\ K\\.+AND+family-name:Quoika\n",
      "2025-03-14 16:16:56,492 - my_scientific_profile.orcid.authors - INFO - Entries received: 1\n",
      "2025-03-14 16:16:56,495 - my_scientific_profile.orcid.utils - INFO - fetching employments None with ORCID 0000-0002-6227-5443\n",
      "2025-03-14 16:16:56,499 - my_scientific_profile.orcid.utils - INFO - url https://pub.orcid.org/v3.0/0000-0002-6227-5443/employments\n",
      "2025-03-14 16:16:57,043 - my_scientific_profile.orcid.utils - INFO - fetching expanded-search ?q=given-names:Martin+AND+family-name:Zacharias with ORCID None\n",
      "2025-03-14 16:16:57,045 - my_scientific_profile.orcid.utils - INFO - url https://pub.orcid.org/v3.0/expanded-search/?q=given-names:Martin+AND+family-name:Zacharias\n",
      "2025-03-14 16:16:57,688 - my_scientific_profile.orcid.authors - INFO - Entries received: 2\n",
      "2025-03-14 16:16:57,690 - my_scientific_profile.authors.authors - INFO - ORCID search results returned 2 results\n",
      "[OrcidAuthor(given_names='Martin', family_names='Zacharias', orcid_id='0000-0003-3021-1047', credit_name=None, other_name=[], email=['martin.zacharias@medunigraz.at']), OrcidAuthor(given_names='Martin', family_names='Zacharias', orcid_id='0000-0001-5163-2663', credit_name=None, other_name=[], email=[])] \n"
     ]
    },
    {
     "data": {
      "text/plain": [
       "2"
      ]
     },
     "execution_count": 10,
     "metadata": {},
     "output_type": "execute_result"
    }
   ],
   "source": [
    "papers = fetch_all_paper_infos(orcid)\n",
    "len(papers)"
   ]
  },
  {
   "cell_type": "code",
   "execution_count": 14,
   "id": "cec26068-14ae-4576-b30c-22a2202fe971",
   "metadata": {},
   "outputs": [
    {
     "name": "stdout",
     "output_type": "stream",
     "text": [
      "Paper(doi='10.1021/acs.jcim.4c00212',\n",
      "      title='Structure-Based Protein Assembly Simulations Including Various '\n",
      "            'Binding Sites and Conformations',\n",
      "      journal=JournalInfo(name='Journal of Chemical Information and Modeling',\n",
      "                          url='https://doi.org/10.1021/acs.jcim.4c00212',\n",
      "                          issue='8',\n",
      "                          abbreviation='J. Chem. Inf. Model.',\n",
      "                          pages='3465-3476',\n",
      "                          volume=64),\n",
      "      publication_date=datetime.datetime(2024, 4, 11, 17, 38, 55, tzinfo=TzInfo(UTC)),\n",
      "      authors=[Author(given='Luis',\n",
      "                      family='Walter',\n",
      "                      affiliation=Affiliation(name=None,\n",
      "                                              city=None,\n",
      "                                              country=None),\n",
      "                      orcid='0009-0000-0113-6215',\n",
      "                      email=None,\n",
      "                      full_name='Luis Walter',\n",
      "                      uuid='48d07e98-00e7-11f0-967f-ee63f405f33f'),\n",
      "               Author(given='Patrick',\n",
      "                      family='Quoika',\n",
      "                      affiliation=Affiliation(name='Technical University of '\n",
      "                                                   'Munich',\n",
      "                                              city='Munich',\n",
      "                                              country='DE'),\n",
      "                      orcid='0000-0002-6227-5443',\n",
      "                      email=None,\n",
      "                      full_name='Patrick Quoika',\n",
      "                      uuid='5e718fc6-00e7-11f0-967f-ee63f405f33f'),\n",
      "               Author(given='Martin',\n",
      "                      family='Zacharias',\n",
      "                      affiliation=Affiliation(name='Center for Functional '\n",
      "                                                   'Protein Assemblies, '\n",
      "                                                   'Technical University of '\n",
      "                                                   'Munich, '\n",
      "                                                   'Ernst-Otto-Fischer-Str. 8, '\n",
      "                                                   'Garching 85748, Germany',\n",
      "                                              city=None,\n",
      "                                              country=None),\n",
      "                      orcid=None,\n",
      "                      email=None,\n",
      "                      full_name='Martin Zacharias',\n",
      "                      uuid='5ed48bee-00e7-11f0-967f-ee63f405f33f')],\n",
      "      citation_count=0,\n",
      "      open_access=OpenAccessPaperInfo(is_open_access=True,\n",
      "                                      open_access_status='hybrid',\n",
      "                                      landing_page_url='https://doi.org/10.1021/acs.jcim.4c00212',\n",
      "                                      pdf_url='https://pubs.acs.org/doi/pdf/10.1021/acs.jcim.4c00212'),\n",
      "      bib_entry=' @article{Walter_2024, title={Structure-Based Protein '\n",
      "                'Assembly Simulations Including Various Binding Sites and '\n",
      "                'Conformations}, volume={64}, ISSN={1549-960X}, '\n",
      "                'url={http://dx.doi.org/10.1021/acs.jcim.4c00212}, '\n",
      "                'DOI={10.1021/acs.jcim.4c00212}, number={8}, journal={Journal '\n",
      "                'of Chemical Information and Modeling}, publisher={American '\n",
      "                'Chemical Society (ACS)}, author={Walter, Luis J. and Quoika, '\n",
      "                'Patrick K. and Zacharias, Martin}, year={2024}, month=apr, '\n",
      "                'pages={3465–3476} }\\n',\n",
      "      abstract='Many biological functions are mediated by large complexes '\n",
      "               'formed by multiple proteins and other cellular macromolecules. '\n",
      "               'Recent progress in experimental structure determination, as '\n",
      "               'well as in integrative modeling and protein structure '\n",
      "               'prediction using deep learning approaches, has resulted in a '\n",
      "               'rapid increase in the number of solved multiprotein '\n",
      "               'assemblies. However, the assembly process of large complexes '\n",
      "               'from their components is much less well-studied. We introduce '\n",
      "               'a rapid computational structure-based (SB) model, GoCa, that '\n",
      "               'allows to follow the assembly process of large multiprotein '\n",
      "               'complexes based on a known native structure. Beyond existing '\n",
      "               'SB Go̅-type models, it distinguishes between intra- and '\n",
      "               'intersubunit interactions, allowing us to include coupled '\n",
      "               'folding and binding. It accounts automatically for the '\n",
      "               'permutation of identical subunits in a complex and allows the '\n",
      "               'definition of multiple minima (native) structures in the case '\n",
      "               'of proteins that undergo global transitions during assembly. '\n",
      "               'The model is successfully tested on several multiprotein '\n",
      "               'complexes. The source code of the GoCa program including a '\n",
      "               'tutorial is publicly available on Github: '\n",
      "               'https://github.com/ZachariasLab/GoCa. We also provide a web '\n",
      "               'source that allows users to quickly generate the necessary '\n",
      "               'input files for a GoCa simulation: '\n",
      "               'https://goca.t38webservices.nat.tum.de.',\n",
      "      tldr='A rapid computational structure-based model, GoCa, that allows to '\n",
      "           'follow the assembly process of large multiprotein complexes based '\n",
      "           'on a known native structure and accounts automatically for the '\n",
      "           'permutation of identical subunits in a complex and allows the '\n",
      "           'definition of multiple minima structures in the case of proteins '\n",
      "           'that undergo global transitions during assembly.',\n",
      "      year=2024,\n",
      "      embedding=None)\n"
     ]
    }
   ],
   "source": [
    "pprint(papers[1])"
   ]
  },
  {
   "cell_type": "code",
   "execution_count": null,
   "id": "213e31ea-3237-4506-a932-7f1c78fcbfb4",
   "metadata": {},
   "outputs": [],
   "source": []
  }
 ],
 "metadata": {
  "kernelspec": {
   "display_name": "Python 3 (ipykernel)",
   "language": "python",
   "name": "python3"
  },
  "language_info": {
   "codemirror_mode": {
    "name": "ipython",
    "version": 3
   },
   "file_extension": ".py",
   "mimetype": "text/x-python",
   "name": "python",
   "nbconvert_exporter": "python",
   "pygments_lexer": "ipython3",
   "version": "3.10.14"
  }
 },
 "nbformat": 4,
 "nbformat_minor": 5
}
