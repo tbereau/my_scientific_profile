{
 "cells": [
  {
   "cell_type": "code",
   "execution_count": 8,
   "id": "6345a382-1acd-41de-ae88-7247e335a61c",
   "metadata": {},
   "outputs": [],
   "source": [
    "from my_scientific_profile.database.authors import load_all_paper_authors_from_s3, save_all_paper_authors_to_s3\n",
    "from my_scientific_profile.database.aws_s3 import S3_BUCKET, S3_CLIENT\n",
    "from my_scientific_profile.config.config import get_authors_with_categories\n",
    "from my_scientific_profile.authors.authors import search_author_from_config_info"
   ]
  },
  {
   "cell_type": "code",
   "execution_count": 2,
   "id": "b2dfec56-7d78-4677-95e2-b1e727d0c992",
   "metadata": {},
   "outputs": [
    {
     "data": {
      "text/plain": [
       "{'given': 'Luis J.',\n",
       " 'family': 'Walter',\n",
       " 'orcid': '0009-0000-0113-6215',\n",
       " 'categories': ['phd student', 'current'],\n",
       " 'image': 'luis_w.png'}"
      ]
     },
     "execution_count": 2,
     "metadata": {},
     "output_type": "execute_result"
    }
   ],
   "source": [
    "author_infos = get_authors_with_categories()\n",
    "author_info = next(a for a in author_infos if a['family'] == 'Walter')\n",
    "author_info"
   ]
  },
  {
   "cell_type": "code",
   "execution_count": 3,
   "id": "786c9597-6036-4274-93f7-568446aefba0",
   "metadata": {},
   "outputs": [
    {
     "name": "stderr",
     "output_type": "stream",
     "text": [
      "2025-03-12 14:30:48,050 - my_scientific_profile.orcid.utils - INFO - fetching expanded-search ?q=orcid:0009-0000-0113-6215\n",
      "2025-03-12 14:30:48,052 - my_scientific_profile.orcid.utils - INFO - url https://pub.orcid.org/v3.0/expanded-search/?q=orcid:0009-0000-0113-6215\n",
      "2025-03-12 14:30:48,279 - my_scientific_profile.orcid.authors - INFO - Entries received: 1\n",
      "2025-03-12 14:30:48,280 - my_scientific_profile.orcid.utils - INFO - fetching employments None\n",
      "2025-03-12 14:30:48,281 - my_scientific_profile.orcid.utils - INFO - url https://pub.orcid.org/v3.0/0009-0000-0113-6215/employments\n"
     ]
    },
    {
     "data": {
      "text/plain": [
       "Author(given='Luis', family='Walter', affiliation=Affiliation(name=None, city=None, country=None), orcid='0009-0000-0113-6215', email=None, full_name='Luis Walter', uuid='35a88088-ff46-11ef-b9b5-ee63f405f33e')"
      ]
     },
     "execution_count": 3,
     "metadata": {},
     "output_type": "execute_result"
    }
   ],
   "source": [
    "search_author_from_config_info(author_info, allow_generic=True)"
   ]
  },
  {
   "cell_type": "code",
   "execution_count": 4,
   "id": "445877ed-d015-425d-928b-445683291245",
   "metadata": {},
   "outputs": [
    {
     "data": {
      "text/plain": [
       "229"
      ]
     },
     "execution_count": 4,
     "metadata": {},
     "output_type": "execute_result"
    }
   ],
   "source": [
    "authors = load_all_paper_authors_from_s3(s3_client=S3_CLIENT, s3_bucket=S3_BUCKET)\n",
    "len(authors)"
   ]
  },
  {
   "cell_type": "code",
   "execution_count": 5,
   "id": "db4d3561-3062-4a4f-8c77-f6cce26e23e9",
   "metadata": {},
   "outputs": [
    {
     "data": {
      "text/plain": [
       "[Author(given='Luis J.', family='Walter', affiliation=Affiliation(name='Institute for Theoretical Physics, Heidelberg University, 69120 Heidelberg, Germany', city=None, country=None), orcid='0009-0000-0113-6215', email=None, full_name='Luis J. Walter', uuid='35a88088-ff46-11ef-b9b5-ee63f405f33e')]"
      ]
     },
     "execution_count": 5,
     "metadata": {},
     "output_type": "execute_result"
    }
   ],
   "source": [
    "[a for a in authors if a.family == \"Walter\"]"
   ]
  },
  {
   "cell_type": "code",
   "execution_count": 6,
   "id": "707ce4a1-9c51-4dea-82a5-ba2f5d37db5b",
   "metadata": {},
   "outputs": [
    {
     "name": "stderr",
     "output_type": "stream",
     "text": [
      "2025-03-12 14:30:50,477 - my_scientific_profile.orcid.utils - INFO - fetching expanded-search ?q=orcid:0000-0002-9179-2458\n",
      "2025-03-12 14:30:50,479 - my_scientific_profile.orcid.utils - INFO - url https://pub.orcid.org/v3.0/expanded-search/?q=orcid:0000-0002-9179-2458\n",
      "2025-03-12 14:30:50,670 - my_scientific_profile.orcid.authors - INFO - Entries received: 1\n",
      "2025-03-12 14:30:50,672 - my_scientific_profile.orcid.utils - INFO - fetching employments None\n",
      "2025-03-12 14:30:50,672 - my_scientific_profile.orcid.utils - INFO - url https://pub.orcid.org/v3.0/0000-0002-9179-2458/employments\n",
      "2025-03-12 14:30:50,879 - my_scientific_profile.orcid.utils - INFO - fetching expanded-search ?q=orcid:0000-0002-0518-609X\n",
      "2025-03-12 14:30:50,881 - my_scientific_profile.orcid.utils - INFO - url https://pub.orcid.org/v3.0/expanded-search/?q=orcid:0000-0002-0518-609X\n",
      "2025-03-12 14:30:51,076 - my_scientific_profile.orcid.authors - INFO - Entries received: 1\n",
      "2025-03-12 14:30:51,078 - my_scientific_profile.orcid.utils - INFO - fetching employments None\n",
      "2025-03-12 14:30:51,079 - my_scientific_profile.orcid.utils - INFO - url https://pub.orcid.org/v3.0/0000-0002-0518-609X/employments\n",
      "2025-03-12 14:30:51,279 - my_scientific_profile.orcid.utils - INFO - fetching expanded-search ?q=orcid:0000-0002-2863-2646\n",
      "2025-03-12 14:30:51,279 - my_scientific_profile.orcid.utils - INFO - url https://pub.orcid.org/v3.0/expanded-search/?q=orcid:0000-0002-2863-2646\n",
      "2025-03-12 14:30:51,470 - my_scientific_profile.orcid.authors - INFO - Entries received: 1\n",
      "2025-03-12 14:30:51,473 - my_scientific_profile.orcid.utils - INFO - fetching employments None\n",
      "2025-03-12 14:30:51,474 - my_scientific_profile.orcid.utils - INFO - url https://pub.orcid.org/v3.0/0000-0002-2863-2646/employments\n",
      "2025-03-12 14:30:51,667 - my_scientific_profile.orcid.utils - INFO - fetching expanded-search ?q=given-names:Claudia\\ Leticia+AND+family-name:Gómez\\-Flores\n",
      "2025-03-12 14:30:51,668 - my_scientific_profile.orcid.utils - INFO - url https://pub.orcid.org/v3.0/expanded-search/?q=given-names:Claudia\\ Leticia+AND+family-name:Gómez\\-Flores\n",
      "2025-03-12 14:30:52,253 - my_scientific_profile.orcid.authors - INFO - Entries received: 412\n",
      "2025-03-12 14:30:52,265 - my_scientific_profile.authors.authors - INFO - ORCID search results returned 412 results\n",
      "[OrcidAuthor(given_names='Claudia Leticia', family_names='Gómez Peñaloza', orcid_id='0000-0002-9080-2204', credit_name=None, other_name=[], email=[]), OrcidAuthor(given_names='CLAUDIA LETICIA', family_names='FLORES CARRILLO', orcid_id='0000-0002-5267-5259', credit_name=None, other_name=[], email=[]), OrcidAuthor(given_names='Leticia', family_names='Flores Flores', orcid_id='0000-0002-7564-4543', credit_name=None, other_name=[], email=[])] ...\n",
      "2025-03-12 14:30:52,265 - my_scientific_profile.orcid.utils - INFO - fetching expanded-search ?q=given-names:Dominic+AND+family-name:Holst\n",
      "2025-03-12 14:30:52,266 - my_scientific_profile.orcid.utils - INFO - url https://pub.orcid.org/v3.0/expanded-search/?q=given-names:Dominic+AND+family-name:Holst\n",
      "2025-03-12 14:30:52,451 - my_scientific_profile.orcid.authors - INFO - Entries received: 0\n",
      "2025-03-12 14:30:52,453 - my_scientific_profile.authors.authors - INFO - ORCID search results returned 0 results\n",
      "[] \n",
      "2025-03-12 14:30:52,455 - my_scientific_profile.orcid.utils - INFO - fetching expanded-search ?q=given-names:Osman+AND+family-name:Özdemir\n",
      "2025-03-12 14:30:52,456 - my_scientific_profile.orcid.utils - INFO - url https://pub.orcid.org/v3.0/expanded-search/?q=given-names:Osman+AND+family-name:Özdemir\n",
      "2025-03-12 14:30:52,663 - my_scientific_profile.orcid.authors - INFO - Entries received: 14\n",
      "2025-03-12 14:30:52,666 - my_scientific_profile.authors.authors - INFO - ORCID search results returned 14 results\n",
      "[OrcidAuthor(given_names='Osman', family_names='Özdemir', orcid_id='0000-0003-3311-0815', credit_name=None, other_name=[], email=[]), OrcidAuthor(given_names='Osman', family_names='Özdemir', orcid_id='0000-0003-1800-5662', credit_name=None, other_name=[], email=[]), OrcidAuthor(given_names='osman', family_names='özdemir', orcid_id='0000-0002-9873-6360', credit_name=None, other_name=[], email=[])] ...\n",
      "2025-03-12 14:30:52,667 - my_scientific_profile.orcid.utils - INFO - fetching expanded-search ?q=given-names:Aleksander+AND+family-name:Durumeric\n",
      "2025-03-12 14:30:52,668 - my_scientific_profile.orcid.utils - INFO - url https://pub.orcid.org/v3.0/expanded-search/?q=given-names:Aleksander+AND+family-name:Durumeric\n",
      "2025-03-12 14:30:52,863 - my_scientific_profile.orcid.authors - INFO - Entries received: 1\n",
      "2025-03-12 14:30:52,865 - my_scientific_profile.orcid.utils - INFO - fetching employments None\n",
      "2025-03-12 14:30:52,866 - my_scientific_profile.orcid.utils - INFO - url https://pub.orcid.org/v3.0/0000-0001-5476-4493/employments\n",
      "2025-03-12 14:30:53,073 - my_scientific_profile.orcid.utils - INFO - fetching expanded-search ?q=orcid:0000-0001-6347-5108\n",
      "2025-03-12 14:30:53,074 - my_scientific_profile.orcid.utils - INFO - url https://pub.orcid.org/v3.0/expanded-search/?q=orcid:0000-0001-6347-5108\n",
      "2025-03-12 14:30:53,277 - my_scientific_profile.orcid.authors - INFO - Entries received: 1\n",
      "2025-03-12 14:30:53,279 - my_scientific_profile.orcid.utils - INFO - fetching employments None\n",
      "2025-03-12 14:30:53,280 - my_scientific_profile.orcid.utils - INFO - url https://pub.orcid.org/v3.0/0000-0001-6347-5108/employments\n",
      "2025-03-12 14:30:53,475 - my_scientific_profile.orcid.utils - INFO - fetching expanded-search ?q=given-names:Chaitanya+AND+family-name:Sampara\n",
      "2025-03-12 14:30:53,477 - my_scientific_profile.orcid.utils - INFO - url https://pub.orcid.org/v3.0/expanded-search/?q=given-names:Chaitanya+AND+family-name:Sampara\n",
      "2025-03-12 14:30:53,680 - my_scientific_profile.orcid.authors - INFO - Entries received: 1\n",
      "2025-03-12 14:30:53,681 - my_scientific_profile.orcid.utils - INFO - fetching employments None\n",
      "2025-03-12 14:30:53,682 - my_scientific_profile.orcid.utils - INFO - url https://pub.orcid.org/v3.0/0009-0003-1741-3549/employments\n",
      "2025-03-12 14:30:53,883 - my_scientific_profile.orcid.utils - INFO - fetching expanded-search ?q=given-names:Gerrit+AND+family-name:Gerhartz\n",
      "2025-03-12 14:30:53,884 - my_scientific_profile.orcid.utils - INFO - url https://pub.orcid.org/v3.0/expanded-search/?q=given-names:Gerrit+AND+family-name:Gerhartz\n",
      "2025-03-12 14:30:54,102 - my_scientific_profile.orcid.authors - INFO - Entries received: 0\n",
      "2025-03-12 14:30:54,104 - my_scientific_profile.authors.authors - INFO - ORCID search results returned 0 results\n",
      "[] \n",
      "2025-03-12 14:30:54,106 - my_scientific_profile.orcid.utils - INFO - fetching expanded-search ?q=given-names:Sander+AND+family-name:Hummerich\n",
      "2025-03-12 14:30:54,108 - my_scientific_profile.orcid.utils - INFO - url https://pub.orcid.org/v3.0/expanded-search/?q=given-names:Sander+AND+family-name:Hummerich\n",
      "2025-03-12 14:30:54,297 - my_scientific_profile.orcid.authors - INFO - Entries received: 0\n",
      "2025-03-12 14:30:54,299 - my_scientific_profile.authors.authors - INFO - ORCID search results returned 0 results\n",
      "[] \n",
      "2025-03-12 14:30:54,300 - my_scientific_profile.orcid.utils - INFO - fetching expanded-search ?q=given-names:Selina+AND+family-name:Pohl\n",
      "2025-03-12 14:30:54,300 - my_scientific_profile.orcid.utils - INFO - url https://pub.orcid.org/v3.0/expanded-search/?q=given-names:Selina+AND+family-name:Pohl\n",
      "2025-03-12 14:30:54,493 - my_scientific_profile.orcid.authors - INFO - Entries received: 0\n",
      "2025-03-12 14:30:54,495 - my_scientific_profile.authors.authors - INFO - ORCID search results returned 0 results\n",
      "[] \n",
      "2025-03-12 14:30:54,495 - my_scientific_profile.orcid.utils - INFO - fetching expanded-search ?q=given-names:Daniel+AND+family-name:Hofmann\n",
      "2025-03-12 14:30:54,496 - my_scientific_profile.orcid.utils - INFO - url https://pub.orcid.org/v3.0/expanded-search/?q=given-names:Daniel+AND+family-name:Hofmann\n",
      "2025-03-12 14:30:54,699 - my_scientific_profile.orcid.authors - INFO - Entries received: 8\n",
      "2025-03-12 14:30:54,704 - my_scientific_profile.authors.authors - INFO - ORCID search results returned 8 results\n",
      "[OrcidAuthor(given_names='Daniel', family_names='Hofmann', orcid_id='0000-0002-8999-7403', credit_name=None, other_name=[], email=[]), OrcidAuthor(given_names='Daniel', family_names='Hofmann', orcid_id='0000-0001-9399-6430', credit_name=None, other_name=[], email=[]), OrcidAuthor(given_names='Daniel', family_names='Hofmann', orcid_id='0000-0002-1005-565X', credit_name=None, other_name=[], email=[])] ...\n"
     ]
    }
   ],
   "source": [
    "author_infos_with_categories = get_authors_with_categories()\n",
    "authors_with_categories = []\n",
    "for author_info in author_infos_with_categories:\n",
    "    authors_with_categories.append(\n",
    "        search_author_from_config_info(author_info, allow_generic=True)\n",
    "    )"
   ]
  },
  {
   "cell_type": "code",
   "execution_count": 7,
   "id": "08e152de-f577-4627-96cc-81f34f886d0c",
   "metadata": {},
   "outputs": [
    {
     "data": {
      "text/plain": [
       "[Author(given='Luis J.', family='Walter', affiliation=Affiliation(name='Institute for Theoretical Physics, Heidelberg University, 69120 Heidelberg, Germany', city=None, country=None), orcid='0009-0000-0113-6215', email=None, full_name='Luis J. Walter', uuid='35a88088-ff46-11ef-b9b5-ee63f405f33e')]"
      ]
     },
     "execution_count": 7,
     "metadata": {},
     "output_type": "execute_result"
    }
   ],
   "source": [
    "[a for a in authors_with_categories if a.family==\"Walter\"]"
   ]
  },
  {
   "cell_type": "code",
   "execution_count": 10,
   "id": "7d3a7311-ab46-47e6-a0f7-47831e59b1b6",
   "metadata": {
    "scrolled": true
   },
   "outputs": [],
   "source": [
    "# save_all_paper_authors_to_s3(s3_client=S3_CLIENT, s3_bucket=S3_BUCKET)"
   ]
  },
  {
   "cell_type": "code",
   "execution_count": null,
   "id": "bd78136d-453c-408b-affc-0feed7290a0f",
   "metadata": {},
   "outputs": [],
   "source": []
  }
 ],
 "metadata": {
  "kernelspec": {
   "display_name": "Python 3 (ipykernel)",
   "language": "python",
   "name": "python3"
  },
  "language_info": {
   "codemirror_mode": {
    "name": "ipython",
    "version": 3
   },
   "file_extension": ".py",
   "mimetype": "text/x-python",
   "name": "python",
   "nbconvert_exporter": "python",
   "pygments_lexer": "ipython3",
   "version": "3.10.14"
  }
 },
 "nbformat": 4,
 "nbformat_minor": 5
}
