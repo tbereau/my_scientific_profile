{
 "cells": [
  {
   "cell_type": "code",
   "execution_count": 12,
   "id": "6345a382-1acd-41de-ae88-7247e335a61c",
   "metadata": {},
   "outputs": [],
   "source": [
    "from my_scientific_profile.database.authors import load_all_paper_authors_from_s3\n",
    "from my_scientific_profile.database.aws_s3 import S3_BUCKET, S3_CLIENT\n",
    "from my_scientific_profile.config.config import get_authors_with_categories\n",
    "from my_scientific_profile.authors.authors import search_author_from_config_info"
   ]
  },
  {
   "cell_type": "code",
   "execution_count": 4,
   "id": "445877ed-d015-425d-928b-445683291245",
   "metadata": {},
   "outputs": [
    {
     "data": {
      "text/plain": [
       "131"
      ]
     },
     "execution_count": 4,
     "metadata": {},
     "output_type": "execute_result"
    }
   ],
   "source": [
    "authors = load_all_paper_authors_from_s3(s3_client=S3_CLIENT, s3_bucket=S3_BUCKET)\n",
    "len(authors)"
   ]
  },
  {
   "cell_type": "code",
   "execution_count": 7,
   "id": "138bbd97-abd8-4404-9b85-fdd895a5c8a8",
   "metadata": {},
   "outputs": [
    {
     "data": {
      "text/plain": [
       "Author(given='Zun-Jing', family='Wang', affiliation=Affiliation(name='Carnegie Mellon University Department of Physics, , Pittsburgh, Pennsylvania 15213, USA', city=None, country=None), orcid=None, email=None, full_name='Zun-Jing Wang', uuid='65d6b6fc-f656-11ee-a9f6-ee63f405f33f')"
      ]
     },
     "execution_count": 7,
     "metadata": {},
     "output_type": "execute_result"
    }
   ],
   "source": [
    "authors[0]"
   ]
  },
  {
   "cell_type": "code",
   "execution_count": 8,
   "id": "db4d3561-3062-4a4f-8c77-f6cce26e23e9",
   "metadata": {},
   "outputs": [
    {
     "data": {
      "text/plain": [
       "[]"
      ]
     },
     "execution_count": 8,
     "metadata": {},
     "output_type": "execute_result"
    }
   ],
   "source": [
    "[a for a in authors if a.family == \"Walter\"]"
   ]
  },
  {
   "cell_type": "code",
   "execution_count": 13,
   "id": "707ce4a1-9c51-4dea-82a5-ba2f5d37db5b",
   "metadata": {},
   "outputs": [
    {
     "name": "stderr",
     "output_type": "stream",
     "text": [
      "2024-04-09 11:50:42,593 - my_scientific_profile.orcid.utils - INFO - fetching expanded-search ?q=orcid:0000-0002-0518-609X\n",
      "2024-04-09 11:50:42,594 - my_scientific_profile.orcid.utils - INFO - url https://pub.orcid.org/v3.0/expanded-search/?q=orcid:0000-0002-0518-609X\n",
      "2024-04-09 11:50:43,086 - my_scientific_profile.orcid.authors - INFO - Entries received: 1\n",
      "2024-04-09 11:50:43,088 - my_scientific_profile.orcid.utils - INFO - fetching employments None\n",
      "2024-04-09 11:50:43,089 - my_scientific_profile.orcid.utils - INFO - url https://pub.orcid.org/v3.0/0000-0002-0518-609X/employments\n",
      "2024-04-09 11:50:43,300 - my_scientific_profile.orcid.utils - INFO - fetching expanded-search ?q=orcid:0000-0002-2863-2646\n",
      "2024-04-09 11:50:43,302 - my_scientific_profile.orcid.utils - INFO - url https://pub.orcid.org/v3.0/expanded-search/?q=orcid:0000-0002-2863-2646\n",
      "2024-04-09 11:50:43,744 - my_scientific_profile.orcid.authors - INFO - Entries received: 1\n",
      "2024-04-09 11:50:43,746 - my_scientific_profile.orcid.utils - INFO - fetching employments None\n",
      "2024-04-09 11:50:43,746 - my_scientific_profile.orcid.utils - INFO - url https://pub.orcid.org/v3.0/0000-0002-2863-2646/employments\n",
      "2024-04-09 11:50:43,939 - my_scientific_profile.orcid.utils - INFO - fetching expanded-search ?q=given-names:Luis+AND+family-name:Walter\n",
      "2024-04-09 11:50:43,940 - my_scientific_profile.orcid.utils - INFO - url https://pub.orcid.org/v3.0/expanded-search/?q=given-names:Luis+AND+family-name:Walter\n",
      "2024-04-09 11:50:44,143 - my_scientific_profile.orcid.authors - INFO - Entries received: 1\n",
      "2024-04-09 11:50:44,144 - my_scientific_profile.orcid.utils - INFO - fetching employments None\n",
      "2024-04-09 11:50:44,145 - my_scientific_profile.orcid.utils - INFO - url https://pub.orcid.org/v3.0/0009-0000-0113-6215/employments\n",
      "2024-04-09 11:50:44,341 - my_scientific_profile.orcid.utils - INFO - fetching expanded-search ?q=given-names:Bálint+AND+family-name:Máté\n",
      "2024-04-09 11:50:44,343 - my_scientific_profile.orcid.utils - INFO - url https://pub.orcid.org/v3.0/expanded-search/?q=given-names:Bálint+AND+family-name:Máté\n",
      "2024-04-09 11:50:44,861 - my_scientific_profile.orcid.authors - INFO - Entries received: 0\n",
      "2024-04-09 11:50:44,862 - my_scientific_profile.authors.authors - INFO - ORCID search results returned 0 results\n",
      "[] \n",
      "2024-04-09 11:50:44,863 - my_scientific_profile.orcid.utils - INFO - fetching expanded-search ?q=given-names:Claudia\\ Leticia+AND+family-name:Gómez\\-Flores\n",
      "2024-04-09 11:50:44,864 - my_scientific_profile.orcid.utils - INFO - url https://pub.orcid.org/v3.0/expanded-search/?q=given-names:Claudia\\ Leticia+AND+family-name:Gómez\\-Flores\n",
      "2024-04-09 11:50:45,595 - my_scientific_profile.orcid.authors - INFO - Entries received: 336\n",
      "2024-04-09 11:50:45,608 - my_scientific_profile.authors.authors - INFO - ORCID search results returned 336 results\n",
      "[OrcidAuthor(given_names='Claudia Leticia', family_names='Gómez Peñaloza', orcid_id='0000-0002-9080-2204', credit_name=None, other_name=[], email=[]), OrcidAuthor(given_names='CLAUDIA LETICIA', family_names='FLORES CARRILLO', orcid_id='0000-0002-5267-5259', credit_name=None, other_name=[], email=[]), OrcidAuthor(given_names='Leticia', family_names='Flores Flores', orcid_id='0000-0002-7564-4543', credit_name=None, other_name=[], email=[])] ...\n"
     ]
    }
   ],
   "source": [
    "author_infos_with_categories = get_authors_with_categories()\n",
    "authors_with_categories = []\n",
    "for author_info in author_infos_with_categories:\n",
    "    authors_with_categories.append(\n",
    "        search_author_from_config_info(author_info, allow_generic=True)\n",
    "    )"
   ]
  },
  {
   "cell_type": "code",
   "execution_count": 15,
   "id": "08e152de-f577-4627-96cc-81f34f886d0c",
   "metadata": {},
   "outputs": [
    {
     "data": {
      "text/plain": [
       "[Author(given='Luis J.', family='Walter', affiliation=Affiliation(name=None, city=None, country=None), orcid='0009-0000-0113-6215', email=None, full_name='Luis J. Walter', uuid='a22afbd6-f656-11ee-a9f6-ee63f405f33f')]"
      ]
     },
     "execution_count": 15,
     "metadata": {},
     "output_type": "execute_result"
    }
   ],
   "source": [
    "[a for a in authors_with_categories if a.family==\"Walter\"]"
   ]
  },
  {
   "cell_type": "code",
   "execution_count": null,
   "id": "7d3a7311-ab46-47e6-a0f7-47831e59b1b6",
   "metadata": {},
   "outputs": [],
   "source": []
  }
 ],
 "metadata": {
  "kernelspec": {
   "display_name": "Python 3 (ipykernel)",
   "language": "python",
   "name": "python3"
  },
  "language_info": {
   "codemirror_mode": {
    "name": "ipython",
    "version": 3
   },
   "file_extension": ".py",
   "mimetype": "text/x-python",
   "name": "python",
   "nbconvert_exporter": "python",
   "pygments_lexer": "ipython3",
   "version": "3.10.13"
  }
 },
 "nbformat": 4,
 "nbformat_minor": 5
}
