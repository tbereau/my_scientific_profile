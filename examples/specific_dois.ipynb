{
 "cells": [
  {
   "cell_type": "code",
   "execution_count": 1,
   "metadata": {},
   "outputs": [],
   "source": [
    "from my_scientific_profile.papers.papers import fetch_paper_info\n",
    "from my_scientific_profile.database.papers import convert_papers_to_dataframe"
   ]
  },
  {
   "cell_type": "markdown",
   "metadata": {
    "collapsed": false,
    "jupyter": {
     "outputs_hidden": false
    }
   },
   "source": [
    "Here we fetch the information of two specific papers, providing their DOIs."
   ]
  },
  {
   "cell_type": "code",
   "execution_count": 2,
   "metadata": {
    "collapsed": false,
    "jupyter": {
     "outputs_hidden": false
    },
    "scrolled": true
   },
   "outputs": [
    {
     "name": "stderr",
     "output_type": "stream",
     "text": [
      "2025-09-29 16:59:31,618 - my_scientific_profile.crossref.works - INFO - fetching Crossref info for doi 10.1039/D5SC03855C\n",
      "2025-09-29 16:59:32,336 - my_scientific_profile.semantic_scholar.utils - INFO - fetching Semantic Scholar paper info 10.1039/D5SC03855C\n",
      "2025-09-29 16:59:33,185 - my_scientific_profile.orcid.utils - INFO - fetching works None with ORCID 0000-0001-9945-1271\n",
      "2025-09-29 16:59:33,187 - my_scientific_profile.orcid.utils - INFO - url https://pub.orcid.org/v3.0/0000-0001-9945-1271/works\n",
      "2025-09-29 16:59:34,243 - my_scientific_profile.orcid.utils - INFO - fetching work 189447839 with ORCID None\n",
      "2025-09-29 16:59:34,243 - my_scientific_profile.orcid.utils - INFO - url https://pub.orcid.org/v3.0/work/189447839\n"
     ]
    },
    {
     "ename": "AssertionError",
     "evalue": "unexpected status code 404: {\n  \"response-code\" : 404,\n  \"developer-message\" : \"400 Bad Request: There is an issue with your data or the API endpoint. 405 Method Not Allowed: Endpoint and method mismatch. 415 Unsupported Media Type: data must be in XML or JSON format. Full validation error: HTTP 404 Not Found\",\n  \"user-message\" : \"ORCID could not process the data, because they were invalid.\",\n  \"error-code\" : 9001,\n  \"more-info\" : \"https://members.orcid.org/api/resources/troubleshooting\"\n}",
     "output_type": "error",
     "traceback": [
      "\u001b[0;31m---------------------------------------------------------------------------\u001b[0m",
      "\u001b[0;31mAssertionError\u001b[0m                            Traceback (most recent call last)",
      "Cell \u001b[0;32mIn[2], line 3\u001b[0m\n\u001b[1;32m      1\u001b[0m \u001b[38;5;66;03m# paper1 = fetch_paper_info(\"10.1140/epjst/e2016-60114-5\")\u001b[39;00m\n\u001b[1;32m      2\u001b[0m \u001b[38;5;66;03m# paper2 = fetch_paper_info(\"10.1063/1.4941455\")\u001b[39;00m\n\u001b[0;32m----> 3\u001b[0m paper2 \u001b[38;5;241m=\u001b[39m \u001b[43mfetch_paper_info\u001b[49m\u001b[43m(\u001b[49m\u001b[38;5;124;43m\"\u001b[39;49m\u001b[38;5;124;43m10.1039/D5SC03855C\u001b[39;49m\u001b[38;5;124;43m\"\u001b[39;49m\u001b[43m)\u001b[49m\n",
      "File \u001b[0;32m~/work/my_scientific_profile/my_scientific_profile/papers/papers.py:103\u001b[0m, in \u001b[0;36mfetch_paper_info\u001b[0;34m(doi, orcid_id)\u001b[0m\n\u001b[1;32m    101\u001b[0m crossref_info \u001b[38;5;241m=\u001b[39m get_crossref_work_by_doi(doi)\n\u001b[1;32m    102\u001b[0m semantic_info \u001b[38;5;241m=\u001b[39m get_semantic_scholar_paper_info(doi)\n\u001b[0;32m--> 103\u001b[0m orcid_info \u001b[38;5;241m=\u001b[39m \u001b[43mget_detailed_work\u001b[49m\u001b[43m(\u001b[49m\u001b[43mget_doi_to_put_code_map\u001b[49m\u001b[43m(\u001b[49m\u001b[43morcid_id\u001b[49m\u001b[43m)\u001b[49m\u001b[43m[\u001b[49m\u001b[43mdoi\u001b[49m\u001b[43m]\u001b[49m\u001b[43m,\u001b[49m\u001b[43m \u001b[49m\u001b[43morcid_id\u001b[49m\u001b[38;5;241;43m=\u001b[39;49m\u001b[43morcid_id\u001b[49m\u001b[43m)\u001b[49m\n\u001b[1;32m    104\u001b[0m bib_info \u001b[38;5;241m=\u001b[39m fetch_bib(doi)\n\u001b[1;32m    105\u001b[0m orcid_url \u001b[38;5;241m=\u001b[39m orcid_info\u001b[38;5;241m.\u001b[39murl\u001b[38;5;241m.\u001b[39mvalue \u001b[38;5;28;01mif\u001b[39;00m orcid_info\u001b[38;5;241m.\u001b[39murl \u001b[38;5;28;01melse\u001b[39;00m \u001b[38;5;28;01mNone\u001b[39;00m\n",
      "File \u001b[0;32m~/work/my_scientific_profile/my_scientific_profile/orcid/detailed_work.py:116\u001b[0m, in \u001b[0;36mget_detailed_work\u001b[0;34m(put_code, orcid_id)\u001b[0m\n\u001b[1;32m    114\u001b[0m \u001b[38;5;129m@lru_cache\u001b[39m\n\u001b[1;32m    115\u001b[0m \u001b[38;5;28;01mdef\u001b[39;00m \u001b[38;5;21mget_detailed_work\u001b[39m(put_code: \u001b[38;5;28mint\u001b[39m, orcid_id: \u001b[38;5;28mstr\u001b[39m \u001b[38;5;241m=\u001b[39m \u001b[38;5;28;01mNone\u001b[39;00m) \u001b[38;5;241m-\u001b[39m\u001b[38;5;241m>\u001b[39m OrcidDetailedWork:\n\u001b[0;32m--> 116\u001b[0m     response \u001b[38;5;241m=\u001b[39m \u001b[43mget_orcid_query\u001b[49m\u001b[43m(\u001b[49m\u001b[38;5;124;43m\"\u001b[39;49m\u001b[38;5;124;43mwork\u001b[39;49m\u001b[38;5;124;43m\"\u001b[39;49m\u001b[43m,\u001b[49m\u001b[43m \u001b[49m\u001b[43msuffix\u001b[49m\u001b[38;5;241;43m=\u001b[39;49m\u001b[38;5;28;43mstr\u001b[39;49m\u001b[43m(\u001b[49m\u001b[43mput_code\u001b[49m\u001b[43m)\u001b[49m\u001b[43m,\u001b[49m\u001b[43m \u001b[49m\u001b[43morcid_id\u001b[49m\u001b[38;5;241;43m=\u001b[39;49m\u001b[43morcid_id\u001b[49m\u001b[43m)\u001b[49m\n\u001b[1;32m    117\u001b[0m     \u001b[38;5;28;01mreturn\u001b[39;00m OrcidDetailedWork(\u001b[38;5;241m*\u001b[39m\u001b[38;5;241m*\u001b[39mdekebabize(response))\n",
      "File \u001b[0;32m~/work/my_scientific_profile/my_scientific_profile/orcid/utils.py:146\u001b[0m, in \u001b[0;36mget_orcid_query\u001b[0;34m(query_type, orcid_id, suffix)\u001b[0m\n\u001b[1;32m    143\u001b[0m logger\u001b[38;5;241m.\u001b[39minfo(\u001b[38;5;124mf\u001b[39m\u001b[38;5;124m\"\u001b[39m\u001b[38;5;124murl \u001b[39m\u001b[38;5;132;01m{\u001b[39;00mendpoint\u001b[38;5;132;01m}\u001b[39;00m\u001b[38;5;124m\"\u001b[39m)\n\u001b[1;32m    144\u001b[0m response \u001b[38;5;241m=\u001b[39m get(endpoint, headers\u001b[38;5;241m=\u001b[39mget_orcid_request_headers())\n\u001b[1;32m    145\u001b[0m \u001b[38;5;28;01massert\u001b[39;00m (\n\u001b[0;32m--> 146\u001b[0m     response\u001b[38;5;241m.\u001b[39mstatus_code \u001b[38;5;241m==\u001b[39m \u001b[38;5;241m200\u001b[39m\n\u001b[1;32m    147\u001b[0m ), \u001b[38;5;124mf\u001b[39m\u001b[38;5;124m\"\u001b[39m\u001b[38;5;124munexpected status code \u001b[39m\u001b[38;5;132;01m{\u001b[39;00mresponse\u001b[38;5;241m.\u001b[39mstatus_code\u001b[38;5;132;01m}\u001b[39;00m\u001b[38;5;124m: \u001b[39m\u001b[38;5;132;01m{\u001b[39;00mresponse\u001b[38;5;241m.\u001b[39mtext\u001b[38;5;132;01m}\u001b[39;00m\u001b[38;5;124m\"\u001b[39m\n\u001b[1;32m    148\u001b[0m \u001b[38;5;28;01mreturn\u001b[39;00m dekebabize(response\u001b[38;5;241m.\u001b[39mjson())\n",
      "\u001b[0;31mAssertionError\u001b[0m: unexpected status code 404: {\n  \"response-code\" : 404,\n  \"developer-message\" : \"400 Bad Request: There is an issue with your data or the API endpoint. 405 Method Not Allowed: Endpoint and method mismatch. 415 Unsupported Media Type: data must be in XML or JSON format. Full validation error: HTTP 404 Not Found\",\n  \"user-message\" : \"ORCID could not process the data, because they were invalid.\",\n  \"error-code\" : 9001,\n  \"more-info\" : \"https://members.orcid.org/api/resources/troubleshooting\"\n}"
     ]
    }
   ],
   "source": [
    "# paper1 = fetch_paper_info(\"10.1140/epjst/e2016-60114-5\")\n",
    "# paper2 = fetch_paper_info(\"10.1063/1.4941455\")\n",
    "paper2 = fetch_paper_info(\"10.1039/D5SC03855C\")"
   ]
  },
  {
   "cell_type": "code",
   "execution_count": 12,
   "metadata": {
    "collapsed": false,
    "jupyter": {
     "outputs_hidden": false
    }
   },
   "outputs": [
    {
     "data": {
      "text/plain": [
       "[Author(given='J.F.', family='Rudzinski', affiliation=Affiliation(name=None, city=None, country=None), orcid=None, email=None, full_name='J.F. Rudzinski', uuid='bdc74bb4-1b51-11ee-b8f8-a2a06772f9f1'),\n",
       " Author(given='Kurt', family='Kremer', affiliation=Affiliation(name=None, city=None, country=None), orcid='0000-0003-1842-9369', email=None, full_name='Kurt Kremer', uuid='c0851066-1b51-11ee-b8f8-a2a06772f9f1'),\n",
       " Author(given='T.', family='Bereau', affiliation=Affiliation(name=None, city=None, country=None), orcid=None, email=None, full_name='T. Bereau', uuid='be2ca9be-1b51-11ee-b8f8-a2a06772f9f1')]"
      ]
     },
     "execution_count": 12,
     "metadata": {},
     "output_type": "execute_result"
    }
   ],
   "source": [
    "paper2.authors\n"
   ]
  },
  {
   "cell_type": "code",
   "execution_count": 18,
   "metadata": {
    "collapsed": false,
    "jupyter": {
     "outputs_hidden": false
    }
   },
   "outputs": [
    {
     "data": {
      "text/plain": [
       "Paper(doi='10.1140/epjst/e2016-60114-5', title='Concurrent parametrization against static and kinetic information leads to more robust coarse-grained force fields', journal=JournalInfo(name='The European Physical Journal Special Topics', url='http://dx.doi.org/10.1140/epjst/e2016-60114-5', issue='8-9', abbreviation='Eur. Phys. J. Spec. Top.', pages='1373-1389', volume=225), publication_date=datetime.datetime(2016, 7, 15, 7, 35, 24, tzinfo=TzInfo(UTC)), authors=[Author(given='J.F.', family='Rudzinski', affiliation=Affiliation(name=None, city=None, country=None), orcid=None, email=None, full_name='J.F. Rudzinski', uuid='bdc74bb4-1b51-11ee-b8f8-a2a06772f9f1'), Author(given='T.', family='Bereau', affiliation=Affiliation(name=None, city=None, country=None), orcid=None, email=None, full_name='T. Bereau', uuid='be2ca9be-1b51-11ee-b8f8-a2a06772f9f1')], citation_count=17, open_access=OpenAccessPaperInfo(is_open_access=True, open_access_status='green', landing_page_url='http://arxiv.org/abs/1607.05492', pdf_url='http://arxiv.org/pdf/1607.05492'), bib_entry='@article{Rudzinski_2016,\\n\\tdoi = {10.1140/epjst/e2016-60114-5},\\n\\turl = {https://doi.org/10.1140%2Fepjst%2Fe2016-60114-5},\\n\\tyear = 2016,\\n\\tmonth = {jul},\\n\\tpublisher = {Springer Science and Business Media {LLC}},\\n\\tvolume = {225},\\n\\tnumber = {8-9},\\n\\tpages = {1373--1389},\\n\\tauthor = {J.F. Rudzinski and T. Bereau},\\n\\ttitle = {Concurrent parametrization against static and kinetic information leads to more robust coarse-grained force fields},\\n\\tjournal = {The European Physical Journal Special Topics}\\n}', abstract='The parametrization of coarse-grained (CG) simulation models for molecular systems often aims at reproducing static properties alone. The reduced molecular friction of the CG representation usually results in faster, albeit inconsistent, dynamics. In this work, we rely on Markov state models to simultaneously characterize the static and kinetic properties of two CG peptide force fields—one top-down and one bottom-up. Instead of a rigorous evolution of CG dynamics (e.g., using a generalized Langevin equation), we attempt to improve the description of kinetics by simply altering the existing CG models, which employ standard Langevin dynamics. By varying masses and relevant force-field parameters, we can improve the timescale separation of the slow kinetic processes, achieve a more consistent ratio of mean-first-passage times between metastable states, and refine the relative free-energies between these states. Importantly, we show that the incorporation of kinetic information into a structure-based parametrization improves the description of the helix-coil transition sampled by a minimal CG model. While structure-based models understabilize the helical state, kinetic constraints help identify CG models that improve the ratio of forward/backward timescales by effectively hindering the sampling of spurious conformational intermediate states.', tldr='This work relies on Markov state models to simultaneously characterize the static and kinetic properties of two CG peptide force fields—one top-down and one bottom-up—in order to improve the description of kinetics.', year=2016, embedding=None)"
      ]
     },
     "execution_count": 18,
     "metadata": {},
     "output_type": "execute_result"
    }
   ],
   "source": [
    "paper1\n"
   ]
  },
  {
   "cell_type": "markdown",
   "metadata": {
    "collapsed": false,
    "jupyter": {
     "outputs_hidden": false
    }
   },
   "source": [
    "`Paper` objects can be converted to a Pandas dataframe for group manipulation"
   ]
  },
  {
   "cell_type": "code",
   "execution_count": 22,
   "metadata": {
    "collapsed": false,
    "jupyter": {
     "outputs_hidden": false
    }
   },
   "outputs": [
    {
     "data": {
      "text/html": [
       "<div>\n",
       "<style scoped>\n",
       "    .dataframe tbody tr th:only-of-type {\n",
       "        vertical-align: middle;\n",
       "    }\n",
       "\n",
       "    .dataframe tbody tr th {\n",
       "        vertical-align: top;\n",
       "    }\n",
       "\n",
       "    .dataframe thead th {\n",
       "        text-align: right;\n",
       "    }\n",
       "</style>\n",
       "<table border=\"1\" class=\"dataframe\">\n",
       "  <thead>\n",
       "    <tr style=\"text-align: right;\">\n",
       "      <th></th>\n",
       "      <th>doi</th>\n",
       "      <th>title</th>\n",
       "      <th>publication_date</th>\n",
       "      <th>authors</th>\n",
       "      <th>citation_count</th>\n",
       "      <th>bib_entry</th>\n",
       "      <th>abstract</th>\n",
       "      <th>tldr</th>\n",
       "      <th>year</th>\n",
       "      <th>embedding</th>\n",
       "      <th>journal.name</th>\n",
       "      <th>journal.url</th>\n",
       "      <th>journal.issue</th>\n",
       "      <th>journal.abbreviation</th>\n",
       "      <th>journal.pages</th>\n",
       "      <th>journal.volume</th>\n",
       "      <th>open_access.is_open_access</th>\n",
       "      <th>open_access.open_access_status</th>\n",
       "      <th>open_access.landing_page_url</th>\n",
       "      <th>open_access.pdf_url</th>\n",
       "    </tr>\n",
       "  </thead>\n",
       "  <tbody>\n",
       "    <tr>\n",
       "      <th>0</th>\n",
       "      <td>10.1140/epjst/e2016-60114-5</td>\n",
       "      <td>Concurrent parametrization against static and ...</td>\n",
       "      <td>2016-07-15 07:35:24+00:00</td>\n",
       "      <td>[{'given': 'J.F.', 'family': 'Rudzinski', 'aff...</td>\n",
       "      <td>17</td>\n",
       "      <td>@article{Rudzinski_2016,\\n\\tdoi = {10.1140/epj...</td>\n",
       "      <td>The parametrization of coarse-grained (CG) sim...</td>\n",
       "      <td>This work relies on Markov state models to sim...</td>\n",
       "      <td>2016</td>\n",
       "      <td>None</td>\n",
       "      <td>The European Physical Journal Special Topics</td>\n",
       "      <td>http://dx.doi.org/10.1140/epjst/e2016-60114-5</td>\n",
       "      <td>8-9</td>\n",
       "      <td>Eur. Phys. J. Spec. Top.</td>\n",
       "      <td>1373-1389</td>\n",
       "      <td>225</td>\n",
       "      <td>True</td>\n",
       "      <td>green</td>\n",
       "      <td>http://arxiv.org/abs/1607.05492</td>\n",
       "      <td>http://arxiv.org/pdf/1607.05492</td>\n",
       "    </tr>\n",
       "    <tr>\n",
       "      <th>1</th>\n",
       "      <td>10.1063/1.4941455</td>\n",
       "      <td>Communication: Consistent interpretation of mo...</td>\n",
       "      <td>2016-02-05 18:00:23+00:00</td>\n",
       "      <td>[{'given': 'J.F.', 'family': 'Rudzinski', 'aff...</td>\n",
       "      <td>30</td>\n",
       "      <td>@article{Rudzinski_2016,\\n\\tdoi = {10.1063/1.4...</td>\n",
       "      <td>Molecular simulations can provide microscopic ...</td>\n",
       "      <td>This work proposes a method that reweights the...</td>\n",
       "      <td>2016</td>\n",
       "      <td>None</td>\n",
       "      <td>The Journal of Chemical Physics</td>\n",
       "      <td>http://dx.doi.org/10.1063/1.4941455</td>\n",
       "      <td>5</td>\n",
       "      <td>The Journal of Chemical Physics</td>\n",
       "      <td>None</td>\n",
       "      <td>144</td>\n",
       "      <td>True</td>\n",
       "      <td>green</td>\n",
       "      <td>http://arxiv.org/abs/1602.03809</td>\n",
       "      <td>http://arxiv.org/pdf/1602.03809</td>\n",
       "    </tr>\n",
       "  </tbody>\n",
       "</table>\n",
       "</div>"
      ],
      "text/plain": [
       "                           doi  \\\n",
       "0  10.1140/epjst/e2016-60114-5   \n",
       "1            10.1063/1.4941455   \n",
       "\n",
       "                                               title  \\\n",
       "0  Concurrent parametrization against static and ...   \n",
       "1  Communication: Consistent interpretation of mo...   \n",
       "\n",
       "            publication_date  \\\n",
       "0  2016-07-15 07:35:24+00:00   \n",
       "1  2016-02-05 18:00:23+00:00   \n",
       "\n",
       "                                             authors  citation_count  \\\n",
       "0  [{'given': 'J.F.', 'family': 'Rudzinski', 'aff...              17   \n",
       "1  [{'given': 'J.F.', 'family': 'Rudzinski', 'aff...              30   \n",
       "\n",
       "                                           bib_entry  \\\n",
       "0  @article{Rudzinski_2016,\\n\\tdoi = {10.1140/epj...   \n",
       "1  @article{Rudzinski_2016,\\n\\tdoi = {10.1063/1.4...   \n",
       "\n",
       "                                            abstract  \\\n",
       "0  The parametrization of coarse-grained (CG) sim...   \n",
       "1  Molecular simulations can provide microscopic ...   \n",
       "\n",
       "                                                tldr  year embedding  \\\n",
       "0  This work relies on Markov state models to sim...  2016      None   \n",
       "1  This work proposes a method that reweights the...  2016      None   \n",
       "\n",
       "                                   journal.name  \\\n",
       "0  The European Physical Journal Special Topics   \n",
       "1               The Journal of Chemical Physics   \n",
       "\n",
       "                                     journal.url journal.issue  \\\n",
       "0  http://dx.doi.org/10.1140/epjst/e2016-60114-5           8-9   \n",
       "1            http://dx.doi.org/10.1063/1.4941455             5   \n",
       "\n",
       "              journal.abbreviation journal.pages  journal.volume  \\\n",
       "0         Eur. Phys. J. Spec. Top.     1373-1389             225   \n",
       "1  The Journal of Chemical Physics          None             144   \n",
       "\n",
       "   open_access.is_open_access open_access.open_access_status  \\\n",
       "0                        True                          green   \n",
       "1                        True                          green   \n",
       "\n",
       "      open_access.landing_page_url              open_access.pdf_url  \n",
       "0  http://arxiv.org/abs/1607.05492  http://arxiv.org/pdf/1607.05492  \n",
       "1  http://arxiv.org/abs/1602.03809  http://arxiv.org/pdf/1602.03809  "
      ]
     },
     "execution_count": 22,
     "metadata": {},
     "output_type": "execute_result"
    }
   ],
   "source": [
    "papers = [paper1, paper2]\n",
    "df = convert_papers_to_dataframe(papers)\n",
    "df"
   ]
  },
  {
   "cell_type": "markdown",
   "metadata": {
    "collapsed": false,
    "jupyter": {
     "outputs_hidden": false
    }
   },
   "source": [
    "From the columns of the dataframe, we could see all the attributes of a `Paper` object"
   ]
  },
  {
   "cell_type": "code",
   "execution_count": 23,
   "metadata": {
    "collapsed": false,
    "jupyter": {
     "outputs_hidden": false
    }
   },
   "outputs": [
    {
     "data": {
      "text/plain": [
       "Index(['doi', 'title', 'publication_date', 'authors', 'citation_count',\n",
       "       'bib_entry', 'abstract', 'tldr', 'year', 'embedding', 'journal.name',\n",
       "       'journal.url', 'journal.issue', 'journal.abbreviation', 'journal.pages',\n",
       "       'journal.volume', 'open_access.is_open_access',\n",
       "       'open_access.open_access_status', 'open_access.landing_page_url',\n",
       "       'open_access.pdf_url'],\n",
       "      dtype='object')"
      ]
     },
     "execution_count": 23,
     "metadata": {},
     "output_type": "execute_result"
    }
   ],
   "source": [
    "df.columns\n"
   ]
  },
  {
   "cell_type": "markdown",
   "metadata": {
    "collapsed": false,
    "jupyter": {
     "outputs_hidden": false
    }
   },
   "source": [
    "Similar data manipulation can be done on the `Author` object, so as to access their name, affiliation, etc.\n"
   ]
  },
  {
   "cell_type": "code",
   "execution_count": null,
   "metadata": {
    "collapsed": false,
    "jupyter": {
     "outputs_hidden": false
    }
   },
   "outputs": [],
   "source": []
  }
 ],
 "metadata": {
  "kernelspec": {
   "display_name": "Python 3 (ipykernel)",
   "language": "python",
   "name": "python3"
  },
  "language_info": {
   "codemirror_mode": {
    "name": "ipython",
    "version": 3
   },
   "file_extension": ".py",
   "mimetype": "text/x-python",
   "name": "python",
   "nbconvert_exporter": "python",
   "pygments_lexer": "ipython3",
   "version": "3.11.11"
  }
 },
 "nbformat": 4,
 "nbformat_minor": 4
}
