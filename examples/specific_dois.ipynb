{
 "cells": [
  {
   "cell_type": "code",
   "execution_count": 19,
   "metadata": {
    "collapsed": true
   },
   "outputs": [],
   "source": [
    "from my_scientific_profile.papers.papers import fetch_paper_info\n",
    "from my_scientific_profile.database.papers import convert_papers_to_dataframe"
   ]
  },
  {
   "cell_type": "markdown",
   "source": [
    "Here we fetch the information of two specific papers, providing their DOIs."
   ],
   "metadata": {
    "collapsed": false
   }
  },
  {
   "cell_type": "code",
   "execution_count": 5,
   "outputs": [
    {
     "name": "stderr",
     "output_type": "stream",
     "text": [
      "2023-07-05 18:33:53,920 - my_scientific_profile.crossref.works - INFO - fetching Crossref info for doi 10.1140/epjst/e2016-60114-5\n",
      "2023-07-05 18:33:54,385 - my_scientific_profile.semantic_scholar.utils - INFO - fetching Semantic Scholar paper info 10.1140/epjst/e2016-60114-5\n",
      "2023-07-05 18:33:54,969 - my_scientific_profile.orcid.utils - INFO - fetching works None\n",
      "2023-07-05 18:33:54,970 - my_scientific_profile.orcid.utils - INFO - url https://pub.orcid.org/v3.0/0000-0001-9945-1271/works\n",
      "2023-07-05 18:33:56,327 - my_scientific_profile.orcid.utils - INFO - fetching work 119589494\n",
      "2023-07-05 18:33:56,328 - my_scientific_profile.orcid.utils - INFO - url https://pub.orcid.org/v3.0/0000-0001-9945-1271/work/119589494\n",
      "2023-07-05 18:33:56,979 - my_scientific_profile.doi2bib.doi2bib - INFO - fetching doi2bib for 10.1140/epjst/e2016-60114-5\n",
      "2023-07-05 18:33:57,869 - my_scientific_profile.orcid.utils - INFO - fetching expanded-search ?q=given-names:J\\.F\\.+AND+family-name:Rudzinski\n",
      "2023-07-05 18:33:57,870 - my_scientific_profile.orcid.utils - INFO - url https://pub.orcid.org/v3.0/expanded-search/?q=given-names:J\\.F\\.+AND+family-name:Rudzinski\n",
      "2023-07-05 18:33:58,530 - my_scientific_profile.orcid.authors - INFO - Entries received: 0\n",
      "2023-07-05 18:33:58,531 - my_scientific_profile.authors.authors - INFO - ORCID search results returned 0 results\n",
      "[] \n",
      "2023-07-05 18:33:58,532 - my_scientific_profile.orcid.utils - INFO - fetching expanded-search ?q=given-names:T\\.+AND+family-name:Bereau\n",
      "2023-07-05 18:33:58,532 - my_scientific_profile.orcid.utils - INFO - url https://pub.orcid.org/v3.0/expanded-search/?q=given-names:T\\.+AND+family-name:Bereau\n",
      "2023-07-05 18:33:59,194 - my_scientific_profile.orcid.authors - INFO - Entries received: 0\n",
      "2023-07-05 18:33:59,195 - my_scientific_profile.authors.authors - INFO - ORCID search results returned 0 results\n",
      "[] \n",
      "2023-07-05 18:33:59,772 - my_scientific_profile.crossref.works - INFO - fetching Crossref info for doi 10.1063/1.4941455\n",
      "2023-07-05 18:34:00,192 - my_scientific_profile.semantic_scholar.utils - INFO - fetching Semantic Scholar paper info 10.1063/1.4941455\n",
      "2023-07-05 18:34:00,485 - my_scientific_profile.orcid.utils - INFO - fetching work 22170193\n",
      "2023-07-05 18:34:00,486 - my_scientific_profile.orcid.utils - INFO - url https://pub.orcid.org/v3.0/0000-0001-9945-1271/work/22170193\n",
      "2023-07-05 18:34:01,132 - my_scientific_profile.doi2bib.doi2bib - INFO - fetching doi2bib for 10.1063/1.4941455\n",
      "2023-07-05 18:34:01,781 - my_scientific_profile.orcid.utils - INFO - fetching expanded-search ?q=given-names:Kurt+AND+family-name:Kremer\n",
      "2023-07-05 18:34:01,783 - my_scientific_profile.orcid.utils - INFO - url https://pub.orcid.org/v3.0/expanded-search/?q=given-names:Kurt+AND+family-name:Kremer\n",
      "2023-07-05 18:34:02,472 - my_scientific_profile.orcid.authors - INFO - Entries received: 1\n",
      "2023-07-05 18:34:02,472 - my_scientific_profile.orcid.utils - INFO - fetching employments None\n",
      "2023-07-05 18:34:02,472 - my_scientific_profile.orcid.utils - INFO - url https://pub.orcid.org/v3.0/0000-0003-1842-9369/employments\n"
     ]
    }
   ],
   "source": [
    "paper1 = fetch_paper_info(\"10.1140/epjst/e2016-60114-5\")\n",
    "paper2 = fetch_paper_info(\"10.1063/1.4941455\")\n"
   ],
   "metadata": {
    "collapsed": false
   }
  },
  {
   "cell_type": "code",
   "execution_count": 12,
   "outputs": [
    {
     "data": {
      "text/plain": "[Author(given='J.F.', family='Rudzinski', affiliation=Affiliation(name=None, city=None, country=None), orcid=None, email=None, full_name='J.F. Rudzinski', uuid='bdc74bb4-1b51-11ee-b8f8-a2a06772f9f1'),\n Author(given='Kurt', family='Kremer', affiliation=Affiliation(name=None, city=None, country=None), orcid='0000-0003-1842-9369', email=None, full_name='Kurt Kremer', uuid='c0851066-1b51-11ee-b8f8-a2a06772f9f1'),\n Author(given='T.', family='Bereau', affiliation=Affiliation(name=None, city=None, country=None), orcid=None, email=None, full_name='T. Bereau', uuid='be2ca9be-1b51-11ee-b8f8-a2a06772f9f1')]"
     },
     "execution_count": 12,
     "metadata": {},
     "output_type": "execute_result"
    }
   ],
   "source": [
    "paper2.authors\n"
   ],
   "metadata": {
    "collapsed": false
   }
  },
  {
   "cell_type": "code",
   "execution_count": 18,
   "outputs": [
    {
     "data": {
      "text/plain": "Paper(doi='10.1140/epjst/e2016-60114-5', title='Concurrent parametrization against static and kinetic information leads to more robust coarse-grained force fields', journal=JournalInfo(name='The European Physical Journal Special Topics', url='http://dx.doi.org/10.1140/epjst/e2016-60114-5', issue='8-9', abbreviation='Eur. Phys. J. Spec. Top.', pages='1373-1389', volume=225), publication_date=datetime.datetime(2016, 7, 15, 7, 35, 24, tzinfo=TzInfo(UTC)), authors=[Author(given='J.F.', family='Rudzinski', affiliation=Affiliation(name=None, city=None, country=None), orcid=None, email=None, full_name='J.F. Rudzinski', uuid='bdc74bb4-1b51-11ee-b8f8-a2a06772f9f1'), Author(given='T.', family='Bereau', affiliation=Affiliation(name=None, city=None, country=None), orcid=None, email=None, full_name='T. Bereau', uuid='be2ca9be-1b51-11ee-b8f8-a2a06772f9f1')], citation_count=17, open_access=OpenAccessPaperInfo(is_open_access=True, open_access_status='green', landing_page_url='http://arxiv.org/abs/1607.05492', pdf_url='http://arxiv.org/pdf/1607.05492'), bib_entry='@article{Rudzinski_2016,\\n\\tdoi = {10.1140/epjst/e2016-60114-5},\\n\\turl = {https://doi.org/10.1140%2Fepjst%2Fe2016-60114-5},\\n\\tyear = 2016,\\n\\tmonth = {jul},\\n\\tpublisher = {Springer Science and Business Media {LLC}},\\n\\tvolume = {225},\\n\\tnumber = {8-9},\\n\\tpages = {1373--1389},\\n\\tauthor = {J.F. Rudzinski and T. Bereau},\\n\\ttitle = {Concurrent parametrization against static and kinetic information leads to more robust coarse-grained force fields},\\n\\tjournal = {The European Physical Journal Special Topics}\\n}', abstract='The parametrization of coarse-grained (CG) simulation models for molecular systems often aims at reproducing static properties alone. The reduced molecular friction of the CG representation usually results in faster, albeit inconsistent, dynamics. In this work, we rely on Markov state models to simultaneously characterize the static and kinetic properties of two CG peptide force fields—one top-down and one bottom-up. Instead of a rigorous evolution of CG dynamics (e.g., using a generalized Langevin equation), we attempt to improve the description of kinetics by simply altering the existing CG models, which employ standard Langevin dynamics. By varying masses and relevant force-field parameters, we can improve the timescale separation of the slow kinetic processes, achieve a more consistent ratio of mean-first-passage times between metastable states, and refine the relative free-energies between these states. Importantly, we show that the incorporation of kinetic information into a structure-based parametrization improves the description of the helix-coil transition sampled by a minimal CG model. While structure-based models understabilize the helical state, kinetic constraints help identify CG models that improve the ratio of forward/backward timescales by effectively hindering the sampling of spurious conformational intermediate states.', tldr='This work relies on Markov state models to simultaneously characterize the static and kinetic properties of two CG peptide force fields—one top-down and one bottom-up—in order to improve the description of kinetics.', year=2016, embedding=None)"
     },
     "execution_count": 18,
     "metadata": {},
     "output_type": "execute_result"
    }
   ],
   "source": [
    "paper1\n"
   ],
   "metadata": {
    "collapsed": false
   }
  },
  {
   "cell_type": "markdown",
   "source": [
    "`Paper` objects can be converted to a Pandas dataframe for group manipulation"
   ],
   "metadata": {
    "collapsed": false
   }
  },
  {
   "cell_type": "code",
   "execution_count": 22,
   "outputs": [
    {
     "data": {
      "text/plain": "                           doi  \\\n0  10.1140/epjst/e2016-60114-5   \n1            10.1063/1.4941455   \n\n                                               title  \\\n0  Concurrent parametrization against static and ...   \n1  Communication: Consistent interpretation of mo...   \n\n            publication_date  \\\n0  2016-07-15 07:35:24+00:00   \n1  2016-02-05 18:00:23+00:00   \n\n                                             authors  citation_count  \\\n0  [{'given': 'J.F.', 'family': 'Rudzinski', 'aff...              17   \n1  [{'given': 'J.F.', 'family': 'Rudzinski', 'aff...              30   \n\n                                           bib_entry  \\\n0  @article{Rudzinski_2016,\\n\\tdoi = {10.1140/epj...   \n1  @article{Rudzinski_2016,\\n\\tdoi = {10.1063/1.4...   \n\n                                            abstract  \\\n0  The parametrization of coarse-grained (CG) sim...   \n1  Molecular simulations can provide microscopic ...   \n\n                                                tldr  year embedding  \\\n0  This work relies on Markov state models to sim...  2016      None   \n1  This work proposes a method that reweights the...  2016      None   \n\n                                   journal.name  \\\n0  The European Physical Journal Special Topics   \n1               The Journal of Chemical Physics   \n\n                                     journal.url journal.issue  \\\n0  http://dx.doi.org/10.1140/epjst/e2016-60114-5           8-9   \n1            http://dx.doi.org/10.1063/1.4941455             5   \n\n              journal.abbreviation journal.pages  journal.volume  \\\n0         Eur. Phys. J. Spec. Top.     1373-1389             225   \n1  The Journal of Chemical Physics          None             144   \n\n   open_access.is_open_access open_access.open_access_status  \\\n0                        True                          green   \n1                        True                          green   \n\n      open_access.landing_page_url              open_access.pdf_url  \n0  http://arxiv.org/abs/1607.05492  http://arxiv.org/pdf/1607.05492  \n1  http://arxiv.org/abs/1602.03809  http://arxiv.org/pdf/1602.03809  ",
      "text/html": "<div>\n<style scoped>\n    .dataframe tbody tr th:only-of-type {\n        vertical-align: middle;\n    }\n\n    .dataframe tbody tr th {\n        vertical-align: top;\n    }\n\n    .dataframe thead th {\n        text-align: right;\n    }\n</style>\n<table border=\"1\" class=\"dataframe\">\n  <thead>\n    <tr style=\"text-align: right;\">\n      <th></th>\n      <th>doi</th>\n      <th>title</th>\n      <th>publication_date</th>\n      <th>authors</th>\n      <th>citation_count</th>\n      <th>bib_entry</th>\n      <th>abstract</th>\n      <th>tldr</th>\n      <th>year</th>\n      <th>embedding</th>\n      <th>journal.name</th>\n      <th>journal.url</th>\n      <th>journal.issue</th>\n      <th>journal.abbreviation</th>\n      <th>journal.pages</th>\n      <th>journal.volume</th>\n      <th>open_access.is_open_access</th>\n      <th>open_access.open_access_status</th>\n      <th>open_access.landing_page_url</th>\n      <th>open_access.pdf_url</th>\n    </tr>\n  </thead>\n  <tbody>\n    <tr>\n      <th>0</th>\n      <td>10.1140/epjst/e2016-60114-5</td>\n      <td>Concurrent parametrization against static and ...</td>\n      <td>2016-07-15 07:35:24+00:00</td>\n      <td>[{'given': 'J.F.', 'family': 'Rudzinski', 'aff...</td>\n      <td>17</td>\n      <td>@article{Rudzinski_2016,\\n\\tdoi = {10.1140/epj...</td>\n      <td>The parametrization of coarse-grained (CG) sim...</td>\n      <td>This work relies on Markov state models to sim...</td>\n      <td>2016</td>\n      <td>None</td>\n      <td>The European Physical Journal Special Topics</td>\n      <td>http://dx.doi.org/10.1140/epjst/e2016-60114-5</td>\n      <td>8-9</td>\n      <td>Eur. Phys. J. Spec. Top.</td>\n      <td>1373-1389</td>\n      <td>225</td>\n      <td>True</td>\n      <td>green</td>\n      <td>http://arxiv.org/abs/1607.05492</td>\n      <td>http://arxiv.org/pdf/1607.05492</td>\n    </tr>\n    <tr>\n      <th>1</th>\n      <td>10.1063/1.4941455</td>\n      <td>Communication: Consistent interpretation of mo...</td>\n      <td>2016-02-05 18:00:23+00:00</td>\n      <td>[{'given': 'J.F.', 'family': 'Rudzinski', 'aff...</td>\n      <td>30</td>\n      <td>@article{Rudzinski_2016,\\n\\tdoi = {10.1063/1.4...</td>\n      <td>Molecular simulations can provide microscopic ...</td>\n      <td>This work proposes a method that reweights the...</td>\n      <td>2016</td>\n      <td>None</td>\n      <td>The Journal of Chemical Physics</td>\n      <td>http://dx.doi.org/10.1063/1.4941455</td>\n      <td>5</td>\n      <td>The Journal of Chemical Physics</td>\n      <td>None</td>\n      <td>144</td>\n      <td>True</td>\n      <td>green</td>\n      <td>http://arxiv.org/abs/1602.03809</td>\n      <td>http://arxiv.org/pdf/1602.03809</td>\n    </tr>\n  </tbody>\n</table>\n</div>"
     },
     "execution_count": 22,
     "metadata": {},
     "output_type": "execute_result"
    }
   ],
   "source": [
    "papers = [paper1, paper2]\n",
    "df = convert_papers_to_dataframe(papers)\n",
    "df"
   ],
   "metadata": {
    "collapsed": false
   }
  },
  {
   "cell_type": "markdown",
   "source": [
    "From the columns of the dataframe, we could see all the attributes of a `Paper` object"
   ],
   "metadata": {
    "collapsed": false
   }
  },
  {
   "cell_type": "code",
   "execution_count": 23,
   "outputs": [
    {
     "data": {
      "text/plain": "Index(['doi', 'title', 'publication_date', 'authors', 'citation_count',\n       'bib_entry', 'abstract', 'tldr', 'year', 'embedding', 'journal.name',\n       'journal.url', 'journal.issue', 'journal.abbreviation', 'journal.pages',\n       'journal.volume', 'open_access.is_open_access',\n       'open_access.open_access_status', 'open_access.landing_page_url',\n       'open_access.pdf_url'],\n      dtype='object')"
     },
     "execution_count": 23,
     "metadata": {},
     "output_type": "execute_result"
    }
   ],
   "source": [
    "df.columns\n"
   ],
   "metadata": {
    "collapsed": false
   }
  },
  {
   "cell_type": "markdown",
   "source": [
    "Similar data manipulation can be done on the `Author` object, so as to access their name, affiliation, etc.\n"
   ],
   "metadata": {
    "collapsed": false
   }
  },
  {
   "cell_type": "code",
   "execution_count": null,
   "outputs": [],
   "source": [],
   "metadata": {
    "collapsed": false
   }
  }
 ],
 "metadata": {
  "kernelspec": {
   "display_name": "Python 3",
   "language": "python",
   "name": "python3"
  },
  "language_info": {
   "codemirror_mode": {
    "name": "ipython",
    "version": 2
   },
   "file_extension": ".py",
   "mimetype": "text/x-python",
   "name": "python",
   "nbconvert_exporter": "python",
   "pygments_lexer": "ipython2",
   "version": "2.7.6"
  }
 },
 "nbformat": 4,
 "nbformat_minor": 0
}
